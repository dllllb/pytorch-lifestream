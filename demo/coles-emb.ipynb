{
 "cells": [
  {
   "cell_type": "markdown",
   "id": "8a795c70",
   "metadata": {
    "pycharm": {
     "name": "#%% md\n"
    }
   },
   "source": [
    "# Colab setup"
   ]
  },
  {
   "cell_type": "code",
   "execution_count": 1,
   "id": "8b6cedd5",
   "metadata": {
    "pycharm": {
     "name": "#%%\n"
    }
   },
   "outputs": [],
   "source": [
    "import sys\n",
    "if 'google.colab' in str(get_ipython()):\n",
    "    ! {sys.executable} -m pip install pytorch-lifestream"
   ]
  },
  {
   "cell_type": "markdown",
   "id": "9e91a902",
   "metadata": {
    "pycharm": {
     "name": "#%% md\n"
    }
   },
   "source": [
    "## Setup"
   ]
  },
  {
   "cell_type": "code",
   "execution_count": 2,
   "id": "587df1ea",
   "metadata": {
    "execution": {
     "iopub.execute_input": "2022-05-04T18:11:04.590559Z",
     "iopub.status.busy": "2022-05-04T18:11:04.590097Z",
     "iopub.status.idle": "2022-05-04T18:11:06.256016Z",
     "shell.execute_reply": "2022-05-04T18:11:06.255464Z"
    },
    "pycharm": {
     "name": "#%%\n"
    }
   },
   "outputs": [],
   "source": [
    "%load_ext autoreload\n",
    "%autoreload 2\n",
    "\n",
    "# import logging\n",
    "import torch\n",
    "import pytorch_lightning as pl\n",
    "# import warnings\n",
    "\n",
    "# warnings.filterwarnings('ignore')\n",
    "# logging.getLogger(\"pytorch_lightning\").setLevel(logging.ERROR)"
   ]
  },
  {
   "cell_type": "code",
   "execution_count": 3,
   "outputs": [],
   "source": [
    "%load_ext pyinstrument"
   ],
   "metadata": {
    "collapsed": false,
    "pycharm": {
     "name": "#%%\n"
    }
   }
  },
  {
   "cell_type": "markdown",
   "id": "82f989bc",
   "metadata": {
    "pycharm": {
     "name": "#%% md\n"
    }
   },
   "source": [
    "## Data preproccessing"
   ]
  },
  {
   "cell_type": "code",
   "execution_count": 4,
   "id": "7e06bd27",
   "metadata": {
    "execution": {
     "iopub.execute_input": "2022-05-04T18:11:06.260046Z",
     "iopub.status.busy": "2022-05-04T18:11:06.259544Z",
     "iopub.status.idle": "2022-05-04T18:11:12.319460Z",
     "shell.execute_reply": "2022-05-04T18:11:12.317693Z"
    },
    "pycharm": {
     "name": "#%%\n"
    }
   },
   "outputs": [
    {
     "data": {
      "text/plain": "   client_id  trans_date  small_group  amount_rur\n0      33172           6            4      71.463\n1      33172           6           35      45.017",
      "text/html": "<div>\n<style scoped>\n    .dataframe tbody tr th:only-of-type {\n        vertical-align: middle;\n    }\n\n    .dataframe tbody tr th {\n        vertical-align: top;\n    }\n\n    .dataframe thead th {\n        text-align: right;\n    }\n</style>\n<table border=\"1\" class=\"dataframe\">\n  <thead>\n    <tr style=\"text-align: right;\">\n      <th></th>\n      <th>client_id</th>\n      <th>trans_date</th>\n      <th>small_group</th>\n      <th>amount_rur</th>\n    </tr>\n  </thead>\n  <tbody>\n    <tr>\n      <th>0</th>\n      <td>33172</td>\n      <td>6</td>\n      <td>4</td>\n      <td>71.463</td>\n    </tr>\n    <tr>\n      <th>1</th>\n      <td>33172</td>\n      <td>6</td>\n      <td>35</td>\n      <td>45.017</td>\n    </tr>\n  </tbody>\n</table>\n</div>"
     },
     "execution_count": 4,
     "metadata": {},
     "output_type": "execute_result"
    }
   ],
   "source": [
    "import os\n",
    "import pandas as pd\n",
    "\n",
    "source_data = pd.read_csv('https://huggingface.co/datasets/dllllb/age-group-prediction/resolve/main/transactions_train.csv.gz?download=true', compression='gzip')\n",
    "source_data.head(2)"
   ]
  },
  {
   "cell_type": "code",
   "execution_count": 5,
   "id": "8615b722",
   "metadata": {
    "execution": {
     "iopub.execute_input": "2022-05-04T18:11:12.324005Z",
     "iopub.status.busy": "2022-05-04T18:11:12.323387Z",
     "iopub.status.idle": "2022-05-04T18:11:12.376973Z",
     "shell.execute_reply": "2022-05-04T18:11:12.376546Z"
    },
    "pycharm": {
     "name": "#%%\n"
    }
   },
   "outputs": [
    {
     "name": "stderr",
     "output_type": "stream",
     "text": [
      "c:\\users\\user\\appdata\\local\\programs\\python\\python39\\lib\\site-packages\\scipy\\__init__.py:146: UserWarning: A NumPy version >=1.16.5 and <1.23.0 is required for this version of SciPy (detected version 1.26.1\n",
      "  warnings.warn(f\"A NumPy version >={np_minversion} and <{np_maxversion}\"\n"
     ]
    }
   ],
   "source": [
    "from ptls.preprocessing import PandasDataPreprocessor\n",
    "\n",
    "preprocessor = PandasDataPreprocessor(\n",
    "    col_id='client_id',\n",
    "    col_event_time='trans_date',\n",
    "    event_time_transformation='none',\n",
    "    cols_category=['small_group'],\n",
    "    cols_numerical=['amount_rur'],\n",
    "    return_records=True,\n",
    ")"
   ]
  },
  {
   "cell_type": "code",
   "execution_count": 6,
   "id": "fca72f6e",
   "metadata": {
    "execution": {
     "iopub.execute_input": "2022-05-04T18:11:12.380482Z",
     "iopub.status.busy": "2022-05-04T18:11:12.380011Z",
     "iopub.status.idle": "2022-05-04T18:12:29.766372Z",
     "shell.execute_reply": "2022-05-04T18:12:29.766793Z"
    },
    "pycharm": {
     "name": "#%%\n"
    }
   },
   "outputs": [
    {
     "data": {
      "text/html": "\n        <iframe\n            width=\"100%\"\n            height=\"400\"\n            src=\"data:text/html, %3C%21DOCTYPE%20html%3E%0A%20%20%20%20%20%20%20%20%20%20%20%20%3Chtml%3E%0A%20%20%20%20%20%20%20%20%20%20%20%20%3Chead%3E%0A%20%20%20%20%20%20%20%20%20%20%20%20%20%20%20%20%3Cmeta%20charset%3D%22utf-8%22%3E%0A%20%20%20%20%20%20%20%20%20%20%20%20%3C/head%3E%0A%20%20%20%20%20%20%20%20%20%20%20%20%3Cbody%3E%0A%20%20%20%20%20%20%20%20%20%20%20%20%20%20%20%20%3Cdiv%20id%3D%22app%22%3E%3C/div%3E%0A%0A%20%20%20%20%20%20%20%20%20%20%20%20%20%20%20%20%3Cscript%3Evar%20pyinstrumentHTMLRenderer%3Dfunction%28%29%7B%22use%20strict%22%3Bvar%20ct%3DObject.defineProperty%3Bvar%20dt%3D%28R%2CC%2CH%29%3D%3EC%20in%20R%3Fct%28R%2CC%2C%7Benumerable%3A%210%2Cconfigurable%3A%210%2Cwritable%3A%210%2Cvalue%3AH%7D%29%3AR%5BC%5D%3DH%3Bvar%20k%3D%28R%2CC%2CH%29%3D%3E%28dt%28R%2Ctypeof%20C%21%3D%22symbol%22%3FC%2B%22%22%3AC%2CH%29%2CH%29%3Bconst%20R%3D%22%22%3Bfunction%20C%28%29%7B%7Dfunction%20H%28t%29%7Breturn%20t%28%29%7Dfunction%20we%28%29%7Breturn%20Object.create%28null%29%7Dfunction%20O%28t%29%7Bt.forEach%28H%29%7Dfunction%20be%28t%29%7Breturn%20typeof%20t%3D%3D%22function%22%7Dfunction%20K%28t%2Ce%29%7Breturn%20t%21%3Dt%3Fe%3D%3De%3At%21%3D%3De%7C%7Ct%26%26typeof%20t%3D%3D%22object%22%7C%7Ctypeof%20t%3D%3D%22function%22%7Dfunction%20Ie%28t%29%7Breturn%20Object.keys%28t%29.length%3D%3D%3D0%7Dfunction%20Re%28t%2C...e%29%7Bif%28t%3D%3Dnull%29return%20C%3Bconst%20i%3Dt.subscribe%28...e%29%3Breturn%20i.unsubscribe%3F%28%29%3D%3Ei.unsubscribe%28%29%3Ai%7Dfunction%20se%28t%2Ce%2Ci%29%7Bt.%24%24.on_destroy.push%28Re%28e%2Ci%29%29%7Dfunction%20f%28t%2Ce%29%7Bt.appendChild%28e%29%7Dfunction%20X%28t%2Ce%2Ci%29%7Bt.insertBefore%28e%2Ci%7C%7Cnull%29%7Dfunction%20N%28t%29%7Bt.parentNode%26%26t.parentNode.removeChild%28t%29%7Dfunction%20_%28t%29%7Breturn%20document.createElement%28t%29%7Dfunction%20ke%28t%29%7Breturn%20document.createElementNS%28%22http%3A//www.w3.org/2000/svg%22%2Ct%29%7Dfunction%20L%28t%29%7Breturn%20document.createTextNode%28t%29%7Dfunction%20w%28%29%7Breturn%20L%28%22%20%22%29%7Dfunction%20ye%28%29%7Breturn%20L%28%22%22%29%7Dfunction%20W%28t%2Ce%2Ci%2Cn%29%7Breturn%20t.addEventListener%28e%2Ci%2Cn%29%2C%28%29%3D%3Et.removeEventListener%28e%2Ci%2Cn%29%7Dfunction%20Ce%28t%29%7Breturn%20function%28e%29%7Breturn%20e.preventDefault%28%29%2Ct.call%28this%2Ce%29%7D%7Dfunction%20Ee%28t%29%7Breturn%20function%28e%29%7Breturn%20e.stopPropagation%28%29%2Ct.call%28this%2Ce%29%7D%7Dfunction%20m%28t%2Ce%2Ci%29%7Bi%3D%3Dnull%3Ft.removeAttribute%28e%29%3At.getAttribute%28e%29%21%3D%3Di%26%26t.setAttribute%28e%2Ci%29%7Dfunction%20Oe%28t%29%7Breturn%20Array.from%28t.childNodes%29%7Dfunction%20q%28t%2Ce%29%7Be%3D%22%22%2Be%2Ct.wholeText%21%3D%3De%26%26%28t.data%3De%29%7Dfunction%20T%28t%2Ce%2Ci%2Cn%29%7Bi%3D%3D%3Dnull%3Ft.style.removeProperty%28e%29%3At.style.setProperty%28e%2Ci%2Cn%3F%22important%22%3A%22%22%29%7Dfunction%20Q%28t%2Ce%2Ci%29%7Bt.classList%5Bi%3F%22add%22%3A%22remove%22%5D%28e%29%7Dlet%20V%3Bfunction%20Z%28t%29%7BV%3Dt%7Dfunction%20Te%28%29%7Bif%28%21V%29throw%20new%20Error%28%22Function%20called%20outside%20component%20initialization%22%29%3Breturn%20V%7Dfunction%20qe%28t%29%7BTe%28%29.%24%24.on_mount.push%28t%29%7Dfunction%20Ue%28t%29%7BTe%28%29.%24%24.on_destroy.push%28t%29%7Dconst%20Y%3D%5B%5D%2CFe%3D%5B%5D%2Cj%3D%5B%5D%2CSe%3D%5B%5D%2CVe%3DPromise.resolve%28%29%3Blet%20ae%3D%211%3Bfunction%20Ze%28%29%7Bae%7C%7C%28ae%3D%210%2CVe.then%28%24e%29%29%7Dfunction%20ue%28t%29%7Bj.push%28t%29%7Dconst%20fe%3Dnew%20Set%3Blet%20x%3D0%3Bfunction%20%24e%28%29%7Bconst%20t%3DV%3Bdo%7Bfor%28%3Bx%3CY.length%3B%29%7Bconst%20e%3DY%5Bx%5D%3Bx%2B%2B%2CZ%28e%29%2CYe%28e.%24%24%29%7Dfor%28Z%28null%29%2CY.length%3D0%2Cx%3D0%3BFe.length%3B%29Fe.pop%28%29%28%29%3Bfor%28let%20e%3D0%3Be%3Cj.length%3Be%2B%3D1%29%7Bconst%20i%3Dj%5Be%5D%3Bfe.has%28i%29%7C%7C%28fe.add%28i%29%2Ci%28%29%29%7Dj.length%3D0%7Dwhile%28Y.length%29%3Bfor%28%3BSe.length%3B%29Se.pop%28%29%28%29%3Bae%3D%211%2Cfe.clear%28%29%2CZ%28t%29%7Dfunction%20Ye%28t%29%7Bif%28t.fragment%21%3D%3Dnull%29%7Bt.update%28%29%2CO%28t.before_update%29%3Bconst%20e%3Dt.dirty%3Bt.dirty%3D%5B-1%5D%2Ct.fragment%26%26t.fragment.p%28t.ctx%2Ce%29%2Ct.after_update.forEach%28ue%29%7D%7Dconst%20ee%3Dnew%20Set%3Blet%20G%3Bfunction%20ce%28%29%7BG%3D%7Br%3A0%2Cc%3A%5B%5D%2Cp%3AG%7D%7Dfunction%20de%28%29%7BG.r%7C%7CO%28G.c%29%2CG%3DG.p%7Dfunction%20D%28t%2Ce%29%7Bt%26%26t.i%26%26%28ee.delete%28t%29%2Ct.i%28e%29%29%7Dfunction%20z%28t%2Ce%2Ci%2Cn%29%7Bif%28t%26%26t.o%29%7Bif%28ee.has%28t%29%29return%3Bee.add%28t%29%2CG.c.push%28%28%29%3D%3E%7Bee.delete%28t%29%2Cn%26%26%28i%26%26t.d%281%29%2Cn%28%29%29%7D%29%2Ct.o%28e%29%7Delse%20n%26%26n%28%29%7Dfunction%20Je%28t%2Ce%29%7Bz%28t%2C1%2C1%2C%28%29%3D%3E%7Be.delete%28t.key%29%7D%29%7Dfunction%20Ke%28t%2Ce%2Ci%2Cn%2Cs%2Cu%2Cr%2Co%2Ca%2Cl%2Ch%2Cp%29%7Blet%20d%3Dt.length%2Cg%3Du.length%2CA%3Dd%3Bconst%20b%3D%7B%7D%3Bfor%28%3BA--%3B%29b%5Bt%5BA%5D.key%5D%3DA%3Bconst%20F%3D%5B%5D%2Cc%3Dnew%20Map%2Cv%3Dnew%20Map%3Bfor%28A%3Dg%3BA--%3B%29%7Bconst%20y%3Dp%28s%2Cu%2CA%29%2CS%3Di%28y%29%3Blet%20P%3Dr.get%28S%29%3BP%3Fn%26%26P.p%28y%2Ce%29%3A%28P%3Dl%28S%2Cy%29%2CP.c%28%29%29%2Cc.set%28S%2CF%5BA%5D%3DP%29%2CS%20in%20b%26%26v.set%28S%2CMath.abs%28A-b%5BS%5D%29%29%7Dconst%20%24%3Dnew%20Set%2CM%3Dnew%20Set%3Bfunction%20E%28y%29%7BD%28y%2C1%29%2Cy.m%28o%2Ch%29%2Cr.set%28y.key%2Cy%29%2Ch%3Dy.first%2Cg--%7Dfor%28%3Bd%26%26g%3B%29%7Bconst%20y%3DF%5Bg-1%5D%2CS%3Dt%5Bd-1%5D%2CP%3Dy.key%2CB%3DS.key%3By%3D%3D%3DS%3F%28h%3Dy.first%2Cd--%2Cg--%29%3Ac.has%28B%29%3F%21r.has%28P%29%7C%7C%24.has%28P%29%3FE%28y%29%3AM.has%28B%29%3Fd--%3Av.get%28P%29%3Ev.get%28B%29%3F%28M.add%28P%29%2CE%28y%29%29%3A%28%24.add%28B%29%2Cd--%29%3A%28a%28S%2Cr%29%2Cd--%29%7Dfor%28%3Bd--%3B%29%7Bconst%20y%3Dt%5Bd%5D%3Bc.has%28y.key%29%7C%7Ca%28y%2Cr%29%7Dfor%28%3Bg%3B%29E%28F%5Bg-1%5D%29%3Breturn%20F%7Dfunction%20pe%28t%29%7Bt%26%26t.c%28%29%7Dfunction%20te%28t%2Ce%2Ci%2Cn%29%7Bconst%7Bfragment%3As%2Cafter_update%3Au%7D%3Dt.%24%24%3Bs%26%26s.m%28e%2Ci%29%2Cn%7C%7Cue%28%28%29%3D%3E%7Bconst%20r%3Dt.%24%24.on_mount.map%28H%29.filter%28be%29%3Bt.%24%24.on_destroy%3Ft.%24%24.on_destroy.push%28...r%29%3AO%28r%29%2Ct.%24%24.on_mount%3D%5B%5D%7D%29%2Cu.forEach%28ue%29%7Dfunction%20ie%28t%2Ce%29%7Bconst%20i%3Dt.%24%24%3Bi.fragment%21%3D%3Dnull%26%26%28O%28i.on_destroy%29%2Ci.fragment%26%26i.fragment.d%28e%29%2Ci.on_destroy%3Di.fragment%3Dnull%2Ci.ctx%3D%5B%5D%29%7Dfunction%20We%28t%2Ce%29%7Bt.%24%24.dirty%5B0%5D%3D%3D%3D-1%26%26%28Y.push%28t%29%2CZe%28%29%2Ct.%24%24.dirty.fill%280%29%29%2Ct.%24%24.dirty%5Be/31%7C0%5D%7C%3D1%3C%3Ce%2531%7Dfunction%20me%28t%2Ce%2Ci%2Cn%2Cs%2Cu%2Cr%2Co%3D%5B-1%5D%29%7Bconst%20a%3DV%3BZ%28t%29%3Bconst%20l%3Dt.%24%24%3D%7Bfragment%3Anull%2Cctx%3A%5B%5D%2Cprops%3Au%2Cupdate%3AC%2Cnot_equal%3As%2Cbound%3Awe%28%29%2Con_mount%3A%5B%5D%2Con_destroy%3A%5B%5D%2Con_disconnect%3A%5B%5D%2Cbefore_update%3A%5B%5D%2Cafter_update%3A%5B%5D%2Ccontext%3Anew%20Map%28e.context%7C%7C%28a%3Fa.%24%24.context%3A%5B%5D%29%29%2Ccallbacks%3Awe%28%29%2Cdirty%3Ao%2Cskip_bound%3A%211%2Croot%3Ae.target%7C%7Ca.%24%24.root%7D%3Br%26%26r%28l.root%29%3Blet%20h%3D%211%3Bif%28l.ctx%3Di%3Fi%28t%2Ce.props%7C%7C%7B%7D%2C%28p%2Cd%2C...g%29%3D%3E%7Bconst%20A%3Dg.length%3Fg%5B0%5D%3Ad%3Breturn%20l.ctx%26%26s%28l.ctx%5Bp%5D%2Cl.ctx%5Bp%5D%3DA%29%26%26%28%21l.skip_bound%26%26l.bound%5Bp%5D%26%26l.bound%5Bp%5D%28A%29%2Ch%26%26We%28t%2Cp%29%29%2Cd%7D%29%3A%5B%5D%2Cl.update%28%29%2Ch%3D%210%2CO%28l.before_update%29%2Cl.fragment%3Dn%3Fn%28l.ctx%29%3A%211%2Ce.target%29%7Bif%28e.hydrate%29%7Bconst%20p%3DOe%28e.target%29%3Bl.fragment%26%26l.fragment.l%28p%29%2Cp.forEach%28N%29%7Delse%20l.fragment%26%26l.fragment.c%28%29%3Be.intro%26%26D%28t.%24%24.fragment%29%2Cte%28t%2Ce.target%2Ce.anchor%2Ce.customElement%29%2C%24e%28%29%7DZ%28a%29%7Dclass%20he%7B%24destroy%28%29%7Bie%28this%2C1%29%2Cthis.%24destroy%3DC%7D%24on%28e%2Ci%29%7Bif%28%21be%28i%29%29return%20C%3Bconst%20n%3Dthis.%24%24.callbacks%5Be%5D%7C%7C%28this.%24%24.callbacks%5Be%5D%3D%5B%5D%29%3Breturn%20n.push%28i%29%2C%28%29%3D%3E%7Bconst%20s%3Dn.indexOf%28i%29%3Bs%21%3D%3D-1%26%26n.splice%28s%2C1%29%7D%7D%24set%28e%29%7Bthis.%24%24set%26%26%21Ie%28e%29%26%26%28this.%24%24.skip_bound%3D%210%2Cthis.%24%24set%28e%29%2Cthis.%24%24.skip_bound%3D%211%29%7D%7Dconst%20U%3D%5B%5D%3Bfunction%20Pe%28t%2Ce%3DC%29%7Blet%20i%3Bconst%20n%3Dnew%20Set%3Bfunction%20s%28o%29%7Bif%28K%28t%2Co%29%26%26%28t%3Do%2Ci%29%29%7Bconst%20a%3D%21U.length%3Bfor%28const%20l%20of%20n%29l%5B1%5D%28%29%2CU.push%28l%2Ct%29%3Bif%28a%29%7Bfor%28let%20l%3D0%3Bl%3CU.length%3Bl%2B%3D2%29U%5Bl%5D%5B0%5D%28U%5Bl%2B1%5D%29%3BU.length%3D0%7D%7D%7Dfunction%20u%28o%29%7Bs%28o%28t%29%29%7Dfunction%20r%28o%2Ca%3DC%29%7Bconst%20l%3D%5Bo%2Ca%5D%3Breturn%20n.add%28l%29%2Cn.size%3D%3D%3D1%26%26%28i%3De%28s%29%7C%7CC%29%2Co%28t%29%2C%28%29%3D%3E%7Bn.delete%28l%29%2Cn.size%3D%3D%3D0%26%26%28i%28%29%2Ci%3Dnull%29%7D%7Dreturn%7Bset%3As%2Cupdate%3Au%2Csubscribe%3Ar%7D%7Dconst%20De%3DPe%28%7B%7D%29%2Cne%3DPe%28%22absolute%22%29%2Cpt%3D%22%22%3Bfunction%20je%28t%29%7Blet%20e%2Ci%2Cn%2Cs%2Cu%2Cr%2Co%2Ca%2Cl%2Ch%2Cp%2Cd%2Cg%2CA%2Cb%2CF%2Cc%2Cv%2C%24%2CM%2CE%2Cy%2CS%2CP%2CB%2Cre%3Dt%5B0%5D.sampleCount%2B%22%22%2Cve%2CXe%2Cle%2CQe%2Coe%2CAe%2CGe%3Breturn%7Bc%28%29%7Be%3D_%28%22div%22%29%2Ci%3D_%28%22div%22%29%2Cn%3D_%28%22div%22%29%2Cs%3D_%28%22div%22%29%2Cs.textContent%3D%22pyinstrument%22%2Cu%3Dw%28%29%2Cr%3D_%28%22div%22%29%2Co%3D_%28%22label%22%29%2Co.textContent%3D%22Absolute%20time%22%2Ca%3Dw%28%29%2Cl%3D_%28%22input%22%29%2Ch%3Dw%28%29%2Cp%3D_%28%22div%22%29%2Cp.textContent%3D%22Recorded%3A%22%2Cd%3Dw%28%29%2Cg%3D_%28%22div%22%29%2Cg.textContent%3D%60%24%7Bt%5B2%5D%7D%60%2CA%3Dw%28%29%2Cb%3D_%28%22div%22%29%2Cb.textContent%3D%22Duration%3A%22%2CF%3Dw%28%29%2Cc%3D_%28%22div%22%29%2Cc.textContent%3D%60%24%7Bt%5B4%5D%7D%20seconds%60%2Cv%3Dw%28%29%2C%24%3D_%28%22label%22%29%2C%24.textContent%3D%22Proportional%20time%22%2CM%3Dw%28%29%2CE%3D_%28%22input%22%29%2Cy%3Dw%28%29%2CS%3D_%28%22div%22%29%2CS.textContent%3D%22Samples%3A%22%2CP%3Dw%28%29%2CB%3D_%28%22div%22%29%2Cve%3DL%28re%29%2CXe%3Dw%28%29%2Cle%3D_%28%22div%22%29%2Cle.textContent%3D%22CPU%20time%3A%22%2CQe%3Dw%28%29%2Coe%3D_%28%22div%22%29%2Coe.textContent%3D%60%24%7Bt%5B3%5D%7D%20seconds%60%2Cm%28s%2C%22class%22%2C%22title%20svelte-tewt95%22%29%2Cm%28o%2C%22class%22%2C%22metric-label%20svelte-tewt95%22%29%2Cm%28o%2C%22for%22%2C%22absolute%22%29%2Cm%28l%2C%22type%22%2C%22radio%22%29%2Cl.__value%3D%22absolute%22%2Cl.value%3Dl.__value%2Cm%28l%2C%22id%22%2C%22absolute%22%29%2Cm%28l%2C%22name%22%2C%22time-format%22%29%2Cl.checked%3D%210%2Ct%5B6%5D%5B0%5D.push%28l%29%2Cm%28p%2C%22class%22%2C%22metric-label%20svelte-tewt95%22%29%2Cm%28g%2C%22class%22%2C%22metric-value%20svelte-tewt95%22%29%2Cm%28b%2C%22class%22%2C%22metric-label%20svelte-tewt95%22%29%2Cm%28c%2C%22class%22%2C%22metric-value%20svelte-tewt95%22%29%2Cm%28%24%2C%22class%22%2C%22metric-label%20svelte-tewt95%22%29%2Cm%28%24%2C%22for%22%2C%22proportion%22%29%2Cm%28E%2C%22type%22%2C%22radio%22%29%2CE.__value%3D%22proportion%22%2CE.value%3DE.__value%2Cm%28E%2C%22id%22%2C%22proportion%22%29%2Cm%28E%2C%22name%22%2C%22time-format%22%29%2Ct%5B6%5D%5B0%5D.push%28E%29%2Cm%28S%2C%22class%22%2C%22metric-label%20svelte-tewt95%22%29%2Cm%28B%2C%22class%22%2C%22metric-value%20svelte-tewt95%22%29%2Cm%28le%2C%22class%22%2C%22metric-label%20svelte-tewt95%22%29%2Cm%28oe%2C%22class%22%2C%22metric-value%20svelte-tewt95%22%29%2Cm%28r%2C%22class%22%2C%22metrics%20svelte-tewt95%22%29%2Cm%28n%2C%22class%22%2C%22row%20svelte-tewt95%22%29%2Cm%28i%2C%22class%22%2C%22margins%22%29%2Cm%28e%2C%22class%22%2C%22header%20svelte-tewt95%22%29%7D%2Cm%28I%2CJ%29%7BX%28I%2Ce%2CJ%29%2Cf%28e%2Ci%29%2Cf%28i%2Cn%29%2Cf%28n%2Cs%29%2Cf%28n%2Cu%29%2Cf%28n%2Cr%29%2Cf%28r%2Co%29%2Cf%28r%2Ca%29%2Cf%28r%2Cl%29%2Cl.checked%3Dl.__value%3D%3D%3Dt%5B1%5D%2Cf%28r%2Ch%29%2Cf%28r%2Cp%29%2Cf%28r%2Cd%29%2Cf%28r%2Cg%29%2Cf%28r%2CA%29%2Cf%28r%2Cb%29%2Cf%28r%2CF%29%2Cf%28r%2Cc%29%2Cf%28r%2Cv%29%2Cf%28r%2C%24%29%2Cf%28r%2CM%29%2Cf%28r%2CE%29%2CE.checked%3DE.__value%3D%3D%3Dt%5B1%5D%2Cf%28r%2Cy%29%2Cf%28r%2CS%29%2Cf%28r%2CP%29%2Cf%28r%2CB%29%2Cf%28B%2Cve%29%2Cf%28r%2CXe%29%2Cf%28r%2Cle%29%2Cf%28r%2CQe%29%2Cf%28r%2Coe%29%2CAe%7C%7C%28Ge%3D%5BW%28l%2C%22change%22%2Ct%5B5%5D%29%2CW%28E%2C%22change%22%2Ct%5B7%5D%29%5D%2CAe%3D%210%29%7D%2Cp%28I%2C%5BJ%5D%29%7BJ%262%26%26%28l.checked%3Dl.__value%3D%3D%3DI%5B1%5D%29%2CJ%262%26%26%28E.checked%3DE.__value%3D%3D%3DI%5B1%5D%29%2CJ%261%26%26re%21%3D%3D%28re%3DI%5B0%5D.sampleCount%2B%22%22%29%26%26q%28ve%2Cre%29%7D%2Ci%3AC%2Co%3AC%2Cd%28I%29%7BI%26%26N%28e%29%2Ct%5B6%5D%5B0%5D.splice%28t%5B6%5D%5B0%5D.indexOf%28l%29%2C1%29%2Ct%5B6%5D%5B0%5D.splice%28t%5B6%5D%5B0%5D.indexOf%28E%29%2C1%29%2CAe%3D%211%2CO%28Ge%29%7D%7D%7Dfunction%20xe%28t%2Ce%2Ci%29%7Bvar%20p%3Blet%20n%3Bse%28t%2Cne%2Cd%3D%3Ei%281%2Cn%3Dd%29%29%3Blet%7Bsession%3As%7D%3De%3Bconst%20u%3Dnew%20Date%28s.startTime%2A1e3%29.toLocaleString%28%29%2Cr%3D%28p%3Ds.cpuTime%29%3D%3Dnull%3Fvoid%200%3Ap.toLocaleString%28void%200%2C%7BmaximumSignificantDigits%3A3%7D%29%2Co%3Ds.duration.toLocaleString%28void%200%2C%7BmaximumSignificantDigits%3A3%7D%29%2Ca%3D%5B%5B%5D%5D%3Bfunction%20l%28%29%7Bn%3Dthis.__value%2Cne.set%28n%29%7Dfunction%20h%28%29%7Bn%3Dthis.__value%2Cne.set%28n%29%7Dreturn%20t.%24%24set%3Dd%3D%3E%7B%22session%22in%20d%26%26i%280%2Cs%3Dd.session%29%7D%2C%5Bs%2Cn%2Cu%2Cr%2Co%2Cl%2Ca%2Ch%5D%7Dclass%20et%20extends%20he%7Bconstructor%28e%29%7Bsuper%28%29%2Cme%28this%2Ce%2Cxe%2Cje%2CK%2C%7Bsession%3A0%7D%29%7D%7Dconst%20mt%3D%22%22%3Bfunction%20Me%28t%2Ce%2Ci%29%7Bconst%20n%3Dt.slice%28%29%3Breturn%20n%5B14%5D%3De%5Bi%5D%2Cn%7Dfunction%20Le%28t%29%7Blet%20e%2Ci%2Cn%2Cs%2Cu%2Cr%2Co%2Ca%2Cl%2Ch%2Cp%2Cd%2Cg%2CA%2Cb%2CF%3Breturn%7Bc%28%29%7Be%3D_%28%22div%22%29%2Ci%3D_%28%22div%22%29%2Cn%3Dke%28%22svg%22%29%2Cs%3Dke%28%22path%22%29%2Cu%3Dw%28%29%2Cr%3D_%28%22div%22%29%2Co%3DL%28t%5B5%5D%29%2Ca%3Dw%28%29%2Cl%3D_%28%22div%22%29%2Ch%3DL%28t%5B4%5D%29%2Cp%3Dw%28%29%2Cd%3D_%28%22div%22%29%2Cg%3Dw%28%29%2CA%3D_%28%22div%22%29%2CA.textContent%3D%60%24%7Bt%5B9%5D%7D%60%2Cm%28s%2C%22d%22%2C%22M.937-.016L5.793%204.84.937%209.696z%22%29%2Cm%28s%2C%22fill%22%2Ct%5B7%5D%29%2Cm%28s%2C%22fill-rule%22%2C%22evenodd%22%29%2Cm%28s%2C%22fill-opacity%22%2C%22.582%22%29%2Cm%28n%2C%22width%22%2C%226%22%29%2Cm%28n%2C%22height%22%2C%2210%22%29%2Cm%28i%2C%22class%22%2C%22frame-triangle%20svelte-1aphj50%22%29%2CQ%28i%2C%22rotate%22%2Ct%5B2%5D%29%2CT%28i%2C%22visibility%22%2Ct%5B0%5D.children.length%3E0%3F%22visible%22%3A%22hidden%22%29%2Cm%28r%2C%22class%22%2C%22time%20svelte-1aphj50%22%29%2CT%28r%2C%22color%22%2Ct%5B7%5D%29%2CT%28r%2C%22font-weight%22%2Ct%5B0%5D.proportionOfTotal%3C.2%3F500%3A600%29%2Cm%28l%2C%22class%22%2C%22name%20svelte-1aphj50%22%29%2Cm%28d%2C%22class%22%2C%22spacer%22%29%2CT%28d%2C%22flex%22%2C%221%22%29%2Cm%28A%2C%22class%22%2C%22code-position%20svelte-1aphj50%22%29%2Cm%28e%2C%22class%22%2C%22frame-description%20svelte-1aphj50%22%29%2CQ%28e%2C%22application-code%22%2Ct%5B0%5D.isApplicationCode%29%2CQ%28e%2C%22children-visible%22%2Ct%5B2%5D%29%2CT%28e%2C%22padding-left%22%2C%60%24%7Bt%5B1%5D%2A35%7Dpx%60%29%7D%2Cm%28c%2Cv%29%7BX%28c%2Ce%2Cv%29%2Cf%28e%2Ci%29%2Cf%28i%2Cn%29%2Cf%28n%2Cs%29%2Cf%28e%2Cu%29%2Cf%28e%2Cr%29%2Cf%28r%2Co%29%2Cf%28e%2Ca%29%2Cf%28e%2Cl%29%2Cf%28l%2Ch%29%2Cf%28e%2Cp%29%2Cf%28e%2Cd%29%2Cf%28e%2Cg%29%2Cf%28e%2CA%29%2Cb%7C%7C%28F%3DW%28e%2C%22click%22%2CEe%28Ce%28t%5B10%5D%29%29%29%2Cb%3D%210%29%7D%2Cp%28c%2Cv%29%7Bv%26128%26%26m%28s%2C%22fill%22%2Cc%5B7%5D%29%2Cv%264%26%26Q%28i%2C%22rotate%22%2Cc%5B2%5D%29%2Cv%261%26%26T%28i%2C%22visibility%22%2Cc%5B0%5D.children.length%3E0%3F%22visible%22%3A%22hidden%22%29%2Cv%2632%26%26q%28o%2Cc%5B5%5D%29%2Cv%26128%26%26T%28r%2C%22color%22%2Cc%5B7%5D%29%2Cv%261%26%26T%28r%2C%22font-weight%22%2Cc%5B0%5D.proportionOfTotal%3C.2%3F500%3A600%29%2Cv%2616%26%26q%28h%2Cc%5B4%5D%29%2Cv%261%26%26Q%28e%2C%22application-code%22%2Cc%5B0%5D.isApplicationCode%29%2Cv%264%26%26Q%28e%2C%22children-visible%22%2Cc%5B2%5D%29%2Cv%262%26%26T%28e%2C%22padding-left%22%2C%60%24%7Bc%5B1%5D%2A35%7Dpx%60%29%7D%2Cd%28c%29%7Bc%26%26N%28e%29%2Cb%3D%211%2CF%28%29%7D%7D%7Dfunction%20Ne%28t%29%7Blet%20e%2Ci%2Cn%2Cs%2Cu%3Dt%5B0%5D.group.frames.length%2B%22%22%2Cr%2Co%2Ca%2Cl%2Ch%2Cp%3Breturn%7Bc%28%29%7Be%3D_%28%22div%22%29%2Ci%3D_%28%22div%22%29%2Cn%3D_%28%22div%22%29%2Cn.innerHTML%3D%27%3Csvg%20width%3D%226%22%20height%3D%2210%22%3E%3Cpath%20d%3D%22M.937-.016L5.793%204.84.937%209.696z%22%20fill%3D%22%23FFF%22%20fill-rule%3D%22evenodd%22%20fill-opacity%3D%22.582%22%3E%3C/path%3E%3C/svg%3E%27%2Cs%3Dw%28%29%2Cr%3DL%28u%29%2Co%3DL%28%60%20frames%20hidden%0A%20%20%20%20%20%20%20%20%28%60%29%2Ca%3DL%28t%5B6%5D%29%2Cl%3DL%28%22%29%22%29%2Cm%28n%2C%22class%22%2C%22group-triangle%20svelte-1aphj50%22%29%2CQ%28n%2C%22rotate%22%2Ct%5B8%5D%29%2Cm%28i%2C%22class%22%2C%22group-header-button%20svelte-1aphj50%22%29%2Cm%28e%2C%22class%22%2C%22group-header%20svelte-1aphj50%22%29%2CT%28e%2C%22padding-left%22%2C%60%24%7Bt%5B1%5D%2A35%7Dpx%60%29%7D%2Cm%28d%2Cg%29%7BX%28d%2Ce%2Cg%29%2Cf%28e%2Ci%29%2Cf%28i%2Cn%29%2Cf%28i%2Cs%29%2Cf%28i%2Cr%29%2Cf%28i%2Co%29%2Cf%28i%2Ca%29%2Cf%28i%2Cl%29%2Ch%7C%7C%28p%3DW%28e%2C%22click%22%2CEe%28Ce%28t%5B11%5D%29%29%29%2Ch%3D%210%29%7D%2Cp%28d%2Cg%29%7Bg%26256%26%26Q%28n%2C%22rotate%22%2Cd%5B8%5D%29%2Cg%261%26%26u%21%3D%3D%28u%3Dd%5B0%5D.group.frames.length%2B%22%22%29%26%26q%28r%2Cu%29%2Cg%2664%26%26q%28a%2Cd%5B6%5D%29%2Cg%262%26%26T%28e%2C%22padding-left%22%2C%60%24%7Bd%5B1%5D%2A35%7Dpx%60%29%7D%2Cd%28d%29%7Bd%26%26N%28e%29%2Ch%3D%211%2Cp%28%29%7D%7D%7Dfunction%20ze%28t%29%7Blet%20e%3D%5B%5D%2Ci%3Dnew%20Map%2Cn%2Cs%2Cu%3Dt%5B0%5D.children%3Bconst%20r%3Do%3D%3Eo%5B14%5D.identifier%3Bfor%28let%20o%3D0%3Bo%3Cu.length%3Bo%2B%3D1%29%7Blet%20a%3DMe%28t%2Cu%2Co%29%2Cl%3Dr%28a%29%3Bi.set%28l%2Ce%5Bo%5D%3DBe%28l%2Ca%29%29%7Dreturn%7Bc%28%29%7Bfor%28let%20o%3D0%3Bo%3Ce.length%3Bo%2B%3D1%29e%5Bo%5D.c%28%29%3Bn%3Dye%28%29%7D%2Cm%28o%2Ca%29%7Bfor%28let%20l%3D0%3Bl%3Ce.length%3Bl%2B%3D1%29e%5Bl%5D.m%28o%2Ca%29%3BX%28o%2Cn%2Ca%29%2Cs%3D%210%7D%2Cp%28o%2Ca%29%7Ba%2611%26%26%28u%3Do%5B0%5D.children%2Cce%28%29%2Ce%3DKe%28e%2Ca%2Cr%2C1%2Co%2Cu%2Ci%2Cn.parentNode%2CJe%2CBe%2Cn%2CMe%29%2Cde%28%29%29%7D%2Ci%28o%29%7Bif%28%21s%29%7Bfor%28let%20a%3D0%3Ba%3Cu.length%3Ba%2B%3D1%29D%28e%5Ba%5D%29%3Bs%3D%210%7D%7D%2Co%28o%29%7Bfor%28let%20a%3D0%3Ba%3Ce.length%3Ba%2B%3D1%29z%28e%5Ba%5D%29%3Bs%3D%211%7D%2Cd%28o%29%7Bfor%28let%20a%3D0%3Ba%3Ce.length%3Ba%2B%3D1%29e%5Ba%5D.d%28o%29%3Bo%26%26N%28n%29%7D%7D%7Dfunction%20Be%28t%2Ce%29%7Blet%20i%2Cn%2Cs%3Breturn%20n%3Dnew%20He%28%7Bprops%3A%7Bframe%3Ae%5B14%5D%2Cindent%3Ae%5B1%5D%2B%28e%5B3%5D%3F1%3A0%29%7D%7D%29%2C%7Bkey%3At%2Cfirst%3Anull%2Cc%28%29%7Bi%3Dye%28%29%2Cpe%28n.%24%24.fragment%29%2Cthis.first%3Di%7D%2Cm%28u%2Cr%29%7BX%28u%2Ci%2Cr%29%2Cte%28n%2Cu%2Cr%29%2Cs%3D%210%7D%2Cp%28u%2Cr%29%7Be%3Du%3Bconst%20o%3D%7B%7D%3Br%261%26%26%28o.frame%3De%5B14%5D%29%2Cr%2610%26%26%28o.indent%3De%5B1%5D%2B%28e%5B3%5D%3F1%3A0%29%29%2Cn.%24set%28o%29%7D%2Ci%28u%29%7Bs%7C%7C%28D%28n.%24%24.fragment%2Cu%29%2Cs%3D%210%29%7D%2Co%28u%29%7Bz%28n.%24%24.fragment%2Cu%29%2Cs%3D%211%7D%2Cd%28u%29%7Bu%26%26N%28i%29%2Cie%28n%2Cu%29%7D%7D%7Dfunction%20tt%28t%29%7Blet%20e%2Ci%2Cn%2Cs%2Cu%2Cr%2Co%3Dt%5B3%5D%26%26Le%28t%29%2Ca%3Dt%5B0%5D.group%26%26t%5B0%5D.group.rootFrame%3D%3Dt%5B0%5D%26%26t%5B2%5D%26%26Ne%28t%29%2Cl%3Dt%5B2%5D%26%26ze%28t%29%3Breturn%7Bc%28%29%7Be%3D_%28%22div%22%29%2Co%26%26o.c%28%29%2Ci%3Dw%28%29%2Ca%26%26a.c%28%29%2Cn%3Dw%28%29%2Cl%26%26l.c%28%29%2Cs%3Dw%28%29%2Cu%3D_%28%22div%22%29%2Cm%28u%2C%22class%22%2C%22visual-guide%22%29%2CT%28u%2C%22left%22%2C%60%24%7Bt%5B1%5D%2A35%2B21%7Dpx%60%29%2CT%28u%2C%22backgroundColor%22%2Ct%5B7%5D%29%2Cm%28e%2C%22class%22%2C%22frame%20svelte-1aphj50%22%29%7D%2Cm%28h%2Cp%29%7BX%28h%2Ce%2Cp%29%2Co%26%26o.m%28e%2Cnull%29%2Cf%28e%2Ci%29%2Ca%26%26a.m%28e%2Cnull%29%2Cf%28e%2Cn%29%2Cl%26%26l.m%28e%2Cnull%29%2Cf%28e%2Cs%29%2Cf%28e%2Cu%29%2Cr%3D%210%7D%2Cp%28h%2C%5Bp%5D%29%7Bh%5B3%5D%3Fo%3Fo.p%28h%2Cp%29%3A%28o%3DLe%28h%29%2Co.c%28%29%2Co.m%28e%2Ci%29%29%3Ao%26%26%28o.d%281%29%2Co%3Dnull%29%2Ch%5B0%5D.group%26%26h%5B0%5D.group.rootFrame%3D%3Dh%5B0%5D%26%26h%5B2%5D%3Fa%3Fa.p%28h%2Cp%29%3A%28a%3DNe%28h%29%2Ca.c%28%29%2Ca.m%28e%2Cn%29%29%3Aa%26%26%28a.d%281%29%2Ca%3Dnull%29%2Ch%5B2%5D%3Fl%3F%28l.p%28h%2Cp%29%2Cp%264%26%26D%28l%2C1%29%29%3A%28l%3Dze%28h%29%2Cl.c%28%29%2CD%28l%2C1%29%2Cl.m%28e%2Cs%29%29%3Al%26%26%28ce%28%29%2Cz%28l%2C1%2C1%2C%28%29%3D%3E%7Bl%3Dnull%7D%29%2Cde%28%29%29%2Cp%262%26%26T%28u%2C%22left%22%2C%60%24%7Bh%5B1%5D%2A35%2B21%7Dpx%60%29%2Cp%26128%26%26T%28u%2C%22backgroundColor%22%2Ch%5B7%5D%29%7D%2Ci%28h%29%7Br%7C%7C%28D%28l%29%2Cr%3D%210%29%7D%2Co%28h%29%7Bz%28l%29%2Cr%3D%211%7D%2Cd%28h%29%7Bh%26%26N%28e%29%2Co%26%26o.d%28%29%2Ca%26%26a.d%28%29%2Cl%26%26l.d%28%29%7D%7D%7Dfunction%20it%28t%2Ce%2Ci%29%7Blet%20n%2Cs%2Cu%3Bse%28t%2CDe%2Cc%3D%3Ei%2812%2Cs%3Dc%29%29%2Cse%28t%2Cne%2Cc%3D%3Ei%2813%2Cu%3Dc%29%29%3Blet%7Bframe%3Ar%7D%3De%2C%7Bindent%3Ao%3D0%7D%3De%2Ca%3D%210%2Cl%2Ch%3Br.className%3Fh%3D%60%24%7Br.className%7D.%24%7Br.function%7D%60%3Ah%3Dr.function%3Bconst%20p%3D%60%24%7Br.filePathShort%7D%3A%24%7Br.lineNo.toString%28%29.padEnd%284%2C%22%5CxA0%22%29%7D%60%3Blet%20d%2Cg%3Dnull%3Bif%28r.group%29%7Bconst%20c%3Dr.group.libraries%3Bc.length%3C4%3Fg%3Dc.join%28%22%2C%20%22%29%3Ag%3D%60%24%7Bc%5B0%5D%7D%2C%20%24%7Bc%5B1%5D%7D%2C%20%24%7Bc%5B2%5D%7D...%60%7Dlet%20A%3Br.proportionOfTotal%3E.6%3FA%3D%22%23FF4159%22%3Ar.proportionOfTotal%3E.3%3FA%3D%22%23F5A623%22%3Ar.proportionOfTotal%3E.2%3FA%3D%22%23D8CB2A%22%3AA%3D%22%237ED321%22%3Bfunction%20b%28%29%7Bi%282%2Ca%3D%21a%29%7Dfunction%20F%28%29%7BDe.update%28c%3D%3E%7Bvar%20v%3Breturn%7B...c%2C%5B%28v%3Dr.groupId%29%21%3Dnull%3Fv%3A%22%22%5D%3A%21n%7D%7D%29%7Dreturn%20t.%24%24set%3Dc%3D%3E%7B%22frame%22in%20c%26%26i%280%2Cr%3Dc.frame%29%2C%22indent%22in%20c%26%26i%281%2Co%3Dc.indent%29%7D%2Ct.%24%24.update%3D%28%29%3D%3E%7Bvar%20c%2Cv%2C%24%3Bif%28t.%24%24.dirty%264097%26%26%28r.group%3Fs%5B%28c%3Dr.groupId%29%21%3Dnull%3Fc%3A%22%22%5D%7C%7C%28%28v%3Dr.group%29%3D%3Dnull%3Fvoid%200%3Av.rootFrame%29%3D%3D%3Dr%7C%7Cr.children.filter%28M%3D%3E%21M.group%29.length%3E1%3Fi%283%2Cl%3D%210%29%3Ai%283%2Cl%3D%211%29%3Ai%283%2Cl%3D%210%29%29%2Ct.%24%24.dirty%268193%29if%28u%3D%3D%3D%22absolute%22%29i%285%2Cd%3Dr.time.toLocaleString%28void%200%2C%7BminimumFractionDigits%3A3%2CmaximumFractionDigits%3A3%7D%29%29%3Belse%20if%28u%3D%3D%3D%22proportion%22%29i%285%2Cd%3D%60%24%7B%28r.proportionOfTotal%2A100%29.toLocaleString%28void%200%2C%7BminimumFractionDigits%3A1%2CmaximumFractionDigits%3A1%7D%29%7D%25%60%29%3Belse%20throw%20new%20Error%28%22unknown%20timeFormat%22%29%3Bt.%24%24.dirty%264097%26%26i%288%2Cn%3Ds%5B%28%24%3Dr.groupId%29%21%3Dnull%3F%24%3A%22%22%5D%3D%3D%3D%210%29%7D%2C%5Br%2Co%2Ca%2Cl%2Ch%2Cd%2Cg%2CA%2Cn%2Cp%2Cb%2CF%2Cs%2Cu%5D%7Dclass%20He%20extends%20he%7Bconstructor%28e%29%7Bsuper%28%29%2Cme%28this%2Ce%2Cit%2Ctt%2CK%2C%7Bframe%3A0%2Cindent%3A1%7D%29%7D%7Dconst%20nt%3D%22data%3Aimage/png%3Bbase64%2CiVBORw0KGgoAAAANSUhEUgAAACAAAAAgCAYAAABzenr0AAAABGdBTUEAALGPC/xhBQAAADhlWElmTU0AKgAAAAgAAYdpAAQAAAABAAAAGgAAAAAAAqACAAQAAAABAAAAIKADAAQAAAABAAAAIAAAAACPTkDJAAAFPklEQVRYCdWXu4skVRSHb3VXP2bcXUVMBkRMTVww2XQDExEEH4iKiUYGhuJEPgJhUSMzQQSDRVzETNDMTTfUwL/ARUwM1t3pV1WX33eqbnfP9MxOu5kHTt9T93F%2Bv3vOubeqi7QhT1%2B58vhiVn1G19WiaQ6KIqVQOmyT%2Bh9kuUxp2bAAtQkpij9pbw5G5fu/3br1x8ql4NW0%2BrVJzaN29nop9VUeCtoerXpMTj53g%2BAGcINR1YB3RIJMN6dIxd/luLxcZoftzltwAct%2BSiNGh2jJ84BnSQWJTeBNW2C0ZrvufrZA5y2JmuemWkfCjYq5IsC6q2iE2V0LuDdMaYxKZDxo%2ByS3JZkEY%2B5SsAU7P5q1qZNEAxnXGo0NubomQM4dWPnCMAU/fUCnoA7kFjPEPohuqfO6uc%2B%2B0xKSVHUcHDbNwZpAeFyHyMcg408G16mSnwW3b5OEz3rtCAyJnHUQUSEFmMdki0CMmsNOX/gkpf1RSpf223Q43jC2MMw4tFWsjwHzBngsIOT6CaEf7wGKrTo/agFbH8oWAQdkWTF5htGntSDn2h2YBTal/9603Z2%2B%2BswZ0%2B5BZIjdQwfUz5DcGwHVotSfdpYtAg7oUKzaycyo6PjmkA4cRmgBuf5zSj/80kbAuToaYHz9afdgCiCxJF3gpudfZampOyGnEwAwIkEbuROBXEauXZGdYzrEtFTTpx3zHGeewGoFcFxk2Cdlxempy8/oZyXm1KO3R14fIraPXEzpAnXgyVBmRMdjNgdVsqZgxLw9cl4C7m7N%2Bd17pOqIuaj2LKetQzs1Ai3E%2BreRJip4CSnz2wPYHC9wFL66MYko9k8pwgmAU4hqbxZhO6tNXba321V8Uvruc4ZzGgQxErnFNszqItqC0DdpTtzfeqWJ21DwpRp5WkOdHwFJqM4UMLcdeB2AADPUkigSm00VOZixsOL8WfUB3oWd4ZWcT8CpgLz2XkoPX%2BIgEIU%2Bq6K6QZqzqxoAr15vupqC8Air0wm7JwUL2AWJByIAuDXQEGZ1aegRASY4Ppq0AOZZIoZYsLh4zDsa4PSfeA%2BEn/tGQMI5ZTe%2BxClhN%2BQ5z4b67TfZJeATiAQw4J4KwTzCOfT2nSb3JRALAJTEfKPQcrGBG5GwwCLMRCRAXcgiQY1IYD8ogbzuDd5qF7gL%2Bp4ESM05Z//coWXH1oEE5oQkQPOi3EroDDk/Ai40Cp3SRE2AG%2B8MWyOk5h1j7ixnEogPD0dVcv/FVwXXLceKs20K5rCaFk06fKmOD424akkTXUFkVwanEtBZfH7hMK5eCEwBl0DNYHvJ0Idd4MHXr7djkGDtWQV3GqlTCRhybzqv1R4zbA/fXabRfhFAHkvflJO77XivuyElbRHG%2Bh3yL6EtAu4iPkoF5q4veRn1ecEUAwYg0pSyQwAoRk3qz4p4DS%2BwawpxSVHoY9cobBHQtxBBBMBrN/rkvOEC6lF0hF/nKvaS31yE155btLVAFKIidbSDbBMI9HaluzjC4ZKQWHieBIcVPqvbyg/b503Dh91kTcB/LH4Z6wmNI8X2PnyxTkPSUI7JP7MjvE5hTrwDuO%2BrLvT2uXxnAXNNgL9LLHxdB16jOi24XgOEK68EyMKMb/uYRERol1w%2BFmRN67XrWonsKDdzRNPmXzPjbEXHxwWttsCcwpXki8cte91afP7zkdQuYch/zSizVv66ffvOwZNPfLus/YNSPMYuLkZIda66yw3NzwHMeCOBXcBNdVH8OBiXLx/7c5qJrFrK/GOYfETH97Sr/jOM38FnvodDGv8f%2BRcj1XBLIcDKAQAAAABJRU5ErkJggg%3D%3D%22%2Cht%3D%22%22%3Bfunction%20rt%28t%29%7Blet%20e%3Breturn%7Bc%28%29%7Be%3D_%28%22div%22%29%2Ce.textContent%3D%22No%20samples%20recorded.%22%2Cm%28e%2C%22class%22%2C%22error%22%29%7D%2Cm%28i%2Cn%29%7BX%28i%2Ce%2Cn%29%7D%2Cp%3AC%2Ci%3AC%2Co%3AC%2Cd%28i%29%7Bi%26%26N%28e%29%7D%7D%7Dfunction%20lt%28t%29%7Blet%20e%2Ci%3Breturn%20e%3Dnew%20He%28%7Bprops%3A%7Bframe%3At%5B0%5D.rootFrame%7D%7D%29%2C%7Bc%28%29%7Bpe%28e.%24%24.fragment%29%7D%2Cm%28n%2Cs%29%7Bte%28e%2Cn%2Cs%29%2Ci%3D%210%7D%2Cp%28n%2Cs%29%7Bconst%20u%3D%7B%7D%3Bs%261%26%26%28u.frame%3Dn%5B0%5D.rootFrame%29%2Ce.%24set%28u%29%7D%2Ci%28n%29%7Bi%7C%7C%28D%28e.%24%24.fragment%2Cn%29%2Ci%3D%210%29%7D%2Co%28n%29%7Bz%28e.%24%24.fragment%2Cn%29%2Ci%3D%211%7D%2Cd%28n%29%7Bie%28e%2Cn%29%7D%7D%7Dfunction%20ot%28t%29%7Blet%20e%2Ci%2Cn%2Cs%2Cu%2Cr%2Co%2Ca%2Cl%2Ch%2Cp%2Cd%2Cg%3Bi%3Dnew%20et%28%7Bprops%3A%7Bsession%3At%5B0%5D%7D%7D%29%3Bconst%20A%3D%5Blt%2Crt%5D%2Cb%3D%5B%5D%3Bfunction%20F%28c%2Cv%29%7Breturn%20c%5B0%5D.rootFrame%3F0%3A1%7Dreturn%20p%3DF%28t%29%2Cd%3Db%5Bp%5D%3DA%5Bp%5D%28t%29%2C%7Bc%28%29%7Be%3D_%28%22div%22%29%2Cpe%28i.%24%24.fragment%29%2Cn%3Dw%28%29%2Cs%3D_%28%22div%22%29%2Cu%3Dw%28%29%2Cr%3D_%28%22div%22%29%2Co%3D_%28%22div%22%29%2Ca%3D_%28%22span%22%29%2Ca.textContent%3D%22Program%3A%5CxA0%22%2Cl%3DL%28t%5B1%5D%29%2Ch%3Dw%28%29%2Cd.c%28%29%2Cm%28s%2C%22class%22%2C%22spacer%22%29%2CT%28s%2C%22height%22%2C%2220px%22%29%2Cm%28a%2C%22class%22%2C%22label%20svelte-1gm5pcf%22%29%2Cm%28o%2C%22class%22%2C%22program%20svelte-1gm5pcf%22%29%2Cm%28r%2C%22class%22%2C%22margins%22%29%2Cm%28e%2C%22class%22%2C%22app%20svelte-1gm5pcf%22%29%7D%2Cm%28c%2Cv%29%7BX%28c%2Ce%2Cv%29%2Cte%28i%2Ce%2Cnull%29%2Cf%28e%2Cn%29%2Cf%28e%2Cs%29%2Cf%28e%2Cu%29%2Cf%28e%2Cr%29%2Cf%28r%2Co%29%2Cf%28o%2Ca%29%2Cf%28o%2Cl%29%2Cf%28r%2Ch%29%2Cb%5Bp%5D.m%28r%2Cnull%29%2Cg%3D%210%7D%2Cp%28c%2C%5Bv%5D%29%7Bconst%20%24%3D%7B%7D%3Bv%261%26%26%28%24.session%3Dc%5B0%5D%29%2Ci.%24set%28%24%29%2C%28%21g%7C%7Cv%262%29%26%26q%28l%2Cc%5B1%5D%29%3Blet%20M%3Dp%3Bp%3DF%28c%29%2Cp%3D%3D%3DM%3Fb%5Bp%5D.p%28c%2Cv%29%3A%28ce%28%29%2Cz%28b%5BM%5D%2C1%2C1%2C%28%29%3D%3E%7Bb%5BM%5D%3Dnull%7D%29%2Cde%28%29%2Cd%3Db%5Bp%5D%2Cd%3Fd.p%28c%2Cv%29%3A%28d%3Db%5Bp%5D%3DA%5Bp%5D%28c%29%2Cd.c%28%29%29%2CD%28d%2C1%29%2Cd.m%28r%2Cnull%29%29%7D%2Ci%28c%29%7Bg%7C%7C%28D%28i.%24%24.fragment%2Cc%29%2CD%28d%29%2Cg%3D%210%29%7D%2Co%28c%29%7Bz%28i.%24%24.fragment%2Cc%29%2Cz%28d%29%2Cg%3D%211%7D%2Cd%28c%29%7Bc%26%26N%28e%29%2Cie%28i%29%2Cb%5Bp%5D.d%28%29%7D%7D%7Dfunction%20ge%28%29%7Bdocument.body.style.minHeight%3D%60%24%7Bwindow.scrollY%2Bwindow.innerHeight%7Dpx%60%7Dfunction%20st%28t%2Ce%2Ci%29%7Blet%7Bsession%3An%7D%3De%3Bconst%20s%3Ddocument.createElement%28%22link%22%29%3Bs.rel%3D%22shortut%20icon%22%2Cs.href%3Dnt%2Cdocument.head.appendChild%28s%29%2Cqe%28%28%29%3D%3E%7Bwindow.addEventListener%28%22scroll%22%2Cge%29%2Cge%28%29%7D%29%2CUe%28%28%29%3D%3E%7Bwindow.removeEventListener%28%22scroll%22%2Cge%29%7D%29%3Bconst%20u%3Dn.rootFrame%2Cr%3Du%3D%3Dnull%3Fvoid%200%3Au.time.toLocaleString%28void%200%2C%7BmaximumSignificantDigits%3A3%7D%29%3Blet%20o%3Du%3D%3Dnull%3Fvoid%200%3Au.function%3Breturn%20o%3D%3D%22%3Cmodule%3E%22%26%26%28o%3Dn.program%29%2Cdocument.title%3D%60%24%7Br%7Ds%20-%20%24%7Bo%7D%20-%20pyinstrument%60%2Ct.%24%24set%3Da%3D%3E%7B%22session%22in%20a%26%26i%280%2Cn%3Da.session%29%7D%2C%5Bn%2Co%5D%7Dclass%20at%20extends%20he%7Bconstructor%28e%29%7Bsuper%28%29%2Cme%28this%2Ce%2Cst%2Cot%2CK%2C%7Bsession%3A0%7D%29%7D%7Dclass%20ut%7Bconstructor%28e%2Ci%29%7Bk%28this%2C%22id%22%29%3Bk%28this%2C%22rootFrame%22%29%3Bk%28this%2C%22frames%22%2C%5B%5D%29%3Bthis.id%3De%2Cthis.rootFrame%3Di%7DaddFrame%28e%29%7Bthis.frames.push%28e%29%7Dget%20exitFrames%28%29%7Bconst%20e%3D%5B%5D%3Bfor%28const%20i%20of%20this.frames%29%7Blet%20n%3D%211%3Bfor%28const%20s%20of%20i.children%29if%28s.group%21%3Dthis%29%7Bn%3D%210%3Bbreak%7Dn%26%26e.push%28i%29%7Dreturn%20e%7Dget%20libraries%28%29%7Bconst%20e%3D%5B%5D%3Bfor%28const%20i%20of%20this.frames%29%7Bconst%20n%3D/%5E%5B%5E%5C%5C/.%5D%2A/.exec%28i.filePathShort%29%5B0%5D%3Be.includes%28n%29%7C%7Ce.push%28n%29%7Dreturn%20e%7D%7Dclass%20_e%7Bconstructor%28e%2Ci%3Dnull%2Cn%3D%7Bgroups%3A%7B%7D%7D%29%7Bk%28this%2C%22function%22%29%3Bk%28this%2C%22filePath%22%29%3Bk%28this%2C%22filePathShort%22%29%3Bk%28this%2C%22lineNo%22%29%3Bk%28this%2C%22time%22%29%3Bk%28this%2C%22totalTime%22%29%3Bk%28this%2C%22awaitTime%22%29%3Bk%28this%2C%22isApplicationCode%22%29%3Bk%28this%2C%22groupId%22%29%3Bk%28this%2C%22className%22%29%3Bk%28this%2C%22parent%22%29%3Bk%28this%2C%22children%22%29%3Bk%28this%2C%22group%22%29%3Bvar%20s%2Cu%3Bif%28this.parent%3Di%2Cthis.function%3De.function%2Cthis.filePath%3De.file_path%2Cthis.filePathShort%3De.file_path_short%2Cthis.lineNo%3De.line_no%2Cthis.time%3De.time%2Cthis.totalTime%3Dthis.parent%3Fthis.parent.totalTime%3Athis.time%2Cthis.awaitTime%3De.await_time%2Cthis.isApplicationCode%3De.is_application_code%2Cthis.groupId%3D%28s%3De.group_id%29%21%3Dnull%3Fs%3Anull%2Cthis.className%3D%28u%3De.class_name%29%21%3Dnull%3Fu%3Anull%2Ce.group_id%29%7Bconst%20r%3De.group_id%3Blet%20o%3Dn.groups%5Br%5D%3Bo%7C%7C%28o%3Dn.groups%5Br%5D%3Dnew%20ut%28r%2Cthis%29%29%2Co.addFrame%28this%29%2Cthis.group%3Dn.groups%5Br%5D%7Delse%20this.group%3Dnull%3Bthis.children%3De.children.map%28r%3D%3Enew%20_e%28r%2Cthis%2Cn%29%29%7Dget%20identifier%28%29%7Breturn%60%24%7Bthis.function%7D%3A%24%7Bthis.filePath%7D%3A%24%7Bthis.lineNo%7D%60%7Dget%20proportionOfTotal%28%29%7Breturn%20this.time/this.totalTime%7D%7Dclass%20ft%7Bconstructor%28e%29%7Bk%28this%2C%22startTime%22%29%3Bk%28this%2C%22duration%22%29%3Bk%28this%2C%22sampleCount%22%29%3Bk%28this%2C%22program%22%29%3Bk%28this%2C%22cpuTime%22%29%3Bk%28this%2C%22rootFrame%22%29%3Bthis.startTime%3De.start_time%2Cthis.duration%3De.duration%2Cthis.sampleCount%3De.sample_count%2Cthis.program%3De.program%2Cthis.cpuTime%3De.cpu_time%2Cthis.rootFrame%3De.root_frame%3Fnew%20_e%28e.root_frame%29%3Anull%7D%7Dreturn%7Brender%28t%2Ce%29%7Bconst%20i%3Dnew%20ft%28e%29%3Breturn%20new%20at%28%7Btarget%3At%2Cprops%3A%7Bsession%3Ai%7D%7D%29%7D%7D%7D%28%29%3B%0A%3C/script%3E%0A%20%20%20%20%20%20%20%20%20%20%20%20%20%20%20%20%3Cstyle%3E%40import%22https%3A//fonts.googleapis.com/css%3Ffamily%3DSource%2BCode%2BPro%3A400%2C600%7CSource%2BSans%2BPro%3A400%2C600%22%3Bhtml%2Cbody%7Bbackground-color%3A%23303538%3Bcolor%3A%23fff%3Bpadding%3A0%3Bmargin%3A0%7D.margins%7Bpadding%3A0%2030px%7D.header.svelte-tewt95%7Bbackground%3A%23292f32%7D.row.svelte-tewt95%7Bdisplay%3Aflex%3Balign-items%3Acenter%7D.title.svelte-tewt95%7Bfont-size%3A34px%3Bpadding-top%3A20px%3Bpadding-bottom%3A16px%3Bwhite-space%3Anowrap%3Boverflow%3Ahidden%3Btext-overflow%3Aellipsis%3Bmargin-right%3A10px%3Bflex%3A1%7D.metrics.svelte-tewt95%7Bdisplay%3Agrid%3Bgrid-template-columns%3Aauto%20auto%20auto%20auto%20auto%20auto%3Bfont-size%3A14px%3Btext-transform%3Auppercase%3Bgrid-gap%3A1px%208px%7D.metric-label.svelte-tewt95%7Bfont-weight%3A600%3Bcolor%3A%23a9abad%7D.metric-value.svelte-tewt95%7Bcolor%3A%23737779%3Bmargin-right%3A.5em%7D.frame.svelte-1aphj50.svelte-1aphj50%7Bfont-family%3ASource%20Code%20Pro%2CRoboto%20Mono%2CConsolas%2CMonaco%2Cmonospace%3Bfont-size%3A15px%3Bz-index%3A0%3Bposition%3Arelative%3Buser-select%3Anone%7D.group-header.svelte-1aphj50.svelte-1aphj50%7Bmargin-left%3A35px%7D.group-header-button.svelte-1aphj50.svelte-1aphj50%7Bdisplay%3Ainline-block%3Bcolor%3A%23ffffff94%3Buser-select%3Anone%3Bcursor%3Adefault%3Bposition%3Arelative%7D.group-header-button.svelte-1aphj50.svelte-1aphj50%3Abefore%7Bposition%3Aabsolute%3Bleft%3A-3px%3Bright%3A-3px%3Btop%3A0px%3Bbottom%3A-1px%3Bcontent%3A%22%22%3Bz-index%3A-1%3Bbackground-color%3A%233b4043%7D.group-header-button.svelte-1aphj50.svelte-1aphj50%3Ahover%3Abefore%7Bbackground-color%3A%234a4f54%7D.group-triangle.svelte-1aphj50.svelte-1aphj50%2C.frame-triangle.svelte-1aphj50.svelte-1aphj50%7Bwidth%3A6px%3Bheight%3A10px%3Bpadding-left%3A6px%3Bpadding-right%3A5px%3Bdisplay%3Ainline-block%7D.group-triangle.rotate.svelte-1aphj50.svelte-1aphj50%2C.frame-triangle.rotate.svelte-1aphj50.svelte-1aphj50%7Btransform%3Atranslate%286px%2C4px%29%20rotate%2890deg%29%7D.frame-description.svelte-1aphj50.svelte-1aphj50%7Bdisplay%3Aflex%7D.frame-description.svelte-1aphj50.svelte-1aphj50%3Ahover%3Abefore%7Bposition%3Aabsolute%3Bleft%3A-3px%3Bright%3A-3px%3Btop%3A-1px%3Bheight%3A22px%3Bcontent%3A%22%22%3Bz-index%3A-1%3Bbackground-color%3A%23354759%3Bopacity%3A.5%7D.frame-triangle.svelte-1aphj50.svelte-1aphj50%7Bopacity%3A1%7D.frame-description.children-visible.svelte-1aphj50%20.frame-triangle.svelte-1aphj50%7Bopacity%3A0%7D.frame-description.children-visible.svelte-1aphj50%3Ahover%20.frame-triangle.svelte-1aphj50%7Bopacity%3A1%7D.name.svelte-1aphj50.svelte-1aphj50%2C.time.svelte-1aphj50.svelte-1aphj50%2C.code-position.svelte-1aphj50.svelte-1aphj50%7Buser-select%3Atext%3Bcursor%3Adefault%7D.application-code.svelte-1aphj50%20.name.svelte-1aphj50%7Bcolor%3A%235db3ff%7D.time.svelte-1aphj50.svelte-1aphj50%7Bmargin-right%3A.55em%3Bcolor%3A%23b8e98685%7D.code-position.svelte-1aphj50.svelte-1aphj50%7Bcolor%3A%23ffffff80%3Btext-align%3Aright%3Bmargin-left%3A1em%7D.visual-guide%7Btop%3A21px%3Bbottom%3A0%3Bleft%3A0%3Bwidth%3A2px%3Bbackground-color%3A%23fff%3Bposition%3Aabsolute%3Bopacity%3A.08%7D.frame-description%3Ahover~.visual-guide%7Bopacity%3A.4%7D.frame-description%3Ahover~.children%20.visual-guide%7Bopacity%3A.1%7D.app.svelte-1gm5pcf.svelte-1gm5pcf%7Bfont-family%3ASource%20Sans%20Pro%2CHelvetica%2CArial%2Csans-serif%3B-webkit-font-smoothing%3Aantialiased%3B-moz-osx-font-smoothing%3Agrayscale%7D.program.svelte-1gm5pcf.svelte-1gm5pcf%7Bfont-size%3A14px%3Bfont-weight%3A600%3Bmargin-bottom%3A16px%3Bcolor%3A%23b4b4b4%7D.program.svelte-1gm5pcf%20.label.svelte-1gm5pcf%7Bcolor%3A%23eaeaea%3Btext-transform%3Auppercase%7D%0A%3C/style%3E%0A%0A%20%20%20%20%20%20%20%20%20%20%20%20%20%20%20%20%3Cscript%3E%0A%20%20%20%20%20%20%20%20%20%20%20%20%20%20%20%20%20%20%20%20const%20sessionData%20%3D%20%7B%22start_time%22%3A%201721729039.507283%2C%22duration%22%3A%2045.878576%2C%22sample_count%22%3A%2017403%2C%22program%22%3A%20%22c%3A%5C%5Cusers%5C%5Cuser%5C%5Cappdata%5C%5Clocal%5C%5Cprograms%5C%5Cpython%5C%5Cpython39%5C%5Clib%5C%5Csite-packages%5C%5Cipykernel_launcher.py%20-f%20C%3A%5C%5CUsers%5C%5Cuser%5C%5CAppData%5C%5CRoaming%5C%5Cjupyter%5C%5Cruntime%5C%5Ckernel-1d3925b1-2dab-4fb8-a868-1f1a994bedb7.json%22%2C%22cpu_time%22%3A%2045.296875%2C%22root_frame%22%3A%20%7B%22function%22%3A%20%22%3Cmodule%3E%22%2C%22file_path_short%22%3A%20%22..%5C%5C..%5C%5C..%5C%5CTemp%5C%5Cipykernel_13500%5C%5C382335421.py%22%2C%22file_path%22%3A%20%22C%3A%5C%5CUsers%5C%5Cuser%5C%5CAppData%5C%5CLocal%5C%5CTemp%5C%5Cipykernel_13500%5C%5C382335421.py%22%2C%22line_no%22%3A%202%2C%22time%22%3A%2045.878556%2C%22await_time%22%3A%200.000000%2C%22is_application_code%22%3A%20true%2C%22children%22%3A%20%5B%7B%22function%22%3A%20%22wrapped%22%2C%22file_path_short%22%3A%20%22sklearn%5C%5Cutils%5C%5C_set_output.py%22%2C%22file_path%22%3A%20%22c%3A%5C%5Cusers%5C%5Cuser%5C%5Cappdata%5C%5Clocal%5C%5Cprograms%5C%5Cpython%5C%5Cpython39%5C%5Clib%5C%5Csite-packages%5C%5Csklearn%5C%5Cutils%5C%5C_set_output.py%22%2C%22line_no%22%3A%20138%2C%22time%22%3A%2045.878556%2C%22await_time%22%3A%200.000000%2C%22is_application_code%22%3A%20false%2C%22children%22%3A%20%5B%7B%22function%22%3A%20%22fit_transform%22%2C%22file_path_short%22%3A%20%22ptls%5C%5Cpreprocessing%5C%5Cbase%5C%5Cdata_preprocessor.py%22%2C%22file_path%22%3A%20%22D%3A%5C%5CWORK%5C%5CRepo%5C%5Cpytorch-lifestream%5C%5Cptls%5C%5Cpreprocessing%5C%5Cbase%5C%5Cdata_preprocessor.py%22%2C%22line_no%22%3A%2041%2C%22time%22%3A%2045.878556%2C%22await_time%22%3A%200.000000%2C%22is_application_code%22%3A%20true%2C%22children%22%3A%20%5B%7B%22function%22%3A%20%22wrapped%22%2C%22file_path_short%22%3A%20%22sklearn%5C%5Cutils%5C%5C_set_output.py%22%2C%22file_path%22%3A%20%22c%3A%5C%5Cusers%5C%5Cuser%5C%5Cappdata%5C%5Clocal%5C%5Cprograms%5C%5Cpython%5C%5Cpython39%5C%5Clib%5C%5Csite-packages%5C%5Csklearn%5C%5Cutils%5C%5C_set_output.py%22%2C%22line_no%22%3A%20138%2C%22time%22%3A%2045.648802%2C%22await_time%22%3A%200.000000%2C%22is_application_code%22%3A%20false%2C%22children%22%3A%20%5B%7B%22function%22%3A%20%22fit_transform%22%2C%22file_path_short%22%3A%20%22sklearn%5C%5Cbase.py%22%2C%22file_path%22%3A%20%22c%3A%5C%5Cusers%5C%5Cuser%5C%5Cappdata%5C%5Clocal%5C%5Cprograms%5C%5Cpython%5C%5Cpython39%5C%5Clib%5C%5Csite-packages%5C%5Csklearn%5C%5Cbase.py%22%2C%22line_no%22%3A%20850%2C%22time%22%3A%2045.648802%2C%22await_time%22%3A%200.000000%2C%22is_application_code%22%3A%20false%2C%22children%22%3A%20%5B%7B%22function%22%3A%20%22wrapped%22%2C%22file_path_short%22%3A%20%22sklearn%5C%5Cutils%5C%5C_set_output.py%22%2C%22file_path%22%3A%20%22c%3A%5C%5Cusers%5C%5Cuser%5C%5Cappdata%5C%5Clocal%5C%5Cprograms%5C%5Cpython%5C%5Cpython39%5C%5Clib%5C%5Csite-packages%5C%5Csklearn%5C%5Cutils%5C%5C_set_output.py%22%2C%22line_no%22%3A%20138%2C%22time%22%3A%2037.383961%2C%22await_time%22%3A%200.000000%2C%22is_application_code%22%3A%20false%2C%22children%22%3A%20%5B%7B%22function%22%3A%20%22transform%22%2C%22file_path_short%22%3A%20%22ptls%5C%5Cpreprocessing%5C%5Cpandas%5C%5Cuser_group_transformer.py%22%2C%22file_path%22%3A%20%22D%3A%5C%5CWORK%5C%5CRepo%5C%5Cpytorch-lifestream%5C%5Cptls%5C%5Cpreprocessing%5C%5Cpandas%5C%5Cuser_group_transformer.py%22%2C%22line_no%22%3A%2063%2C%22time%22%3A%2027.336341%2C%22await_time%22%3A%200.000000%2C%22is_application_code%22%3A%20true%2C%22children%22%3A%20%5B%7B%22function%22%3A%20%22apply%22%2C%22file_path_short%22%3A%20%22pandas%5C%5Ccore%5C%5Cgroupby%5C%5Cgroupby.py%22%2C%22file_path%22%3A%20%22c%3A%5C%5Cusers%5C%5Cuser%5C%5Cappdata%5C%5Clocal%5C%5Cprograms%5C%5Cpython%5C%5Cpython39%5C%5Clib%5C%5Csite-packages%5C%5Cpandas%5C%5Ccore%5C%5Cgroupby%5C%5Cgroupby.py%22%2C%22line_no%22%3A%201725%2C%22time%22%3A%2018.883042%2C%22await_time%22%3A%200.000000%2C%22is_application_code%22%3A%20false%2C%22children%22%3A%20%5B%7B%22function%22%3A%20%22_python_apply_general%22%2C%22file_path_short%22%3A%20%22pandas%5C%5Ccore%5C%5Cgroupby%5C%5Cgroupby.py%22%2C%22file_path%22%3A%20%22c%3A%5C%5Cusers%5C%5Cuser%5C%5Cappdata%5C%5Clocal%5C%5Cprograms%5C%5Cpython%5C%5Cpython39%5C%5Clib%5C%5Csite-packages%5C%5Cpandas%5C%5Ccore%5C%5Cgroupby%5C%5Cgroupby.py%22%2C%22line_no%22%3A%201780%2C%22time%22%3A%2018.840570%2C%22await_time%22%3A%200.000000%2C%22is_application_code%22%3A%20false%2C%22children%22%3A%20%5B%7B%22function%22%3A%20%22apply_groupwise%22%2C%22file_path_short%22%3A%20%22pandas%5C%5Ccore%5C%5Cgroupby%5C%5Cops.py%22%2C%22file_path%22%3A%20%22c%3A%5C%5Cusers%5C%5Cuser%5C%5Cappdata%5C%5Clocal%5C%5Cprograms%5C%5Cpython%5C%5Cpython39%5C%5Clib%5C%5Csite-packages%5C%5Cpandas%5C%5Ccore%5C%5Cgroupby%5C%5Cops.py%22%2C%22line_no%22%3A%20883%2C%22time%22%3A%2018.288857%2C%22await_time%22%3A%200.000000%2C%22is_application_code%22%3A%20false%2C%22children%22%3A%20%5B%7B%22function%22%3A%20%22df_to_feature_arrays%22%2C%22file_path_short%22%3A%20%22ptls%5C%5Cpreprocessing%5C%5Cpandas%5C%5Cuser_group_transformer.py%22%2C%22file_path%22%3A%20%22D%3A%5C%5CWORK%5C%5CRepo%5C%5Cpytorch-lifestream%5C%5Cptls%5C%5Cpreprocessing%5C%5Cpandas%5C%5Cuser_group_transformer.py%22%2C%22line_no%22%3A%2049%2C%22time%22%3A%2014.339667%2C%22await_time%22%3A%200.000000%2C%22is_application_code%22%3A%20true%2C%22children%22%3A%20%5B%7B%22function%22%3A%20%22__init__%22%2C%22file_path_short%22%3A%20%22pandas%5C%5Ccore%5C%5Cseries.py%22%2C%22file_path%22%3A%20%22c%3A%5C%5Cusers%5C%5Cuser%5C%5Cappdata%5C%5Clocal%5C%5Cprograms%5C%5Cpython%5C%5Cpython39%5C%5Clib%5C%5Csite-packages%5C%5Cpandas%5C%5Ccore%5C%5Cseries.py%22%2C%22line_no%22%3A%20371%2C%22time%22%3A%207.433835%2C%22await_time%22%3A%200.000000%2C%22is_application_code%22%3A%20false%2C%22children%22%3A%20%5B%7B%22function%22%3A%20%22_init_dict%22%2C%22file_path_short%22%3A%20%22pandas%5C%5Ccore%5C%5Cseries.py%22%2C%22file_path%22%3A%20%22c%3A%5C%5Cusers%5C%5Cuser%5C%5Cappdata%5C%5Clocal%5C%5Cprograms%5C%5Cpython%5C%5Cpython39%5C%5Clib%5C%5Csite-packages%5C%5Cpandas%5C%5Ccore%5C%5Cseries.py%22%2C%22line_no%22%3A%20524%2C%22time%22%3A%206.807524%2C%22await_time%22%3A%200.000000%2C%22is_application_code%22%3A%20false%2C%22children%22%3A%20%5B%7B%22function%22%3A%20%22__init__%22%2C%22file_path_short%22%3A%20%22pandas%5C%5Ccore%5C%5Cseries.py%22%2C%22file_path%22%3A%20%22c%3A%5C%5Cusers%5C%5Cuser%5C%5Cappdata%5C%5Clocal%5C%5Cprograms%5C%5Cpython%5C%5Cpython39%5C%5Clib%5C%5Csite-packages%5C%5Cpandas%5C%5Ccore%5C%5Cseries.py%22%2C%22line_no%22%3A%20371%2C%22time%22%3A%206.701491%2C%22await_time%22%3A%200.000000%2C%22is_application_code%22%3A%20false%2C%22children%22%3A%20%5B%7B%22function%22%3A%20%22sanitize_array%22%2C%22file_path_short%22%3A%20%22pandas%5C%5Ccore%5C%5Cconstruction.py%22%2C%22file_path%22%3A%20%22c%3A%5C%5Cusers%5C%5Cuser%5C%5Cappdata%5C%5Clocal%5C%5Cprograms%5C%5Cpython%5C%5Cpython39%5C%5Clib%5C%5Csite-packages%5C%5Cpandas%5C%5Ccore%5C%5Cconstruction.py%22%2C%22line_no%22%3A%20518%2C%22time%22%3A%203.407478%2C%22await_time%22%3A%200.000000%2C%22is_application_code%22%3A%20false%2C%22children%22%3A%20%5B%7B%22function%22%3A%20%22maybe_convert_platform%22%2C%22file_path_short%22%3A%20%22pandas%5C%5Ccore%5C%5Cdtypes%5C%5Ccast.py%22%2C%22file_path%22%3A%20%22c%3A%5C%5Cusers%5C%5Cuser%5C%5Cappdata%5C%5Clocal%5C%5Cprograms%5C%5Cpython%5C%5Cpython39%5C%5Clib%5C%5Csite-packages%5C%5Cpandas%5C%5Ccore%5C%5Cdtypes%5C%5Ccast.py%22%2C%22line_no%22%3A%20119%2C%22time%22%3A%202.902131%2C%22await_time%22%3A%200.000000%2C%22is_application_code%22%3A%20false%2C%22children%22%3A%20%5B%7B%22function%22%3A%20%22construct_1d_object_array_from_listlike%22%2C%22file_path_short%22%3A%20%22pandas%5C%5Ccore%5C%5Cdtypes%5C%5Ccast.py%22%2C%22file_path%22%3A%20%22c%3A%5C%5Cusers%5C%5Cuser%5C%5Cappdata%5C%5Clocal%5C%5Cprograms%5C%5Cpython%5C%5Cpython39%5C%5Clib%5C%5Csite-packages%5C%5Cpandas%5C%5Ccore%5C%5Cdtypes%5C%5Ccast.py%22%2C%22line_no%22%3A%201544%2C%22time%22%3A%202.577603%2C%22await_time%22%3A%200.000000%2C%22is_application_code%22%3A%20false%2C%22children%22%3A%20%5B%7B%22function%22%3A%20%22__array__%22%2C%22file_path_short%22%3A%20%22torch%5C%5C_tensor.py%22%2C%22file_path%22%3A%20%22c%3A%5C%5Cusers%5C%5Cuser%5C%5Cappdata%5C%5Clocal%5C%5Cprograms%5C%5Cpython%5C%5Cpython39%5C%5Clib%5C%5Csite-packages%5C%5Ctorch%5C%5C_tensor.py%22%2C%22line_no%22%3A%20966%2C%22time%22%3A%201.984322%2C%22await_time%22%3A%200.000000%2C%22is_application_code%22%3A%20false%2C%22children%22%3A%20%5B%7B%22function%22%3A%20%22ndarray.astype%22%2C%22file_path_short%22%3A%20%22%3Cbuilt-in%3E%22%2C%22file_path%22%3A%20%22%3Cbuilt-in%3E%22%2C%22line_no%22%3A%200%2C%22time%22%3A%201.321433%2C%22await_time%22%3A%200.000000%2C%22is_application_code%22%3A%20false%2C%22children%22%3A%20%5B%5D%2C%22group_id%22%3A%20%22c237096a-75ff-4ccc-8e3e-023d5250e0c1%22%7D%5D%2C%22group_id%22%3A%20%22c237096a-75ff-4ccc-8e3e-023d5250e0c1%22%2C%22class_name%22%3A%20%22Tensor%22%7D%2C%7B%22function%22%3A%20%22%5Bself%5D%22%2C%22file_path_short%22%3A%20%22pandas%5C%5Ccore%5C%5Cdtypes%5C%5Ccast.py%22%2C%22file_path%22%3A%20%22%22%2C%22line_no%22%3A%200%2C%22time%22%3A%200.551236%2C%22await_time%22%3A%200.000000%2C%22is_application_code%22%3A%20false%2C%22children%22%3A%20%5B%5D%2C%22group_id%22%3A%20%22c237096a-75ff-4ccc-8e3e-023d5250e0c1%22%7D%5D%2C%22group_id%22%3A%20%22c237096a-75ff-4ccc-8e3e-023d5250e0c1%22%7D%5D%2C%22group_id%22%3A%20%22c237096a-75ff-4ccc-8e3e-023d5250e0c1%22%7D%5D%2C%22group_id%22%3A%20%22c237096a-75ff-4ccc-8e3e-023d5250e0c1%22%7D%2C%7B%22function%22%3A%20%22ensure_index%22%2C%22file_path_short%22%3A%20%22pandas%5C%5Ccore%5C%5Cindexes%5C%5Cbase.py%22%2C%22file_path%22%3A%20%22c%3A%5C%5Cusers%5C%5Cuser%5C%5Cappdata%5C%5Clocal%5C%5Cprograms%5C%5Cpython%5C%5Cpython39%5C%5Clib%5C%5Csite-packages%5C%5Cpandas%5C%5Ccore%5C%5Cindexes%5C%5Cbase.py%22%2C%22line_no%22%3A%207512%2C%22time%22%3A%201.817461%2C%22await_time%22%3A%200.000000%2C%22is_application_code%22%3A%20false%2C%22children%22%3A%20%5B%7B%22function%22%3A%20%22__new__%22%2C%22file_path_short%22%3A%20%22pandas%5C%5Ccore%5C%5Cindexes%5C%5Cbase.py%22%2C%22file_path%22%3A%20%22c%3A%5C%5Cusers%5C%5Cuser%5C%5Cappdata%5C%5Clocal%5C%5Cprograms%5C%5Cpython%5C%5Cpython39%5C%5Clib%5C%5Csite-packages%5C%5Cpandas%5C%5Ccore%5C%5Cindexes%5C%5Cbase.py%22%2C%22line_no%22%3A%20477%2C%22time%22%3A%201.758410%2C%22await_time%22%3A%200.000000%2C%22is_application_code%22%3A%20false%2C%22children%22%3A%20%5B%7B%22function%22%3A%20%22sanitize_array%22%2C%22file_path_short%22%3A%20%22pandas%5C%5Ccore%5C%5Cconstruction.py%22%2C%22file_path%22%3A%20%22c%3A%5C%5Cusers%5C%5Cuser%5C%5Cappdata%5C%5Clocal%5C%5Cprograms%5C%5Cpython%5C%5Cpython39%5C%5Clib%5C%5Csite-packages%5C%5Cpandas%5C%5Ccore%5C%5Cconstruction.py%22%2C%22line_no%22%3A%20518%2C%22time%22%3A%201.099691%2C%22await_time%22%3A%200.000000%2C%22is_application_code%22%3A%20false%2C%22children%22%3A%20%5B%7B%22function%22%3A%20%22maybe_convert_platform%22%2C%22file_path_short%22%3A%20%22pandas%5C%5Ccore%5C%5Cdtypes%5C%5Ccast.py%22%2C%22file_path%22%3A%20%22c%3A%5C%5Cusers%5C%5Cuser%5C%5Cappdata%5C%5Clocal%5C%5Cprograms%5C%5Cpython%5C%5Cpython39%5C%5Clib%5C%5Csite-packages%5C%5Cpandas%5C%5Ccore%5C%5Cdtypes%5C%5Ccast.py%22%2C%22line_no%22%3A%20119%2C%22time%22%3A%200.537822%2C%22await_time%22%3A%200.000000%2C%22is_application_code%22%3A%20false%2C%22children%22%3A%20%5B%5D%2C%22group_id%22%3A%20%22c237096a-75ff-4ccc-8e3e-023d5250e0c1%22%7D%5D%2C%22group_id%22%3A%20%22c237096a-75ff-4ccc-8e3e-023d5250e0c1%22%7D%5D%2C%22group_id%22%3A%20%22c237096a-75ff-4ccc-8e3e-023d5250e0c1%22%2C%22class_name%22%3A%20%22Index%22%7D%5D%2C%22group_id%22%3A%20%22c237096a-75ff-4ccc-8e3e-023d5250e0c1%22%7D%5D%2C%22group_id%22%3A%20%22c237096a-75ff-4ccc-8e3e-023d5250e0c1%22%2C%22class_name%22%3A%20%22Series%22%7D%5D%2C%22group_id%22%3A%20%22c237096a-75ff-4ccc-8e3e-023d5250e0c1%22%2C%22class_name%22%3A%20%22Series%22%7D%5D%2C%22group_id%22%3A%20%22c237096a-75ff-4ccc-8e3e-023d5250e0c1%22%2C%22class_name%22%3A%20%22Series%22%7D%2C%7B%22function%22%3A%20%22%3Cdictcomp%3E%22%2C%22file_path_short%22%3A%20%22ptls%5C%5Cpreprocessing%5C%5Cpandas%5C%5Cuser_group_transformer.py%22%2C%22file_path%22%3A%20%22D%3A%5C%5CWORK%5C%5CRepo%5C%5Cpytorch-lifestream%5C%5Cptls%5C%5Cpreprocessing%5C%5Cpandas%5C%5Cuser_group_transformer.py%22%2C%22line_no%22%3A%2060%2C%22time%22%3A%203.429171%2C%22await_time%22%3A%200.000000%2C%22is_application_code%22%3A%20true%2C%22children%22%3A%20%5B%7B%22function%22%3A%20%22decide%22%2C%22file_path_short%22%3A%20%22ptls%5C%5Cpreprocessing%5C%5Cpandas%5C%5Cuser_group_transformer.py%22%2C%22file_path%22%3A%20%22D%3A%5C%5CWORK%5C%5CRepo%5C%5Cpytorch-lifestream%5C%5Cptls%5C%5Cpreprocessing%5C%5Cpandas%5C%5Cuser_group_transformer.py%22%2C%22line_no%22%3A%2050%2C%22time%22%3A%203.358168%2C%22await_time%22%3A%200.000000%2C%22is_application_code%22%3A%20true%2C%22children%22%3A%20%5B%7B%22function%22%3A%20%22__getitem__%22%2C%22file_path_short%22%3A%20%22pandas%5C%5Ccore%5C%5Cindexing.py%22%2C%22file_path%22%3A%20%22c%3A%5C%5Cusers%5C%5Cuser%5C%5Cappdata%5C%5Clocal%5C%5Cprograms%5C%5Cpython%5C%5Cpython39%5C%5Clib%5C%5Csite-packages%5C%5Cpandas%5C%5Ccore%5C%5Cindexing.py%22%2C%22line_no%22%3A%201139%2C%22time%22%3A%201.995816%2C%22await_time%22%3A%200.000000%2C%22is_application_code%22%3A%20false%2C%22children%22%3A%20%5B%7B%22function%22%3A%20%22_getitem_axis%22%2C%22file_path_short%22%3A%20%22pandas%5C%5Ccore%5C%5Cindexing.py%22%2C%22file_path%22%3A%20%22c%3A%5C%5Cusers%5C%5Cuser%5C%5Cappdata%5C%5Clocal%5C%5Cprograms%5C%5Cpython%5C%5Cpython39%5C%5Clib%5C%5Csite-packages%5C%5Cpandas%5C%5Ccore%5C%5Cindexing.py%22%2C%22line_no%22%3A%201681%2C%22time%22%3A%201.683654%2C%22await_time%22%3A%200.000000%2C%22is_application_code%22%3A%20false%2C%22children%22%3A%20%5B%7B%22function%22%3A%20%22_validate_integer%22%2C%22file_path_short%22%3A%20%22pandas%5C%5Ccore%5C%5Cindexing.py%22%2C%22file_path%22%3A%20%22c%3A%5C%5Cusers%5C%5Cuser%5C%5Cappdata%5C%5Clocal%5C%5Cprograms%5C%5Cpython%5C%5Cpython39%5C%5Clib%5C%5Csite-packages%5C%5Cpandas%5C%5Ccore%5C%5Cindexing.py%22%2C%22line_no%22%3A%201629%2C%22time%22%3A%200.502296%2C%22await_time%22%3A%200.000000%2C%22is_application_code%22%3A%20false%2C%22children%22%3A%20%5B%5D%2C%22group_id%22%3A%20%22f6206b14-3268-4c1e-b61d-87fb8e8a6447%22%2C%22class_name%22%3A%20%22_iLocIndexer%22%7D%5D%2C%22group_id%22%3A%20%22f6206b14-3268-4c1e-b61d-87fb8e8a6447%22%2C%22class_name%22%3A%20%22_iLocIndexer%22%7D%5D%2C%22group_id%22%3A%20%22f6206b14-3268-4c1e-b61d-87fb8e8a6447%22%2C%22class_name%22%3A%20%22_iLocIndexer%22%7D%5D%7D%5D%7D%2C%7B%22function%22%3A%20%22to_dict%22%2C%22file_path_short%22%3A%20%22pandas%5C%5Ccore%5C%5Cframe.py%22%2C%22file_path%22%3A%20%22c%3A%5C%5Cusers%5C%5Cuser%5C%5Cappdata%5C%5Clocal%5C%5Cprograms%5C%5Cpython%5C%5Cpython39%5C%5Clib%5C%5Csite-packages%5C%5Cpandas%5C%5Ccore%5C%5Cframe.py%22%2C%22line_no%22%3A%201932%2C%22time%22%3A%203.384577%2C%22await_time%22%3A%200.000000%2C%22is_application_code%22%3A%20false%2C%22children%22%3A%20%5B%7B%22function%22%3A%20%22to_dict%22%2C%22file_path_short%22%3A%20%22pandas%5C%5Ccore%5C%5Cmethods%5C%5Cto_dict.py%22%2C%22file_path%22%3A%20%22c%3A%5C%5Cusers%5C%5Cuser%5C%5Cappdata%5C%5Clocal%5C%5Cprograms%5C%5Cpython%5C%5Cpython39%5C%5Clib%5C%5Csite-packages%5C%5Cpandas%5C%5Ccore%5C%5Cmethods%5C%5Cto_dict.py%22%2C%22line_no%22%3A%2022%2C%22time%22%3A%203.312363%2C%22await_time%22%3A%200.000000%2C%22is_application_code%22%3A%20false%2C%22children%22%3A%20%5B%7B%22function%22%3A%20%22%3Cgenexpr%3E%22%2C%22file_path_short%22%3A%20%22pandas%5C%5Ccore%5C%5Cmethods%5C%5Cto_dict.py%22%2C%22file_path%22%3A%20%22c%3A%5C%5Cusers%5C%5Cuser%5C%5Cappdata%5C%5Clocal%5C%5Cprograms%5C%5Cpython%5C%5Cpython39%5C%5Clib%5C%5Csite-packages%5C%5Cpandas%5C%5Ccore%5C%5Cmethods%5C%5Cto_dict.py%22%2C%22line_no%22%3A%2096%2C%22time%22%3A%203.107259%2C%22await_time%22%3A%200.000000%2C%22is_application_code%22%3A%20false%2C%22children%22%3A%20%5B%7B%22function%22%3A%20%22items%22%2C%22file_path_short%22%3A%20%22pandas%5C%5Ccore%5C%5Cframe.py%22%2C%22file_path%22%3A%20%22c%3A%5C%5Cusers%5C%5Cuser%5C%5Cappdata%5C%5Clocal%5C%5Cprograms%5C%5Cpython%5C%5Cpython39%5C%5Clib%5C%5Csite-packages%5C%5Cpandas%5C%5Ccore%5C%5Cframe.py%22%2C%22line_no%22%3A%201395%2C%22time%22%3A%203.056220%2C%22await_time%22%3A%200.000000%2C%22is_application_code%22%3A%20false%2C%22children%22%3A%20%5B%7B%22function%22%3A%20%22_get_item_cache%22%2C%22file_path_short%22%3A%20%22pandas%5C%5Ccore%5C%5Cframe.py%22%2C%22file_path%22%3A%20%22c%3A%5C%5Cusers%5C%5Cuser%5C%5Cappdata%5C%5Clocal%5C%5Cprograms%5C%5Cpython%5C%5Cpython39%5C%5Clib%5C%5Csite-packages%5C%5Cpandas%5C%5Ccore%5C%5Cframe.py%22%2C%22line_no%22%3A%204405%2C%22time%22%3A%202.879146%2C%22await_time%22%3A%200.000000%2C%22is_application_code%22%3A%20false%2C%22children%22%3A%20%5B%7B%22function%22%3A%20%22_ixs%22%2C%22file_path_short%22%3A%20%22pandas%5C%5Ccore%5C%5Cframe.py%22%2C%22file_path%22%3A%20%22c%3A%5C%5Cusers%5C%5Cuser%5C%5Cappdata%5C%5Clocal%5C%5Cprograms%5C%5Cpython%5C%5Cpython39%5C%5Clib%5C%5Csite-packages%5C%5Cpandas%5C%5Ccore%5C%5Cframe.py%22%2C%22line_no%22%3A%203779%2C%22time%22%3A%202.423853%2C%22await_time%22%3A%200.000000%2C%22is_application_code%22%3A%20false%2C%22children%22%3A%20%5B%7B%22function%22%3A%20%22_box_col_values%22%2C%22file_path_short%22%3A%20%22pandas%5C%5Ccore%5C%5Cframe.py%22%2C%22file_path%22%3A%20%22c%3A%5C%5Cusers%5C%5Cuser%5C%5Cappdata%5C%5Clocal%5C%5Cprograms%5C%5Cpython%5C%5Cpython39%5C%5Clib%5C%5Csite-packages%5C%5Cpandas%5C%5Ccore%5C%5Cframe.py%22%2C%22line_no%22%3A%204387%2C%22time%22%3A%201.258947%2C%22await_time%22%3A%200.000000%2C%22is_application_code%22%3A%20false%2C%22children%22%3A%20%5B%7B%22function%22%3A%20%22_constructor_sliced_from_mgr%22%2C%22file_path_short%22%3A%20%22pandas%5C%5Ccore%5C%5Cframe.py%22%2C%22file_path%22%3A%20%22c%3A%5C%5Cusers%5C%5Cuser%5C%5Cappdata%5C%5Clocal%5C%5Cprograms%5C%5Cpython%5C%5Cpython39%5C%5Clib%5C%5Csite-packages%5C%5Cpandas%5C%5Ccore%5C%5Cframe.py%22%2C%22line_no%22%3A%20656%2C%22time%22%3A%200.579620%2C%22await_time%22%3A%200.000000%2C%22is_application_code%22%3A%20false%2C%22children%22%3A%20%5B%5D%2C%22group_id%22%3A%20%229ff9bb17-557a-4d7e-8be0-d43ee0817ada%22%2C%22class_name%22%3A%20%22DataFrame%22%7D%5D%2C%22group_id%22%3A%20%229ff9bb17-557a-4d7e-8be0-d43ee0817ada%22%2C%22class_name%22%3A%20%22DataFrame%22%7D%2C%7B%22function%22%3A%20%22iget%22%2C%22file_path_short%22%3A%20%22pandas%5C%5Ccore%5C%5Cinternals%5C%5Cmanagers.py%22%2C%22file_path%22%3A%20%22c%3A%5C%5Cusers%5C%5Cuser%5C%5Cappdata%5C%5Clocal%5C%5Cprograms%5C%5Cpython%5C%5Cpython39%5C%5Clib%5C%5Csite-packages%5C%5Cpandas%5C%5Ccore%5C%5Cinternals%5C%5Cmanagers.py%22%2C%22line_no%22%3A%20991%2C%22time%22%3A%200.635598%2C%22await_time%22%3A%200.000000%2C%22is_application_code%22%3A%20false%2C%22children%22%3A%20%5B%7B%22function%22%3A%20%22%5Bself%5D%22%2C%22file_path_short%22%3A%20%22pandas%5C%5Ccore%5C%5Cinternals%5C%5Cmanagers.py%22%2C%22file_path%22%3A%20%22%22%2C%22line_no%22%3A%200%2C%22time%22%3A%200.462558%2C%22await_time%22%3A%200.000000%2C%22is_application_code%22%3A%20false%2C%22children%22%3A%20%5B%5D%2C%22group_id%22%3A%20%229ff9bb17-557a-4d7e-8be0-d43ee0817ada%22%7D%5D%2C%22group_id%22%3A%20%229ff9bb17-557a-4d7e-8be0-d43ee0817ada%22%2C%22class_name%22%3A%20%22BlockManager%22%7D%5D%2C%22group_id%22%3A%20%229ff9bb17-557a-4d7e-8be0-d43ee0817ada%22%2C%22class_name%22%3A%20%22DataFrame%22%7D%5D%2C%22group_id%22%3A%20%229ff9bb17-557a-4d7e-8be0-d43ee0817ada%22%2C%22class_name%22%3A%20%22DataFrame%22%7D%5D%2C%22group_id%22%3A%20%229ff9bb17-557a-4d7e-8be0-d43ee0817ada%22%2C%22class_name%22%3A%20%22DataFrame%22%7D%5D%2C%22group_id%22%3A%20%229ff9bb17-557a-4d7e-8be0-d43ee0817ada%22%7D%5D%2C%22group_id%22%3A%20%229ff9bb17-557a-4d7e-8be0-d43ee0817ada%22%7D%5D%2C%22group_id%22%3A%20%229ff9bb17-557a-4d7e-8be0-d43ee0817ada%22%2C%22class_name%22%3A%20%22DataFrame%22%7D%5D%2C%22class_name%22%3A%20%22UserGroupTransformer%22%7D%2C%7B%22function%22%3A%20%22__iter__%22%2C%22file_path_short%22%3A%20%22pandas%5C%5Ccore%5C%5Cgroupby%5C%5Cops.py%22%2C%22file_path%22%3A%20%22c%3A%5C%5Cusers%5C%5Cuser%5C%5Cappdata%5C%5Clocal%5C%5Cprograms%5C%5Cpython%5C%5Cpython39%5C%5Clib%5C%5Csite-packages%5C%5Cpandas%5C%5Ccore%5C%5Cgroupby%5C%5Cops.py%22%2C%22line_no%22%3A%201138%2C%22time%22%3A%203.228138%2C%22await_time%22%3A%200.000000%2C%22is_application_code%22%3A%20false%2C%22children%22%3A%20%5B%7B%22function%22%3A%20%22_chop%22%2C%22file_path_short%22%3A%20%22pandas%5C%5Ccore%5C%5Cgroupby%5C%5Cops.py%22%2C%22file_path%22%3A%20%22c%3A%5C%5Cusers%5C%5Cuser%5C%5Cappdata%5C%5Clocal%5C%5Cprograms%5C%5Cpython%5C%5Cpython39%5C%5Clib%5C%5Csite-packages%5C%5Cpandas%5C%5Ccore%5C%5Cgroupby%5C%5Cops.py%22%2C%22line_no%22%3A%201169%2C%22time%22%3A%202.634577%2C%22await_time%22%3A%200.000000%2C%22is_application_code%22%3A%20false%2C%22children%22%3A%20%5B%7B%22function%22%3A%20%22_getitem_slice%22%2C%22file_path_short%22%3A%20%22pandas%5C%5Ccore%5C%5Cindexes%5C%5Cmulti.py%22%2C%22file_path%22%3A%20%22c%3A%5C%5Cusers%5C%5Cuser%5C%5Cappdata%5C%5Clocal%5C%5Cprograms%5C%5Cpython%5C%5Cpython39%5C%5Clib%5C%5Csite-packages%5C%5Cpandas%5C%5Ccore%5C%5Cindexes%5C%5Cmulti.py%22%2C%22line_no%22%3A%202094%2C%22time%22%3A%201.986726%2C%22await_time%22%3A%200.000000%2C%22is_application_code%22%3A%20false%2C%22children%22%3A%20%5B%7B%22function%22%3A%20%22__new__%22%2C%22file_path_short%22%3A%20%22pandas%5C%5Ccore%5C%5Cindexes%5C%5Cmulti.py%22%2C%22file_path%22%3A%20%22c%3A%5C%5Cusers%5C%5Cuser%5C%5Cappdata%5C%5Clocal%5C%5Cprograms%5C%5Cpython%5C%5Cpython39%5C%5Clib%5C%5Csite-packages%5C%5Cpandas%5C%5Ccore%5C%5Cindexes%5C%5Cmulti.py%22%2C%22line_no%22%3A%20323%2C%22time%22%3A%201.853631%2C%22await_time%22%3A%200.000000%2C%22is_application_code%22%3A%20false%2C%22children%22%3A%20%5B%7B%22function%22%3A%20%22_set_levels%22%2C%22file_path_short%22%3A%20%22pandas%5C%5Ccore%5C%5Cindexes%5C%5Cmulti.py%22%2C%22file_path%22%3A%20%22c%3A%5C%5Cusers%5C%5Cuser%5C%5Cappdata%5C%5Clocal%5C%5Cprograms%5C%5Cpython%5C%5Cpython39%5C%5Clib%5C%5Csite-packages%5C%5Cpandas%5C%5Ccore%5C%5Cindexes%5C%5Cmulti.py%22%2C%22line_no%22%3A%20853%2C%22time%22%3A%200.981446%2C%22await_time%22%3A%200.000000%2C%22is_application_code%22%3A%20false%2C%22children%22%3A%20%5B%7B%22function%22%3A%20%22%5Bself%5D%22%2C%22file_path_short%22%3A%20%22pandas%5C%5Ccore%5C%5Cindexes%5C%5Cmulti.py%22%2C%22file_path%22%3A%20%22%22%2C%22line_no%22%3A%200%2C%22time%22%3A%200.635323%2C%22await_time%22%3A%200.000000%2C%22is_application_code%22%3A%20false%2C%22children%22%3A%20%5B%5D%2C%22group_id%22%3A%20%228a5c5493-1603-4024-a1f8-4df3a8386922%22%7D%5D%2C%22group_id%22%3A%20%228a5c5493-1603-4024-a1f8-4df3a8386922%22%2C%22class_name%22%3A%20%22bool%22%7D%5D%2C%22group_id%22%3A%20%228a5c5493-1603-4024-a1f8-4df3a8386922%22%2C%22class_name%22%3A%20%22MultiIndex%22%7D%5D%2C%22group_id%22%3A%20%228a5c5493-1603-4024-a1f8-4df3a8386922%22%2C%22class_name%22%3A%20%22MultiIndex%22%7D%5D%2C%22group_id%22%3A%20%228a5c5493-1603-4024-a1f8-4df3a8386922%22%2C%22class_name%22%3A%20%22FrameSplitter%22%7D%2C%7B%22function%22%3A%20%22_sorted_data%22%2C%22file_path_short%22%3A%20%22pandas%5C%5Ccore%5C%5Cgroupby%5C%5Cops.py%22%2C%22file_path%22%3A%20%22c%3A%5C%5Cusers%5C%5Cuser%5C%5Cappdata%5C%5Clocal%5C%5Cprograms%5C%5Cpython%5C%5Cpython39%5C%5Clib%5C%5Csite-packages%5C%5Cpandas%5C%5Ccore%5C%5Cgroupby%5C%5Cops.py%22%2C%22line_no%22%3A%201151%2C%22time%22%3A%200.534799%2C%22await_time%22%3A%200.000000%2C%22is_application_code%22%3A%20false%2C%22children%22%3A%20%5B%7B%22function%22%3A%20%22take%22%2C%22file_path_short%22%3A%20%22pandas%5C%5Ccore%5C%5Cgeneric.py%22%2C%22file_path%22%3A%20%22c%3A%5C%5Cusers%5C%5Cuser%5C%5Cappdata%5C%5Clocal%5C%5Cprograms%5C%5Cpython%5C%5Cpython39%5C%5Clib%5C%5Csite-packages%5C%5Cpandas%5C%5Ccore%5C%5Cgeneric.py%22%2C%22line_no%22%3A%203962%2C%22time%22%3A%200.534799%2C%22await_time%22%3A%200.000000%2C%22is_application_code%22%3A%20false%2C%22children%22%3A%20%5B%7B%22function%22%3A%20%22take%22%2C%22file_path_short%22%3A%20%22pandas%5C%5Ccore%5C%5Cinternals%5C%5Cmanagers.py%22%2C%22file_path%22%3A%20%22c%3A%5C%5Cusers%5C%5Cuser%5C%5Cappdata%5C%5Clocal%5C%5Cprograms%5C%5Cpython%5C%5Cpython39%5C%5Clib%5C%5Csite-packages%5C%5Cpandas%5C%5Ccore%5C%5Cinternals%5C%5Cmanagers.py%22%2C%22line_no%22%3A%20852%2C%22time%22%3A%200.534799%2C%22await_time%22%3A%200.000000%2C%22is_application_code%22%3A%20false%2C%22children%22%3A%20%5B%5D%2C%22group_id%22%3A%20%228a5c5493-1603-4024-a1f8-4df3a8386922%22%2C%22class_name%22%3A%20%22BlockManager%22%7D%5D%2C%22group_id%22%3A%20%228a5c5493-1603-4024-a1f8-4df3a8386922%22%2C%22class_name%22%3A%20%22DataFrame%22%7D%5D%2C%22group_id%22%3A%20%228a5c5493-1603-4024-a1f8-4df3a8386922%22%2C%22class_name%22%3A%20%22FrameSplitter%22%7D%5D%2C%22group_id%22%3A%20%228a5c5493-1603-4024-a1f8-4df3a8386922%22%2C%22class_name%22%3A%20%22FrameSplitter%22%7D%2C%7B%22function%22%3A%20%22_get_splitter%22%2C%22file_path_short%22%3A%20%22pandas%5C%5Ccore%5C%5Cgroupby%5C%5Cops.py%22%2C%22file_path%22%3A%20%22c%3A%5C%5Cusers%5C%5Cuser%5C%5Cappdata%5C%5Clocal%5C%5Cprograms%5C%5Cpython%5C%5Cpython39%5C%5Clib%5C%5Csite-packages%5C%5Cpandas%5C%5Ccore%5C%5Cgroupby%5C%5Cops.py%22%2C%22line_no%22%3A%20606%2C%22time%22%3A%200.484350%2C%22await_time%22%3A%200.000000%2C%22is_application_code%22%3A%20false%2C%22children%22%3A%20%5B%5D%2C%22group_id%22%3A%20%228a5c5493-1603-4024-a1f8-4df3a8386922%22%2C%22class_name%22%3A%20%22BaseGrouper%22%7D%5D%2C%22group_id%22%3A%20%228a5c5493-1603-4024-a1f8-4df3a8386922%22%2C%22class_name%22%3A%20%22BaseGrouper%22%7D%2C%7B%22function%22%3A%20%22_wrap_applied_output%22%2C%22file_path_short%22%3A%20%22pandas%5C%5Ccore%5C%5Cgroupby%5C%5Cgeneric.py%22%2C%22file_path%22%3A%20%22c%3A%5C%5Cusers%5C%5Cuser%5C%5Cappdata%5C%5Clocal%5C%5Cprograms%5C%5Cpython%5C%5Cpython39%5C%5Clib%5C%5Csite-packages%5C%5Cpandas%5C%5Ccore%5C%5Cgroupby%5C%5Cgeneric.py%22%2C%22line_no%22%3A%201568%2C%22time%22%3A%200.544379%2C%22await_time%22%3A%200.000000%2C%22is_application_code%22%3A%20false%2C%22children%22%3A%20%5B%7B%22function%22%3A%20%22_wrap_applied_output_series%22%2C%22file_path_short%22%3A%20%22pandas%5C%5Ccore%5C%5Cgroupby%5C%5Cgeneric.py%22%2C%22file_path%22%3A%20%22c%3A%5C%5Cusers%5C%5Cuser%5C%5Cappdata%5C%5Clocal%5C%5Cprograms%5C%5Cpython%5C%5Cpython39%5C%5Clib%5C%5Csite-packages%5C%5Cpandas%5C%5Ccore%5C%5Cgroupby%5C%5Cgeneric.py%22%2C%22line_no%22%3A%201638%2C%22time%22%3A%200.540387%2C%22await_time%22%3A%200.000000%2C%22is_application_code%22%3A%20false%2C%22children%22%3A%20%5B%5D%2C%22group_id%22%3A%20%228a5c5493-1603-4024-a1f8-4df3a8386922%22%2C%22class_name%22%3A%20%22DataFrameGroupBy%22%7D%5D%2C%22group_id%22%3A%20%228a5c5493-1603-4024-a1f8-4df3a8386922%22%2C%22class_name%22%3A%20%22DataFrameGroupBy%22%7D%5D%2C%22group_id%22%3A%20%228a5c5493-1603-4024-a1f8-4df3a8386922%22%2C%22class_name%22%3A%20%22DataFrameGroupBy%22%7D%5D%2C%22group_id%22%3A%20%228a5c5493-1603-4024-a1f8-4df3a8386922%22%2C%22class_name%22%3A%20%22DataFrameGroupBy%22%7D%2C%7B%22function%22%3A%20%22sort_index%22%2C%22file_path_short%22%3A%20%22pandas%5C%5Ccore%5C%5Cframe.py%22%2C%22file_path%22%3A%20%22c%3A%5C%5Cusers%5C%5Cuser%5C%5Cappdata%5C%5Clocal%5C%5Cprograms%5C%5Cpython%5C%5Cpython39%5C%5Clib%5C%5Csite-packages%5C%5Cpandas%5C%5Ccore%5C%5Cframe.py%22%2C%22line_no%22%3A%207040%2C%22time%22%3A%205.305868%2C%22await_time%22%3A%200.000000%2C%22is_application_code%22%3A%20false%2C%22children%22%3A%20%5B%7B%22function%22%3A%20%22sort_index%22%2C%22file_path_short%22%3A%20%22pandas%5C%5Ccore%5C%5Cgeneric.py%22%2C%22file_path%22%3A%20%22c%3A%5C%5Cusers%5C%5Cuser%5C%5Cappdata%5C%5Clocal%5C%5Cprograms%5C%5Cpython%5C%5Cpython39%5C%5Clib%5C%5Csite-packages%5C%5Cpandas%5C%5Ccore%5C%5Cgeneric.py%22%2C%22line_no%22%3A%205213%2C%22time%22%3A%205.292189%2C%22await_time%22%3A%200.000000%2C%22is_application_code%22%3A%20false%2C%22children%22%3A%20%5B%7B%22function%22%3A%20%22get_indexer_indexer%22%2C%22file_path_short%22%3A%20%22pandas%5C%5Ccore%5C%5Csorting.py%22%2C%22file_path%22%3A%20%22c%3A%5C%5Cusers%5C%5Cuser%5C%5Cappdata%5C%5Clocal%5C%5Cprograms%5C%5Cpython%5C%5Cpython39%5C%5Clib%5C%5Csite-packages%5C%5Cpandas%5C%5Ccore%5C%5Csorting.py%22%2C%22line_no%22%3A%2059%2C%22time%22%3A%204.350835%2C%22await_time%22%3A%200.000000%2C%22is_application_code%22%3A%20false%2C%22children%22%3A%20%5B%7B%22function%22%3A%20%22lexsort_indexer%22%2C%22file_path_short%22%3A%20%22pandas%5C%5Ccore%5C%5Csorting.py%22%2C%22file_path%22%3A%20%22c%3A%5C%5Cusers%5C%5Cuser%5C%5Cappdata%5C%5Clocal%5C%5Cprograms%5C%5Cpython%5C%5Cpython39%5C%5Clib%5C%5Csite-packages%5C%5Cpandas%5C%5Ccore%5C%5Csorting.py%22%2C%22line_no%22%3A%20315%2C%22time%22%3A%204.227256%2C%22await_time%22%3A%200.000000%2C%22is_application_code%22%3A%20false%2C%22children%22%3A%20%5B%7B%22function%22%3A%20%22indexer_from_factorized%22%2C%22file_path_short%22%3A%20%22pandas%5C%5Ccore%5C%5Csorting.py%22%2C%22file_path%22%3A%20%22c%3A%5C%5Cusers%5C%5Cuser%5C%5Cappdata%5C%5Clocal%5C%5Cprograms%5C%5Cpython%5C%5Cpython39%5C%5Clib%5C%5Csite-packages%5C%5Cpandas%5C%5Ccore%5C%5Csorting.py%22%2C%22line_no%22%3A%20301%2C%22time%22%3A%204.074635%2C%22await_time%22%3A%200.000000%2C%22is_application_code%22%3A%20false%2C%22children%22%3A%20%5B%7B%22function%22%3A%20%22compress_group_index%22%2C%22file_path_short%22%3A%20%22pandas%5C%5Ccore%5C%5Csorting.py%22%2C%22file_path%22%3A%20%22c%3A%5C%5Cusers%5C%5Cuser%5C%5Cappdata%5C%5Clocal%5C%5Cprograms%5C%5Cpython%5C%5Cpython39%5C%5Clib%5C%5Csite-packages%5C%5Cpandas%5C%5Ccore%5C%5Csorting.py%22%2C%22line_no%22%3A%20746%2C%22time%22%3A%203.537788%2C%22await_time%22%3A%200.000000%2C%22is_application_code%22%3A%20false%2C%22children%22%3A%20%5B%7B%22function%22%3A%20%22Int64HashTable.get_labels_groupby%22%2C%22file_path_short%22%3A%20%22%3Cbuilt-in%3E%22%2C%22file_path%22%3A%20%22%3Cbuilt-in%3E%22%2C%22line_no%22%3A%200%2C%22time%22%3A%202.679359%2C%22await_time%22%3A%200.000000%2C%22is_application_code%22%3A%20false%2C%22children%22%3A%20%5B%5D%2C%22group_id%22%3A%20%2266c35cf4-cecc-4b13-b1f2-2a5ed46ed454%22%7D%2C%7B%22function%22%3A%20%22_reorder_by_uniques%22%2C%22file_path_short%22%3A%20%22pandas%5C%5Ccore%5C%5Csorting.py%22%2C%22file_path%22%3A%20%22c%3A%5C%5Cusers%5C%5Cuser%5C%5Cappdata%5C%5Clocal%5C%5Cprograms%5C%5Cpython%5C%5Cpython39%5C%5Clib%5C%5Csite-packages%5C%5Cpandas%5C%5Ccore%5C%5Csorting.py%22%2C%22line_no%22%3A%20777%2C%22time%22%3A%200.798481%2C%22await_time%22%3A%200.000000%2C%22is_application_code%22%3A%20false%2C%22children%22%3A%20%5B%5D%2C%22group_id%22%3A%20%2266c35cf4-cecc-4b13-b1f2-2a5ed46ed454%22%7D%5D%2C%22group_id%22%3A%20%2266c35cf4-cecc-4b13-b1f2-2a5ed46ed454%22%7D%5D%2C%22group_id%22%3A%20%2266c35cf4-cecc-4b13-b1f2-2a5ed46ed454%22%7D%5D%2C%22group_id%22%3A%20%2266c35cf4-cecc-4b13-b1f2-2a5ed46ed454%22%7D%5D%2C%22group_id%22%3A%20%2266c35cf4-cecc-4b13-b1f2-2a5ed46ed454%22%7D%2C%7B%22function%22%3A%20%22take%22%2C%22file_path_short%22%3A%20%22pandas%5C%5Ccore%5C%5Cinternals%5C%5Cmanagers.py%22%2C%22file_path%22%3A%20%22c%3A%5C%5Cusers%5C%5Cuser%5C%5Cappdata%5C%5Clocal%5C%5Cprograms%5C%5Cpython%5C%5Cpython39%5C%5Clib%5C%5Csite-packages%5C%5Cpandas%5C%5Ccore%5C%5Cinternals%5C%5Cmanagers.py%22%2C%22line_no%22%3A%20852%2C%22time%22%3A%200.490329%2C%22await_time%22%3A%200.000000%2C%22is_application_code%22%3A%20false%2C%22children%22%3A%20%5B%5D%2C%22group_id%22%3A%20%2266c35cf4-cecc-4b13-b1f2-2a5ed46ed454%22%2C%22class_name%22%3A%20%22BlockManager%22%7D%5D%2C%22group_id%22%3A%20%2266c35cf4-cecc-4b13-b1f2-2a5ed46ed454%22%2C%22class_name%22%3A%20%22DataFrame%22%7D%5D%2C%22group_id%22%3A%20%2266c35cf4-cecc-4b13-b1f2-2a5ed46ed454%22%2C%22class_name%22%3A%20%22DataFrame%22%7D%2C%7B%22function%22%3A%20%22set_index%22%2C%22file_path_short%22%3A%20%22pandas%5C%5Ccore%5C%5Cframe.py%22%2C%22file_path%22%3A%20%22c%3A%5C%5Cusers%5C%5Cuser%5C%5Cappdata%5C%5Clocal%5C%5Cprograms%5C%5Cpython%5C%5Cpython39%5C%5Clib%5C%5Csite-packages%5C%5Cpandas%5C%5Ccore%5C%5Cframe.py%22%2C%22line_no%22%3A%205744%2C%22time%22%3A%201.799233%2C%22await_time%22%3A%200.000000%2C%22is_application_code%22%3A%20false%2C%22children%22%3A%20%5B%7B%22function%22%3A%20%22copy%22%2C%22file_path_short%22%3A%20%22pandas%5C%5Ccore%5C%5Cgeneric.py%22%2C%22file_path%22%3A%20%22c%3A%5C%5Cusers%5C%5Cuser%5C%5Cappdata%5C%5Clocal%5C%5Cprograms%5C%5Cpython%5C%5Cpython39%5C%5Clib%5C%5Csite-packages%5C%5Cpandas%5C%5Ccore%5C%5Cgeneric.py%22%2C%22line_no%22%3A%206553%2C%22time%22%3A%200.730246%2C%22await_time%22%3A%200.000000%2C%22is_application_code%22%3A%20false%2C%22children%22%3A%20%5B%7B%22function%22%3A%20%22copy%22%2C%22file_path_short%22%3A%20%22pandas%5C%5Ccore%5C%5Cinternals%5C%5Cmanagers.py%22%2C%22file_path%22%3A%20%22c%3A%5C%5Cusers%5C%5Cuser%5C%5Cappdata%5C%5Clocal%5C%5Cprograms%5C%5Cpython%5C%5Cpython39%5C%5Clib%5C%5Csite-packages%5C%5Cpandas%5C%5Ccore%5C%5Cinternals%5C%5Cmanagers.py%22%2C%22line_no%22%3A%20540%2C%22time%22%3A%200.730246%2C%22await_time%22%3A%200.000000%2C%22is_application_code%22%3A%20false%2C%22children%22%3A%20%5B%7B%22function%22%3A%20%22_consolidate_inplace%22%2C%22file_path_short%22%3A%20%22pandas%5C%5Ccore%5C%5Cinternals%5C%5Cmanagers.py%22%2C%22file_path%22%3A%20%22c%3A%5C%5Cusers%5C%5Cuser%5C%5Cappdata%5C%5Clocal%5C%5Cprograms%5C%5Cpython%5C%5Cpython39%5C%5Clib%5C%5Csite-packages%5C%5Cpandas%5C%5Ccore%5C%5Cinternals%5C%5Cmanagers.py%22%2C%22line_no%22%3A%201744%2C%22time%22%3A%200.480717%2C%22await_time%22%3A%200.000000%2C%22is_application_code%22%3A%20false%2C%22children%22%3A%20%5B%5D%2C%22group_id%22%3A%20%22f8859dc2-5c81-406e-b0fc-67b4b4f106a0%22%2C%22class_name%22%3A%20%22BlockManager%22%7D%5D%2C%22group_id%22%3A%20%22f8859dc2-5c81-406e-b0fc-67b4b4f106a0%22%2C%22class_name%22%3A%20%22BlockManager%22%7D%5D%2C%22group_id%22%3A%20%22f8859dc2-5c81-406e-b0fc-67b4b4f106a0%22%2C%22class_name%22%3A%20%22DataFrame%22%7D%2C%7B%22function%22%3A%20%22ensure_index_from_sequences%22%2C%22file_path_short%22%3A%20%22pandas%5C%5Ccore%5C%5Cindexes%5C%5Cbase.py%22%2C%22file_path%22%3A%20%22c%3A%5C%5Cusers%5C%5Cuser%5C%5Cappdata%5C%5Clocal%5C%5Cprograms%5C%5Cpython%5C%5Cpython39%5C%5Clib%5C%5Csite-packages%5C%5Cpandas%5C%5Ccore%5C%5Cindexes%5C%5Cbase.py%22%2C%22line_no%22%3A%207472%2C%22time%22%3A%200.620347%2C%22await_time%22%3A%200.000000%2C%22is_application_code%22%3A%20false%2C%22children%22%3A%20%5B%7B%22function%22%3A%20%22from_arrays%22%2C%22file_path_short%22%3A%20%22pandas%5C%5Ccore%5C%5Cindexes%5C%5Cmulti.py%22%2C%22file_path%22%3A%20%22c%3A%5C%5Cusers%5C%5Cuser%5C%5Cappdata%5C%5Clocal%5C%5Cprograms%5C%5Cpython%5C%5Cpython39%5C%5Clib%5C%5Csite-packages%5C%5Cpandas%5C%5Ccore%5C%5Cindexes%5C%5Cmulti.py%22%2C%22line_no%22%3A%20472%2C%22time%22%3A%200.620347%2C%22await_time%22%3A%200.000000%2C%22is_application_code%22%3A%20false%2C%22children%22%3A%20%5B%7B%22function%22%3A%20%22factorize_from_iterables%22%2C%22file_path_short%22%3A%20%22pandas%5C%5Ccore%5C%5Carrays%5C%5Ccategorical.py%22%2C%22file_path%22%3A%20%22c%3A%5C%5Cusers%5C%5Cuser%5C%5Cappdata%5C%5Clocal%5C%5Cprograms%5C%5Cpython%5C%5Cpython39%5C%5Clib%5C%5Csite-packages%5C%5Cpandas%5C%5Ccore%5C%5Carrays%5C%5Ccategorical.py%22%2C%22line_no%22%3A%203002%2C%22time%22%3A%200.618848%2C%22await_time%22%3A%200.000000%2C%22is_application_code%22%3A%20false%2C%22children%22%3A%20%5B%7B%22function%22%3A%20%22%3Cgenexpr%3E%22%2C%22file_path_short%22%3A%20%22pandas%5C%5Ccore%5C%5Carrays%5C%5Ccategorical.py%22%2C%22file_path%22%3A%20%22c%3A%5C%5Cusers%5C%5Cuser%5C%5Cappdata%5C%5Clocal%5C%5Cprograms%5C%5Cpython%5C%5Cpython39%5C%5Clib%5C%5Csite-packages%5C%5Cpandas%5C%5Ccore%5C%5Carrays%5C%5Ccategorical.py%22%2C%22line_no%22%3A%203023%2C%22time%22%3A%200.618848%2C%22await_time%22%3A%200.000000%2C%22is_application_code%22%3A%20false%2C%22children%22%3A%20%5B%7B%22function%22%3A%20%22factorize_from_iterable%22%2C%22file_path_short%22%3A%20%22pandas%5C%5Ccore%5C%5Carrays%5C%5Ccategorical.py%22%2C%22file_path%22%3A%20%22c%3A%5C%5Cusers%5C%5Cuser%5C%5Cappdata%5C%5Clocal%5C%5Cprograms%5C%5Cpython%5C%5Cpython39%5C%5Clib%5C%5Csite-packages%5C%5Cpandas%5C%5Ccore%5C%5Carrays%5C%5Ccategorical.py%22%2C%22line_no%22%3A%202959%2C%22time%22%3A%200.618848%2C%22await_time%22%3A%200.000000%2C%22is_application_code%22%3A%20false%2C%22children%22%3A%20%5B%7B%22function%22%3A%20%22__init__%22%2C%22file_path_short%22%3A%20%22pandas%5C%5Ccore%5C%5Carrays%5C%5Ccategorical.py%22%2C%22file_path%22%3A%20%22c%3A%5C%5Cusers%5C%5Cuser%5C%5Cappdata%5C%5Clocal%5C%5Cprograms%5C%5Cpython%5C%5Cpython39%5C%5Clib%5C%5Csite-packages%5C%5Cpandas%5C%5Ccore%5C%5Carrays%5C%5Ccategorical.py%22%2C%22line_no%22%3A%20368%2C%22time%22%3A%200.603945%2C%22await_time%22%3A%200.000000%2C%22is_application_code%22%3A%20false%2C%22children%22%3A%20%5B%7B%22function%22%3A%20%22factorize%22%2C%22file_path_short%22%3A%20%22pandas%5C%5Ccore%5C%5Calgorithms.py%22%2C%22file_path%22%3A%20%22c%3A%5C%5Cusers%5C%5Cuser%5C%5Cappdata%5C%5Clocal%5C%5Cprograms%5C%5Cpython%5C%5Cpython39%5C%5Clib%5C%5Csite-packages%5C%5Cpandas%5C%5Ccore%5C%5Calgorithms.py%22%2C%22line_no%22%3A%20610%2C%22time%22%3A%200.554205%2C%22await_time%22%3A%200.000000%2C%22is_application_code%22%3A%20false%2C%22children%22%3A%20%5B%5D%2C%22group_id%22%3A%20%22f8859dc2-5c81-406e-b0fc-67b4b4f106a0%22%7D%5D%2C%22group_id%22%3A%20%22f8859dc2-5c81-406e-b0fc-67b4b4f106a0%22%2C%22class_name%22%3A%20%22Categorical%22%7D%5D%2C%22group_id%22%3A%20%22f8859dc2-5c81-406e-b0fc-67b4b4f106a0%22%7D%5D%2C%22group_id%22%3A%20%22f8859dc2-5c81-406e-b0fc-67b4b4f106a0%22%7D%5D%2C%22group_id%22%3A%20%22f8859dc2-5c81-406e-b0fc-67b4b4f106a0%22%7D%5D%2C%22group_id%22%3A%20%22f8859dc2-5c81-406e-b0fc-67b4b4f106a0%22%2C%22class_name%22%3A%20%22MultiIndex%22%7D%5D%2C%22group_id%22%3A%20%22f8859dc2-5c81-406e-b0fc-67b4b4f106a0%22%7D%5D%2C%22group_id%22%3A%20%22f8859dc2-5c81-406e-b0fc-67b4b4f106a0%22%2C%22class_name%22%3A%20%22DataFrame%22%7D%2C%7B%22function%22%3A%20%22attach_column%22%2C%22file_path_short%22%3A%20%22ptls%5C%5Cpreprocessing%5C%5Cpandas%5C%5Ccol_transformer.py%22%2C%22file_path%22%3A%20%22D%3A%5C%5CWORK%5C%5CRepo%5C%5Cpytorch-lifestream%5C%5Cptls%5C%5Cpreprocessing%5C%5Cpandas%5C%5Ccol_transformer.py%22%2C%22line_no%22%3A%2015%2C%22time%22%3A%200.573350%2C%22await_time%22%3A%200.000000%2C%22is_application_code%22%3A%20true%2C%22children%22%3A%20%5B%5D%7D%5D%2C%22class_name%22%3A%20%22UserGroupTransformer%22%7D%2C%7B%22function%22%3A%20%22transform%22%2C%22file_path_short%22%3A%20%22ptls%5C%5Cpreprocessing%5C%5Cpandas%5C%5Cfrequency_encoder.py%22%2C%22file_path%22%3A%20%22D%3A%5C%5CWORK%5C%5CRepo%5C%5Cpytorch-lifestream%5C%5Cptls%5C%5Cpreprocessing%5C%5Cpandas%5C%5Cfrequency_encoder.py%22%2C%22line_no%22%3A%2064%2C%22time%22%3A%208.255432%2C%22await_time%22%3A%200.000000%2C%22is_application_code%22%3A%20true%2C%22children%22%3A%20%5B%7B%22function%22%3A%20%22astype%22%2C%22file_path_short%22%3A%20%22pandas%5C%5Ccore%5C%5Cgeneric.py%22%2C%22file_path%22%3A%20%22c%3A%5C%5Cusers%5C%5Cuser%5C%5Cappdata%5C%5Clocal%5C%5Cprograms%5C%5Cpython%5C%5Cpython39%5C%5Clib%5C%5Csite-packages%5C%5Cpandas%5C%5Ccore%5C%5Cgeneric.py%22%2C%22line_no%22%3A%206368%2C%22time%22%3A%205.898052%2C%22await_time%22%3A%200.000000%2C%22is_application_code%22%3A%20false%2C%22children%22%3A%20%5B%7B%22function%22%3A%20%22astype%22%2C%22file_path_short%22%3A%20%22pandas%5C%5Ccore%5C%5Cinternals%5C%5Cmanagers.py%22%2C%22file_path%22%3A%20%22c%3A%5C%5Cusers%5C%5Cuser%5C%5Cappdata%5C%5Clocal%5C%5Cprograms%5C%5Cpython%5C%5Cpython39%5C%5Clib%5C%5Csite-packages%5C%5Cpandas%5C%5Ccore%5C%5Cinternals%5C%5Cmanagers.py%22%2C%22line_no%22%3A%20405%2C%22time%22%3A%205.898052%2C%22await_time%22%3A%200.000000%2C%22is_application_code%22%3A%20false%2C%22children%22%3A%20%5B%7B%22function%22%3A%20%22apply%22%2C%22file_path_short%22%3A%20%22pandas%5C%5Ccore%5C%5Cinternals%5C%5Cmanagers.py%22%2C%22file_path%22%3A%20%22c%3A%5C%5Cusers%5C%5Cuser%5C%5Cappdata%5C%5Clocal%5C%5Cprograms%5C%5Cpython%5C%5Cpython39%5C%5Clib%5C%5Csite-packages%5C%5Cpandas%5C%5Ccore%5C%5Cinternals%5C%5Cmanagers.py%22%2C%22line_no%22%3A%20308%2C%22time%22%3A%205.898052%2C%22await_time%22%3A%200.000000%2C%22is_application_code%22%3A%20false%2C%22children%22%3A%20%5B%7B%22function%22%3A%20%22astype%22%2C%22file_path_short%22%3A%20%22pandas%5C%5Ccore%5C%5Cinternals%5C%5Cblocks.py%22%2C%22file_path%22%3A%20%22c%3A%5C%5Cusers%5C%5Cuser%5C%5Cappdata%5C%5Clocal%5C%5Cprograms%5C%5Cpython%5C%5Cpython39%5C%5Clib%5C%5Csite-packages%5C%5Cpandas%5C%5Ccore%5C%5Cinternals%5C%5Cblocks.py%22%2C%22line_no%22%3A%20588%2C%22time%22%3A%205.898052%2C%22await_time%22%3A%200.000000%2C%22is_application_code%22%3A%20false%2C%22children%22%3A%20%5B%7B%22function%22%3A%20%22astype_array_safe%22%2C%22file_path_short%22%3A%20%22pandas%5C%5Ccore%5C%5Cdtypes%5C%5Castype.py%22%2C%22file_path%22%3A%20%22c%3A%5C%5Cusers%5C%5Cuser%5C%5Cappdata%5C%5Clocal%5C%5Cprograms%5C%5Cpython%5C%5Cpython39%5C%5Clib%5C%5Csite-packages%5C%5Cpandas%5C%5Ccore%5C%5Cdtypes%5C%5Castype.py%22%2C%22line_no%22%3A%20192%2C%22time%22%3A%205.898052%2C%22await_time%22%3A%200.000000%2C%22is_application_code%22%3A%20false%2C%22children%22%3A%20%5B%7B%22function%22%3A%20%22astype_array%22%2C%22file_path_short%22%3A%20%22pandas%5C%5Ccore%5C%5Cdtypes%5C%5Castype.py%22%2C%22file_path%22%3A%20%22c%3A%5C%5Cusers%5C%5Cuser%5C%5Cappdata%5C%5Clocal%5C%5Cprograms%5C%5Cpython%5C%5Cpython39%5C%5Clib%5C%5Csite-packages%5C%5Cpandas%5C%5Ccore%5C%5Cdtypes%5C%5Castype.py%22%2C%22line_no%22%3A%20158%2C%22time%22%3A%205.898052%2C%22await_time%22%3A%200.000000%2C%22is_application_code%22%3A%20false%2C%22children%22%3A%20%5B%7B%22function%22%3A%20%22_astype_nansafe%22%2C%22file_path_short%22%3A%20%22pandas%5C%5Ccore%5C%5Cdtypes%5C%5Castype.py%22%2C%22file_path%22%3A%20%22c%3A%5C%5Cusers%5C%5Cuser%5C%5Cappdata%5C%5Clocal%5C%5Cprograms%5C%5Cpython%5C%5Cpython39%5C%5Clib%5C%5Csite-packages%5C%5Cpandas%5C%5Ccore%5C%5Cdtypes%5C%5Castype.py%22%2C%22line_no%22%3A%2056%2C%22time%22%3A%205.898052%2C%22await_time%22%3A%200.000000%2C%22is_application_code%22%3A%20false%2C%22children%22%3A%20%5B%7B%22function%22%3A%20%22ensure_string_array%22%2C%22file_path_short%22%3A%20%22%3Cbuilt-in%3E%22%2C%22file_path%22%3A%20%22%3Cbuilt-in%3E%22%2C%22line_no%22%3A%200%2C%22time%22%3A%205.898052%2C%22await_time%22%3A%200.000000%2C%22is_application_code%22%3A%20false%2C%22children%22%3A%20%5B%5D%2C%22group_id%22%3A%20%22730a1448-2c49-4a7b-b22b-609e38842ec5%22%7D%5D%2C%22group_id%22%3A%20%22730a1448-2c49-4a7b-b22b-609e38842ec5%22%7D%5D%2C%22group_id%22%3A%20%22730a1448-2c49-4a7b-b22b-609e38842ec5%22%7D%5D%2C%22group_id%22%3A%20%22730a1448-2c49-4a7b-b22b-609e38842ec5%22%7D%5D%2C%22group_id%22%3A%20%22730a1448-2c49-4a7b-b22b-609e38842ec5%22%2C%22class_name%22%3A%20%22NumpyBlock%22%7D%5D%2C%22group_id%22%3A%20%22730a1448-2c49-4a7b-b22b-609e38842ec5%22%2C%22class_name%22%3A%20%22SingleBlockManager%22%7D%5D%2C%22group_id%22%3A%20%22730a1448-2c49-4a7b-b22b-609e38842ec5%22%2C%22class_name%22%3A%20%22SingleBlockManager%22%7D%5D%2C%22group_id%22%3A%20%22730a1448-2c49-4a7b-b22b-609e38842ec5%22%2C%22class_name%22%3A%20%22Series%22%7D%2C%7B%22function%22%3A%20%22map%22%2C%22file_path_short%22%3A%20%22pandas%5C%5Ccore%5C%5Cseries.py%22%2C%22file_path%22%3A%20%22c%3A%5C%5Cusers%5C%5Cuser%5C%5Cappdata%5C%5Clocal%5C%5Cprograms%5C%5Cpython%5C%5Cpython39%5C%5Clib%5C%5Csite-packages%5C%5Cpandas%5C%5Ccore%5C%5Cseries.py%22%2C%22line_no%22%3A%204460%2C%22time%22%3A%201.389105%2C%22await_time%22%3A%200.000000%2C%22is_application_code%22%3A%20false%2C%22children%22%3A%20%5B%7B%22function%22%3A%20%22_map_values%22%2C%22file_path_short%22%3A%20%22pandas%5C%5Ccore%5C%5Cbase.py%22%2C%22file_path%22%3A%20%22c%3A%5C%5Cusers%5C%5Cuser%5C%5Cappdata%5C%5Clocal%5C%5Cprograms%5C%5Cpython%5C%5Cpython39%5C%5Clib%5C%5Csite-packages%5C%5Cpandas%5C%5Ccore%5C%5Cbase.py%22%2C%22line_no%22%3A%20891%2C%22time%22%3A%201.389105%2C%22await_time%22%3A%200.000000%2C%22is_application_code%22%3A%20false%2C%22children%22%3A%20%5B%7B%22function%22%3A%20%22map_array%22%2C%22file_path_short%22%3A%20%22pandas%5C%5Ccore%5C%5Calgorithms.py%22%2C%22file_path%22%3A%20%22c%3A%5C%5Cusers%5C%5Cuser%5C%5Cappdata%5C%5Clocal%5C%5Cprograms%5C%5Cpython%5C%5Cpython39%5C%5Clib%5C%5Csite-packages%5C%5Cpandas%5C%5Ccore%5C%5Calgorithms.py%22%2C%22line_no%22%3A%201738%2C%22time%22%3A%201.376008%2C%22await_time%22%3A%200.000000%2C%22is_application_code%22%3A%20false%2C%22children%22%3A%20%5B%7B%22function%22%3A%20%22get_indexer%22%2C%22file_path_short%22%3A%20%22pandas%5C%5Ccore%5C%5Cindexes%5C%5Cbase.py%22%2C%22file_path%22%3A%20%22c%3A%5C%5Cusers%5C%5Cuser%5C%5Cappdata%5C%5Clocal%5C%5Cprograms%5C%5Cpython%5C%5Cpython39%5C%5Clib%5C%5Csite-packages%5C%5Cpandas%5C%5Ccore%5C%5Cindexes%5C%5Cbase.py%22%2C%22line_no%22%3A%203858%2C%22time%22%3A%201.309900%2C%22await_time%22%3A%200.000000%2C%22is_application_code%22%3A%20false%2C%22children%22%3A%20%5B%7B%22function%22%3A%20%22_get_indexer%22%2C%22file_path_short%22%3A%20%22pandas%5C%5Ccore%5C%5Cindexes%5C%5Cbase.py%22%2C%22file_path%22%3A%20%22c%3A%5C%5Cusers%5C%5Cuser%5C%5Cappdata%5C%5Clocal%5C%5Cprograms%5C%5Cpython%5C%5Cpython39%5C%5Clib%5C%5Csite-packages%5C%5Cpandas%5C%5Ccore%5C%5Cindexes%5C%5Cbase.py%22%2C%22line_no%22%3A%203944%2C%22time%22%3A%201.132393%2C%22await_time%22%3A%200.000000%2C%22is_application_code%22%3A%20false%2C%22children%22%3A%20%5B%7B%22function%22%3A%20%22ObjectEngine.get_indexer%22%2C%22file_path_short%22%3A%20%22%3Cbuilt-in%3E%22%2C%22file_path%22%3A%20%22%3Cbuilt-in%3E%22%2C%22line_no%22%3A%200%2C%22time%22%3A%201.132393%2C%22await_time%22%3A%200.000000%2C%22is_application_code%22%3A%20false%2C%22children%22%3A%20%5B%5D%2C%22group_id%22%3A%20%22801954f2-da05-400f-b7df-c0f7e648afb0%22%7D%5D%2C%22group_id%22%3A%20%22801954f2-da05-400f-b7df-c0f7e648afb0%22%2C%22class_name%22%3A%20%22Index%22%7D%5D%2C%22group_id%22%3A%20%22801954f2-da05-400f-b7df-c0f7e648afb0%22%2C%22class_name%22%3A%20%22Index%22%7D%5D%2C%22group_id%22%3A%20%22801954f2-da05-400f-b7df-c0f7e648afb0%22%7D%5D%2C%22group_id%22%3A%20%22801954f2-da05-400f-b7df-c0f7e648afb0%22%2C%22class_name%22%3A%20%22Series%22%7D%5D%2C%22group_id%22%3A%20%22801954f2-da05-400f-b7df-c0f7e648afb0%22%2C%22class_name%22%3A%20%22Series%22%7D%2C%7B%22function%22%3A%20%22attach_column%22%2C%22file_path_short%22%3A%20%22ptls%5C%5Cpreprocessing%5C%5Cpandas%5C%5Ccol_transformer.py%22%2C%22file_path%22%3A%20%22D%3A%5C%5CWORK%5C%5CRepo%5C%5Cpytorch-lifestream%5C%5Cptls%5C%5Cpreprocessing%5C%5Cpandas%5C%5Ccol_transformer.py%22%2C%22line_no%22%3A%2015%2C%22time%22%3A%200.856277%2C%22await_time%22%3A%200.000000%2C%22is_application_code%22%3A%20true%2C%22children%22%3A%20%5B%7B%22function%22%3A%20%22concat%22%2C%22file_path_short%22%3A%20%22pandas%5C%5Ccore%5C%5Creshape%5C%5Cconcat.py%22%2C%22file_path%22%3A%20%22c%3A%5C%5Cusers%5C%5Cuser%5C%5Cappdata%5C%5Clocal%5C%5Cprograms%5C%5Cpython%5C%5Cpython39%5C%5Clib%5C%5Csite-packages%5C%5Cpandas%5C%5Ccore%5C%5Creshape%5C%5Cconcat.py%22%2C%22line_no%22%3A%20157%2C%22time%22%3A%200.589697%2C%22await_time%22%3A%200.000000%2C%22is_application_code%22%3A%20false%2C%22children%22%3A%20%5B%7B%22function%22%3A%20%22get_result%22%2C%22file_path_short%22%3A%20%22pandas%5C%5Ccore%5C%5Creshape%5C%5Cconcat.py%22%2C%22file_path%22%3A%20%22c%3A%5C%5Cusers%5C%5Cuser%5C%5Cappdata%5C%5Clocal%5C%5Cprograms%5C%5Cpython%5C%5Cpython39%5C%5Clib%5C%5Csite-packages%5C%5Cpandas%5C%5Ccore%5C%5Creshape%5C%5Cconcat.py%22%2C%22line_no%22%3A%20618%2C%22time%22%3A%200.589697%2C%22await_time%22%3A%200.000000%2C%22is_application_code%22%3A%20false%2C%22children%22%3A%20%5B%7B%22function%22%3A%20%22concatenate_managers%22%2C%22file_path_short%22%3A%20%22pandas%5C%5Ccore%5C%5Cinternals%5C%5Cconcat.py%22%2C%22file_path%22%3A%20%22c%3A%5C%5Cusers%5C%5Cuser%5C%5Cappdata%5C%5Clocal%5C%5Cprograms%5C%5Cpython%5C%5Cpython39%5C%5Clib%5C%5Csite-packages%5C%5Cpandas%5C%5Ccore%5C%5Cinternals%5C%5Cconcat.py%22%2C%22line_no%22%3A%2094%2C%22time%22%3A%200.589697%2C%22await_time%22%3A%200.000000%2C%22is_application_code%22%3A%20false%2C%22children%22%3A%20%5B%7B%22function%22%3A%20%22_maybe_reindex_columns_na_proxy%22%2C%22file_path_short%22%3A%20%22pandas%5C%5Ccore%5C%5Cinternals%5C%5Cconcat.py%22%2C%22file_path%22%3A%20%22c%3A%5C%5Cusers%5C%5Cuser%5C%5Cappdata%5C%5Clocal%5C%5Cprograms%5C%5Cpython%5C%5Cpython39%5C%5Clib%5C%5Csite-packages%5C%5Cpandas%5C%5Ccore%5C%5Cinternals%5C%5Cconcat.py%22%2C%22line_no%22%3A%20202%2C%22time%22%3A%200.589697%2C%22await_time%22%3A%200.000000%2C%22is_application_code%22%3A%20false%2C%22children%22%3A%20%5B%7B%22function%22%3A%20%22copy%22%2C%22file_path_short%22%3A%20%22pandas%5C%5Ccore%5C%5Cinternals%5C%5Cmanagers.py%22%2C%22file_path%22%3A%20%22c%3A%5C%5Cusers%5C%5Cuser%5C%5Cappdata%5C%5Clocal%5C%5Cprograms%5C%5Cpython%5C%5Cpython39%5C%5Clib%5C%5Csite-packages%5C%5Cpandas%5C%5Ccore%5C%5Cinternals%5C%5Cmanagers.py%22%2C%22line_no%22%3A%20540%2C%22time%22%3A%200.589697%2C%22await_time%22%3A%200.000000%2C%22is_application_code%22%3A%20false%2C%22children%22%3A%20%5B%5D%2C%22group_id%22%3A%20%22c80a912b-5c4b-4f1f-9916-3c69351b4abe%22%2C%22class_name%22%3A%20%22BlockManager%22%7D%5D%2C%22group_id%22%3A%20%22c80a912b-5c4b-4f1f-9916-3c69351b4abe%22%7D%5D%2C%22group_id%22%3A%20%22c80a912b-5c4b-4f1f-9916-3c69351b4abe%22%7D%5D%2C%22group_id%22%3A%20%22c80a912b-5c4b-4f1f-9916-3c69351b4abe%22%2C%22class_name%22%3A%20%22_Concatenator%22%7D%5D%2C%22group_id%22%3A%20%22c80a912b-5c4b-4f1f-9916-3c69351b4abe%22%7D%5D%7D%5D%2C%22class_name%22%3A%20%22FrequencyEncoder%22%7D%2C%7B%22function%22%3A%20%22transform%22%2C%22file_path_short%22%3A%20%22ptls%5C%5Cpreprocessing%5C%5Cpandas%5C%5Ccol_identity_transformer.py%22%2C%22file_path%22%3A%20%22D%3A%5C%5CWORK%5C%5CRepo%5C%5Cpytorch-lifestream%5C%5Cptls%5C%5Cpreprocessing%5C%5Cpandas%5C%5Ccol_identity_transformer.py%22%2C%22line_no%22%3A%2021%2C%22time%22%3A%201.440014%2C%22await_time%22%3A%200.000000%2C%22is_application_code%22%3A%20true%2C%22children%22%3A%20%5B%7B%22function%22%3A%20%22attach_column%22%2C%22file_path_short%22%3A%20%22ptls%5C%5Cpreprocessing%5C%5Cpandas%5C%5Ccol_transformer.py%22%2C%22file_path%22%3A%20%22D%3A%5C%5CWORK%5C%5CRepo%5C%5Cpytorch-lifestream%5C%5Cptls%5C%5Cpreprocessing%5C%5Cpandas%5C%5Ccol_transformer.py%22%2C%22line_no%22%3A%2015%2C%22time%22%3A%201.342771%2C%22await_time%22%3A%200.000000%2C%22is_application_code%22%3A%20true%2C%22children%22%3A%20%5B%7B%22function%22%3A%20%22concat%22%2C%22file_path_short%22%3A%20%22pandas%5C%5Ccore%5C%5Creshape%5C%5Cconcat.py%22%2C%22file_path%22%3A%20%22c%3A%5C%5Cusers%5C%5Cuser%5C%5Cappdata%5C%5Clocal%5C%5Cprograms%5C%5Cpython%5C%5Cpython39%5C%5Clib%5C%5Csite-packages%5C%5Cpandas%5C%5Ccore%5C%5Creshape%5C%5Cconcat.py%22%2C%22line_no%22%3A%20157%2C%22time%22%3A%200.832970%2C%22await_time%22%3A%200.000000%2C%22is_application_code%22%3A%20false%2C%22children%22%3A%20%5B%7B%22function%22%3A%20%22get_result%22%2C%22file_path_short%22%3A%20%22pandas%5C%5Ccore%5C%5Creshape%5C%5Cconcat.py%22%2C%22file_path%22%3A%20%22c%3A%5C%5Cusers%5C%5Cuser%5C%5Cappdata%5C%5Clocal%5C%5Cprograms%5C%5Cpython%5C%5Cpython39%5C%5Clib%5C%5Csite-packages%5C%5Cpandas%5C%5Ccore%5C%5Creshape%5C%5Cconcat.py%22%2C%22line_no%22%3A%20618%2C%22time%22%3A%200.832970%2C%22await_time%22%3A%200.000000%2C%22is_application_code%22%3A%20false%2C%22children%22%3A%20%5B%7B%22function%22%3A%20%22concatenate_managers%22%2C%22file_path_short%22%3A%20%22pandas%5C%5Ccore%5C%5Cinternals%5C%5Cconcat.py%22%2C%22file_path%22%3A%20%22c%3A%5C%5Cusers%5C%5Cuser%5C%5Cappdata%5C%5Clocal%5C%5Cprograms%5C%5Cpython%5C%5Cpython39%5C%5Clib%5C%5Csite-packages%5C%5Cpandas%5C%5Ccore%5C%5Cinternals%5C%5Cconcat.py%22%2C%22line_no%22%3A%2094%2C%22time%22%3A%200.832970%2C%22await_time%22%3A%200.000000%2C%22is_application_code%22%3A%20false%2C%22children%22%3A%20%5B%7B%22function%22%3A%20%22_maybe_reindex_columns_na_proxy%22%2C%22file_path_short%22%3A%20%22pandas%5C%5Ccore%5C%5Cinternals%5C%5Cconcat.py%22%2C%22file_path%22%3A%20%22c%3A%5C%5Cusers%5C%5Cuser%5C%5Cappdata%5C%5Clocal%5C%5Cprograms%5C%5Cpython%5C%5Cpython39%5C%5Clib%5C%5Csite-packages%5C%5Cpandas%5C%5Ccore%5C%5Cinternals%5C%5Cconcat.py%22%2C%22line_no%22%3A%20202%2C%22time%22%3A%200.832970%2C%22await_time%22%3A%200.000000%2C%22is_application_code%22%3A%20false%2C%22children%22%3A%20%5B%7B%22function%22%3A%20%22copy%22%2C%22file_path_short%22%3A%20%22pandas%5C%5Ccore%5C%5Cinternals%5C%5Cmanagers.py%22%2C%22file_path%22%3A%20%22c%3A%5C%5Cusers%5C%5Cuser%5C%5Cappdata%5C%5Clocal%5C%5Cprograms%5C%5Cpython%5C%5Cpython39%5C%5Clib%5C%5Csite-packages%5C%5Cpandas%5C%5Ccore%5C%5Cinternals%5C%5Cmanagers.py%22%2C%22line_no%22%3A%20540%2C%22time%22%3A%200.832970%2C%22await_time%22%3A%200.000000%2C%22is_application_code%22%3A%20false%2C%22children%22%3A%20%5B%5D%2C%22group_id%22%3A%20%22f9f222f7-8c7e-49eb-9375-d2dbe3d46640%22%2C%22class_name%22%3A%20%22BlockManager%22%7D%5D%2C%22group_id%22%3A%20%22f9f222f7-8c7e-49eb-9375-d2dbe3d46640%22%7D%5D%2C%22group_id%22%3A%20%22f9f222f7-8c7e-49eb-9375-d2dbe3d46640%22%7D%5D%2C%22group_id%22%3A%20%22f9f222f7-8c7e-49eb-9375-d2dbe3d46640%22%2C%22class_name%22%3A%20%22_Concatenator%22%7D%5D%2C%22group_id%22%3A%20%22f9f222f7-8c7e-49eb-9375-d2dbe3d46640%22%7D%5D%7D%5D%2C%22class_name%22%3A%20%22ColIdentityEncoder%22%7D%5D%2C%22group_id%22%3A%20%2217532fe3-50fe-46ad-bcb8-431ff31a1437%22%2C%22class_name%22%3A%20%22UserGroupTransformer%22%7D%2C%7B%22function%22%3A%20%22fit%22%2C%22file_path_short%22%3A%20%22ptls%5C%5Cpreprocessing%5C%5Cpandas%5C%5Cfrequency_encoder.py%22%2C%22file_path%22%3A%20%22D%3A%5C%5CWORK%5C%5CRepo%5C%5Cpytorch-lifestream%5C%5Cptls%5C%5Cpreprocessing%5C%5Cpandas%5C%5Cfrequency_encoder.py%22%2C%22line_no%22%3A%2052%2C%22time%22%3A%207.950942%2C%22await_time%22%3A%200.000000%2C%22is_application_code%22%3A%20true%2C%22children%22%3A%20%5B%7B%22function%22%3A%20%22astype%22%2C%22file_path_short%22%3A%20%22pandas%5C%5Ccore%5C%5Cgeneric.py%22%2C%22file_path%22%3A%20%22c%3A%5C%5Cusers%5C%5Cuser%5C%5Cappdata%5C%5Clocal%5C%5Cprograms%5C%5Cpython%5C%5Cpython39%5C%5Clib%5C%5Csite-packages%5C%5Cpandas%5C%5Ccore%5C%5Cgeneric.py%22%2C%22line_no%22%3A%206368%2C%22time%22%3A%206.473902%2C%22await_time%22%3A%200.000000%2C%22is_application_code%22%3A%20false%2C%22children%22%3A%20%5B%7B%22function%22%3A%20%22astype%22%2C%22file_path_short%22%3A%20%22pandas%5C%5Ccore%5C%5Cinternals%5C%5Cmanagers.py%22%2C%22file_path%22%3A%20%22c%3A%5C%5Cusers%5C%5Cuser%5C%5Cappdata%5C%5Clocal%5C%5Cprograms%5C%5Cpython%5C%5Cpython39%5C%5Clib%5C%5Csite-packages%5C%5Cpandas%5C%5Ccore%5C%5Cinternals%5C%5Cmanagers.py%22%2C%22line_no%22%3A%20405%2C%22time%22%3A%206.473902%2C%22await_time%22%3A%200.000000%2C%22is_application_code%22%3A%20false%2C%22children%22%3A%20%5B%7B%22function%22%3A%20%22apply%22%2C%22file_path_short%22%3A%20%22pandas%5C%5Ccore%5C%5Cinternals%5C%5Cmanagers.py%22%2C%22file_path%22%3A%20%22c%3A%5C%5Cusers%5C%5Cuser%5C%5Cappdata%5C%5Clocal%5C%5Cprograms%5C%5Cpython%5C%5Cpython39%5C%5Clib%5C%5Csite-packages%5C%5Cpandas%5C%5Ccore%5C%5Cinternals%5C%5Cmanagers.py%22%2C%22line_no%22%3A%20308%2C%22time%22%3A%206.473902%2C%22await_time%22%3A%200.000000%2C%22is_application_code%22%3A%20false%2C%22children%22%3A%20%5B%7B%22function%22%3A%20%22astype%22%2C%22file_path_short%22%3A%20%22pandas%5C%5Ccore%5C%5Cinternals%5C%5Cblocks.py%22%2C%22file_path%22%3A%20%22c%3A%5C%5Cusers%5C%5Cuser%5C%5Cappdata%5C%5Clocal%5C%5Cprograms%5C%5Cpython%5C%5Cpython39%5C%5Clib%5C%5Csite-packages%5C%5Cpandas%5C%5Ccore%5C%5Cinternals%5C%5Cblocks.py%22%2C%22line_no%22%3A%20588%2C%22time%22%3A%206.473902%2C%22await_time%22%3A%200.000000%2C%22is_application_code%22%3A%20false%2C%22children%22%3A%20%5B%7B%22function%22%3A%20%22astype_array_safe%22%2C%22file_path_short%22%3A%20%22pandas%5C%5Ccore%5C%5Cdtypes%5C%5Castype.py%22%2C%22file_path%22%3A%20%22c%3A%5C%5Cusers%5C%5Cuser%5C%5Cappdata%5C%5Clocal%5C%5Cprograms%5C%5Cpython%5C%5Cpython39%5C%5Clib%5C%5Csite-packages%5C%5Cpandas%5C%5Ccore%5C%5Cdtypes%5C%5Castype.py%22%2C%22line_no%22%3A%20192%2C%22time%22%3A%206.473902%2C%22await_time%22%3A%200.000000%2C%22is_application_code%22%3A%20false%2C%22children%22%3A%20%5B%7B%22function%22%3A%20%22astype_array%22%2C%22file_path_short%22%3A%20%22pandas%5C%5Ccore%5C%5Cdtypes%5C%5Castype.py%22%2C%22file_path%22%3A%20%22c%3A%5C%5Cusers%5C%5Cuser%5C%5Cappdata%5C%5Clocal%5C%5Cprograms%5C%5Cpython%5C%5Cpython39%5C%5Clib%5C%5Csite-packages%5C%5Cpandas%5C%5Ccore%5C%5Cdtypes%5C%5Castype.py%22%2C%22line_no%22%3A%20158%2C%22time%22%3A%206.473902%2C%22await_time%22%3A%200.000000%2C%22is_application_code%22%3A%20false%2C%22children%22%3A%20%5B%7B%22function%22%3A%20%22_astype_nansafe%22%2C%22file_path_short%22%3A%20%22pandas%5C%5Ccore%5C%5Cdtypes%5C%5Castype.py%22%2C%22file_path%22%3A%20%22c%3A%5C%5Cusers%5C%5Cuser%5C%5Cappdata%5C%5Clocal%5C%5Cprograms%5C%5Cpython%5C%5Cpython39%5C%5Clib%5C%5Csite-packages%5C%5Cpandas%5C%5Ccore%5C%5Cdtypes%5C%5Castype.py%22%2C%22line_no%22%3A%2056%2C%22time%22%3A%206.473902%2C%22await_time%22%3A%200.000000%2C%22is_application_code%22%3A%20false%2C%22children%22%3A%20%5B%7B%22function%22%3A%20%22ensure_string_array%22%2C%22file_path_short%22%3A%20%22%3Cbuilt-in%3E%22%2C%22file_path%22%3A%20%22%3Cbuilt-in%3E%22%2C%22line_no%22%3A%200%2C%22time%22%3A%206.473902%2C%22await_time%22%3A%200.000000%2C%22is_application_code%22%3A%20false%2C%22children%22%3A%20%5B%5D%2C%22group_id%22%3A%20%22e2db52b9-fddd-4961-9298-ed570bc55e59%22%7D%5D%2C%22group_id%22%3A%20%22e2db52b9-fddd-4961-9298-ed570bc55e59%22%7D%5D%2C%22group_id%22%3A%20%22e2db52b9-fddd-4961-9298-ed570bc55e59%22%7D%5D%2C%22group_id%22%3A%20%22e2db52b9-fddd-4961-9298-ed570bc55e59%22%7D%5D%2C%22group_id%22%3A%20%22e2db52b9-fddd-4961-9298-ed570bc55e59%22%2C%22class_name%22%3A%20%22NumpyBlock%22%7D%5D%2C%22group_id%22%3A%20%22e2db52b9-fddd-4961-9298-ed570bc55e59%22%2C%22class_name%22%3A%20%22SingleBlockManager%22%7D%5D%2C%22group_id%22%3A%20%22e2db52b9-fddd-4961-9298-ed570bc55e59%22%2C%22class_name%22%3A%20%22SingleBlockManager%22%7D%5D%2C%22group_id%22%3A%20%22e2db52b9-fddd-4961-9298-ed570bc55e59%22%2C%22class_name%22%3A%20%22Series%22%7D%2C%7B%22function%22%3A%20%22value_counts%22%2C%22file_path_short%22%3A%20%22pandas%5C%5Ccore%5C%5Cbase.py%22%2C%22file_path%22%3A%20%22c%3A%5C%5Cusers%5C%5Cuser%5C%5Cappdata%5C%5Clocal%5C%5Cprograms%5C%5Cpython%5C%5Cpython39%5C%5Clib%5C%5Csite-packages%5C%5Cpandas%5C%5Ccore%5C%5Cbase.py%22%2C%22line_no%22%3A%20923%2C%22time%22%3A%201.477040%2C%22await_time%22%3A%200.000000%2C%22is_application_code%22%3A%20false%2C%22children%22%3A%20%5B%7B%22function%22%3A%20%22value_counts_internal%22%2C%22file_path_short%22%3A%20%22pandas%5C%5Ccore%5C%5Calgorithms.py%22%2C%22file_path%22%3A%20%22c%3A%5C%5Cusers%5C%5Cuser%5C%5Cappdata%5C%5Clocal%5C%5Cprograms%5C%5Cpython%5C%5Cpython39%5C%5Clib%5C%5Csite-packages%5C%5Cpandas%5C%5Ccore%5C%5Calgorithms.py%22%2C%22line_no%22%3A%20862%2C%22time%22%3A%201.477040%2C%22await_time%22%3A%200.000000%2C%22is_application_code%22%3A%20false%2C%22children%22%3A%20%5B%7B%22function%22%3A%20%22value_counts_arraylike%22%2C%22file_path_short%22%3A%20%22pandas%5C%5Ccore%5C%5Calgorithms.py%22%2C%22file_path%22%3A%20%22c%3A%5C%5Cusers%5C%5Cuser%5C%5Cappdata%5C%5Clocal%5C%5Cprograms%5C%5Cpython%5C%5Cpython39%5C%5Clib%5C%5Csite-packages%5C%5Cpandas%5C%5Ccore%5C%5Calgorithms.py%22%2C%22line_no%22%3A%20950%2C%22time%22%3A%201.477040%2C%22await_time%22%3A%200.000000%2C%22is_application_code%22%3A%20false%2C%22children%22%3A%20%5B%5D%2C%22group_id%22%3A%20%228da87cc8-140e-497a-aa33-bfdcf447d2f6%22%7D%5D%2C%22group_id%22%3A%20%228da87cc8-140e-497a-aa33-bfdcf447d2f6%22%7D%5D%2C%22group_id%22%3A%20%228da87cc8-140e-497a-aa33-bfdcf447d2f6%22%2C%22class_name%22%3A%20%22Series%22%7D%5D%2C%22class_name%22%3A%20%22FrequencyEncoder%22%7D%5D%2C%22group_id%22%3A%20%2217532fe3-50fe-46ad-bcb8-431ff31a1437%22%2C%22class_name%22%3A%20%22UserGroupTransformer%22%7D%5D%2C%22group_id%22%3A%20%2217532fe3-50fe-46ad-bcb8-431ff31a1437%22%2C%22class_name%22%3A%20%22UserGroupTransformer%22%7D%5D%2C%22class_name%22%3A%20%22PandasDataPreprocessor%22%7D%5D%2C%22class_name%22%3A%20%22PandasDataPreprocessor%22%7D%5D%7D%7D%0A%3B%0A%20%20%20%20%20%20%20%20%20%20%20%20%20%20%20%20%20%20%20%20pyinstrumentHTMLRenderer.render%28document.getElementById%28%27app%27%29%2C%20sessionData%29%3B%0A%20%20%20%20%20%20%20%20%20%20%20%20%20%20%20%20%3C/script%3E%0A%20%20%20%20%20%20%20%20%20%20%20%20%3C/body%3E%0A%20%20%20%20%20%20%20%20%20%20%20%20%3C/html%3E%0A%20%20%20%20%20%20%20%20\"\n            frameborder=\"0\"\n            allowfullscreen\n            style=\"resize: vertical\"\n        ></iframe>\n        ",
      "text/plain": "\n  _     ._   __/__   _ _  _  _ _/_   Recorded: 13:03:59  Samples:  17403\n /_//_/// /_\\ / //_// / //_'/ //     Duration: 45.879    CPU time: 45.297\n/   _/                      v4.6.2\n\nProgram: c:\\users\\user\\appdata\\local\\programs\\python\\python39\\lib\\site-packages\\ipykernel_launcher.py -f C:\\Users\\user\\AppData\\Roaming\\jupyter\\runtime\\kernel-1d3925b1-2dab-4fb8-a868-1f1a994bedb7.json\n\n45.879 <module>  ..\\..\\..\\Temp\\ipykernel_13500\\382335421.py:2\n`- 45.879 PandasDataPreprocessor.wrapped  sklearn\\utils\\_set_output.py:138\n   `- 45.879 PandasDataPreprocessor.fit_transform  ptls\\preprocessing\\base\\data_preprocessor.py:41\n      `- 45.649 UserGroupTransformer.wrapped  sklearn\\utils\\_set_output.py:138\n            [3 frames hidden]  sklearn\n               45.649 UserGroupTransformer.fit_transform  sklearn\\base.py:850\n               |- 37.384 UserGroupTransformer.wrapped  sklearn\\utils\\_set_output.py:138\n               |  |- 27.336 UserGroupTransformer.transform  ptls\\preprocessing\\pandas\\user_group_transformer.py:63\n               |  |  |- 18.883 DataFrameGroupBy.apply  pandas\\core\\groupby\\groupby.py:1725\n               |  |  |     [15 frames hidden]  pandas\n               |  |  |        18.289 BaseGrouper.apply_groupwise  pandas\\core\\groupby\\ops.py:883\n               |  |  |        |- 14.340 UserGroupTransformer.df_to_feature_arrays  ptls\\preprocessing\\pandas\\user_group_transformer.py:49\n               |  |  |        |  |- 7.434 Series.__init__  pandas\\core\\series.py:371\n               |  |  |        |  |     [13 frames hidden]  pandas, torch, <built-in>\n               |  |  |        |  |- 3.429 <dictcomp>  ptls\\preprocessing\\pandas\\user_group_transformer.py:60\n               |  |  |        |  |  `- 3.358 decide  ptls\\preprocessing\\pandas\\user_group_transformer.py:50\n               |  |  |        |  |     `- 1.996 _iLocIndexer.__getitem__  pandas\\core\\indexing.py:1139\n               |  |  |        |  |           [3 frames hidden]  pandas\n               |  |  |        |  `- 3.385 DataFrame.to_dict  pandas\\core\\frame.py:1932\n               |  |  |        |        [10 frames hidden]  pandas\n               |  |  |- 5.306 DataFrame.sort_index  pandas\\core\\frame.py:7040\n               |  |  |     [9 frames hidden]  pandas, <built-in>\n               |  |  |- 1.799 DataFrame.set_index  pandas\\core\\frame.py:5744\n               |  |  |     [11 frames hidden]  pandas\n               |  |  `- 0.573 attach_column  ptls\\preprocessing\\pandas\\col_transformer.py:15\n               |  |- 8.255 FrequencyEncoder.transform  ptls\\preprocessing\\pandas\\frequency_encoder.py:64\n               |  |  |- 5.898 Series.astype  pandas\\core\\generic.py:6368\n               |  |  |     [8 frames hidden]  pandas, <built-in>\n               |  |  |- 1.389 Series.map  pandas\\core\\series.py:4460\n               |  |  |     [6 frames hidden]  pandas, <built-in>\n               |  |  `- 0.856 attach_column  ptls\\preprocessing\\pandas\\col_transformer.py:15\n               |  |     `- 0.590 concat  pandas\\core\\reshape\\concat.py:157\n               |  |           [5 frames hidden]  pandas\n               |  `- 1.440 ColIdentityEncoder.transform  ptls\\preprocessing\\pandas\\col_identity_transformer.py:21\n               |     `- 1.343 attach_column  ptls\\preprocessing\\pandas\\col_transformer.py:15\n               |        `- 0.833 concat  pandas\\core\\reshape\\concat.py:157\n               |              [5 frames hidden]  pandas\n               `- 7.951 FrequencyEncoder.fit  ptls\\preprocessing\\pandas\\frequency_encoder.py:52\n                  |- 6.474 Series.astype  pandas\\core\\generic.py:6368\n                  |     [8 frames hidden]  pandas, <built-in>\n                  `- 1.477 Series.value_counts  pandas\\core\\base.py:923\n                        [3 frames hidden]  pandas\n\n"
     },
     "metadata": {},
     "output_type": "display_data"
    }
   ],
   "source": [
    "%%pyinstrument\n",
    "\n",
    "dataset = preprocessor.fit_transform(source_data)"
   ]
  },
  {
   "cell_type": "code",
   "execution_count": 7,
   "id": "4a747c9b",
   "metadata": {
    "pycharm": {
     "name": "#%%\n"
    }
   },
   "outputs": [],
   "source": [
    "import pickle\n",
    "\n",
    "with open('preprocessor.p', 'wb') as f:\n",
    "    pickle.dump(preprocessor, f)"
   ]
  },
  {
   "cell_type": "code",
   "execution_count": 8,
   "id": "0e4ca12d",
   "metadata": {
    "pycharm": {
     "name": "#%%\n"
    }
   },
   "outputs": [],
   "source": [
    "dataset = sorted(dataset, key=lambda x: x['client_id'])"
   ]
  },
  {
   "cell_type": "code",
   "execution_count": 9,
   "id": "98e7d39d",
   "metadata": {
    "execution": {
     "iopub.execute_input": "2022-05-04T18:12:29.770820Z",
     "iopub.status.busy": "2022-05-04T18:12:29.770330Z",
     "iopub.status.idle": "2022-05-04T18:12:30.164858Z",
     "shell.execute_reply": "2022-05-04T18:12:30.165297Z"
    },
    "pycharm": {
     "name": "#%%\n"
    }
   },
   "outputs": [
    {
     "data": {
      "text/plain": "(24000, 6000)"
     },
     "execution_count": 9,
     "metadata": {},
     "output_type": "execute_result"
    }
   ],
   "source": [
    "from sklearn.model_selection import train_test_split\n",
    "\n",
    "train, test = train_test_split(dataset, test_size=0.2, random_state=42)\n",
    "\n",
    "len(train), len(test)"
   ]
  },
  {
   "cell_type": "code",
   "execution_count": 10,
   "id": "5af110e1",
   "metadata": {
    "pycharm": {
     "name": "#%%\n"
    }
   },
   "outputs": [
    {
     "data": {
      "text/plain": "dict_keys(['client_id', 'trans_date', 'event_time', 'small_group', 'amount_rur'])"
     },
     "execution_count": 10,
     "metadata": {},
     "output_type": "execute_result"
    }
   ],
   "source": [
    "train[0].keys()"
   ]
  },
  {
   "cell_type": "markdown",
   "id": "f9080a6f",
   "metadata": {
    "pycharm": {
     "name": "#%% md\n"
    }
   },
   "source": [
    "## Embedding training"
   ]
  },
  {
   "cell_type": "markdown",
   "id": "56493c0b",
   "metadata": {
    "pycharm": {
     "name": "#%% md\n"
    }
   },
   "source": [
    "Model training in our framework organised via pytorch-lightning (pl) framework.\n",
    "The key parts of neural networks training in pl are: \n",
    "\n",
    "    * model (`pytorch_lightning.LightningModule`)\n",
    "    * data loader (`torch.utils.data.DataLoader`)\n",
    "    * trainer (`pytorch_lightning.Trainer`)\n",
    "    \n",
    "For futher details check https://pytorchlightning.ai/"
   ]
  },
  {
   "cell_type": "markdown",
   "id": "43a6ee58",
   "metadata": {
    "pycharm": {
     "name": "#%% md\n"
    }
   },
   "source": [
    "### Model definition"
   ]
  },
  {
   "cell_type": "code",
   "execution_count": 11,
   "id": "988c508d",
   "metadata": {
    "execution": {
     "iopub.execute_input": "2022-05-04T18:12:30.169403Z",
     "iopub.status.busy": "2022-05-04T18:12:30.168916Z",
     "iopub.status.idle": "2022-05-04T18:12:30.240250Z",
     "shell.execute_reply": "2022-05-04T18:12:30.239734Z"
    },
    "pycharm": {
     "name": "#%%\n"
    }
   },
   "outputs": [],
   "source": [
    "from functools import partial\n",
    "from ptls.nn import TrxEncoder, RnnSeqEncoder\n",
    "from ptls.frames.coles import CoLESModule\n",
    "\n",
    "trx_encoder_params = dict(\n",
    "    embeddings_noise=0.003,\n",
    "    numeric_values={'amount_rur': 'identity'},\n",
    "    embeddings={\n",
    "        'trans_date': {'in': 800, 'out': 16},\n",
    "        'small_group': {'in': 250, 'out': 16},\n",
    "    },\n",
    ")\n",
    "\n",
    "seq_encoder = RnnSeqEncoder(\n",
    "    trx_encoder=TrxEncoder(**trx_encoder_params),\n",
    "    hidden_size=256,\n",
    "    type='gru',\n",
    ")\n",
    "\n",
    "model = CoLESModule(\n",
    "    seq_encoder=seq_encoder,\n",
    "    optimizer_partial=partial(torch.optim.Adam, lr=0.001),\n",
    "    lr_scheduler_partial=partial(torch.optim.lr_scheduler.StepLR, step_size=30, gamma=0.9),\n",
    ")"
   ]
  },
  {
   "cell_type": "markdown",
   "id": "87997ac0",
   "metadata": {
    "pycharm": {
     "name": "#%% md\n"
    }
   },
   "source": [
    "### Data loader"
   ]
  },
  {
   "cell_type": "code",
   "execution_count": 12,
   "id": "624065bf",
   "metadata": {
    "execution": {
     "iopub.execute_input": "2022-05-04T18:12:30.244098Z",
     "iopub.status.busy": "2022-05-04T18:12:30.243491Z",
     "iopub.status.idle": "2022-05-04T18:12:30.281553Z",
     "shell.execute_reply": "2022-05-04T18:12:30.281940Z"
    },
    "pycharm": {
     "name": "#%%\n"
    }
   },
   "outputs": [],
   "source": [
    "from ptls.data_load.datasets import MemoryMapDataset\n",
    "from ptls.data_load.iterable_processing import SeqLenFilter\n",
    "from ptls.frames.coles import ColesDataset\n",
    "from ptls.frames.coles.split_strategy import SampleSlices\n",
    "from ptls.frames import PtlsDataModule\n",
    "\n",
    "train_dl = PtlsDataModule(\n",
    "    train_data=ColesDataset(\n",
    "        MemoryMapDataset(\n",
    "            data=train,\n",
    "            i_filters=[\n",
    "                SeqLenFilter(min_seq_len=25),\n",
    "            ],\n",
    "        ),\n",
    "        splitter=SampleSlices(\n",
    "            split_count=5,\n",
    "            cnt_min=25,\n",
    "            cnt_max=200,\n",
    "        ),\n",
    "    ),\n",
    "    train_num_workers=16,\n",
    "    train_batch_size=256,\n",
    ")"
   ]
  },
  {
   "cell_type": "markdown",
   "id": "fc9a09be",
   "metadata": {
    "pycharm": {
     "name": "#%% md\n"
    }
   },
   "source": [
    "### Trainer"
   ]
  },
  {
   "cell_type": "code",
   "execution_count": 13,
   "id": "8fdbb67d",
   "metadata": {
    "execution": {
     "iopub.execute_input": "2022-05-04T18:12:30.285432Z",
     "iopub.status.busy": "2022-05-04T18:12:30.284949Z",
     "iopub.status.idle": "2022-05-04T18:12:30.325745Z",
     "shell.execute_reply": "2022-05-04T18:12:30.325312Z"
    },
    "pycharm": {
     "name": "#%%\n"
    }
   },
   "outputs": [
    {
     "name": "stderr",
     "output_type": "stream",
     "text": [
      "GPU available: False, used: False\n",
      "TPU available: False, using: 0 TPU cores\n",
      "HPU available: False, using: 0 HPUs\n"
     ]
    }
   ],
   "source": [
    "import torch\n",
    "import pytorch_lightning as pl\n",
    "\n",
    "import logging\n",
    "\n",
    "trainer = pl.Trainer(\n",
    "    max_epochs=15,\n",
    "    accelerator=\"cuda\" if torch.cuda.is_available() else \"cpu\",\n",
    "    devices=1 if torch.cuda.is_available() else \"auto\",\n",
    "    enable_progress_bar=False,\n",
    ")"
   ]
  },
  {
   "cell_type": "markdown",
   "id": "a88078a3",
   "metadata": {
    "pycharm": {
     "name": "#%% md\n"
    }
   },
   "source": [
    "### Training "
   ]
  },
  {
   "cell_type": "code",
   "execution_count": null,
   "id": "f40877df",
   "metadata": {
    "execution": {
     "iopub.execute_input": "2022-05-04T18:12:30.328969Z",
     "iopub.status.busy": "2022-05-04T18:12:30.328486Z",
     "iopub.status.idle": "2022-05-04T18:23:09.969669Z",
     "shell.execute_reply": "2022-05-04T18:23:09.969186Z"
    },
    "pycharm": {
     "name": "#%%\n",
     "is_executing": true
    }
   },
   "outputs": [
    {
     "name": "stderr",
     "output_type": "stream",
     "text": [
      "Missing logger folder: D:\\WORK\\Repo\\pytorch-lifestream\\demo\\lightning_logs\n",
      "c:\\users\\user\\appdata\\local\\programs\\python\\python39\\lib\\site-packages\\pytorch_lightning\\trainer\\configuration_validator.py:70: You defined a `validation_step` but have no `val_dataloader`. Skipping val loop.\n",
      "\n",
      "  | Name               | Type            | Params | Mode \n",
      "---------------------------------------------------------------\n",
      "0 | _loss              | ContrastiveLoss | 0      | train\n",
      "1 | _seq_encoder       | RnnSeqEncoder   | 240 K  | train\n",
      "2 | _validation_metric | BatchRecallTopK | 0      | train\n",
      "3 | _head              | Head            | 0      | train\n",
      "---------------------------------------------------------------\n",
      "240 K     Trainable params\n",
      "0         Non-trainable params\n",
      "240 K     Total params\n",
      "0.962     Total estimated model params size (MB)\n"
     ]
    },
    {
     "name": "stdout",
     "output_type": "stream",
     "text": [
      "logger.version = 0\n"
     ]
    },
    {
     "name": "stderr",
     "output_type": "stream",
     "text": [
      "c:\\users\\user\\appdata\\local\\programs\\python\\python39\\lib\\site-packages\\torch\\utils\\data\\dataloader.py:561: UserWarning: This DataLoader will create 16 worker processes in total. Our suggested max number of worker in current system is 8 (`cpuset` is not taken into account), which is smaller than what this DataLoader is going to create. Please be aware that excessive worker creation might get DataLoader running slow or even freeze, lower the worker number to avoid potential slowness/freeze if necessary.\n",
      "  warnings.warn(_create_warning_msg(\n",
      "c:\\users\\user\\appdata\\local\\programs\\python\\python39\\lib\\site-packages\\pytorch_lightning\\trainer\\connectors\\data_connector.py:419: Consider setting `persistent_workers=True` in 'train_dataloader' to speed up the dataloader worker initialization.\n"
     ]
    }
   ],
   "source": [
    "%%pyinstrument\n",
    "print(f'logger.version = {trainer.logger.version}')\n",
    "trainer.fit(model, train_dl)\n",
    "print(trainer.logged_metrics)"
   ]
  },
  {
   "cell_type": "markdown",
   "id": "7aaa35bc",
   "metadata": {
    "pycharm": {
     "name": "#%% md\n"
    }
   },
   "source": [
    "### Save sequence encoder for other experiments"
   ]
  },
  {
   "cell_type": "code",
   "execution_count": 14,
   "id": "50b76d62",
   "metadata": {
    "pycharm": {
     "name": "#%%\n"
    }
   },
   "outputs": [],
   "source": [
    "torch.save(seq_encoder.state_dict(), \"coles-emb.pt\")"
   ]
  },
  {
   "cell_type": "markdown",
   "id": "9d65b5e3",
   "metadata": {
    "pycharm": {
     "name": "#%% md\n"
    }
   },
   "source": [
    "## Inference "
   ]
  },
  {
   "cell_type": "code",
   "execution_count": 15,
   "id": "3c32741d",
   "metadata": {
    "execution": {
     "iopub.execute_input": "2022-05-04T18:23:09.975644Z",
     "iopub.status.busy": "2022-05-04T18:23:09.974439Z",
     "iopub.status.idle": "2022-05-04T18:23:29.425227Z",
     "shell.execute_reply": "2022-05-04T18:23:29.425699Z"
    },
    "pycharm": {
     "name": "#%%\n"
    }
   },
   "outputs": [
    {
     "name": "stderr",
     "output_type": "stream",
     "text": [
      "LOCAL_RANK: 0 - CUDA_VISIBLE_DEVICES: [0,1]\n",
      "/home/kireev/pipenv_envs/pytorch-lifestream-KxQJF1XF/lib/python3.8/site-packages/pytorch_lightning/trainer/connectors/data_connector.py:240: PossibleUserWarning: The dataloader, predict_dataloader 0, does not have many workers which may be a bottleneck. Consider increasing the value of the `num_workers` argument` (try 24 which is the number of cpus on this machine) in the `DataLoader` init to improve performance.\n",
      "  rank_zero_warn(\n",
      "/home/kireev/pipenv_envs/pytorch-lifestream-KxQJF1XF/lib/python3.8/site-packages/pytorch_lightning/loops/epoch/prediction_epoch_loop.py:175: UserWarning: Lightning couldn't infer the indices fetched for your dataloader.\n",
      "  warning_cache.warn(\"Lightning couldn't infer the indices fetched for your dataloader.\")\n",
      "LOCAL_RANK: 0 - CUDA_VISIBLE_DEVICES: [0,1]\n"
     ]
    },
    {
     "data": {
      "text/plain": [
       "(torch.Size([24000, 256]), torch.Size([6000, 256]))"
      ]
     },
     "execution_count": 15,
     "metadata": {},
     "output_type": "execute_result"
    }
   ],
   "source": [
    "# embedding inference\n",
    "%%pyinstrument\n",
    "from ptls.data_load.datasets import inference_data_loader\n",
    "\n",
    "train_dl = inference_data_loader(train, num_workers=0, batch_size=256)\n",
    "train_embeds = torch.vstack(trainer.predict(model, train_dl, ))\n",
    "\n",
    "test_dl = inference_data_loader(test, num_workers=0, batch_size=256)\n",
    "test_embeds = torch.vstack(trainer.predict(model, test_dl))\n",
    "\n",
    "train_embeds.shape, test_embeds.shape"
   ]
  },
  {
   "cell_type": "code",
   "execution_count": 16,
   "id": "18245f84",
   "metadata": {
    "execution": {
     "iopub.execute_input": "2022-05-04T18:23:29.432774Z",
     "iopub.status.busy": "2022-05-04T18:23:29.432271Z",
     "iopub.status.idle": "2022-05-04T18:23:29.567993Z",
     "shell.execute_reply": "2022-05-04T18:23:29.567538Z"
    },
    "pycharm": {
     "name": "#%%\n"
    }
   },
   "outputs": [
    {
     "name": "stdout",
     "output_type": "stream",
     "text": [
      "(24000, 258) (6000, 258)\n"
     ]
    }
   ],
   "source": [
    "# join target and embeddings\n",
    "\n",
    "df_target = pd.read_csv('https://huggingface.co/datasets/dllllb/age-group-prediction/resolve/main/train_target.csv?download=true')\n",
    "df_target = df_target.set_index('client_id')\n",
    "df_target.rename(columns={\"bins\": \"target\"}, inplace=True)\n",
    "\n",
    "train_df = pd.DataFrame(data=train_embeds, columns=[f'embed_{i}' for i in range(train_embeds.shape[1])])\n",
    "train_df['client_id'] = [x['client_id'] for x in train]\n",
    "train_df = train_df.merge(df_target, how='left', on='client_id')\n",
    "\n",
    "test_df = pd.DataFrame(data=test_embeds, columns=[f'embed_{i}' for i in range(test_embeds.shape[1])])\n",
    "test_df['client_id'] = [x['client_id'] for x in test]\n",
    "test_df = test_df.merge(df_target, how='left', on='client_id')\n",
    "\n",
    "print(train_df.shape, test_df.shape)"
   ]
  },
  {
   "cell_type": "markdown",
   "id": "baafa0c0",
   "metadata": {
    "pycharm": {
     "name": "#%% md\n"
    }
   },
   "source": [
    "Obtained embeddings can be used as features for model training\n",
    "\n",
    "For example:"
   ]
  },
  {
   "cell_type": "code",
   "execution_count": 17,
   "id": "37e3de46",
   "metadata": {
    "execution": {
     "iopub.execute_input": "2022-05-04T18:23:29.572307Z",
     "iopub.status.busy": "2022-05-04T18:23:29.571827Z",
     "iopub.status.idle": "2022-05-04T18:24:19.559659Z",
     "shell.execute_reply": "2022-05-04T18:24:19.560095Z"
    },
    "scrolled": true,
    "pycharm": {
     "name": "#%%\n"
    }
   },
   "outputs": [
    {
     "data": {
      "text/plain": [
       "0.5756666666666667"
      ]
     },
     "execution_count": 17,
     "metadata": {},
     "output_type": "execute_result"
    }
   ],
   "source": [
    "from sklearn.ensemble import RandomForestClassifier\n",
    "\n",
    "embed_columns = [x for x in train_df.columns if x.startswith('embed')]\n",
    "x_train, y_train = train_df[embed_columns], train_df['target']\n",
    "x_test, y_test = test_df[embed_columns], test_df['target']\n",
    "\n",
    "clf = RandomForestClassifier()\n",
    "clf.fit(x_train, y_train)\n",
    "clf.score(x_test, y_test)"
   ]
  },
  {
   "cell_type": "code",
   "execution_count": null,
   "id": "24d5b0ab",
   "metadata": {
    "pycharm": {
     "name": "#%%\n"
    }
   },
   "outputs": [],
   "source": []
  }
 ],
 "metadata": {
  "kernelspec": {
   "display_name": "pytorch-lifestream-M9VhSi2U",
   "language": "python",
   "name": "python3"
  },
  "language_info": {
   "codemirror_mode": {
    "name": "ipython",
    "version": 3
   },
   "file_extension": ".py",
   "mimetype": "text/x-python",
   "name": "python",
   "nbconvert_exporter": "python",
   "pygments_lexer": "ipython3",
   "version": "3.8.16"
  },
  "vscode": {
   "interpreter": {
    "hash": "e153ad723e521bdc1aff37b3bab9b1f3df31355f5a727a9b9eb7d0282ae9ca8c"
   }
  },
  "widgets": {
   "application/vnd.jupyter.widget-state+json": {
    "state": {
     "01ee6696e36a496fb14601e1c68db4d7": {
      "model_module": "@jupyter-widgets/base",
      "model_module_version": "1.2.0",
      "model_name": "LayoutModel",
      "state": {
       "_model_module": "@jupyter-widgets/base",
       "_model_module_version": "1.2.0",
       "_model_name": "LayoutModel",
       "_view_count": null,
       "_view_module": "@jupyter-widgets/base",
       "_view_module_version": "1.2.0",
       "_view_name": "LayoutView",
       "align_content": null,
       "align_items": null,
       "align_self": null,
       "border": null,
       "bottom": null,
       "display": "inline-flex",
       "flex": null,
       "flex_flow": "row wrap",
       "grid_area": null,
       "grid_auto_columns": null,
       "grid_auto_flow": null,
       "grid_auto_rows": null,
       "grid_column": null,
       "grid_gap": null,
       "grid_row": null,
       "grid_template_areas": null,
       "grid_template_columns": null,
       "grid_template_rows": null,
       "height": null,
       "justify_content": null,
       "justify_items": null,
       "left": null,
       "margin": null,
       "max_height": null,
       "max_width": null,
       "min_height": null,
       "min_width": null,
       "object_fit": null,
       "object_position": null,
       "order": null,
       "overflow": null,
       "overflow_x": null,
       "overflow_y": null,
       "padding": null,
       "right": null,
       "top": null,
       "visibility": null,
       "width": "100%"
      }
     },
     "0ca97f55cd3d4437a1b1b074c908c230": {
      "model_module": "@jupyter-widgets/base",
      "model_module_version": "1.2.0",
      "model_name": "LayoutModel",
      "state": {
       "_model_module": "@jupyter-widgets/base",
       "_model_module_version": "1.2.0",
       "_model_name": "LayoutModel",
       "_view_count": null,
       "_view_module": "@jupyter-widgets/base",
       "_view_module_version": "1.2.0",
       "_view_name": "LayoutView",
       "align_content": null,
       "align_items": null,
       "align_self": null,
       "border": null,
       "bottom": null,
       "display": null,
       "flex": null,
       "flex_flow": null,
       "grid_area": null,
       "grid_auto_columns": null,
       "grid_auto_flow": null,
       "grid_auto_rows": null,
       "grid_column": null,
       "grid_gap": null,
       "grid_row": null,
       "grid_template_areas": null,
       "grid_template_columns": null,
       "grid_template_rows": null,
       "height": null,
       "justify_content": null,
       "justify_items": null,
       "left": null,
       "margin": null,
       "max_height": null,
       "max_width": null,
       "min_height": null,
       "min_width": null,
       "object_fit": null,
       "object_position": null,
       "order": null,
       "overflow": null,
       "overflow_x": null,
       "overflow_y": null,
       "padding": null,
       "right": null,
       "top": null,
       "visibility": null,
       "width": null
      }
     },
     "26137948bd8f45429b7893dc09a75069": {
      "model_module": "@jupyter-widgets/controls",
      "model_module_version": "1.5.0",
      "model_name": "DescriptionStyleModel",
      "state": {
       "_model_module": "@jupyter-widgets/controls",
       "_model_module_version": "1.5.0",
       "_model_name": "DescriptionStyleModel",
       "_view_count": null,
       "_view_module": "@jupyter-widgets/base",
       "_view_module_version": "1.2.0",
       "_view_name": "StyleView",
       "description_width": ""
      }
     },
     "26952339137e436eb5ce6961037effbe": {
      "model_module": "@jupyter-widgets/controls",
      "model_module_version": "1.5.0",
      "model_name": "DescriptionStyleModel",
      "state": {
       "_model_module": "@jupyter-widgets/controls",
       "_model_module_version": "1.5.0",
       "_model_name": "DescriptionStyleModel",
       "_view_count": null,
       "_view_module": "@jupyter-widgets/base",
       "_view_module_version": "1.2.0",
       "_view_name": "StyleView",
       "description_width": ""
      }
     },
     "364d6da46fa8437c996fd4f255f72698": {
      "model_module": "@jupyter-widgets/controls",
      "model_module_version": "1.5.0",
      "model_name": "ProgressStyleModel",
      "state": {
       "_model_module": "@jupyter-widgets/controls",
       "_model_module_version": "1.5.0",
       "_model_name": "ProgressStyleModel",
       "_view_count": null,
       "_view_module": "@jupyter-widgets/base",
       "_view_module_version": "1.2.0",
       "_view_name": "StyleView",
       "bar_color": null,
       "description_width": ""
      }
     },
     "37640538cd7c42989bfe6f34813a9319": {
      "model_module": "@jupyter-widgets/base",
      "model_module_version": "1.2.0",
      "model_name": "LayoutModel",
      "state": {
       "_model_module": "@jupyter-widgets/base",
       "_model_module_version": "1.2.0",
       "_model_name": "LayoutModel",
       "_view_count": null,
       "_view_module": "@jupyter-widgets/base",
       "_view_module_version": "1.2.0",
       "_view_name": "LayoutView",
       "align_content": null,
       "align_items": null,
       "align_self": null,
       "border": null,
       "bottom": null,
       "display": null,
       "flex": null,
       "flex_flow": null,
       "grid_area": null,
       "grid_auto_columns": null,
       "grid_auto_flow": null,
       "grid_auto_rows": null,
       "grid_column": null,
       "grid_gap": null,
       "grid_row": null,
       "grid_template_areas": null,
       "grid_template_columns": null,
       "grid_template_rows": null,
       "height": null,
       "justify_content": null,
       "justify_items": null,
       "left": null,
       "margin": null,
       "max_height": null,
       "max_width": null,
       "min_height": null,
       "min_width": null,
       "object_fit": null,
       "object_position": null,
       "order": null,
       "overflow": null,
       "overflow_x": null,
       "overflow_y": null,
       "padding": null,
       "right": null,
       "top": null,
       "visibility": null,
       "width": null
      }
     },
     "489653f34e424b4a8d1693feac4301bd": {
      "model_module": "@jupyter-widgets/controls",
      "model_module_version": "1.5.0",
      "model_name": "HTMLModel",
      "state": {
       "_dom_classes": [],
       "_model_module": "@jupyter-widgets/controls",
       "_model_module_version": "1.5.0",
       "_model_name": "HTMLModel",
       "_view_count": null,
       "_view_module": "@jupyter-widgets/controls",
       "_view_module_version": "1.5.0",
       "_view_name": "HTMLView",
       "description": "",
       "description_tooltip": null,
       "layout": "IPY_MODEL_e33f33225f004815ae295a2b9f453883",
       "placeholder": "​",
       "style": "IPY_MODEL_26952339137e436eb5ce6961037effbe",
       "value": "Epoch 14: 100%"
      }
     },
     "60c687724a2a4c9a80a1a58c7a218bbc": {
      "model_module": "@jupyter-widgets/base",
      "model_module_version": "1.2.0",
      "model_name": "LayoutModel",
      "state": {
       "_model_module": "@jupyter-widgets/base",
       "_model_module_version": "1.2.0",
       "_model_name": "LayoutModel",
       "_view_count": null,
       "_view_module": "@jupyter-widgets/base",
       "_view_module_version": "1.2.0",
       "_view_name": "LayoutView",
       "align_content": null,
       "align_items": null,
       "align_self": null,
       "border": null,
       "bottom": null,
       "display": "inline-flex",
       "flex": null,
       "flex_flow": "row wrap",
       "grid_area": null,
       "grid_auto_columns": null,
       "grid_auto_flow": null,
       "grid_auto_rows": null,
       "grid_column": null,
       "grid_gap": null,
       "grid_row": null,
       "grid_template_areas": null,
       "grid_template_columns": null,
       "grid_template_rows": null,
       "height": null,
       "justify_content": null,
       "justify_items": null,
       "left": null,
       "margin": null,
       "max_height": null,
       "max_width": null,
       "min_height": null,
       "min_width": null,
       "object_fit": null,
       "object_position": null,
       "order": null,
       "overflow": null,
       "overflow_x": null,
       "overflow_y": null,
       "padding": null,
       "right": null,
       "top": null,
       "visibility": null,
       "width": "100%"
      }
     },
     "621f6072336e40618ab6adae38e1e762": {
      "model_module": "@jupyter-widgets/controls",
      "model_module_version": "1.5.0",
      "model_name": "DescriptionStyleModel",
      "state": {
       "_model_module": "@jupyter-widgets/controls",
       "_model_module_version": "1.5.0",
       "_model_name": "DescriptionStyleModel",
       "_view_count": null,
       "_view_module": "@jupyter-widgets/base",
       "_view_module_version": "1.2.0",
       "_view_name": "StyleView",
       "description_width": ""
      }
     },
     "70b148cd72e145038118fea79ff32c54": {
      "model_module": "@jupyter-widgets/controls",
      "model_module_version": "1.5.0",
      "model_name": "HTMLModel",
      "state": {
       "_dom_classes": [],
       "_model_module": "@jupyter-widgets/controls",
       "_model_module_version": "1.5.0",
       "_model_name": "HTMLModel",
       "_view_count": null,
       "_view_module": "@jupyter-widgets/controls",
       "_view_module_version": "1.5.0",
       "_view_name": "HTMLView",
       "description": "",
       "description_tooltip": null,
       "layout": "IPY_MODEL_8afe3d3475684582a8d0e8b673fcad49",
       "placeholder": "​",
       "style": "IPY_MODEL_748d27490e9148219c8f188194a8b604",
       "value": "Predicting: "
      }
     },
     "71469a60dd8e4b74a97eb7c27e3aaa4e": {
      "model_module": "@jupyter-widgets/controls",
      "model_module_version": "1.5.0",
      "model_name": "HBoxModel",
      "state": {
       "_dom_classes": [],
       "_model_module": "@jupyter-widgets/controls",
       "_model_module_version": "1.5.0",
       "_model_name": "HBoxModel",
       "_view_count": null,
       "_view_module": "@jupyter-widgets/controls",
       "_view_module_version": "1.5.0",
       "_view_name": "HBoxView",
       "box_style": "",
       "children": [
        "IPY_MODEL_a080e7d5d5d5454aaa5aec47ab11b2f7",
        "IPY_MODEL_e79e92771c444f9fabb37c2dc304aafc",
        "IPY_MODEL_93d164c36d7146058ae0b9d8d475b06d"
       ],
       "layout": "IPY_MODEL_8831196896a64181b02a5ad0d22e0dd8"
      }
     },
     "748d27490e9148219c8f188194a8b604": {
      "model_module": "@jupyter-widgets/controls",
      "model_module_version": "1.5.0",
      "model_name": "DescriptionStyleModel",
      "state": {
       "_model_module": "@jupyter-widgets/controls",
       "_model_module_version": "1.5.0",
       "_model_name": "DescriptionStyleModel",
       "_view_count": null,
       "_view_module": "@jupyter-widgets/base",
       "_view_module_version": "1.2.0",
       "_view_name": "StyleView",
       "description_width": ""
      }
     },
     "7c9829f7a9b847fdb5aeadf917a8fd7f": {
      "model_module": "@jupyter-widgets/controls",
      "model_module_version": "1.5.0",
      "model_name": "DescriptionStyleModel",
      "state": {
       "_model_module": "@jupyter-widgets/controls",
       "_model_module_version": "1.5.0",
       "_model_name": "DescriptionStyleModel",
       "_view_count": null,
       "_view_module": "@jupyter-widgets/base",
       "_view_module_version": "1.2.0",
       "_view_name": "StyleView",
       "description_width": ""
      }
     },
     "84559c5ef59c4ec68695403555d74c81": {
      "model_module": "@jupyter-widgets/controls",
      "model_module_version": "1.5.0",
      "model_name": "HBoxModel",
      "state": {
       "_dom_classes": [],
       "_model_module": "@jupyter-widgets/controls",
       "_model_module_version": "1.5.0",
       "_model_name": "HBoxModel",
       "_view_count": null,
       "_view_module": "@jupyter-widgets/controls",
       "_view_module_version": "1.5.0",
       "_view_name": "HBoxView",
       "box_style": "",
       "children": [
        "IPY_MODEL_70b148cd72e145038118fea79ff32c54",
        "IPY_MODEL_8ccfd768f9ec462186047f88089f9a01",
        "IPY_MODEL_f4559629cb4e4f22b2cb2b1a4198c374"
       ],
       "layout": "IPY_MODEL_01ee6696e36a496fb14601e1c68db4d7"
      }
     },
     "8831196896a64181b02a5ad0d22e0dd8": {
      "model_module": "@jupyter-widgets/base",
      "model_module_version": "1.2.0",
      "model_name": "LayoutModel",
      "state": {
       "_model_module": "@jupyter-widgets/base",
       "_model_module_version": "1.2.0",
       "_model_name": "LayoutModel",
       "_view_count": null,
       "_view_module": "@jupyter-widgets/base",
       "_view_module_version": "1.2.0",
       "_view_name": "LayoutView",
       "align_content": null,
       "align_items": null,
       "align_self": null,
       "border": null,
       "bottom": null,
       "display": "inline-flex",
       "flex": null,
       "flex_flow": "row wrap",
       "grid_area": null,
       "grid_auto_columns": null,
       "grid_auto_flow": null,
       "grid_auto_rows": null,
       "grid_column": null,
       "grid_gap": null,
       "grid_row": null,
       "grid_template_areas": null,
       "grid_template_columns": null,
       "grid_template_rows": null,
       "height": null,
       "justify_content": null,
       "justify_items": null,
       "left": null,
       "margin": null,
       "max_height": null,
       "max_width": null,
       "min_height": null,
       "min_width": null,
       "object_fit": null,
       "object_position": null,
       "order": null,
       "overflow": null,
       "overflow_x": null,
       "overflow_y": null,
       "padding": null,
       "right": null,
       "top": null,
       "visibility": null,
       "width": "100%"
      }
     },
     "8afe3d3475684582a8d0e8b673fcad49": {
      "model_module": "@jupyter-widgets/base",
      "model_module_version": "1.2.0",
      "model_name": "LayoutModel",
      "state": {
       "_model_module": "@jupyter-widgets/base",
       "_model_module_version": "1.2.0",
       "_model_name": "LayoutModel",
       "_view_count": null,
       "_view_module": "@jupyter-widgets/base",
       "_view_module_version": "1.2.0",
       "_view_name": "LayoutView",
       "align_content": null,
       "align_items": null,
       "align_self": null,
       "border": null,
       "bottom": null,
       "display": null,
       "flex": null,
       "flex_flow": null,
       "grid_area": null,
       "grid_auto_columns": null,
       "grid_auto_flow": null,
       "grid_auto_rows": null,
       "grid_column": null,
       "grid_gap": null,
       "grid_row": null,
       "grid_template_areas": null,
       "grid_template_columns": null,
       "grid_template_rows": null,
       "height": null,
       "justify_content": null,
       "justify_items": null,
       "left": null,
       "margin": null,
       "max_height": null,
       "max_width": null,
       "min_height": null,
       "min_width": null,
       "object_fit": null,
       "object_position": null,
       "order": null,
       "overflow": null,
       "overflow_x": null,
       "overflow_y": null,
       "padding": null,
       "right": null,
       "top": null,
       "visibility": null,
       "width": null
      }
     },
     "8ccfd768f9ec462186047f88089f9a01": {
      "model_module": "@jupyter-widgets/controls",
      "model_module_version": "1.5.0",
      "model_name": "FloatProgressModel",
      "state": {
       "_dom_classes": [],
       "_model_module": "@jupyter-widgets/controls",
       "_model_module_version": "1.5.0",
       "_model_name": "FloatProgressModel",
       "_view_count": null,
       "_view_module": "@jupyter-widgets/controls",
       "_view_module_version": "1.5.0",
       "_view_name": "ProgressView",
       "bar_style": "success",
       "description": "",
       "description_tooltip": null,
       "layout": "IPY_MODEL_9bab642e75ac41e29b049d13299c709c",
       "max": 1,
       "min": 0,
       "orientation": "horizontal",
       "style": "IPY_MODEL_caa6bc12efc24d27b2a589f722bb8dcd",
       "value": 1
      }
     },
     "93d164c36d7146058ae0b9d8d475b06d": {
      "model_module": "@jupyter-widgets/controls",
      "model_module_version": "1.5.0",
      "model_name": "HTMLModel",
      "state": {
       "_dom_classes": [],
       "_model_module": "@jupyter-widgets/controls",
       "_model_module_version": "1.5.0",
       "_model_name": "HTMLModel",
       "_view_count": null,
       "_view_module": "@jupyter-widgets/controls",
       "_view_module_version": "1.5.0",
       "_view_name": "HTMLView",
       "description": "",
       "description_tooltip": null,
       "layout": "IPY_MODEL_fba40d205bf7433baad90f9e567710e8",
       "placeholder": "​",
       "style": "IPY_MODEL_621f6072336e40618ab6adae38e1e762",
       "value": " 118/? [00:03&lt;00:00,  6.30it/s]"
      }
     },
     "9bab642e75ac41e29b049d13299c709c": {
      "model_module": "@jupyter-widgets/base",
      "model_module_version": "1.2.0",
      "model_name": "LayoutModel",
      "state": {
       "_model_module": "@jupyter-widgets/base",
       "_model_module_version": "1.2.0",
       "_model_name": "LayoutModel",
       "_view_count": null,
       "_view_module": "@jupyter-widgets/base",
       "_view_module_version": "1.2.0",
       "_view_name": "LayoutView",
       "align_content": null,
       "align_items": null,
       "align_self": null,
       "border": null,
       "bottom": null,
       "display": null,
       "flex": "2",
       "flex_flow": null,
       "grid_area": null,
       "grid_auto_columns": null,
       "grid_auto_flow": null,
       "grid_auto_rows": null,
       "grid_column": null,
       "grid_gap": null,
       "grid_row": null,
       "grid_template_areas": null,
       "grid_template_columns": null,
       "grid_template_rows": null,
       "height": null,
       "justify_content": null,
       "justify_items": null,
       "left": null,
       "margin": null,
       "max_height": null,
       "max_width": null,
       "min_height": null,
       "min_width": null,
       "object_fit": null,
       "object_position": null,
       "order": null,
       "overflow": null,
       "overflow_x": null,
       "overflow_y": null,
       "padding": null,
       "right": null,
       "top": null,
       "visibility": null,
       "width": null
      }
     },
     "a080e7d5d5d5454aaa5aec47ab11b2f7": {
      "model_module": "@jupyter-widgets/controls",
      "model_module_version": "1.5.0",
      "model_name": "HTMLModel",
      "state": {
       "_dom_classes": [],
       "_model_module": "@jupyter-widgets/controls",
       "_model_module_version": "1.5.0",
       "_model_name": "HTMLModel",
       "_view_count": null,
       "_view_module": "@jupyter-widgets/controls",
       "_view_module_version": "1.5.0",
       "_view_name": "HTMLView",
       "description": "",
       "description_tooltip": null,
       "layout": "IPY_MODEL_0ca97f55cd3d4437a1b1b074c908c230",
       "placeholder": "​",
       "style": "IPY_MODEL_7c9829f7a9b847fdb5aeadf917a8fd7f",
       "value": "Predicting: "
      }
     },
     "aacec0ffb61e47c188f42f5d4ee93d07": {
      "model_module": "@jupyter-widgets/controls",
      "model_module_version": "1.5.0",
      "model_name": "HBoxModel",
      "state": {
       "_dom_classes": [],
       "_model_module": "@jupyter-widgets/controls",
       "_model_module_version": "1.5.0",
       "_model_name": "HBoxModel",
       "_view_count": null,
       "_view_module": "@jupyter-widgets/controls",
       "_view_module_version": "1.5.0",
       "_view_name": "HBoxView",
       "box_style": "",
       "children": [
        "IPY_MODEL_489653f34e424b4a8d1693feac4301bd",
        "IPY_MODEL_cc2169b121624ce490b28642b260ee68",
        "IPY_MODEL_de9674f610a04a50a662d37cd7a0fe98"
       ],
       "layout": "IPY_MODEL_60c687724a2a4c9a80a1a58c7a218bbc"
      }
     },
     "b26ad2fd0b2245d899312ce0ebd50f40": {
      "model_module": "@jupyter-widgets/controls",
      "model_module_version": "1.5.0",
      "model_name": "ProgressStyleModel",
      "state": {
       "_model_module": "@jupyter-widgets/controls",
       "_model_module_version": "1.5.0",
       "_model_name": "ProgressStyleModel",
       "_view_count": null,
       "_view_module": "@jupyter-widgets/base",
       "_view_module_version": "1.2.0",
       "_view_name": "StyleView",
       "bar_color": null,
       "description_width": ""
      }
     },
     "c1353e5ca7c64b2183ce2533b240acd4": {
      "model_module": "@jupyter-widgets/controls",
      "model_module_version": "1.5.0",
      "model_name": "DescriptionStyleModel",
      "state": {
       "_model_module": "@jupyter-widgets/controls",
       "_model_module_version": "1.5.0",
       "_model_name": "DescriptionStyleModel",
       "_view_count": null,
       "_view_module": "@jupyter-widgets/base",
       "_view_module_version": "1.2.0",
       "_view_name": "StyleView",
       "description_width": ""
      }
     },
     "c9ded1ea494a476cbc5286e310d9a989": {
      "model_module": "@jupyter-widgets/base",
      "model_module_version": "1.2.0",
      "model_name": "LayoutModel",
      "state": {
       "_model_module": "@jupyter-widgets/base",
       "_model_module_version": "1.2.0",
       "_model_name": "LayoutModel",
       "_view_count": null,
       "_view_module": "@jupyter-widgets/base",
       "_view_module_version": "1.2.0",
       "_view_name": "LayoutView",
       "align_content": null,
       "align_items": null,
       "align_self": null,
       "border": null,
       "bottom": null,
       "display": null,
       "flex": "2",
       "flex_flow": null,
       "grid_area": null,
       "grid_auto_columns": null,
       "grid_auto_flow": null,
       "grid_auto_rows": null,
       "grid_column": null,
       "grid_gap": null,
       "grid_row": null,
       "grid_template_areas": null,
       "grid_template_columns": null,
       "grid_template_rows": null,
       "height": null,
       "justify_content": null,
       "justify_items": null,
       "left": null,
       "margin": null,
       "max_height": null,
       "max_width": null,
       "min_height": null,
       "min_width": null,
       "object_fit": null,
       "object_position": null,
       "order": null,
       "overflow": null,
       "overflow_x": null,
       "overflow_y": null,
       "padding": null,
       "right": null,
       "top": null,
       "visibility": null,
       "width": null
      }
     },
     "caa6bc12efc24d27b2a589f722bb8dcd": {
      "model_module": "@jupyter-widgets/controls",
      "model_module_version": "1.5.0",
      "model_name": "ProgressStyleModel",
      "state": {
       "_model_module": "@jupyter-widgets/controls",
       "_model_module_version": "1.5.0",
       "_model_name": "ProgressStyleModel",
       "_view_count": null,
       "_view_module": "@jupyter-widgets/base",
       "_view_module_version": "1.2.0",
       "_view_name": "StyleView",
       "bar_color": null,
       "description_width": ""
      }
     },
     "cc2169b121624ce490b28642b260ee68": {
      "model_module": "@jupyter-widgets/controls",
      "model_module_version": "1.5.0",
      "model_name": "FloatProgressModel",
      "state": {
       "_dom_classes": [],
       "_model_module": "@jupyter-widgets/controls",
       "_model_module_version": "1.5.0",
       "_model_name": "FloatProgressModel",
       "_view_count": null,
       "_view_module": "@jupyter-widgets/controls",
       "_view_module_version": "1.5.0",
       "_view_name": "ProgressView",
       "bar_style": "success",
       "description": "",
       "description_tooltip": null,
       "layout": "IPY_MODEL_cc7588a078fe43a2a0838cbee8349163",
       "max": 94,
       "min": 0,
       "orientation": "horizontal",
       "style": "IPY_MODEL_b26ad2fd0b2245d899312ce0ebd50f40",
       "value": 94
      }
     },
     "cc7588a078fe43a2a0838cbee8349163": {
      "model_module": "@jupyter-widgets/base",
      "model_module_version": "1.2.0",
      "model_name": "LayoutModel",
      "state": {
       "_model_module": "@jupyter-widgets/base",
       "_model_module_version": "1.2.0",
       "_model_name": "LayoutModel",
       "_view_count": null,
       "_view_module": "@jupyter-widgets/base",
       "_view_module_version": "1.2.0",
       "_view_name": "LayoutView",
       "align_content": null,
       "align_items": null,
       "align_self": null,
       "border": null,
       "bottom": null,
       "display": null,
       "flex": "2",
       "flex_flow": null,
       "grid_area": null,
       "grid_auto_columns": null,
       "grid_auto_flow": null,
       "grid_auto_rows": null,
       "grid_column": null,
       "grid_gap": null,
       "grid_row": null,
       "grid_template_areas": null,
       "grid_template_columns": null,
       "grid_template_rows": null,
       "height": null,
       "justify_content": null,
       "justify_items": null,
       "left": null,
       "margin": null,
       "max_height": null,
       "max_width": null,
       "min_height": null,
       "min_width": null,
       "object_fit": null,
       "object_position": null,
       "order": null,
       "overflow": null,
       "overflow_x": null,
       "overflow_y": null,
       "padding": null,
       "right": null,
       "top": null,
       "visibility": null,
       "width": null
      }
     },
     "de9674f610a04a50a662d37cd7a0fe98": {
      "model_module": "@jupyter-widgets/controls",
      "model_module_version": "1.5.0",
      "model_name": "HTMLModel",
      "state": {
       "_dom_classes": [],
       "_model_module": "@jupyter-widgets/controls",
       "_model_module_version": "1.5.0",
       "_model_name": "HTMLModel",
       "_view_count": null,
       "_view_module": "@jupyter-widgets/controls",
       "_view_module_version": "1.5.0",
       "_view_name": "HTMLView",
       "description": "",
       "description_tooltip": null,
       "layout": "IPY_MODEL_37640538cd7c42989bfe6f34813a9319",
       "placeholder": "​",
       "style": "IPY_MODEL_c1353e5ca7c64b2183ce2533b240acd4",
       "value": " 94/94 [00:44&lt;00:00,  2.10it/s, loss=373, v_num=9, seq_len=113.0]"
      }
     },
     "e33f33225f004815ae295a2b9f453883": {
      "model_module": "@jupyter-widgets/base",
      "model_module_version": "1.2.0",
      "model_name": "LayoutModel",
      "state": {
       "_model_module": "@jupyter-widgets/base",
       "_model_module_version": "1.2.0",
       "_model_name": "LayoutModel",
       "_view_count": null,
       "_view_module": "@jupyter-widgets/base",
       "_view_module_version": "1.2.0",
       "_view_name": "LayoutView",
       "align_content": null,
       "align_items": null,
       "align_self": null,
       "border": null,
       "bottom": null,
       "display": null,
       "flex": null,
       "flex_flow": null,
       "grid_area": null,
       "grid_auto_columns": null,
       "grid_auto_flow": null,
       "grid_auto_rows": null,
       "grid_column": null,
       "grid_gap": null,
       "grid_row": null,
       "grid_template_areas": null,
       "grid_template_columns": null,
       "grid_template_rows": null,
       "height": null,
       "justify_content": null,
       "justify_items": null,
       "left": null,
       "margin": null,
       "max_height": null,
       "max_width": null,
       "min_height": null,
       "min_width": null,
       "object_fit": null,
       "object_position": null,
       "order": null,
       "overflow": null,
       "overflow_x": null,
       "overflow_y": null,
       "padding": null,
       "right": null,
       "top": null,
       "visibility": null,
       "width": null
      }
     },
     "e79e92771c444f9fabb37c2dc304aafc": {
      "model_module": "@jupyter-widgets/controls",
      "model_module_version": "1.5.0",
      "model_name": "FloatProgressModel",
      "state": {
       "_dom_classes": [],
       "_model_module": "@jupyter-widgets/controls",
       "_model_module_version": "1.5.0",
       "_model_name": "FloatProgressModel",
       "_view_count": null,
       "_view_module": "@jupyter-widgets/controls",
       "_view_module_version": "1.5.0",
       "_view_name": "ProgressView",
       "bar_style": "success",
       "description": "",
       "description_tooltip": null,
       "layout": "IPY_MODEL_c9ded1ea494a476cbc5286e310d9a989",
       "max": 1,
       "min": 0,
       "orientation": "horizontal",
       "style": "IPY_MODEL_364d6da46fa8437c996fd4f255f72698",
       "value": 1
      }
     },
     "ecea7cc60e854a51bb8d5b1498235515": {
      "model_module": "@jupyter-widgets/base",
      "model_module_version": "1.2.0",
      "model_name": "LayoutModel",
      "state": {
       "_model_module": "@jupyter-widgets/base",
       "_model_module_version": "1.2.0",
       "_model_name": "LayoutModel",
       "_view_count": null,
       "_view_module": "@jupyter-widgets/base",
       "_view_module_version": "1.2.0",
       "_view_name": "LayoutView",
       "align_content": null,
       "align_items": null,
       "align_self": null,
       "border": null,
       "bottom": null,
       "display": null,
       "flex": null,
       "flex_flow": null,
       "grid_area": null,
       "grid_auto_columns": null,
       "grid_auto_flow": null,
       "grid_auto_rows": null,
       "grid_column": null,
       "grid_gap": null,
       "grid_row": null,
       "grid_template_areas": null,
       "grid_template_columns": null,
       "grid_template_rows": null,
       "height": null,
       "justify_content": null,
       "justify_items": null,
       "left": null,
       "margin": null,
       "max_height": null,
       "max_width": null,
       "min_height": null,
       "min_width": null,
       "object_fit": null,
       "object_position": null,
       "order": null,
       "overflow": null,
       "overflow_x": null,
       "overflow_y": null,
       "padding": null,
       "right": null,
       "top": null,
       "visibility": null,
       "width": null
      }
     },
     "f4559629cb4e4f22b2cb2b1a4198c374": {
      "model_module": "@jupyter-widgets/controls",
      "model_module_version": "1.5.0",
      "model_name": "HTMLModel",
      "state": {
       "_dom_classes": [],
       "_model_module": "@jupyter-widgets/controls",
       "_model_module_version": "1.5.0",
       "_model_name": "HTMLModel",
       "_view_count": null,
       "_view_module": "@jupyter-widgets/controls",
       "_view_module_version": "1.5.0",
       "_view_name": "HTMLView",
       "description": "",
       "description_tooltip": null,
       "layout": "IPY_MODEL_ecea7cc60e854a51bb8d5b1498235515",
       "placeholder": "​",
       "style": "IPY_MODEL_26137948bd8f45429b7893dc09a75069",
       "value": " 188/? [00:15&lt;00:00,  6.24it/s]"
      }
     },
     "fba40d205bf7433baad90f9e567710e8": {
      "model_module": "@jupyter-widgets/base",
      "model_module_version": "1.2.0",
      "model_name": "LayoutModel",
      "state": {
       "_model_module": "@jupyter-widgets/base",
       "_model_module_version": "1.2.0",
       "_model_name": "LayoutModel",
       "_view_count": null,
       "_view_module": "@jupyter-widgets/base",
       "_view_module_version": "1.2.0",
       "_view_name": "LayoutView",
       "align_content": null,
       "align_items": null,
       "align_self": null,
       "border": null,
       "bottom": null,
       "display": null,
       "flex": null,
       "flex_flow": null,
       "grid_area": null,
       "grid_auto_columns": null,
       "grid_auto_flow": null,
       "grid_auto_rows": null,
       "grid_column": null,
       "grid_gap": null,
       "grid_row": null,
       "grid_template_areas": null,
       "grid_template_columns": null,
       "grid_template_rows": null,
       "height": null,
       "justify_content": null,
       "justify_items": null,
       "left": null,
       "margin": null,
       "max_height": null,
       "max_width": null,
       "min_height": null,
       "min_width": null,
       "object_fit": null,
       "object_position": null,
       "order": null,
       "overflow": null,
       "overflow_x": null,
       "overflow_y": null,
       "padding": null,
       "right": null,
       "top": null,
       "visibility": null,
       "width": null
      }
     }
    },
    "version_major": 2,
    "version_minor": 0
   }
  }
 },
 "nbformat": 4,
 "nbformat_minor": 5
}