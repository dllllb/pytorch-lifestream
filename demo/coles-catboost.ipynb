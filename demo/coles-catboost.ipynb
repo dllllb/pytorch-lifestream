{
 "cells": [
  {
   "cell_type": "markdown",
   "id": "a7431993",
   "metadata": {},
   "source": [
    "## Data load"
   ]
  },
  {
   "cell_type": "code",
   "execution_count": 1,
   "id": "a798aaae",
   "metadata": {},
   "outputs": [],
   "source": [
    "import os\n",
    "\n",
    "if not os.path.exists('data/transactions_train.csv'):\n",
    "    ! mkdir -p data\n",
    "    ! curl -OL https://storage.yandexcloud.net/di-datasets/age-prediction-nti-sbebank-2019.zip\n",
    "    ! unzip -j -o age-prediction-nti-sbebank-2019.zip 'data/*.csv' -d data\n",
    "    ! mv age-prediction-nti-sbebank-2019.zip data/"
   ]
  },
  {
   "cell_type": "markdown",
   "id": "2f96b188",
   "metadata": {},
   "source": [
    "## Setup"
   ]
  },
  {
   "cell_type": "code",
   "execution_count": 2,
   "id": "587df1ea",
   "metadata": {},
   "outputs": [],
   "source": [
    "%load_ext autoreload\n",
    "%autoreload 2\n",
    "\n",
    "import logging\n",
    "import pytorch_lightning as pl\n",
    "import warnings\n",
    "\n",
    "warnings.filterwarnings('ignore')\n",
    "logging.getLogger(\"pytorch_lightning\").setLevel(logging.ERROR)"
   ]
  },
  {
   "cell_type": "markdown",
   "id": "82f989bc",
   "metadata": {},
   "source": [
    "## Data preproccessing"
   ]
  },
  {
   "cell_type": "code",
   "execution_count": 3,
   "id": "7e06bd27",
   "metadata": {},
   "outputs": [
    {
     "data": {
      "text/html": [
       "<div>\n",
       "<style scoped>\n",
       "    .dataframe tbody tr th:only-of-type {\n",
       "        vertical-align: middle;\n",
       "    }\n",
       "\n",
       "    .dataframe tbody tr th {\n",
       "        vertical-align: top;\n",
       "    }\n",
       "\n",
       "    .dataframe thead th {\n",
       "        text-align: right;\n",
       "    }\n",
       "</style>\n",
       "<table border=\"1\" class=\"dataframe\">\n",
       "  <thead>\n",
       "    <tr style=\"text-align: right;\">\n",
       "      <th></th>\n",
       "      <th>client_id</th>\n",
       "      <th>trans_date</th>\n",
       "      <th>small_group</th>\n",
       "      <th>amount_rur</th>\n",
       "    </tr>\n",
       "  </thead>\n",
       "  <tbody>\n",
       "    <tr>\n",
       "      <th>0</th>\n",
       "      <td>33172</td>\n",
       "      <td>6</td>\n",
       "      <td>4</td>\n",
       "      <td>71.463</td>\n",
       "    </tr>\n",
       "    <tr>\n",
       "      <th>1</th>\n",
       "      <td>33172</td>\n",
       "      <td>6</td>\n",
       "      <td>35</td>\n",
       "      <td>45.017</td>\n",
       "    </tr>\n",
       "  </tbody>\n",
       "</table>\n",
       "</div>"
      ],
      "text/plain": [
       "   client_id  trans_date  small_group  amount_rur\n",
       "0      33172           6            4      71.463\n",
       "1      33172           6           35      45.017"
      ]
     },
     "execution_count": 3,
     "metadata": {},
     "output_type": "execute_result"
    }
   ],
   "source": [
    "import os\n",
    "import pandas as pd\n",
    "\n",
    "data_path = 'data/'\n",
    "\n",
    "source_data = pd.read_csv(os.path.join(data_path, 'transactions_train.csv'))\n",
    "source_data.head(2)"
   ]
  },
  {
   "cell_type": "code",
   "execution_count": 4,
   "id": "8615b722",
   "metadata": {},
   "outputs": [],
   "source": [
    "from ptls.data_preprocessing import PandasDataPreprocessor\n",
    "\n",
    "preprocessor = PandasDataPreprocessor(\n",
    "    col_id='client_id',\n",
    "    cols_event_time='trans_date',\n",
    "    time_transformation='float',\n",
    "    cols_category=[\"trans_date\", \"small_group\"],\n",
    "    cols_log_norm=[\"amount_rur\"],\n",
    "    print_dataset_info=False,\n",
    ")"
   ]
  },
  {
   "cell_type": "code",
   "execution_count": 5,
   "id": "fca72f6e",
   "metadata": {},
   "outputs": [
    {
     "name": "stdout",
     "output_type": "stream",
     "text": [
      "CPU times: user 1min 6s, sys: 12.9 s, total: 1min 19s\n",
      "Wall time: 1min 19s\n"
     ]
    }
   ],
   "source": [
    "%%time\n",
    "\n",
    "dataset = preprocessor.fit_transform(source_data)"
   ]
  },
  {
   "cell_type": "code",
   "execution_count": 6,
   "id": "98e7d39d",
   "metadata": {},
   "outputs": [
    {
     "name": "stdout",
     "output_type": "stream",
     "text": [
      "24000 6000\n"
     ]
    }
   ],
   "source": [
    "from sklearn.model_selection import train_test_split\n",
    "\n",
    "train, test = train_test_split(dataset, test_size=0.2, random_state=42)\n",
    "\n",
    "print(len(train), len(test))"
   ]
  },
  {
   "cell_type": "markdown",
   "id": "9d65b5e3",
   "metadata": {},
   "source": [
    "## Inference "
   ]
  },
  {
   "cell_type": "markdown",
   "id": "6f7f2c6c",
   "metadata": {},
   "source": [
    "### load SequenceEncoder obtained from `coles-emb.ipynb`"
   ]
  },
  {
   "cell_type": "code",
   "execution_count": 7,
   "id": "715e00f4",
   "metadata": {},
   "outputs": [],
   "source": [
    "import torch\n",
    "from ptls.seq_encoder import SequenceEncoder\n",
    "from ptls.models import Head\n",
    "from ptls.lightning_modules.emb_module import EmbModule\n",
    "\n",
    "seq_encoder = SequenceEncoder(\n",
    "    category_features=preprocessor.get_category_sizes(),\n",
    "    numeric_features=[\"amount_rur\"],\n",
    "    trx_embedding_noize=0.003\n",
    ")\n",
    "\n",
    "head = Head(input_size=seq_encoder.embedding_size, use_norm_encoder=True)\n",
    "\n",
    "model = EmbModule(seq_encoder=seq_encoder, head=head)\n",
    "\n",
    "model.load_state_dict(torch.load('coles-emb.pt'))\n",
    "model.eval()"
   ]
  },
  {
   "cell_type": "markdown",
   "id": "7957dcb3",
   "metadata": {},
   "source": [
    "### embedding inference"
   ]
  },
  {
   "cell_type": "code",
   "execution_count": 10,
   "id": "3c32741d",
   "metadata": {},
   "outputs": [],
   "source": [
    "from ptls.data_load.data_module.emb_data_module import inference_data_loader\n",
    "\n",
    "\n",
    "trainer = pl.Trainer(gpus=1 if torch.cuda.is_available() else 0)\n",
    "\n",
    "train_dl = inference_data_loader(train, num_workers=0, batch_size=256)\n",
    "train_embeds = torch.vstack(trainer.predict(model, train_dl))\n",
    "\n",
    "test_dl = inference_data_loader(test, num_workers=0, batch_size=256)\n",
    "test_embeds = torch.vstack(trainer.predict(model, test_dl))\n",
    "\n",
    "train_embeds.shape, test_embeds.shape"
   ]
  },
  {
   "cell_type": "code",
   "execution_count": 11,
   "id": "18245f84",
   "metadata": {},
   "outputs": [
    {
     "name": "stdout",
     "output_type": "stream",
     "text": [
      "(24000, 514) (6000, 514)\n"
     ]
    },
    {
     "data": {
      "text/html": [
       "<div>\n",
       "<style scoped>\n",
       "    .dataframe tbody tr th:only-of-type {\n",
       "        vertical-align: middle;\n",
       "    }\n",
       "\n",
       "    .dataframe tbody tr th {\n",
       "        vertical-align: top;\n",
       "    }\n",
       "\n",
       "    .dataframe thead th {\n",
       "        text-align: right;\n",
       "    }\n",
       "</style>\n",
       "<table border=\"1\" class=\"dataframe\">\n",
       "  <thead>\n",
       "    <tr style=\"text-align: right;\">\n",
       "      <th></th>\n",
       "      <th>embed_0</th>\n",
       "      <th>embed_1</th>\n",
       "      <th>embed_2</th>\n",
       "      <th>embed_3</th>\n",
       "      <th>embed_4</th>\n",
       "      <th>embed_5</th>\n",
       "      <th>embed_6</th>\n",
       "      <th>embed_7</th>\n",
       "      <th>embed_8</th>\n",
       "      <th>embed_9</th>\n",
       "      <th>...</th>\n",
       "      <th>embed_504</th>\n",
       "      <th>embed_505</th>\n",
       "      <th>embed_506</th>\n",
       "      <th>embed_507</th>\n",
       "      <th>embed_508</th>\n",
       "      <th>embed_509</th>\n",
       "      <th>embed_510</th>\n",
       "      <th>embed_511</th>\n",
       "      <th>client_id</th>\n",
       "      <th>target</th>\n",
       "    </tr>\n",
       "  </thead>\n",
       "  <tbody>\n",
       "    <tr>\n",
       "      <th>0</th>\n",
       "      <td>0.373101</td>\n",
       "      <td>-0.213911</td>\n",
       "      <td>-0.189349</td>\n",
       "      <td>-0.123080</td>\n",
       "      <td>-0.317470</td>\n",
       "      <td>-0.002377</td>\n",
       "      <td>-0.175975</td>\n",
       "      <td>0.102246</td>\n",
       "      <td>-0.009308</td>\n",
       "      <td>0.110643</td>\n",
       "      <td>...</td>\n",
       "      <td>0.176085</td>\n",
       "      <td>-0.815983</td>\n",
       "      <td>0.257683</td>\n",
       "      <td>0.064436</td>\n",
       "      <td>0.270341</td>\n",
       "      <td>0.127847</td>\n",
       "      <td>-0.024828</td>\n",
       "      <td>0.242617</td>\n",
       "      <td>36253</td>\n",
       "      <td>1</td>\n",
       "    </tr>\n",
       "    <tr>\n",
       "      <th>1</th>\n",
       "      <td>0.368686</td>\n",
       "      <td>-0.187700</td>\n",
       "      <td>-0.201657</td>\n",
       "      <td>-0.122744</td>\n",
       "      <td>-0.235919</td>\n",
       "      <td>0.000645</td>\n",
       "      <td>0.125182</td>\n",
       "      <td>0.503544</td>\n",
       "      <td>0.062359</td>\n",
       "      <td>-0.015960</td>\n",
       "      <td>...</td>\n",
       "      <td>0.261096</td>\n",
       "      <td>-0.922538</td>\n",
       "      <td>0.693982</td>\n",
       "      <td>0.103815</td>\n",
       "      <td>0.406128</td>\n",
       "      <td>0.129606</td>\n",
       "      <td>-0.048214</td>\n",
       "      <td>0.174769</td>\n",
       "      <td>396</td>\n",
       "      <td>2</td>\n",
       "    </tr>\n",
       "  </tbody>\n",
       "</table>\n",
       "<p>2 rows × 514 columns</p>\n",
       "</div>"
      ],
      "text/plain": [
       "    embed_0   embed_1   embed_2   embed_3   embed_4   embed_5   embed_6  \\\n",
       "0  0.373101 -0.213911 -0.189349 -0.123080 -0.317470 -0.002377 -0.175975   \n",
       "1  0.368686 -0.187700 -0.201657 -0.122744 -0.235919  0.000645  0.125182   \n",
       "\n",
       "    embed_7   embed_8   embed_9  ...  embed_504  embed_505  embed_506  \\\n",
       "0  0.102246 -0.009308  0.110643  ...   0.176085  -0.815983   0.257683   \n",
       "1  0.503544  0.062359 -0.015960  ...   0.261096  -0.922538   0.693982   \n",
       "\n",
       "   embed_507  embed_508  embed_509  embed_510  embed_511  client_id  target  \n",
       "0   0.064436   0.270341   0.127847  -0.024828   0.242617      36253       1  \n",
       "1   0.103815   0.406128   0.129606  -0.048214   0.174769        396       2  \n",
       "\n",
       "[2 rows x 514 columns]"
      ]
     },
     "execution_count": 11,
     "metadata": {},
     "output_type": "execute_result"
    }
   ],
   "source": [
    "# join target and embeddings\n",
    "\n",
    "df_target = pd.read_csv(os.path.join(data_path, 'train_target.csv'))\n",
    "df_target = df_target.set_index('client_id')\n",
    "df_target.rename(columns={\"bins\": \"target\"}, inplace=True)\n",
    "\n",
    "train_df = pd.DataFrame(data=train_embeds, columns=[f'embed_{i}' for i in range(train_embeds.shape[1])])\n",
    "train_df['client_id'] = [x['client_id'] for x in train]\n",
    "train_df = train_df.merge(df_target, how='left', on='client_id')\n",
    "\n",
    "test_df = pd.DataFrame(data=test_embeds, columns=[f'embed_{i}' for i in range(test_embeds.shape[1])])\n",
    "test_df['client_id'] = [x['client_id'] for x in test]\n",
    "test_df = test_df.merge(df_target, how='left', on='client_id')\n",
    "\n",
    "print(train_df.shape, test_df.shape)\n",
    "train_df.head(2)"
   ]
  },
  {
   "cell_type": "code",
   "execution_count": 12,
   "id": "80fb9418",
   "metadata": {},
   "outputs": [],
   "source": [
    "import numpy as np\n",
    "\n",
    "\n",
    "y_train = train_df['target'].values\n",
    "X_train = train_df.drop(['client_id', 'target'], axis=1)\n",
    "X_train_emb = pd.DataFrame(np.arange(len(X_train)))\n",
    "X_train_emb['embeddings'] = X_train.values.tolist()\n",
    "X_train_emb = X_train_emb.drop([0], axis=1)\n",
    "\n",
    "y_val = test_df['target'].values\n",
    "X_val = test_df.drop(['client_id', 'target'], axis=1)\n",
    "X_val_emb = pd.DataFrame(np.arange(len(X_val)))\n",
    "X_val_emb['embeddings'] = X_val.values.tolist()\n",
    "X_val_emb = X_val_emb.drop([0], axis=1)"
   ]
  },
  {
   "cell_type": "markdown",
   "id": "68bf49cf",
   "metadata": {},
   "source": [
    "## Lets use obtained embeddings for CatBoost training"
   ]
  },
  {
   "cell_type": "code",
   "execution_count": 25,
   "id": "4a14793b",
   "metadata": {},
   "outputs": [],
   "source": [
    "#!pip install catboost\n",
    "\n",
    "from catboost import CatBoostClassifier, metrics"
   ]
  },
  {
   "cell_type": "markdown",
   "id": "18ef862f",
   "metadata": {},
   "source": [
    "### With CatBoost embedding_features"
   ]
  },
  {
   "cell_type": "code",
   "execution_count": 16,
   "id": "56782093",
   "metadata": {},
   "outputs": [],
   "source": [
    "CatBoostModel_emb = CatBoostClassifier(\n",
    "    iterations=1000,\n",
    "    learning_rate=0.05,\n",
    "    use_best_model=True,\n",
    "    custom_metric=[metrics.Accuracy()],\n",
    "    random_seed=42,\n",
    "    logging_level='Silent',\n",
    "    embedding_features=['embeddings'],\n",
    "    depth=5\n",
    ")"
   ]
  },
  {
   "cell_type": "code",
   "execution_count": 17,
   "id": "cf37fdbb",
   "metadata": {},
   "outputs": [
    {
     "data": {
      "application/vnd.jupyter.widget-view+json": {
       "model_id": "4018b090627441fd9fbe78aa23312bf0",
       "version_major": 2,
       "version_minor": 0
      },
      "text/plain": [
       "MetricVisualizer(layout=Layout(align_self='stretch', height='500px'))"
      ]
     },
     "metadata": {},
     "output_type": "display_data"
    },
    {
     "name": "stdout",
     "output_type": "stream",
     "text": [
      "CPU times: user 1min 33s, sys: 6.11 s, total: 1min 39s\n",
      "Wall time: 50.9 s\n"
     ]
    },
    {
     "data": {
      "text/plain": [
       "<catboost.core.CatBoostClassifier at 0x7f288f57e340>"
      ]
     },
     "execution_count": 17,
     "metadata": {},
     "output_type": "execute_result"
    }
   ],
   "source": [
    "%%time\n",
    "\n",
    "CatBoostModel_emb.fit(\n",
    "    X_train_emb, y_train,\n",
    "    eval_set=(X_val_emb, y_val),\n",
    "    plot=True\n",
    "#     logging_level='Verbose',  # you can uncomment this for text output\n",
    ")"
   ]
  },
  {
   "cell_type": "code",
   "execution_count": 19,
   "id": "e6eb8606",
   "metadata": {},
   "outputs": [
    {
     "data": {
      "text/plain": [
       "{'learn': {'Accuracy': 0.606125, 'MultiClass': 0.8918884607626317},\n",
       " 'validation': {'Accuracy': 0.5925, 'MultiClass': 0.9238751802205147}}"
      ]
     },
     "execution_count": 19,
     "metadata": {},
     "output_type": "execute_result"
    }
   ],
   "source": [
    "CatBoostModel_emb.get_best_score()"
   ]
  },
  {
   "cell_type": "markdown",
   "id": "5455bb2e",
   "metadata": {},
   "source": [
    "### Without CatBoost embedding_features"
   ]
  },
  {
   "cell_type": "code",
   "execution_count": 20,
   "id": "edb384f3",
   "metadata": {},
   "outputs": [],
   "source": [
    "CatBoostModel = CatBoostClassifier(\n",
    "    iterations=1000,\n",
    "    learning_rate=0.05,\n",
    "    use_best_model=True,\n",
    "    custom_metric=[metrics.Accuracy()],\n",
    "    random_seed=42,\n",
    "    logging_level='Silent',\n",
    "    depth=4\n",
    ")"
   ]
  },
  {
   "cell_type": "code",
   "execution_count": 21,
   "id": "204a9c10",
   "metadata": {},
   "outputs": [
    {
     "data": {
      "application/vnd.jupyter.widget-view+json": {
       "model_id": "3bfe94b3946b4c82af3e6f1b4f8ba03c",
       "version_major": 2,
       "version_minor": 0
      },
      "text/plain": [
       "MetricVisualizer(layout=Layout(align_self='stretch', height='500px'))"
      ]
     },
     "metadata": {},
     "output_type": "display_data"
    },
    {
     "name": "stdout",
     "output_type": "stream",
     "text": [
      "CPU times: user 5min 9s, sys: 9.23 s, total: 5min 18s\n",
      "Wall time: 17.9 s\n"
     ]
    },
    {
     "data": {
      "text/plain": [
       "<catboost.core.CatBoostClassifier at 0x7f288f594970>"
      ]
     },
     "execution_count": 21,
     "metadata": {},
     "output_type": "execute_result"
    }
   ],
   "source": [
    "%%time\n",
    "\n",
    "CatBoostModel.fit(\n",
    "    X_train, y_train,\n",
    "    eval_set=(X_val, y_val),\n",
    "    plot=True\n",
    "#     logging_level='Verbose',  # you can uncomment this for text output\n",
    ")"
   ]
  },
  {
   "cell_type": "code",
   "execution_count": 22,
   "id": "2b63ffdb",
   "metadata": {},
   "outputs": [
    {
     "data": {
      "text/plain": [
       "{'learn': {'Accuracy': 0.6721666666666667, 'MultiClass': 0.7912943257854652},\n",
       " 'validation': {'Accuracy': 0.617, 'MultiClass': 0.8795840934570158}}"
      ]
     },
     "execution_count": 22,
     "metadata": {},
     "output_type": "execute_result"
    }
   ],
   "source": [
    "CatBoostModel.get_best_score()"
   ]
  },
  {
   "cell_type": "code",
   "execution_count": 23,
   "id": "24d5b0ab",
   "metadata": {},
   "outputs": [
    {
     "data": {
      "text/plain": [
       "0.6135"
      ]
     },
     "execution_count": 23,
     "metadata": {},
     "output_type": "execute_result"
    }
   ],
   "source": [
    "CatBoostModel.score(X_val, y_val)"
   ]
  },
  {
   "cell_type": "code",
   "execution_count": null,
   "id": "20cfe88e",
   "metadata": {},
   "outputs": [],
   "source": []
  }
 ],
 "metadata": {
  "kernelspec": {
   "display_name": "Python 3 (ipykernel)",
   "language": "python",
   "name": "python3"
  },
  "language_info": {
   "codemirror_mode": {
    "name": "ipython",
    "version": 3
   },
   "file_extension": ".py",
   "mimetype": "text/x-python",
   "name": "python",
   "nbconvert_exporter": "python",
   "pygments_lexer": "ipython3",
   "version": "3.8.0"
  }
 },
 "nbformat": 4,
 "nbformat_minor": 5
}
