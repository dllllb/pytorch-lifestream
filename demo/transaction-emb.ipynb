{
  "cells": [
    {
      "cell_type": "markdown",
      "metadata": {
        "id": "8a795c70"
      },
      "source": [
        "# Colab setup"
      ],
      "id": "8a795c70"
    },
    {
      "cell_type": "code",
      "source": [
        "from IPython.display import clear_output"
      ],
      "metadata": {
        "id": "oC0IXH4APJCb"
      },
      "id": "oC0IXH4APJCb",
      "execution_count": 1,
      "outputs": []
    },
    {
      "cell_type": "code",
      "execution_count": 2,
      "metadata": {
        "id": "8b6cedd5"
      },
      "outputs": [],
      "source": [
        "import sys\n",
        "if 'google.colab' in str(get_ipython()):\n",
        "    ! {sys.executable} -m pip install pytorch-lifestream\n",
        "    ! {sys.executable} -m pip install -U 'torch<2'  # downgrade for ptls==0.5.x\n",
        "    ! {sys.executable} -m pip install -U 'pytorch-lightning<2'  # downgrade for ptls==0.5.x\n",
        "    ! {sys.executable} -m pip install -U 'torchvision<0.15.1'  # downgrade for ptls==0.5.x\n",
        "    ! {sys.executable} -m pip install -U 'torchaudio<2'  # downgrade for ptls==0.5.x\n",
        "\n",
        "clear_output()"
      ],
      "id": "8b6cedd5"
    },
    {
      "cell_type": "markdown",
      "metadata": {
        "id": "a7431993"
      },
      "source": [
        "## Data load"
      ],
      "id": "a7431993"
    },
    {
      "cell_type": "code",
      "execution_count": 3,
      "metadata": {
        "id": "a798aaae",
        "colab": {
          "base_uri": "https://localhost:8080/"
        },
        "outputId": "d519a697-5cdd-4def-8bf3-fe83cee65f57"
      },
      "outputs": [
        {
          "output_type": "stream",
          "name": "stdout",
          "text": [
            "  % Total    % Received % Xferd  Average Speed   Time    Time     Time  Current\n",
            "                                 Dload  Upload   Total   Spent    Left  Speed\n",
            "100  239M  100  239M    0     0  8774k      0  0:00:27  0:00:27 --:--:-- 10.0M\n",
            "Archive:  age-prediction-nti-sbebank-2019.zip\n",
            "  inflating: data/test.csv           \n",
            "  inflating: data/small_group_description.csv  \n",
            "  inflating: data/train_target.csv   \n",
            "  inflating: data/transactions_train.csv  \n",
            "  inflating: data/transactions_test.csv  \n"
          ]
        }
      ],
      "source": [
        "import os\n",
        "\n",
        "if not os.path.exists('data/transactions_train.csv'):\n",
        "    ! mkdir -p data\n",
        "    ! curl -OL https://storage.yandexcloud.net/ptls-datasets/age-prediction-nti-sbebank-2019.zip\n",
        "    ! unzip -j -o age-prediction-nti-sbebank-2019.zip 'data/*.csv' -d data\n",
        "    ! mv age-prediction-nti-sbebank-2019.zip data/"
      ],
      "id": "a798aaae"
    },
    {
      "cell_type": "markdown",
      "metadata": {
        "id": "9e91a902"
      },
      "source": [
        "## Setup"
      ],
      "id": "9e91a902"
    },
    {
      "cell_type": "code",
      "execution_count": 4,
      "metadata": {
        "id": "587df1ea"
      },
      "outputs": [],
      "source": [
        "%load_ext autoreload\n",
        "%autoreload 2\n",
        "\n",
        "# import logging\n",
        "import torch\n",
        "import pytorch_lightning as pl\n",
        "# import warnings\n",
        "\n",
        "# warnings.filterwarnings('ignore')\n",
        "# logging.getLogger(\"pytorch_lightning\").setLevel(logging.ERROR)"
      ],
      "id": "587df1ea"
    },
    {
      "cell_type": "markdown",
      "metadata": {
        "id": "82f989bc"
      },
      "source": [
        "## Data preproccessing"
      ],
      "id": "82f989bc"
    },
    {
      "cell_type": "code",
      "execution_count": 5,
      "metadata": {
        "id": "7e06bd27",
        "colab": {
          "base_uri": "https://localhost:8080/",
          "height": 112
        },
        "outputId": "a78a26b2-b7af-4dff-c364-6c2030e7c01d"
      },
      "outputs": [
        {
          "output_type": "execute_result",
          "data": {
            "text/plain": [
              "   client_id  trans_date  small_group  amount_rur\n",
              "0      33172           6            4      71.463\n",
              "1      33172           6           35      45.017"
            ],
            "text/html": [
              "\n",
              "  <div id=\"df-fe57b19b-ab81-46fa-a729-8098e62dfcaa\" class=\"colab-df-container\">\n",
              "    <div>\n",
              "<style scoped>\n",
              "    .dataframe tbody tr th:only-of-type {\n",
              "        vertical-align: middle;\n",
              "    }\n",
              "\n",
              "    .dataframe tbody tr th {\n",
              "        vertical-align: top;\n",
              "    }\n",
              "\n",
              "    .dataframe thead th {\n",
              "        text-align: right;\n",
              "    }\n",
              "</style>\n",
              "<table border=\"1\" class=\"dataframe\">\n",
              "  <thead>\n",
              "    <tr style=\"text-align: right;\">\n",
              "      <th></th>\n",
              "      <th>client_id</th>\n",
              "      <th>trans_date</th>\n",
              "      <th>small_group</th>\n",
              "      <th>amount_rur</th>\n",
              "    </tr>\n",
              "  </thead>\n",
              "  <tbody>\n",
              "    <tr>\n",
              "      <th>0</th>\n",
              "      <td>33172</td>\n",
              "      <td>6</td>\n",
              "      <td>4</td>\n",
              "      <td>71.463</td>\n",
              "    </tr>\n",
              "    <tr>\n",
              "      <th>1</th>\n",
              "      <td>33172</td>\n",
              "      <td>6</td>\n",
              "      <td>35</td>\n",
              "      <td>45.017</td>\n",
              "    </tr>\n",
              "  </tbody>\n",
              "</table>\n",
              "</div>\n",
              "    <div class=\"colab-df-buttons\">\n",
              "\n",
              "  <div class=\"colab-df-container\">\n",
              "    <button class=\"colab-df-convert\" onclick=\"convertToInteractive('df-fe57b19b-ab81-46fa-a729-8098e62dfcaa')\"\n",
              "            title=\"Convert this dataframe to an interactive table.\"\n",
              "            style=\"display:none;\">\n",
              "\n",
              "  <svg xmlns=\"http://www.w3.org/2000/svg\" height=\"24px\" viewBox=\"0 -960 960 960\">\n",
              "    <path d=\"M120-120v-720h720v720H120Zm60-500h600v-160H180v160Zm220 220h160v-160H400v160Zm0 220h160v-160H400v160ZM180-400h160v-160H180v160Zm440 0h160v-160H620v160ZM180-180h160v-160H180v160Zm440 0h160v-160H620v160Z\"/>\n",
              "  </svg>\n",
              "    </button>\n",
              "\n",
              "  <style>\n",
              "    .colab-df-container {\n",
              "      display:flex;\n",
              "      gap: 12px;\n",
              "    }\n",
              "\n",
              "    .colab-df-convert {\n",
              "      background-color: #E8F0FE;\n",
              "      border: none;\n",
              "      border-radius: 50%;\n",
              "      cursor: pointer;\n",
              "      display: none;\n",
              "      fill: #1967D2;\n",
              "      height: 32px;\n",
              "      padding: 0 0 0 0;\n",
              "      width: 32px;\n",
              "    }\n",
              "\n",
              "    .colab-df-convert:hover {\n",
              "      background-color: #E2EBFA;\n",
              "      box-shadow: 0px 1px 2px rgba(60, 64, 67, 0.3), 0px 1px 3px 1px rgba(60, 64, 67, 0.15);\n",
              "      fill: #174EA6;\n",
              "    }\n",
              "\n",
              "    .colab-df-buttons div {\n",
              "      margin-bottom: 4px;\n",
              "    }\n",
              "\n",
              "    [theme=dark] .colab-df-convert {\n",
              "      background-color: #3B4455;\n",
              "      fill: #D2E3FC;\n",
              "    }\n",
              "\n",
              "    [theme=dark] .colab-df-convert:hover {\n",
              "      background-color: #434B5C;\n",
              "      box-shadow: 0px 1px 3px 1px rgba(0, 0, 0, 0.15);\n",
              "      filter: drop-shadow(0px 1px 2px rgba(0, 0, 0, 0.3));\n",
              "      fill: #FFFFFF;\n",
              "    }\n",
              "  </style>\n",
              "\n",
              "    <script>\n",
              "      const buttonEl =\n",
              "        document.querySelector('#df-fe57b19b-ab81-46fa-a729-8098e62dfcaa button.colab-df-convert');\n",
              "      buttonEl.style.display =\n",
              "        google.colab.kernel.accessAllowed ? 'block' : 'none';\n",
              "\n",
              "      async function convertToInteractive(key) {\n",
              "        const element = document.querySelector('#df-fe57b19b-ab81-46fa-a729-8098e62dfcaa');\n",
              "        const dataTable =\n",
              "          await google.colab.kernel.invokeFunction('convertToInteractive',\n",
              "                                                    [key], {});\n",
              "        if (!dataTable) return;\n",
              "\n",
              "        const docLinkHtml = 'Like what you see? Visit the ' +\n",
              "          '<a target=\"_blank\" href=https://colab.research.google.com/notebooks/data_table.ipynb>data table notebook</a>'\n",
              "          + ' to learn more about interactive tables.';\n",
              "        element.innerHTML = '';\n",
              "        dataTable['output_type'] = 'display_data';\n",
              "        await google.colab.output.renderOutput(dataTable, element);\n",
              "        const docLink = document.createElement('div');\n",
              "        docLink.innerHTML = docLinkHtml;\n",
              "        element.appendChild(docLink);\n",
              "      }\n",
              "    </script>\n",
              "  </div>\n",
              "\n",
              "\n",
              "<div id=\"df-7ffb0768-2fbd-4dce-8aec-0d5dbcd2b186\">\n",
              "  <button class=\"colab-df-quickchart\" onclick=\"quickchart('df-7ffb0768-2fbd-4dce-8aec-0d5dbcd2b186')\"\n",
              "            title=\"Suggest charts\"\n",
              "            style=\"display:none;\">\n",
              "\n",
              "<svg xmlns=\"http://www.w3.org/2000/svg\" height=\"24px\"viewBox=\"0 0 24 24\"\n",
              "     width=\"24px\">\n",
              "    <g>\n",
              "        <path d=\"M19 3H5c-1.1 0-2 .9-2 2v14c0 1.1.9 2 2 2h14c1.1 0 2-.9 2-2V5c0-1.1-.9-2-2-2zM9 17H7v-7h2v7zm4 0h-2V7h2v10zm4 0h-2v-4h2v4z\"/>\n",
              "    </g>\n",
              "</svg>\n",
              "  </button>\n",
              "\n",
              "<style>\n",
              "  .colab-df-quickchart {\n",
              "      --bg-color: #E8F0FE;\n",
              "      --fill-color: #1967D2;\n",
              "      --hover-bg-color: #E2EBFA;\n",
              "      --hover-fill-color: #174EA6;\n",
              "      --disabled-fill-color: #AAA;\n",
              "      --disabled-bg-color: #DDD;\n",
              "  }\n",
              "\n",
              "  [theme=dark] .colab-df-quickchart {\n",
              "      --bg-color: #3B4455;\n",
              "      --fill-color: #D2E3FC;\n",
              "      --hover-bg-color: #434B5C;\n",
              "      --hover-fill-color: #FFFFFF;\n",
              "      --disabled-bg-color: #3B4455;\n",
              "      --disabled-fill-color: #666;\n",
              "  }\n",
              "\n",
              "  .colab-df-quickchart {\n",
              "    background-color: var(--bg-color);\n",
              "    border: none;\n",
              "    border-radius: 50%;\n",
              "    cursor: pointer;\n",
              "    display: none;\n",
              "    fill: var(--fill-color);\n",
              "    height: 32px;\n",
              "    padding: 0;\n",
              "    width: 32px;\n",
              "  }\n",
              "\n",
              "  .colab-df-quickchart:hover {\n",
              "    background-color: var(--hover-bg-color);\n",
              "    box-shadow: 0 1px 2px rgba(60, 64, 67, 0.3), 0 1px 3px 1px rgba(60, 64, 67, 0.15);\n",
              "    fill: var(--button-hover-fill-color);\n",
              "  }\n",
              "\n",
              "  .colab-df-quickchart-complete:disabled,\n",
              "  .colab-df-quickchart-complete:disabled:hover {\n",
              "    background-color: var(--disabled-bg-color);\n",
              "    fill: var(--disabled-fill-color);\n",
              "    box-shadow: none;\n",
              "  }\n",
              "\n",
              "  .colab-df-spinner {\n",
              "    border: 2px solid var(--fill-color);\n",
              "    border-color: transparent;\n",
              "    border-bottom-color: var(--fill-color);\n",
              "    animation:\n",
              "      spin 1s steps(1) infinite;\n",
              "  }\n",
              "\n",
              "  @keyframes spin {\n",
              "    0% {\n",
              "      border-color: transparent;\n",
              "      border-bottom-color: var(--fill-color);\n",
              "      border-left-color: var(--fill-color);\n",
              "    }\n",
              "    20% {\n",
              "      border-color: transparent;\n",
              "      border-left-color: var(--fill-color);\n",
              "      border-top-color: var(--fill-color);\n",
              "    }\n",
              "    30% {\n",
              "      border-color: transparent;\n",
              "      border-left-color: var(--fill-color);\n",
              "      border-top-color: var(--fill-color);\n",
              "      border-right-color: var(--fill-color);\n",
              "    }\n",
              "    40% {\n",
              "      border-color: transparent;\n",
              "      border-right-color: var(--fill-color);\n",
              "      border-top-color: var(--fill-color);\n",
              "    }\n",
              "    60% {\n",
              "      border-color: transparent;\n",
              "      border-right-color: var(--fill-color);\n",
              "    }\n",
              "    80% {\n",
              "      border-color: transparent;\n",
              "      border-right-color: var(--fill-color);\n",
              "      border-bottom-color: var(--fill-color);\n",
              "    }\n",
              "    90% {\n",
              "      border-color: transparent;\n",
              "      border-bottom-color: var(--fill-color);\n",
              "    }\n",
              "  }\n",
              "</style>\n",
              "\n",
              "  <script>\n",
              "    async function quickchart(key) {\n",
              "      const quickchartButtonEl =\n",
              "        document.querySelector('#' + key + ' button');\n",
              "      quickchartButtonEl.disabled = true;  // To prevent multiple clicks.\n",
              "      quickchartButtonEl.classList.add('colab-df-spinner');\n",
              "      try {\n",
              "        const charts = await google.colab.kernel.invokeFunction(\n",
              "            'suggestCharts', [key], {});\n",
              "      } catch (error) {\n",
              "        console.error('Error during call to suggestCharts:', error);\n",
              "      }\n",
              "      quickchartButtonEl.classList.remove('colab-df-spinner');\n",
              "      quickchartButtonEl.classList.add('colab-df-quickchart-complete');\n",
              "    }\n",
              "    (() => {\n",
              "      let quickchartButtonEl =\n",
              "        document.querySelector('#df-7ffb0768-2fbd-4dce-8aec-0d5dbcd2b186 button');\n",
              "      quickchartButtonEl.style.display =\n",
              "        google.colab.kernel.accessAllowed ? 'block' : 'none';\n",
              "    })();\n",
              "  </script>\n",
              "</div>\n",
              "    </div>\n",
              "  </div>\n"
            ],
            "application/vnd.google.colaboratory.intrinsic+json": {
              "type": "dataframe",
              "variable_name": "source_data"
            }
          },
          "metadata": {},
          "execution_count": 5
        }
      ],
      "source": [
        "import os\n",
        "import pandas as pd\n",
        "\n",
        "data_path = 'data/'\n",
        "\n",
        "source_data = pd.read_csv(os.path.join(data_path, 'transactions_train.csv'))\n",
        "source_data.head(2)"
      ],
      "id": "7e06bd27"
    },
    {
      "cell_type": "code",
      "execution_count": 6,
      "metadata": {
        "id": "8615b722"
      },
      "outputs": [],
      "source": [
        "from ptls.preprocessing import PandasDataPreprocessor\n",
        "\n",
        "preprocessor = PandasDataPreprocessor(\n",
        "    col_id='client_id',\n",
        "    col_event_time='trans_date',\n",
        "    event_time_transformation='none',\n",
        "    cols_category=['small_group'],\n",
        "    cols_numerical=['amount_rur'],\n",
        "    return_records=True,\n",
        ")"
      ],
      "id": "8615b722"
    },
    {
      "cell_type": "code",
      "execution_count": 7,
      "metadata": {
        "id": "fca72f6e",
        "colab": {
          "base_uri": "https://localhost:8080/"
        },
        "outputId": "0d230d4c-ea47-499b-ce0e-e4b0939f78ee"
      },
      "outputs": [
        {
          "output_type": "stream",
          "name": "stdout",
          "text": [
            "CPU times: user 1min 4s, sys: 15.1 s, total: 1min 19s\n",
            "Wall time: 1min 23s\n"
          ]
        }
      ],
      "source": [
        "%%time\n",
        "\n",
        "dataset = preprocessor.fit_transform(source_data)"
      ],
      "id": "fca72f6e"
    },
    {
      "cell_type": "code",
      "execution_count": 8,
      "metadata": {
        "id": "4a747c9b"
      },
      "outputs": [],
      "source": [
        "import pickle\n",
        "\n",
        "with open('preprocessor.p', 'wb') as f:\n",
        "    pickle.dump(preprocessor, f)"
      ],
      "id": "4a747c9b"
    },
    {
      "cell_type": "code",
      "execution_count": 9,
      "metadata": {
        "id": "0e4ca12d"
      },
      "outputs": [],
      "source": [
        "dataset = sorted(dataset, key=lambda x: x['client_id'])"
      ],
      "id": "0e4ca12d"
    },
    {
      "cell_type": "code",
      "execution_count": 10,
      "metadata": {
        "id": "98e7d39d",
        "colab": {
          "base_uri": "https://localhost:8080/"
        },
        "outputId": "01b9a61f-6ced-4bdf-89d0-2b71bbfee4ae"
      },
      "outputs": [
        {
          "output_type": "execute_result",
          "data": {
            "text/plain": [
              "(24000, 6000)"
            ]
          },
          "metadata": {},
          "execution_count": 10
        }
      ],
      "source": [
        "from sklearn.model_selection import train_test_split\n",
        "\n",
        "train, test = train_test_split(dataset, test_size=0.2, random_state=42)\n",
        "\n",
        "len(train), len(test)"
      ],
      "id": "98e7d39d"
    },
    {
      "cell_type": "code",
      "execution_count": 11,
      "metadata": {
        "id": "5af110e1",
        "colab": {
          "base_uri": "https://localhost:8080/"
        },
        "outputId": "54385955-a24e-4af9-b8f9-f30cc9865b9d"
      },
      "outputs": [
        {
          "output_type": "execute_result",
          "data": {
            "text/plain": [
              "dict_keys(['client_id', 'trans_date', 'event_time', 'small_group', 'amount_rur'])"
            ]
          },
          "metadata": {},
          "execution_count": 11
        }
      ],
      "source": [
        "train[0].keys()"
      ],
      "id": "5af110e1"
    },
    {
      "cell_type": "markdown",
      "metadata": {
        "id": "f9080a6f"
      },
      "source": [
        "## Embedding training"
      ],
      "id": "f9080a6f"
    },
    {
      "cell_type": "markdown",
      "metadata": {
        "id": "56493c0b"
      },
      "source": [
        "Model training in our framework organised via pytorch-lightning (pl) framework.\n",
        "The key parts of neural networks training in pl are:\n",
        "\n",
        "    * model (`pytorch_lightning.LightningModule`)\n",
        "    * data loader (`torch.utils.data.DataLoader`)\n",
        "    * trainer (`pytorch_lightning.Trainer`)\n",
        "    \n",
        "For futher details check https://pytorchlightning.ai/"
      ],
      "id": "56493c0b"
    },
    {
      "cell_type": "markdown",
      "metadata": {
        "id": "43a6ee58"
      },
      "source": [
        "### Model definition"
      ],
      "id": "43a6ee58"
    },
    {
      "cell_type": "code",
      "execution_count": 12,
      "metadata": {
        "id": "988c508d",
        "colab": {
          "base_uri": "https://localhost:8080/"
        },
        "outputId": "3e1ffba2-f8ea-45dc-90ca-ac9235361f1f"
      },
      "outputs": [
        {
          "output_type": "stream",
          "name": "stderr",
          "text": [
            "/usr/local/lib/python3.10/dist-packages/torchmetrics/utilities/prints.py:36: UserWarning: Metric `AUROC` will save all targets and predictions in buffer. For large datasets this may lead to large memory footprint.\n",
            "  warnings.warn(*args, **kwargs)\n"
          ]
        }
      ],
      "source": [
        "from functools import partial\n",
        "from ptls.nn import TrxEncoder, RnnSeqEncoder\n",
        "from ptls.frames.bert import RtdModule\n",
        "\n",
        "trx_encoder_params = dict(\n",
        "    embeddings_noise=0.003,\n",
        "    numeric_values={'amount_rur': 'identity'},\n",
        "    embeddings={\n",
        "        # It is better to remove trans_date,\n",
        "        # since using the date it is easy to notice the replacement in the sequence\n",
        "        #'trans_date': {'in': 800, 'out': 16},\n",
        "        'small_group': {'in': 250, 'out': 16},\n",
        "    },\n",
        ")\n",
        "\n",
        "seq_encoder = RnnSeqEncoder(\n",
        "    trx_encoder=TrxEncoder(**trx_encoder_params),\n",
        "    hidden_size=64,\n",
        "    type='gru',\n",
        ")\n",
        "\n",
        "model = RtdModule(\n",
        "    seq_encoder=seq_encoder,\n",
        "    optimizer_partial=partial(torch.optim.Adam, lr=0.001),\n",
        "    lr_scheduler_partial=partial(torch.optim.lr_scheduler.StepLR, step_size=30, gamma=0.9),\n",
        ")"
      ],
      "id": "988c508d"
    },
    {
      "cell_type": "markdown",
      "metadata": {
        "id": "87997ac0"
      },
      "source": [
        "### Data loader"
      ],
      "id": "87997ac0"
    },
    {
      "cell_type": "code",
      "execution_count": 13,
      "metadata": {
        "id": "624065bf"
      },
      "outputs": [],
      "source": [
        "from ptls.data_load.datasets import MemoryMapDataset\n",
        "from ptls.data_load.iterable_processing import SeqLenFilter\n",
        "from ptls.frames.bert import RtdDataset\n",
        "from ptls.frames.coles.split_strategy import SampleSlices\n",
        "from ptls.frames import PtlsDataModule\n",
        "\n",
        "train_dl = PtlsDataModule(\n",
        "    train_data=RtdDataset(\n",
        "        MemoryMapDataset(\n",
        "            data=train,\n",
        "            i_filters=[\n",
        "                SeqLenFilter(min_seq_len=25),\n",
        "            ],\n",
        "        ),\n",
        "        min_len = 600,\n",
        "        max_len = 600,\n",
        "    ),\n",
        "    train_num_workers=2,\n",
        "    train_batch_size=256,\n",
        ")"
      ],
      "id": "624065bf"
    },
    {
      "cell_type": "markdown",
      "metadata": {
        "id": "fc9a09be"
      },
      "source": [
        "### Trainer"
      ],
      "id": "fc9a09be"
    },
    {
      "cell_type": "code",
      "execution_count": 14,
      "metadata": {
        "id": "8fdbb67d",
        "colab": {
          "base_uri": "https://localhost:8080/"
        },
        "outputId": "1a3bb391-9b79-4572-96f8-c763915ac554"
      },
      "outputs": [
        {
          "output_type": "stream",
          "name": "stderr",
          "text": [
            "/usr/local/lib/python3.10/dist-packages/pytorch_lightning/trainer/connectors/accelerator_connector.py:478: LightningDeprecationWarning: Setting `Trainer(gpus=1)` is deprecated in v1.7 and will be removed in v2.0. Please use `Trainer(accelerator='gpu', devices=1)` instead.\n",
            "  rank_zero_deprecation(\n",
            "INFO:pytorch_lightning.utilities.rank_zero:GPU available: True (cuda), used: True\n",
            "INFO:pytorch_lightning.utilities.rank_zero:TPU available: False, using: 0 TPU cores\n",
            "INFO:pytorch_lightning.utilities.rank_zero:IPU available: False, using: 0 IPUs\n",
            "INFO:pytorch_lightning.utilities.rank_zero:HPU available: False, using: 0 HPUs\n"
          ]
        }
      ],
      "source": [
        "import torch\n",
        "import pytorch_lightning as pl\n",
        "\n",
        "import logging\n",
        "\n",
        "trainer = pl.Trainer(\n",
        "    max_epochs=50,\n",
        "    gpus=1 if torch.cuda.is_available() else 0,\n",
        "    enable_progress_bar=False,\n",
        ")"
      ],
      "id": "8fdbb67d"
    },
    {
      "cell_type": "markdown",
      "metadata": {
        "id": "a88078a3"
      },
      "source": [
        "### Training"
      ],
      "id": "a88078a3"
    },
    {
      "cell_type": "code",
      "execution_count": 15,
      "metadata": {
        "id": "f40877df",
        "colab": {
          "base_uri": "https://localhost:8080/"
        },
        "outputId": "325df23d-357b-4422-cc2e-065f9b58cb80"
      },
      "outputs": [
        {
          "output_type": "stream",
          "name": "stderr",
          "text": [
            "WARNING:pytorch_lightning.loggers.tensorboard:Missing logger folder: /content/lightning_logs\n",
            "/usr/local/lib/python3.10/dist-packages/pytorch_lightning/trainer/configuration_validator.py:108: PossibleUserWarning: You defined a `validation_step` but have no `val_dataloader`. Skipping val loop.\n",
            "  rank_zero_warn(\n"
          ]
        },
        {
          "output_type": "stream",
          "name": "stdout",
          "text": [
            "logger.version = 0\n"
          ]
        },
        {
          "output_type": "stream",
          "name": "stderr",
          "text": [
            "INFO:pytorch_lightning.accelerators.cuda:LOCAL_RANK: 0 - CUDA_VISIBLE_DEVICES: [0]\n",
            "INFO:pytorch_lightning.callbacks.model_summary:\n",
            "  | Name               | Type          | Params\n",
            "-----------------------------------------------------\n",
            "0 | _loss              | BCELoss       | 0     \n",
            "1 | _seq_encoder       | RnnSeqEncoder | 20.0 K\n",
            "2 | _validation_metric | AUROC         | 0     \n",
            "3 | _head              | Sequential    | 65    \n",
            "-----------------------------------------------------\n",
            "20.1 K    Trainable params\n",
            "0         Non-trainable params\n",
            "20.1 K    Total params\n",
            "0.080     Total estimated model params size (MB)\n",
            "INFO:pytorch_lightning.utilities.rank_zero:`Trainer.fit` stopped: `max_epochs=50` reached.\n"
          ]
        },
        {
          "output_type": "stream",
          "name": "stdout",
          "text": [
            "{'loss': tensor(0.3613), 'seq_len': tensor(600.)}\n",
            "CPU times: user 3min 40s, sys: 22.3 s, total: 4min 2s\n",
            "Wall time: 7min 23s\n"
          ]
        }
      ],
      "source": [
        "%%time\n",
        "print(f'logger.version = {trainer.logger.version}')\n",
        "trainer.fit(model, train_dl)\n",
        "print(trainer.logged_metrics)"
      ],
      "id": "f40877df"
    },
    {
      "cell_type": "markdown",
      "metadata": {
        "id": "7aaa35bc"
      },
      "source": [
        "### Save sequence encoder for other experiments"
      ],
      "id": "7aaa35bc"
    },
    {
      "cell_type": "code",
      "execution_count": 16,
      "metadata": {
        "id": "50b76d62"
      },
      "outputs": [],
      "source": [
        "torch.save(seq_encoder.state_dict(), \"rtd-emb.pt\")"
      ],
      "id": "50b76d62"
    },
    {
      "cell_type": "markdown",
      "source": [
        "## Inference\n"
      ],
      "metadata": {
        "id": "8atWeQ2zl0kP"
      },
      "id": "8atWeQ2zl0kP"
    },
    {
      "cell_type": "code",
      "source": [
        "from ptls.data_load.utils import collate_feature_dict"
      ],
      "metadata": {
        "id": "233vRO88Cvpi"
      },
      "id": "233vRO88Cvpi",
      "execution_count": 17,
      "outputs": []
    },
    {
      "cell_type": "code",
      "source": [
        "import numpy as np\n",
        "import torch\n",
        "from collections import defaultdict\n",
        "from functools import reduce\n",
        "\n",
        "from ptls.data_load.feature_dict import FeatureDict\n",
        "from ptls.data_load.padded_batch import PaddedBatch\n",
        "\n",
        "from transformers.tokenization_utils_base import BatchEncoding"
      ],
      "metadata": {
        "id": "OxonqMO6AZMN"
      },
      "id": "OxonqMO6AZMN",
      "execution_count": 18,
      "outputs": []
    },
    {
      "cell_type": "code",
      "source": [
        "inference_data = train[:3000]"
      ],
      "metadata": {
        "id": "MDI2nEIIoLzz"
      },
      "id": "MDI2nEIIoLzz",
      "execution_count": 19,
      "outputs": []
    },
    {
      "cell_type": "code",
      "source": [
        "inference_dataset = MemoryMapDataset(\n",
        "    data=inference_data,\n",
        ")"
      ],
      "metadata": {
        "id": "x2vRWINrkfi5"
      },
      "id": "x2vRWINrkfi5",
      "execution_count": 20,
      "outputs": []
    },
    {
      "cell_type": "code",
      "source": [
        "inference_dl = torch.utils.data.DataLoader(\n",
        "    dataset=inference_dataset,\n",
        "    collate_fn=collate_feature_dict,\n",
        "    shuffle=False,\n",
        "    batch_size=32,\n",
        "    num_workers=2,\n",
        ")\n",
        "#padded_batch = next(iter(inference_dl)).payload"
      ],
      "metadata": {
        "id": "C9M5z36aCd5F"
      },
      "id": "C9M5z36aCd5F",
      "execution_count": 21,
      "outputs": []
    },
    {
      "cell_type": "code",
      "source": [
        "from ptls.frames.inference_module import InferenceModule\n",
        "from ptls.data_load.padded_batch import PaddedBatch\n",
        "from itertools import chain"
      ],
      "metadata": {
        "id": "K5QMDiUxN1_9"
      },
      "id": "K5QMDiUxN1_9",
      "execution_count": 22,
      "outputs": []
    },
    {
      "cell_type": "code",
      "source": [
        "inference_module = InferenceModule(\n",
        "    model=seq_encoder,\n",
        "    pandas_output=True,\n",
        "    drop_seq_features=False,\n",
        "    model_out_name='emb')"
      ],
      "metadata": {
        "id": "RQjqQtuMNror"
      },
      "id": "RQjqQtuMNror",
      "execution_count": 27,
      "outputs": []
    },
    {
      "cell_type": "code",
      "source": [
        "inference_module.model.seq_encoder.is_reduce_sequence = False"
      ],
      "metadata": {
        "id": "hD41f0qNN7Hl"
      },
      "id": "hD41f0qNN7Hl",
      "execution_count": 28,
      "outputs": []
    },
    {
      "cell_type": "code",
      "source": [
        "predict = pl.Trainer(gpus=1).predict(inference_module, inference_dl)"
      ],
      "metadata": {
        "id": "yH5PKWyxN7Xk",
        "colab": {
          "base_uri": "https://localhost:8080/",
          "height": 136,
          "referenced_widgets": [
            "995a6f4a18294dd5b813efd859f6209b",
            "cea55d497bc4469ab15f36065148a475",
            "109d5cbaf3a94fb78ef4b1d08a2753c9",
            "04e41fc8862242738f0f5ce57799ee71",
            "845c81f4a9d840aea9ecc5e2d6ce3d13",
            "ca1b50c02d7b4126b2e555bd98df8813",
            "6d076f261909436790c381896a11260f",
            "99d5f0507aa54fafa623458b197df4d8",
            "3c959a0e2c6c4478a9bbcf8811a70d2c",
            "28f6313c366c471e91881bd98981c98c",
            "f98e9a5aefb44dfdbf5e06d6fa118115"
          ]
        },
        "outputId": "157ef630-4127-4b79-8f28-0ca6084d9240"
      },
      "id": "yH5PKWyxN7Xk",
      "execution_count": 29,
      "outputs": [
        {
          "output_type": "stream",
          "name": "stderr",
          "text": [
            "INFO:pytorch_lightning.utilities.rank_zero:GPU available: True (cuda), used: True\n",
            "INFO:pytorch_lightning.utilities.rank_zero:TPU available: False, using: 0 TPU cores\n",
            "INFO:pytorch_lightning.utilities.rank_zero:IPU available: False, using: 0 IPUs\n",
            "INFO:pytorch_lightning.utilities.rank_zero:HPU available: False, using: 0 HPUs\n",
            "INFO:pytorch_lightning.accelerators.cuda:LOCAL_RANK: 0 - CUDA_VISIBLE_DEVICES: [0]\n"
          ]
        },
        {
          "output_type": "display_data",
          "data": {
            "text/plain": [
              "Predicting: 0it [00:00, ?it/s]"
            ],
            "application/vnd.jupyter.widget-view+json": {
              "version_major": 2,
              "version_minor": 0,
              "model_id": "995a6f4a18294dd5b813efd859f6209b"
            }
          },
          "metadata": {}
        }
      ]
    },
    {
      "cell_type": "code",
      "source": [
        "full_predict = pd.concat(predict, axis=0)\n",
        "full_predict.shape"
      ],
      "metadata": {
        "id": "5d7HcxRV7QUm",
        "colab": {
          "base_uri": "https://localhost:8080/"
        },
        "outputId": "3620a72b-a2eb-4949-a4e2-d72b67c0bb04"
      },
      "id": "5d7HcxRV7QUm",
      "execution_count": 30,
      "outputs": [
        {
          "output_type": "execute_result",
          "data": {
            "text/plain": [
              "(2646251, 69)"
            ]
          },
          "metadata": {},
          "execution_count": 30
        }
      ]
    },
    {
      "cell_type": "code",
      "source": [
        "full_predict.head()"
      ],
      "metadata": {
        "colab": {
          "base_uri": "https://localhost:8080/",
          "height": 256
        },
        "id": "BIc08So5dSfD",
        "outputId": "e8c12881-7a2c-4317-8a3e-6c9b4914877c"
      },
      "id": "BIc08So5dSfD",
      "execution_count": 31,
      "outputs": [
        {
          "output_type": "execute_result",
          "data": {
            "text/plain": [
              "   client_id  trans_date  event_time  small_group  amount_rur  emb_0000  \\\n",
              "0      36253           0           0            1      40.756  0.665921   \n",
              "1      36253           1           1            1      40.413 -0.201294   \n",
              "2      36253           2           2            1      36.788  0.131511   \n",
              "3      36253           3           3           11     212.640 -0.350597   \n",
              "4      36253           3           3           31     255.538  0.059787   \n",
              "\n",
              "   emb_0001  emb_0002  emb_0003  emb_0004  ...  emb_0054  emb_0055  emb_0056  \\\n",
              "0  0.906752  0.168844 -0.974993  0.371013  ...  0.398054  0.701928  0.150014   \n",
              "1  0.965426  0.250792 -0.996656  0.352793  ...  0.529100  0.722080  0.798705   \n",
              "2  0.989204  0.265504 -0.998135  0.321147  ...  0.307743  0.743951  0.823414   \n",
              "3  0.999114  0.059446 -0.930354  0.318071  ... -0.150084  0.744923  0.998247   \n",
              "4  0.999964 -0.315022 -0.896436  0.322367  ... -0.132178  0.742905  0.999975   \n",
              "\n",
              "   emb_0057  emb_0058  emb_0059  emb_0060  emb_0061  emb_0062  emb_0063  \n",
              "0 -0.184834 -0.202624 -0.044519  0.626754  0.944769 -0.783068  0.777406  \n",
              "1  0.249999 -0.107270  0.194447  0.638224  0.805327 -0.628129  0.764504  \n",
              "2  0.288865 -0.208770  0.149822  0.632004  0.736532 -0.664531  0.800193  \n",
              "3  0.893118 -0.990629  0.569958  0.633822  0.628379 -0.916929 -0.788023  \n",
              "4  0.990725 -0.997930  0.692984  0.609294  0.595716 -0.977947 -0.986293  \n",
              "\n",
              "[5 rows x 69 columns]"
            ],
            "text/html": [
              "\n",
              "  <div id=\"df-eab06987-f437-4822-8236-4b81751a2aca\" class=\"colab-df-container\">\n",
              "    <div>\n",
              "<style scoped>\n",
              "    .dataframe tbody tr th:only-of-type {\n",
              "        vertical-align: middle;\n",
              "    }\n",
              "\n",
              "    .dataframe tbody tr th {\n",
              "        vertical-align: top;\n",
              "    }\n",
              "\n",
              "    .dataframe thead th {\n",
              "        text-align: right;\n",
              "    }\n",
              "</style>\n",
              "<table border=\"1\" class=\"dataframe\">\n",
              "  <thead>\n",
              "    <tr style=\"text-align: right;\">\n",
              "      <th></th>\n",
              "      <th>client_id</th>\n",
              "      <th>trans_date</th>\n",
              "      <th>event_time</th>\n",
              "      <th>small_group</th>\n",
              "      <th>amount_rur</th>\n",
              "      <th>emb_0000</th>\n",
              "      <th>emb_0001</th>\n",
              "      <th>emb_0002</th>\n",
              "      <th>emb_0003</th>\n",
              "      <th>emb_0004</th>\n",
              "      <th>...</th>\n",
              "      <th>emb_0054</th>\n",
              "      <th>emb_0055</th>\n",
              "      <th>emb_0056</th>\n",
              "      <th>emb_0057</th>\n",
              "      <th>emb_0058</th>\n",
              "      <th>emb_0059</th>\n",
              "      <th>emb_0060</th>\n",
              "      <th>emb_0061</th>\n",
              "      <th>emb_0062</th>\n",
              "      <th>emb_0063</th>\n",
              "    </tr>\n",
              "  </thead>\n",
              "  <tbody>\n",
              "    <tr>\n",
              "      <th>0</th>\n",
              "      <td>36253</td>\n",
              "      <td>0</td>\n",
              "      <td>0</td>\n",
              "      <td>1</td>\n",
              "      <td>40.756</td>\n",
              "      <td>0.665921</td>\n",
              "      <td>0.906752</td>\n",
              "      <td>0.168844</td>\n",
              "      <td>-0.974993</td>\n",
              "      <td>0.371013</td>\n",
              "      <td>...</td>\n",
              "      <td>0.398054</td>\n",
              "      <td>0.701928</td>\n",
              "      <td>0.150014</td>\n",
              "      <td>-0.184834</td>\n",
              "      <td>-0.202624</td>\n",
              "      <td>-0.044519</td>\n",
              "      <td>0.626754</td>\n",
              "      <td>0.944769</td>\n",
              "      <td>-0.783068</td>\n",
              "      <td>0.777406</td>\n",
              "    </tr>\n",
              "    <tr>\n",
              "      <th>1</th>\n",
              "      <td>36253</td>\n",
              "      <td>1</td>\n",
              "      <td>1</td>\n",
              "      <td>1</td>\n",
              "      <td>40.413</td>\n",
              "      <td>-0.201294</td>\n",
              "      <td>0.965426</td>\n",
              "      <td>0.250792</td>\n",
              "      <td>-0.996656</td>\n",
              "      <td>0.352793</td>\n",
              "      <td>...</td>\n",
              "      <td>0.529100</td>\n",
              "      <td>0.722080</td>\n",
              "      <td>0.798705</td>\n",
              "      <td>0.249999</td>\n",
              "      <td>-0.107270</td>\n",
              "      <td>0.194447</td>\n",
              "      <td>0.638224</td>\n",
              "      <td>0.805327</td>\n",
              "      <td>-0.628129</td>\n",
              "      <td>0.764504</td>\n",
              "    </tr>\n",
              "    <tr>\n",
              "      <th>2</th>\n",
              "      <td>36253</td>\n",
              "      <td>2</td>\n",
              "      <td>2</td>\n",
              "      <td>1</td>\n",
              "      <td>36.788</td>\n",
              "      <td>0.131511</td>\n",
              "      <td>0.989204</td>\n",
              "      <td>0.265504</td>\n",
              "      <td>-0.998135</td>\n",
              "      <td>0.321147</td>\n",
              "      <td>...</td>\n",
              "      <td>0.307743</td>\n",
              "      <td>0.743951</td>\n",
              "      <td>0.823414</td>\n",
              "      <td>0.288865</td>\n",
              "      <td>-0.208770</td>\n",
              "      <td>0.149822</td>\n",
              "      <td>0.632004</td>\n",
              "      <td>0.736532</td>\n",
              "      <td>-0.664531</td>\n",
              "      <td>0.800193</td>\n",
              "    </tr>\n",
              "    <tr>\n",
              "      <th>3</th>\n",
              "      <td>36253</td>\n",
              "      <td>3</td>\n",
              "      <td>3</td>\n",
              "      <td>11</td>\n",
              "      <td>212.640</td>\n",
              "      <td>-0.350597</td>\n",
              "      <td>0.999114</td>\n",
              "      <td>0.059446</td>\n",
              "      <td>-0.930354</td>\n",
              "      <td>0.318071</td>\n",
              "      <td>...</td>\n",
              "      <td>-0.150084</td>\n",
              "      <td>0.744923</td>\n",
              "      <td>0.998247</td>\n",
              "      <td>0.893118</td>\n",
              "      <td>-0.990629</td>\n",
              "      <td>0.569958</td>\n",
              "      <td>0.633822</td>\n",
              "      <td>0.628379</td>\n",
              "      <td>-0.916929</td>\n",
              "      <td>-0.788023</td>\n",
              "    </tr>\n",
              "    <tr>\n",
              "      <th>4</th>\n",
              "      <td>36253</td>\n",
              "      <td>3</td>\n",
              "      <td>3</td>\n",
              "      <td>31</td>\n",
              "      <td>255.538</td>\n",
              "      <td>0.059787</td>\n",
              "      <td>0.999964</td>\n",
              "      <td>-0.315022</td>\n",
              "      <td>-0.896436</td>\n",
              "      <td>0.322367</td>\n",
              "      <td>...</td>\n",
              "      <td>-0.132178</td>\n",
              "      <td>0.742905</td>\n",
              "      <td>0.999975</td>\n",
              "      <td>0.990725</td>\n",
              "      <td>-0.997930</td>\n",
              "      <td>0.692984</td>\n",
              "      <td>0.609294</td>\n",
              "      <td>0.595716</td>\n",
              "      <td>-0.977947</td>\n",
              "      <td>-0.986293</td>\n",
              "    </tr>\n",
              "  </tbody>\n",
              "</table>\n",
              "<p>5 rows × 69 columns</p>\n",
              "</div>\n",
              "    <div class=\"colab-df-buttons\">\n",
              "\n",
              "  <div class=\"colab-df-container\">\n",
              "    <button class=\"colab-df-convert\" onclick=\"convertToInteractive('df-eab06987-f437-4822-8236-4b81751a2aca')\"\n",
              "            title=\"Convert this dataframe to an interactive table.\"\n",
              "            style=\"display:none;\">\n",
              "\n",
              "  <svg xmlns=\"http://www.w3.org/2000/svg\" height=\"24px\" viewBox=\"0 -960 960 960\">\n",
              "    <path d=\"M120-120v-720h720v720H120Zm60-500h600v-160H180v160Zm220 220h160v-160H400v160Zm0 220h160v-160H400v160ZM180-400h160v-160H180v160Zm440 0h160v-160H620v160ZM180-180h160v-160H180v160Zm440 0h160v-160H620v160Z\"/>\n",
              "  </svg>\n",
              "    </button>\n",
              "\n",
              "  <style>\n",
              "    .colab-df-container {\n",
              "      display:flex;\n",
              "      gap: 12px;\n",
              "    }\n",
              "\n",
              "    .colab-df-convert {\n",
              "      background-color: #E8F0FE;\n",
              "      border: none;\n",
              "      border-radius: 50%;\n",
              "      cursor: pointer;\n",
              "      display: none;\n",
              "      fill: #1967D2;\n",
              "      height: 32px;\n",
              "      padding: 0 0 0 0;\n",
              "      width: 32px;\n",
              "    }\n",
              "\n",
              "    .colab-df-convert:hover {\n",
              "      background-color: #E2EBFA;\n",
              "      box-shadow: 0px 1px 2px rgba(60, 64, 67, 0.3), 0px 1px 3px 1px rgba(60, 64, 67, 0.15);\n",
              "      fill: #174EA6;\n",
              "    }\n",
              "\n",
              "    .colab-df-buttons div {\n",
              "      margin-bottom: 4px;\n",
              "    }\n",
              "\n",
              "    [theme=dark] .colab-df-convert {\n",
              "      background-color: #3B4455;\n",
              "      fill: #D2E3FC;\n",
              "    }\n",
              "\n",
              "    [theme=dark] .colab-df-convert:hover {\n",
              "      background-color: #434B5C;\n",
              "      box-shadow: 0px 1px 3px 1px rgba(0, 0, 0, 0.15);\n",
              "      filter: drop-shadow(0px 1px 2px rgba(0, 0, 0, 0.3));\n",
              "      fill: #FFFFFF;\n",
              "    }\n",
              "  </style>\n",
              "\n",
              "    <script>\n",
              "      const buttonEl =\n",
              "        document.querySelector('#df-eab06987-f437-4822-8236-4b81751a2aca button.colab-df-convert');\n",
              "      buttonEl.style.display =\n",
              "        google.colab.kernel.accessAllowed ? 'block' : 'none';\n",
              "\n",
              "      async function convertToInteractive(key) {\n",
              "        const element = document.querySelector('#df-eab06987-f437-4822-8236-4b81751a2aca');\n",
              "        const dataTable =\n",
              "          await google.colab.kernel.invokeFunction('convertToInteractive',\n",
              "                                                    [key], {});\n",
              "        if (!dataTable) return;\n",
              "\n",
              "        const docLinkHtml = 'Like what you see? Visit the ' +\n",
              "          '<a target=\"_blank\" href=https://colab.research.google.com/notebooks/data_table.ipynb>data table notebook</a>'\n",
              "          + ' to learn more about interactive tables.';\n",
              "        element.innerHTML = '';\n",
              "        dataTable['output_type'] = 'display_data';\n",
              "        await google.colab.output.renderOutput(dataTable, element);\n",
              "        const docLink = document.createElement('div');\n",
              "        docLink.innerHTML = docLinkHtml;\n",
              "        element.appendChild(docLink);\n",
              "      }\n",
              "    </script>\n",
              "  </div>\n",
              "\n",
              "\n",
              "<div id=\"df-e7c1fecf-83a5-48ce-becd-251cd9b7fd4b\">\n",
              "  <button class=\"colab-df-quickchart\" onclick=\"quickchart('df-e7c1fecf-83a5-48ce-becd-251cd9b7fd4b')\"\n",
              "            title=\"Suggest charts\"\n",
              "            style=\"display:none;\">\n",
              "\n",
              "<svg xmlns=\"http://www.w3.org/2000/svg\" height=\"24px\"viewBox=\"0 0 24 24\"\n",
              "     width=\"24px\">\n",
              "    <g>\n",
              "        <path d=\"M19 3H5c-1.1 0-2 .9-2 2v14c0 1.1.9 2 2 2h14c1.1 0 2-.9 2-2V5c0-1.1-.9-2-2-2zM9 17H7v-7h2v7zm4 0h-2V7h2v10zm4 0h-2v-4h2v4z\"/>\n",
              "    </g>\n",
              "</svg>\n",
              "  </button>\n",
              "\n",
              "<style>\n",
              "  .colab-df-quickchart {\n",
              "      --bg-color: #E8F0FE;\n",
              "      --fill-color: #1967D2;\n",
              "      --hover-bg-color: #E2EBFA;\n",
              "      --hover-fill-color: #174EA6;\n",
              "      --disabled-fill-color: #AAA;\n",
              "      --disabled-bg-color: #DDD;\n",
              "  }\n",
              "\n",
              "  [theme=dark] .colab-df-quickchart {\n",
              "      --bg-color: #3B4455;\n",
              "      --fill-color: #D2E3FC;\n",
              "      --hover-bg-color: #434B5C;\n",
              "      --hover-fill-color: #FFFFFF;\n",
              "      --disabled-bg-color: #3B4455;\n",
              "      --disabled-fill-color: #666;\n",
              "  }\n",
              "\n",
              "  .colab-df-quickchart {\n",
              "    background-color: var(--bg-color);\n",
              "    border: none;\n",
              "    border-radius: 50%;\n",
              "    cursor: pointer;\n",
              "    display: none;\n",
              "    fill: var(--fill-color);\n",
              "    height: 32px;\n",
              "    padding: 0;\n",
              "    width: 32px;\n",
              "  }\n",
              "\n",
              "  .colab-df-quickchart:hover {\n",
              "    background-color: var(--hover-bg-color);\n",
              "    box-shadow: 0 1px 2px rgba(60, 64, 67, 0.3), 0 1px 3px 1px rgba(60, 64, 67, 0.15);\n",
              "    fill: var(--button-hover-fill-color);\n",
              "  }\n",
              "\n",
              "  .colab-df-quickchart-complete:disabled,\n",
              "  .colab-df-quickchart-complete:disabled:hover {\n",
              "    background-color: var(--disabled-bg-color);\n",
              "    fill: var(--disabled-fill-color);\n",
              "    box-shadow: none;\n",
              "  }\n",
              "\n",
              "  .colab-df-spinner {\n",
              "    border: 2px solid var(--fill-color);\n",
              "    border-color: transparent;\n",
              "    border-bottom-color: var(--fill-color);\n",
              "    animation:\n",
              "      spin 1s steps(1) infinite;\n",
              "  }\n",
              "\n",
              "  @keyframes spin {\n",
              "    0% {\n",
              "      border-color: transparent;\n",
              "      border-bottom-color: var(--fill-color);\n",
              "      border-left-color: var(--fill-color);\n",
              "    }\n",
              "    20% {\n",
              "      border-color: transparent;\n",
              "      border-left-color: var(--fill-color);\n",
              "      border-top-color: var(--fill-color);\n",
              "    }\n",
              "    30% {\n",
              "      border-color: transparent;\n",
              "      border-left-color: var(--fill-color);\n",
              "      border-top-color: var(--fill-color);\n",
              "      border-right-color: var(--fill-color);\n",
              "    }\n",
              "    40% {\n",
              "      border-color: transparent;\n",
              "      border-right-color: var(--fill-color);\n",
              "      border-top-color: var(--fill-color);\n",
              "    }\n",
              "    60% {\n",
              "      border-color: transparent;\n",
              "      border-right-color: var(--fill-color);\n",
              "    }\n",
              "    80% {\n",
              "      border-color: transparent;\n",
              "      border-right-color: var(--fill-color);\n",
              "      border-bottom-color: var(--fill-color);\n",
              "    }\n",
              "    90% {\n",
              "      border-color: transparent;\n",
              "      border-bottom-color: var(--fill-color);\n",
              "    }\n",
              "  }\n",
              "</style>\n",
              "\n",
              "  <script>\n",
              "    async function quickchart(key) {\n",
              "      const quickchartButtonEl =\n",
              "        document.querySelector('#' + key + ' button');\n",
              "      quickchartButtonEl.disabled = true;  // To prevent multiple clicks.\n",
              "      quickchartButtonEl.classList.add('colab-df-spinner');\n",
              "      try {\n",
              "        const charts = await google.colab.kernel.invokeFunction(\n",
              "            'suggestCharts', [key], {});\n",
              "      } catch (error) {\n",
              "        console.error('Error during call to suggestCharts:', error);\n",
              "      }\n",
              "      quickchartButtonEl.classList.remove('colab-df-spinner');\n",
              "      quickchartButtonEl.classList.add('colab-df-quickchart-complete');\n",
              "    }\n",
              "    (() => {\n",
              "      let quickchartButtonEl =\n",
              "        document.querySelector('#df-e7c1fecf-83a5-48ce-becd-251cd9b7fd4b button');\n",
              "      quickchartButtonEl.style.display =\n",
              "        google.colab.kernel.accessAllowed ? 'block' : 'none';\n",
              "    })();\n",
              "  </script>\n",
              "</div>\n",
              "    </div>\n",
              "  </div>\n"
            ],
            "application/vnd.google.colaboratory.intrinsic+json": {
              "type": "dataframe",
              "variable_name": "full_predict"
            }
          },
          "metadata": {},
          "execution_count": 31
        }
      ]
    },
    {
      "cell_type": "code",
      "source": [
        "vecs = full_predict.loc[full_predict['client_id'].isin([1187, 36253, 396, 38243, 1002])]"
      ],
      "metadata": {
        "id": "ZRT_lAcNPsg1"
      },
      "id": "ZRT_lAcNPsg1",
      "execution_count": 32,
      "outputs": []
    },
    {
      "cell_type": "code",
      "source": [
        "cols_to_drop = ['client_id',\n",
        "                'trans_date',\n",
        "                'event_time',\n",
        "                'small_group',\n",
        "                'amount_rur']"
      ],
      "metadata": {
        "id": "GJmxJ7FUUp9S"
      },
      "id": "GJmxJ7FUUp9S",
      "execution_count": 33,
      "outputs": []
    },
    {
      "cell_type": "code",
      "source": [
        "from sklearn.manifold import TSNE\n",
        "\n",
        "tsne = TSNE(random_state=1, n_iter=250, metric=\"cosine\")\n",
        "embs = tsne.fit_transform(vecs.drop(columns=cols_to_drop))"
      ],
      "metadata": {
        "id": "Z12WkZtIHYhU"
      },
      "id": "Z12WkZtIHYhU",
      "execution_count": 34,
      "outputs": []
    },
    {
      "cell_type": "code",
      "source": [
        "vecs['x'] = embs[:, 0]\n",
        "vecs['y'] = embs[:, 1]"
      ],
      "metadata": {
        "colab": {
          "base_uri": "https://localhost:8080/"
        },
        "id": "MjXmoZ-nTht2",
        "outputId": "61ae3960-767e-4758-d560-dddd98a4ef51"
      },
      "id": "MjXmoZ-nTht2",
      "execution_count": 35,
      "outputs": [
        {
          "output_type": "stream",
          "name": "stderr",
          "text": [
            "<ipython-input-35-6d69180b3521>:1: SettingWithCopyWarning: \n",
            "A value is trying to be set on a copy of a slice from a DataFrame.\n",
            "Try using .loc[row_indexer,col_indexer] = value instead\n",
            "\n",
            "See the caveats in the documentation: https://pandas.pydata.org/pandas-docs/stable/user_guide/indexing.html#returning-a-view-versus-a-copy\n",
            "  vecs['x'] = embs[:, 0]\n",
            "<ipython-input-35-6d69180b3521>:2: SettingWithCopyWarning: \n",
            "A value is trying to be set on a copy of a slice from a DataFrame.\n",
            "Try using .loc[row_indexer,col_indexer] = value instead\n",
            "\n",
            "See the caveats in the documentation: https://pandas.pydata.org/pandas-docs/stable/user_guide/indexing.html#returning-a-view-versus-a-copy\n",
            "  vecs['y'] = embs[:, 1]\n"
          ]
        }
      ]
    },
    {
      "cell_type": "code",
      "source": [
        "from matplotlib import pyplot as plt\n",
        "FS = (7, 5)\n",
        "fig, ax = plt.subplots(figsize=FS)\n",
        "users = [1187, 36253, 396, 38243, 1002]\n",
        "colors = ['b', 'r', 'g', 'purple', 'yellow', 'brown']\n",
        "for usr, clr in zip(users, colors):\n",
        "    ax.scatter(vecs.loc[vecs['client_id'] == usr].x,\n",
        "               vecs.loc[vecs['client_id'] == usr].y,\n",
        "               alpha=.3,\n",
        "               color = clr,\n",
        "               label = f'client_id = {usr}')\n",
        "ax.set_title('tsne for client_id in [1187, 36253, 396, 38243, 1002]')\n",
        "ax.legend()"
      ],
      "metadata": {
        "colab": {
          "base_uri": "https://localhost:8080/",
          "height": 485
        },
        "id": "mwfrMe82LMFJ",
        "outputId": "d1cf428c-5bde-49d5-a1ab-da5cc82bec4b"
      },
      "id": "mwfrMe82LMFJ",
      "execution_count": 36,
      "outputs": [
        {
          "output_type": "execute_result",
          "data": {
            "text/plain": [
              "<matplotlib.legend.Legend at 0x7a3fe4190580>"
            ]
          },
          "metadata": {},
          "execution_count": 36
        },
        {
          "output_type": "display_data",
          "data": {
            "text/plain": [
              "<Figure size 700x500 with 1 Axes>"
            ],
            "image/png": "[encoded data removed]"
          },
          "metadata": {}
        }
      ]
    },
    {
      "cell_type": "code",
      "source": [
        "import matplotlib.colors as colors\n",
        "FS = (7, 5)\n",
        "mccs = vecs[vecs['client_id'] == 1187].small_group.unique()\n",
        "colors_list = list(colors.cnames.values())\n",
        "fig, ax = plt.subplots(figsize=FS)\n",
        "clr = 0\n",
        "for mcc in mccs:\n",
        "    ax.scatter(vecs.loc[(vecs['client_id'] == 1187) & (vecs['small_group'] == mcc)].x,\n",
        "               vecs.loc[(vecs['client_id'] == 1187) & (vecs['small_group'] == mcc)].y,\n",
        "               alpha = .6,\n",
        "               color = colors_list[clr],\n",
        "               label = f'mcc: {mcc}')\n",
        "    clr += len(colors_list)//len(mccs)\n",
        "ax.set_title('tsne for mcc for client_id=1187')\n",
        "ax.legend(ncols = 2,\n",
        "          loc=\"center left\",\n",
        "          bbox_to_anchor=(0.9, 0.5),\n",
        "          bbox_transform=fig.transFigure )"
      ],
      "metadata": {
        "colab": {
          "base_uri": "https://localhost:8080/",
          "height": 485
        },
        "id": "cvrmFr_iQiLc",
        "outputId": "d3c51631-b64b-4890-e95f-cdf7877a855b"
      },
      "id": "cvrmFr_iQiLc",
      "execution_count": 37,
      "outputs": [
        {
          "output_type": "execute_result",
          "data": {
            "text/plain": [
              "<matplotlib.legend.Legend at 0x7a3fe409d270>"
            ]
          },
          "metadata": {},
          "execution_count": 37
        },
        {
          "output_type": "display_data",
          "data": {
            "text/plain": [
              "<Figure size 700x500 with 1 Axes>"
            ],
            "image/png": "[encoded data removed]"
          },
          "metadata": {}
        }
      ]
    },
    {
      "cell_type": "code",
      "source": [
        "plt.figure(figsize=(8, 5))\n",
        "plt.scatter(vecs.loc[(vecs['client_id'] == 1187)].x,\n",
        "           vecs.loc[(vecs['client_id'] == 1187)].y,\n",
        "           c = vecs.loc[(vecs['client_id'] == 1187)].trans_date,\n",
        "           alpha = .6)\n",
        "plt.title('tsne for trans_date for client_id=1187')\n",
        "cbar = plt.colorbar()\n",
        "cbar.ax.set_ylabel('trans_date')\n"
      ],
      "metadata": {
        "colab": {
          "base_uri": "https://localhost:8080/",
          "height": 485
        },
        "id": "WEEkNUtHGvAm",
        "outputId": "5775c4cf-bd1c-4364-945b-b26f47379a34"
      },
      "id": "WEEkNUtHGvAm",
      "execution_count": 38,
      "outputs": [
        {
          "output_type": "execute_result",
          "data": {
            "text/plain": [
              "Text(0, 0.5, 'trans_date')"
            ]
          },
          "metadata": {},
          "execution_count": 38
        },
        {
          "output_type": "display_data",
          "data": {
            "text/plain": [
              "<Figure size 800x500 with 2 Axes>"
            ],
            "image/png": "[encoded data removed]"
          },
          "metadata": {}
        }
      ]
    },
    {
      "cell_type": "markdown",
      "metadata": {
        "id": "baafa0c0"
      },
      "source": [
        "Obtained embeddings can be used as features for model training\n",
        "\n",
        "For example:"
      ],
      "id": "baafa0c0"
    },
    {
      "cell_type": "code",
      "source": [
        "X = full_predict.drop(columns = cols_to_drop)\n",
        "y = full_predict['small_group']"
      ],
      "metadata": {
        "id": "lpgaZRBbgxKG"
      },
      "id": "lpgaZRBbgxKG",
      "execution_count": null,
      "outputs": []
    },
    {
      "cell_type": "code",
      "source": [
        "from sklearn.ensemble import GradientBoostingClassifier\n",
        "\n",
        "X_train, X_test = X.values[:100000], X.values[100000:120000]\n",
        "y_train, y_test = y.values[1:100001], y.values[100001:120001]"
      ],
      "metadata": {
        "id": "qyKl1cGId_K8"
      },
      "id": "qyKl1cGId_K8",
      "execution_count": null,
      "outputs": []
    },
    {
      "cell_type": "code",
      "source": [
        "import lightgbm as lgb\n",
        "clf = lgb.LGBMClassifier(learning_rate = 0.01, random_state = 42)\n",
        "clf.fit(X_train, y_train)\n",
        "clear_output()"
      ],
      "metadata": {
        "id": "uBFdDgTcqBr7"
      },
      "id": "uBFdDgTcqBr7",
      "execution_count": null,
      "outputs": []
    },
    {
      "cell_type": "code",
      "source": [
        "from sklearn.metrics import accuracy_score\n",
        "y_pred=clf.predict(X_test)\n",
        "accuracy_score(y_pred, y_test)"
      ],
      "metadata": {
        "id": "zsHd1By0rrLL",
        "colab": {
          "base_uri": "https://localhost:8080/"
        },
        "outputId": "6ec33df1-1461-4ede-f2b6-3b59cd0b27f5"
      },
      "id": "zsHd1By0rrLL",
      "execution_count": null,
      "outputs": [
        {
          "output_type": "execute_result",
          "data": {
            "text/plain": [
              "0.34875"
            ]
          },
          "metadata": {},
          "execution_count": 40
        }
      ]
    },
    {
      "cell_type": "code",
      "source": [],
      "metadata": {
        "id": "pPFHmvUPb2JG"
      },
      "id": "pPFHmvUPb2JG",
      "execution_count": null,
      "outputs": []
    }
  ],
  "metadata": {
    "colab": {
      "provenance": [],
      "gpuType": "T4",
      "toc_visible": true
    },
    "kernelspec": {
      "display_name": "Python 3",
      "name": "python3"
    },
    "language_info": {
      "codemirror_mode": {
        "name": "ipython",
        "version": 3
      },
      "file_extension": ".py",
      "mimetype": "text/x-python",
      "name": "python",
      "nbconvert_exporter": "python",
      "pygments_lexer": "ipython3",
      "version": "3.8.16"
    },
    "vscode": {
      "interpreter": {
        "hash": "e153ad723e521bdc1aff37b3bab9b1f3df31355f5a727a9b9eb7d0282ae9ca8c"
      }
    },
    "accelerator": "GPU",
    "widgets": {
      "application/vnd.jupyter.widget-state+json": {
        "995a6f4a18294dd5b813efd859f6209b": {
          "model_module": "@jupyter-widgets/controls",
          "model_name": "HBoxModel",
          "model_module_version": "1.5.0",
          "state": {
            "_dom_classes": [],
            "_model_module": "@jupyter-widgets/controls",
            "_model_module_version": "1.5.0",
            "_model_name": "HBoxModel",
            "_view_count": null,
            "_view_module": "@jupyter-widgets/controls",
            "_view_module_version": "1.5.0",
            "_view_name": "HBoxView",
            "box_style": "",
            "children": [
              "IPY_MODEL_cea55d497bc4469ab15f36065148a475",
              "IPY_MODEL_109d5cbaf3a94fb78ef4b1d08a2753c9",
              "IPY_MODEL_04e41fc8862242738f0f5ce57799ee71"
            ],
            "layout": "IPY_MODEL_845c81f4a9d840aea9ecc5e2d6ce3d13"
          }
        },
        "cea55d497bc4469ab15f36065148a475": {
          "model_module": "@jupyter-widgets/controls",
          "model_name": "HTMLModel",
          "model_module_version": "1.5.0",
          "state": {
            "_dom_classes": [],
            "_model_module": "@jupyter-widgets/controls",
            "_model_module_version": "1.5.0",
            "_model_name": "HTMLModel",
            "_view_count": null,
            "_view_module": "@jupyter-widgets/controls",
            "_view_module_version": "1.5.0",
            "_view_name": "HTMLView",
            "description": "",
            "description_tooltip": null,
            "layout": "IPY_MODEL_ca1b50c02d7b4126b2e555bd98df8813",
            "placeholder": "​",
            "style": "IPY_MODEL_6d076f261909436790c381896a11260f",
            "value": "Predicting DataLoader 0: 100%"
          }
        },
        "109d5cbaf3a94fb78ef4b1d08a2753c9": {
          "model_module": "@jupyter-widgets/controls",
          "model_name": "FloatProgressModel",
          "model_module_version": "1.5.0",
          "state": {
            "_dom_classes": [],
            "_model_module": "@jupyter-widgets/controls",
            "_model_module_version": "1.5.0",
            "_model_name": "FloatProgressModel",
            "_view_count": null,
            "_view_module": "@jupyter-widgets/controls",
            "_view_module_version": "1.5.0",
            "_view_name": "ProgressView",
            "bar_style": "success",
            "description": "",
            "description_tooltip": null,
            "layout": "IPY_MODEL_99d5f0507aa54fafa623458b197df4d8",
            "max": 94,
            "min": 0,
            "orientation": "horizontal",
            "style": "IPY_MODEL_3c959a0e2c6c4478a9bbcf8811a70d2c",
            "value": 94
          }
        },
        "04e41fc8862242738f0f5ce57799ee71": {
          "model_module": "@jupyter-widgets/controls",
          "model_name": "HTMLModel",
          "model_module_version": "1.5.0",
          "state": {
            "_dom_classes": [],
            "_model_module": "@jupyter-widgets/controls",
            "_model_module_version": "1.5.0",
            "_model_name": "HTMLModel",
            "_view_count": null,
            "_view_module": "@jupyter-widgets/controls",
            "_view_module_version": "1.5.0",
            "_view_name": "HTMLView",
            "description": "",
            "description_tooltip": null,
            "layout": "IPY_MODEL_28f6313c366c471e91881bd98981c98c",
            "placeholder": "​",
            "style": "IPY_MODEL_f98e9a5aefb44dfdbf5e06d6fa118115",
            "value": " 94/94 [00:29&lt;00:00,  3.15it/s]"
          }
        },
        "845c81f4a9d840aea9ecc5e2d6ce3d13": {
          "model_module": "@jupyter-widgets/base",
          "model_name": "LayoutModel",
          "model_module_version": "1.2.0",
          "state": {
            "_model_module": "@jupyter-widgets/base",
            "_model_module_version": "1.2.0",
            "_model_name": "LayoutModel",
            "_view_count": null,
            "_view_module": "@jupyter-widgets/base",
            "_view_module_version": "1.2.0",
            "_view_name": "LayoutView",
            "align_content": null,
            "align_items": null,
            "align_self": null,
            "border": null,
            "bottom": null,
            "display": "inline-flex",
            "flex": null,
            "flex_flow": "row wrap",
            "grid_area": null,
            "grid_auto_columns": null,
            "grid_auto_flow": null,
            "grid_auto_rows": null,
            "grid_column": null,
            "grid_gap": null,
            "grid_row": null,
            "grid_template_areas": null,
            "grid_template_columns": null,
            "grid_template_rows": null,
            "height": null,
            "justify_content": null,
            "justify_items": null,
            "left": null,
            "margin": null,
            "max_height": null,
            "max_width": null,
            "min_height": null,
            "min_width": null,
            "object_fit": null,
            "object_position": null,
            "order": null,
            "overflow": null,
            "overflow_x": null,
            "overflow_y": null,
            "padding": null,
            "right": null,
            "top": null,
            "visibility": null,
            "width": "100%"
          }
        },
        "ca1b50c02d7b4126b2e555bd98df8813": {
          "model_module": "@jupyter-widgets/base",
          "model_name": "LayoutModel",
          "model_module_version": "1.2.0",
          "state": {
            "_model_module": "@jupyter-widgets/base",
            "_model_module_version": "1.2.0",
            "_model_name": "LayoutModel",
            "_view_count": null,
            "_view_module": "@jupyter-widgets/base",
            "_view_module_version": "1.2.0",
            "_view_name": "LayoutView",
            "align_content": null,
            "align_items": null,
            "align_self": null,
            "border": null,
            "bottom": null,
            "display": null,
            "flex": null,
            "flex_flow": null,
            "grid_area": null,
            "grid_auto_columns": null,
            "grid_auto_flow": null,
            "grid_auto_rows": null,
            "grid_column": null,
            "grid_gap": null,
            "grid_row": null,
            "grid_template_areas": null,
            "grid_template_columns": null,
            "grid_template_rows": null,
            "height": null,
            "justify_content": null,
            "justify_items": null,
            "left": null,
            "margin": null,
            "max_height": null,
            "max_width": null,
            "min_height": null,
            "min_width": null,
            "object_fit": null,
            "object_position": null,
            "order": null,
            "overflow": null,
            "overflow_x": null,
            "overflow_y": null,
            "padding": null,
            "right": null,
            "top": null,
            "visibility": null,
            "width": null
          }
        },
        "6d076f261909436790c381896a11260f": {
          "model_module": "@jupyter-widgets/controls",
          "model_name": "DescriptionStyleModel",
          "model_module_version": "1.5.0",
          "state": {
            "_model_module": "@jupyter-widgets/controls",
            "_model_module_version": "1.5.0",
            "_model_name": "DescriptionStyleModel",
            "_view_count": null,
            "_view_module": "@jupyter-widgets/base",
            "_view_module_version": "1.2.0",
            "_view_name": "StyleView",
            "description_width": ""
          }
        },
        "99d5f0507aa54fafa623458b197df4d8": {
          "model_module": "@jupyter-widgets/base",
          "model_name": "LayoutModel",
          "model_module_version": "1.2.0",
          "state": {
            "_model_module": "@jupyter-widgets/base",
            "_model_module_version": "1.2.0",
            "_model_name": "LayoutModel",
            "_view_count": null,
            "_view_module": "@jupyter-widgets/base",
            "_view_module_version": "1.2.0",
            "_view_name": "LayoutView",
            "align_content": null,
            "align_items": null,
            "align_self": null,
            "border": null,
            "bottom": null,
            "display": null,
            "flex": "2",
            "flex_flow": null,
            "grid_area": null,
            "grid_auto_columns": null,
            "grid_auto_flow": null,
            "grid_auto_rows": null,
            "grid_column": null,
            "grid_gap": null,
            "grid_row": null,
            "grid_template_areas": null,
            "grid_template_columns": null,
            "grid_template_rows": null,
            "height": null,
            "justify_content": null,
            "justify_items": null,
            "left": null,
            "margin": null,
            "max_height": null,
            "max_width": null,
            "min_height": null,
            "min_width": null,
            "object_fit": null,
            "object_position": null,
            "order": null,
            "overflow": null,
            "overflow_x": null,
            "overflow_y": null,
            "padding": null,
            "right": null,
            "top": null,
            "visibility": null,
            "width": null
          }
        },
        "3c959a0e2c6c4478a9bbcf8811a70d2c": {
          "model_module": "@jupyter-widgets/controls",
          "model_name": "ProgressStyleModel",
          "model_module_version": "1.5.0",
          "state": {
            "_model_module": "@jupyter-widgets/controls",
            "_model_module_version": "1.5.0",
            "_model_name": "ProgressStyleModel",
            "_view_count": null,
            "_view_module": "@jupyter-widgets/base",
            "_view_module_version": "1.2.0",
            "_view_name": "StyleView",
            "bar_color": null,
            "description_width": ""
          }
        },
        "28f6313c366c471e91881bd98981c98c": {
          "model_module": "@jupyter-widgets/base",
          "model_name": "LayoutModel",
          "model_module_version": "1.2.0",
          "state": {
            "_model_module": "@jupyter-widgets/base",
            "_model_module_version": "1.2.0",
            "_model_name": "LayoutModel",
            "_view_count": null,
            "_view_module": "@jupyter-widgets/base",
            "_view_module_version": "1.2.0",
            "_view_name": "LayoutView",
            "align_content": null,
            "align_items": null,
            "align_self": null,
            "border": null,
            "bottom": null,
            "display": null,
            "flex": null,
            "flex_flow": null,
            "grid_area": null,
            "grid_auto_columns": null,
            "grid_auto_flow": null,
            "grid_auto_rows": null,
            "grid_column": null,
            "grid_gap": null,
            "grid_row": null,
            "grid_template_areas": null,
            "grid_template_columns": null,
            "grid_template_rows": null,
            "height": null,
            "justify_content": null,
            "justify_items": null,
            "left": null,
            "margin": null,
            "max_height": null,
            "max_width": null,
            "min_height": null,
            "min_width": null,
            "object_fit": null,
            "object_position": null,
            "order": null,
            "overflow": null,
            "overflow_x": null,
            "overflow_y": null,
            "padding": null,
            "right": null,
            "top": null,
            "visibility": null,
            "width": null
          }
        },
        "f98e9a5aefb44dfdbf5e06d6fa118115": {
          "model_module": "@jupyter-widgets/controls",
          "model_name": "DescriptionStyleModel",
          "model_module_version": "1.5.0",
          "state": {
            "_model_module": "@jupyter-widgets/controls",
            "_model_module_version": "1.5.0",
            "_model_name": "DescriptionStyleModel",
            "_view_count": null,
            "_view_module": "@jupyter-widgets/base",
            "_view_module_version": "1.2.0",
            "_view_name": "StyleView",
            "description_width": ""
          }
        }
      }
    }
  },
  "nbformat": 4,
  "nbformat_minor": 5
}