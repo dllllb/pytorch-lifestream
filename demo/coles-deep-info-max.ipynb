{
 "cells": [
  {
   "cell_type": "code",
   "execution_count": 1,
   "id": "d18a030c",
   "metadata": {},
   "outputs": [
    {
     "name": "stderr",
     "output_type": "stream",
     "text": [
      "/home/al/Applications/miniconda3/envs/rlbnb/lib/python3.10/site-packages/torchvision/io/image.py:13: UserWarning: Failed to load image Python extension: '/home/al/Applications/miniconda3/envs/rlbnb/lib/python3.10/site-packages/torchvision/image.so: undefined symbol: _ZN3c1017RegisterOperatorsD1Ev'If you don't plan on using image functionality from `torchvision.io`, you can ignore this warning. Otherwise, there might be something wrong with your environment. Did you have `libjpeg` or `libpng` installed before building `torchvision` from source?\n",
      "  warn(\n",
      "2024-09-02 04:52:20.252078: I tensorflow/core/platform/cpu_feature_guard.cc:193] This TensorFlow binary is optimized with oneAPI Deep Neural Network Library (oneDNN) to use the following CPU instructions in performance-critical operations:  AVX2 FMA\n",
      "To enable them in other operations, rebuild TensorFlow with the appropriate compiler flags.\n",
      "/home/al/Applications/miniconda3/envs/rlbnb/lib/python3.10/site-packages/transformers/utils/generic.py:311: FutureWarning: `torch.utils._pytree._register_pytree_node` is deprecated. Please use `torch.utils._pytree.register_pytree_node` instead.\n",
      "  torch.utils._pytree._register_pytree_node(\n"
     ]
    }
   ],
   "source": [
    "import os\n",
    "import numpy as np\n",
    "import pandas as pd\n",
    "import torch\n",
    "import ptls\n",
    "import pytorch_lightning as pl\n",
    "from ptls.data_load.datasets import ParquetFiles, ParquetDataset\n",
    "from ptls.frames import PtlsDataModule\n",
    "from ptls.frames.coles import InfoMaxIterableDataset, InfoMaxModule\n",
    "from ptls.frames.supervised import SeqToTargetIterableDataset\n",
    "from ptls.frames.coles.split_strategy import SampleSlices\n",
    "from ptls.frames.coles.losses import IMContrastiveLoss\n",
    "from functools import partial\n",
    "from lightgbm import LGBMClassifier\n",
    "from sklearn.metrics import roc_auc_score\n",
    "from itertools import chain\n",
    "from ptls.frames.coles.sampling_strategies import HardNegativeNSelector"
   ]
  },
  {
   "cell_type": "code",
   "execution_count": 2,
   "id": "83ff40da",
   "metadata": {},
   "outputs": [],
   "source": [
    "path = \"./syndata/example_data/\"\n",
    "\n",
    "train_files = ParquetFiles(os.path.join(path, \"train\"))\n",
    "train_dataset = ParquetDataset(train_files, shuffle_files=True)\n",
    "eval_files = ParquetFiles(os.path.join(path, \"eval\"))\n",
    "eval_dataset = ParquetDataset(eval_files)\n",
    "\n",
    "\n",
    "infomax_data_module = ptls.frames.PtlsDataModule(\n",
    "    train_data=InfoMaxIterableDataset(\n",
    "        outside_split_count=15,\n",
    "        sample_chains=True,\n",
    "        neg_cnt_min=50,\n",
    "        neg_cnt_max=100,\n",
    "        data=train_dataset,\n",
    "        splitter=ptls.frames.coles.split_strategy.SampleSlices(\n",
    "            split_count=5,\n",
    "            cnt_min=50,\n",
    "            cnt_max=100,\n",
    "        ),\n",
    "    ),\n",
    "    valid_data=InfoMaxIterableDataset(\n",
    "        outside_split_count=15,\n",
    "        sample_chains=True,\n",
    "        neg_cnt_min=50,\n",
    "        neg_cnt_max=100,\n",
    "        data=eval_dataset,\n",
    "        splitter=ptls.frames.coles.split_strategy.SampleSlices(\n",
    "            split_count=5,\n",
    "            cnt_min=50,\n",
    "            cnt_max=100,\n",
    "            ),\n",
    "        ),\n",
    "        train_batch_size=256,\n",
    "        train_num_workers=4,\n",
    "        valid_num_workers=4,\n",
    "        valid_batch_size=256,\n",
    "    )"
   ]
  },
  {
   "cell_type": "code",
   "execution_count": 3,
   "id": "03ad5b43",
   "metadata": {},
   "outputs": [],
   "source": [
    "trx_conf = {\n",
    "    'embeddings_noise': 0.001,\n",
    "    'embeddings': {\n",
    "        'A': {'in': 64, 'out': 16},\n",
    "        'B': {'in': 64, 'out': 16},\n",
    "    },\n",
    "}\n",
    "\n",
    "seq_encoder = torch.nn.Sequential(\n",
    "    ptls.nn.TrxEncoder(**trx_conf),\n",
    "    ptls.nn.RnnEncoder(\n",
    "        input_size=32,\n",
    "        type='gru',\n",
    "        hidden_size=32,\n",
    "        is_reduce_sequence=True,\n",
    "    )\n",
    ")\n",
    "\n",
    "infomax_module = InfoMaxModule(\n",
    "    seq_encoder=seq_encoder,\n",
    "    sampler=HardNegativeNSelector(neg_count=5),\n",
    "    head=ptls.nn.Head(use_norm_encoder=True),\n",
    "    coles_loss=IMContrastiveLoss(1.0),\n",
    "    optimizer_partial=partial(torch.optim.Adam, lr=0.001, weight_decay=0.0),\n",
    "    lr_scheduler_partial=partial(torch.optim.lr_scheduler.StepLR, step_size=30, gamma=0.9025)\n",
    ")"
   ]
  },
  {
   "cell_type": "code",
   "execution_count": 4,
   "id": "ee1b574e",
   "metadata": {},
   "outputs": [
    {
     "name": "stderr",
     "output_type": "stream",
     "text": [
      "GPU available: True, used: True\n",
      "TPU available: False, using: 0 TPU cores\n",
      "IPU available: False, using: 0 IPUs\n",
      "HPU available: False, using: 0 HPUs\n",
      "LOCAL_RANK: 0 - CUDA_VISIBLE_DEVICES: [0]\n",
      "\n",
      "  | Name               | Type              | Params\n",
      "---------------------------------------------------------\n",
      "0 | _seq_encoder       | Sequential        | 8.4 K \n",
      "1 | _validation_metric | MeanMetric        | 0     \n",
      "2 | _head              | Head              | 0     \n",
      "3 | _coles_loss        | IMContrastiveLoss | 0     \n",
      "---------------------------------------------------------\n",
      "8.4 K     Trainable params\n",
      "0         Non-trainable params\n",
      "8.4 K     Total params\n",
      "0.034     Total estimated model params size (MB)\n"
     ]
    },
    {
     "data": {
      "application/vnd.jupyter.widget-view+json": {
       "model_id": "",
       "version_major": 2,
       "version_minor": 0
      },
      "text/plain": [
       "Sanity Checking: 0it [00:00, ?it/s]"
      ]
     },
     "metadata": {},
     "output_type": "display_data"
    },
    {
     "data": {
      "application/vnd.jupyter.widget-view+json": {
       "model_id": "4bd2008a4eb7452686531319706b4a89",
       "version_major": 2,
       "version_minor": 0
      },
      "text/plain": [
       "Training: 0it [00:00, ?it/s]"
      ]
     },
     "metadata": {},
     "output_type": "display_data"
    },
    {
     "data": {
      "application/vnd.jupyter.widget-view+json": {
       "model_id": "",
       "version_major": 2,
       "version_minor": 0
      },
      "text/plain": [
       "Validation: 0it [00:00, ?it/s]"
      ]
     },
     "metadata": {},
     "output_type": "display_data"
    },
    {
     "data": {
      "application/vnd.jupyter.widget-view+json": {
       "model_id": "",
       "version_major": 2,
       "version_minor": 0
      },
      "text/plain": [
       "Validation: 0it [00:00, ?it/s]"
      ]
     },
     "metadata": {},
     "output_type": "display_data"
    },
    {
     "data": {
      "application/vnd.jupyter.widget-view+json": {
       "model_id": "",
       "version_major": 2,
       "version_minor": 0
      },
      "text/plain": [
       "Validation: 0it [00:00, ?it/s]"
      ]
     },
     "metadata": {},
     "output_type": "display_data"
    },
    {
     "data": {
      "application/vnd.jupyter.widget-view+json": {
       "model_id": "",
       "version_major": 2,
       "version_minor": 0
      },
      "text/plain": [
       "Validation: 0it [00:00, ?it/s]"
      ]
     },
     "metadata": {},
     "output_type": "display_data"
    },
    {
     "data": {
      "application/vnd.jupyter.widget-view+json": {
       "model_id": "",
       "version_major": 2,
       "version_minor": 0
      },
      "text/plain": [
       "Validation: 0it [00:00, ?it/s]"
      ]
     },
     "metadata": {},
     "output_type": "display_data"
    },
    {
     "data": {
      "application/vnd.jupyter.widget-view+json": {
       "model_id": "",
       "version_major": 2,
       "version_minor": 0
      },
      "text/plain": [
       "Validation: 0it [00:00, ?it/s]"
      ]
     },
     "metadata": {},
     "output_type": "display_data"
    },
    {
     "data": {
      "application/vnd.jupyter.widget-view+json": {
       "model_id": "",
       "version_major": 2,
       "version_minor": 0
      },
      "text/plain": [
       "Validation: 0it [00:00, ?it/s]"
      ]
     },
     "metadata": {},
     "output_type": "display_data"
    },
    {
     "data": {
      "application/vnd.jupyter.widget-view+json": {
       "model_id": "",
       "version_major": 2,
       "version_minor": 0
      },
      "text/plain": [
       "Validation: 0it [00:00, ?it/s]"
      ]
     },
     "metadata": {},
     "output_type": "display_data"
    },
    {
     "data": {
      "application/vnd.jupyter.widget-view+json": {
       "model_id": "",
       "version_major": 2,
       "version_minor": 0
      },
      "text/plain": [
       "Validation: 0it [00:00, ?it/s]"
      ]
     },
     "metadata": {},
     "output_type": "display_data"
    },
    {
     "data": {
      "application/vnd.jupyter.widget-view+json": {
       "model_id": "",
       "version_major": 2,
       "version_minor": 0
      },
      "text/plain": [
       "Validation: 0it [00:00, ?it/s]"
      ]
     },
     "metadata": {},
     "output_type": "display_data"
    }
   ],
   "source": [
    "trainer = pl.Trainer(\n",
    "    gpus=[0],\n",
    "    max_epochs=10,\n",
    "    enable_progress_bar=True\n",
    ")\n",
    "\n",
    "trainer.fit(infomax_module, infomax_data_module)"
   ]
  },
  {
   "cell_type": "code",
   "execution_count": 5,
   "id": "962f366c",
   "metadata": {},
   "outputs": [
    {
     "name": "stdout",
     "output_type": "stream",
     "text": [
      "[LightGBM] [Info] Number of positive: 25600, number of negative: 25600\n",
      "[LightGBM] [Info] Auto-choosing col-wise multi-threading, the overhead of testing was 0.002878 seconds.\n",
      "You can set `force_col_wise=true` to remove the overhead.\n",
      "[LightGBM] [Info] Total Bins 8160\n",
      "[LightGBM] [Info] Number of data points in the train set: 51200, number of used features: 32\n",
      "[LightGBM] [Info] [binary:BoostFromScore]: pavg=0.500000 -> initscore=0.000000\n",
      "[LightGBM] [Info] Number of positive: 25600, number of negative: 25600\n",
      "[LightGBM] [Info] Auto-choosing col-wise multi-threading, the overhead of testing was 0.003183 seconds.\n",
      "You can set `force_col_wise=true` to remove the overhead.\n",
      "[LightGBM] [Info] Total Bins 8160\n",
      "[LightGBM] [Info] Number of data points in the train set: 51200, number of used features: 32\n",
      "[LightGBM] [Info] [binary:BoostFromScore]: pavg=0.500000 -> initscore=0.000000\n",
      "[LightGBM] [Info] Number of positive: 25600, number of negative: 25600\n",
      "[LightGBM] [Info] Auto-choosing col-wise multi-threading, the overhead of testing was 0.003987 seconds.\n",
      "You can set `force_col_wise=true` to remove the overhead.\n",
      "[LightGBM] [Info] Total Bins 8160\n",
      "[LightGBM] [Info] Number of data points in the train set: 51200, number of used features: 32\n",
      "[LightGBM] [Info] [binary:BoostFromScore]: pavg=0.500000 -> initscore=0.000000\n",
      "[LightGBM] [Info] Number of positive: 25600, number of negative: 25600\n",
      "[LightGBM] [Info] Auto-choosing col-wise multi-threading, the overhead of testing was 0.002937 seconds.\n",
      "You can set `force_col_wise=true` to remove the overhead.\n",
      "[LightGBM] [Info] Total Bins 8160\n",
      "[LightGBM] [Info] Number of data points in the train set: 51200, number of used features: 32\n",
      "[LightGBM] [Info] [binary:BoostFromScore]: pavg=0.500000 -> initscore=0.000000\n",
      "[LightGBM] [Info] Number of positive: 25600, number of negative: 25600\n",
      "[LightGBM] [Info] Auto-choosing col-wise multi-threading, the overhead of testing was 0.004998 seconds.\n",
      "You can set `force_col_wise=true` to remove the overhead.\n",
      "[LightGBM] [Info] Total Bins 8160\n",
      "[LightGBM] [Info] Number of data points in the train set: 51200, number of used features: 32\n",
      "[LightGBM] [Info] [binary:BoostFromScore]: pavg=0.500000 -> initscore=0.000000\n",
      "mean roc_auc: 0.5637 std : 0.0012\n"
     ]
    }
   ],
   "source": [
    "# now lets test it\n",
    "\n",
    "def get_synthetic_sup_datamodule():\n",
    "    path = \"./syndata/example_data/\"\n",
    "    \n",
    "    train_files = ParquetFiles(os.path.join(path, \"train\"))\n",
    "    train_dataset = ParquetDataset(train_files, shuffle_files=True)\n",
    "    test_files = ParquetFiles(os.path.join(path, \"eval\"))\n",
    "    test_dataset = ParquetDataset(test_files, shuffle_files=True)\n",
    "\n",
    "    sup_datamodule = PtlsDataModule(\n",
    "        train_data=SeqToTargetIterableDataset(train_dataset, target_col_name='class_label', target_dtype=torch.long),\n",
    "        test_data=SeqToTargetIterableDataset(test_dataset, target_col_name='class_label', target_dtype=torch.long),\n",
    "        train_batch_size=512,\n",
    "        test_batch_size=512,\n",
    "        train_num_workers=4,\n",
    "        test_num_workers=4,\n",
    "    )\n",
    "    return sup_datamodule\n",
    "\n",
    "\n",
    "def eval_dataloader(model, dl, device='cuda:0'):\n",
    "    embs, yy = list(), list()\n",
    "    model.to(device)\n",
    "    model.eval()\n",
    "    for batch in dl:\n",
    "        x, y = batch\n",
    "        yy.append(y.numpy())\n",
    "        with torch.no_grad():\n",
    "            embs.append(model(x.to(device)).cpu().numpy())\n",
    "    return {'x': np.concatenate(embs, axis=0), 'y': np.concatenate(yy, axis=0)}\n",
    "        \n",
    "\n",
    "\n",
    "def eval_embeddings(coles_model, data):\n",
    "    train_gbm_data = eval_dataloader(coles_model, data.train_dataloader())\n",
    "    test_gbm_data = eval_dataloader(coles_model, data.test_dataloader())\n",
    "    return train_gbm_data, test_gbm_data\n",
    "\n",
    "\n",
    "def gbm(train_gbm_data, test_gbm_data):\n",
    "    accs = list()\n",
    "    for gbm_i in range(5):\n",
    "        gbm_model = LGBMClassifier(**{\n",
    "              'n_estimators': 50,\n",
    "              'boosting_type': 'gbdt',\n",
    "              'objective': 'binary',\n",
    "              'learning_rate': 0.02,\n",
    "              'subsample': 0.75,\n",
    "              'subsample_freq': 1,\n",
    "              'feature_fraction': 0.75,\n",
    "              'colsample_bytree': None,\n",
    "              'max_depth': 12,\n",
    "              'lambda_l1': 1,\n",
    "              'reg_alpha': None,\n",
    "              'lambda_l2': 1,\n",
    "              'reg_lambda': None,\n",
    "              'min_data_in_leaf': 50,\n",
    "              'min_child_samples': None,\n",
    "              'num_leaves': 50,\n",
    "              'random_state': 42+gbm_i,\n",
    "              'n_jobs': 4,\n",
    "        })\n",
    "        \n",
    "        gbm_model.fit(train_gbm_data['x'], train_gbm_data['y'])\n",
    "        acc = roc_auc_score(test_gbm_data['y'], gbm_model.predict_proba(test_gbm_data['x'])[:, 1])\n",
    "        accs.append(acc)\n",
    "    mean, std = np.mean(accs), np.std(accs)\n",
    "    print(f'mean roc_auc: {mean:.4f} std : {std:.4f}')\n",
    "\n",
    "\n",
    "eval_datamodule = get_synthetic_sup_datamodule()\n",
    "train_gbm_data, test_gbm_data = eval_embeddings(infomax_module, eval_datamodule)\n",
    "gbm(train_gbm_data, test_gbm_data)"
   ]
  },
  {
   "cell_type": "code",
   "execution_count": null,
   "id": "e91e88f2",
   "metadata": {},
   "outputs": [],
   "source": []
  }
 ],
 "metadata": {
  "kernelspec": {
   "display_name": "Python 3 (ipykernel)",
   "language": "python",
   "name": "python3"
  },
  "language_info": {
   "codemirror_mode": {
    "name": "ipython",
    "version": 3
   },
   "file_extension": ".py",
   "mimetype": "text/x-python",
   "name": "python",
   "nbconvert_exporter": "python",
   "pygments_lexer": "ipython3",
   "version": "3.10.12"
  }
 },
 "nbformat": 4,
 "nbformat_minor": 5
}
