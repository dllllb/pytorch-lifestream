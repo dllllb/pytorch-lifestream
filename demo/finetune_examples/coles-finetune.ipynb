{
 "cells": [
  {
   "cell_type": "markdown",
   "id": "a23b1aee",
   "metadata": {},
   "source": [
    "## Setup"
   ]
  },
  {
   "cell_type": "code",
   "execution_count": 2,
   "id": "587df1ea",
   "metadata": {},
   "outputs": [],
   "source": [
    "%load_ext autoreload\n",
    "%autoreload 2\n",
    "\n",
    "# import logging\n",
    "import torch\n",
    "import pytorch_lightning as pl\n",
    "# import warnings\n",
    "\n",
    "# warnings.filterwarnings('ignore')\n",
    "# logging.getLogger(\"pytorch_lightning\").setLevel(logging.ERROR)"
   ]
  },
  {
   "cell_type": "markdown",
   "id": "82f989bc",
   "metadata": {},
   "source": [
    "## Data preproccessing"
   ]
  },
  {
   "cell_type": "code",
   "execution_count": 3,
   "id": "3f5dc8d6",
   "metadata": {},
   "outputs": [
    {
     "data": {
      "text/html": [
       "<div>\n",
       "<style scoped>\n",
       "    .dataframe tbody tr th:only-of-type {\n",
       "        vertical-align: middle;\n",
       "    }\n",
       "\n",
       "    .dataframe tbody tr th {\n",
       "        vertical-align: top;\n",
       "    }\n",
       "\n",
       "    .dataframe thead th {\n",
       "        text-align: right;\n",
       "    }\n",
       "</style>\n",
       "<table border=\"1\" class=\"dataframe\">\n",
       "  <thead>\n",
       "    <tr style=\"text-align: right;\">\n",
       "      <th></th>\n",
       "      <th>client_id</th>\n",
       "      <th>trans_date</th>\n",
       "      <th>small_group</th>\n",
       "      <th>amount_rur</th>\n",
       "    </tr>\n",
       "  </thead>\n",
       "  <tbody>\n",
       "    <tr>\n",
       "      <th>0</th>\n",
       "      <td>33172</td>\n",
       "      <td>6</td>\n",
       "      <td>4</td>\n",
       "      <td>71.463</td>\n",
       "    </tr>\n",
       "    <tr>\n",
       "      <th>1</th>\n",
       "      <td>33172</td>\n",
       "      <td>6</td>\n",
       "      <td>35</td>\n",
       "      <td>45.017</td>\n",
       "    </tr>\n",
       "  </tbody>\n",
       "</table>\n",
       "</div>"
      ],
      "text/plain": [
       "   client_id  trans_date  small_group  amount_rur\n",
       "0      33172           6            4      71.463\n",
       "1      33172           6           35      45.017"
      ]
     },
     "execution_count": 3,
     "metadata": {},
     "output_type": "execute_result"
    }
   ],
   "source": [
    "import os\n",
    "import pandas as pd\n",
    "\n",
    "source_data = pd.read_csv('https://huggingface.co/datasets/dllllb/age-group-prediction/resolve/main/transactions_train.csv.gz?download=true', compression='gzip')\n",
    "source_data.head(2)"
   ]
  },
  {
   "cell_type": "code",
   "execution_count": 4,
   "id": "d00023f2",
   "metadata": {},
   "outputs": [],
   "source": [
    "# Load pretrained preprocessor\n",
    "import pickle\n",
    "from ptls.preprocessing import PandasDataPreprocessor\n",
    "\n",
    "with open('preprocessor.p', 'rb') as f:\n",
    "    preprocessor = pickle.load(f)"
   ]
  },
  {
   "cell_type": "code",
   "execution_count": 5,
   "id": "c25c6bb5",
   "metadata": {},
   "outputs": [
    {
     "name": "stdout",
     "output_type": "stream",
     "text": [
      "CPU times: user 36 s, sys: 7.05 s, total: 43 s\n",
      "Wall time: 43 s\n"
     ]
    }
   ],
   "source": [
    "%%time\n",
    "\n",
    "dataset = preprocessor.transform(source_data)"
   ]
  },
  {
   "cell_type": "code",
   "execution_count": 6,
   "id": "e827b475",
   "metadata": {},
   "outputs": [],
   "source": [
    "dataset = sorted(dataset, key=lambda x: x['client_id'])"
   ]
  },
  {
   "cell_type": "code",
   "execution_count": 7,
   "id": "e6b26450",
   "metadata": {},
   "outputs": [
    {
     "data": {
      "text/html": [
       "<div>\n",
       "<style scoped>\n",
       "    .dataframe tbody tr th:only-of-type {\n",
       "        vertical-align: middle;\n",
       "    }\n",
       "\n",
       "    .dataframe tbody tr th {\n",
       "        vertical-align: top;\n",
       "    }\n",
       "\n",
       "    .dataframe thead th {\n",
       "        text-align: right;\n",
       "    }\n",
       "</style>\n",
       "<table border=\"1\" class=\"dataframe\">\n",
       "  <thead>\n",
       "    <tr style=\"text-align: right;\">\n",
       "      <th></th>\n",
       "      <th>target</th>\n",
       "    </tr>\n",
       "    <tr>\n",
       "      <th>client_id</th>\n",
       "      <th></th>\n",
       "    </tr>\n",
       "  </thead>\n",
       "  <tbody>\n",
       "    <tr>\n",
       "      <th>24662</th>\n",
       "      <td>2</td>\n",
       "    </tr>\n",
       "    <tr>\n",
       "      <th>1046</th>\n",
       "      <td>0</td>\n",
       "    </tr>\n",
       "    <tr>\n",
       "      <th>34089</th>\n",
       "      <td>2</td>\n",
       "    </tr>\n",
       "    <tr>\n",
       "      <th>34848</th>\n",
       "      <td>1</td>\n",
       "    </tr>\n",
       "    <tr>\n",
       "      <th>47076</th>\n",
       "      <td>3</td>\n",
       "    </tr>\n",
       "  </tbody>\n",
       "</table>\n",
       "</div>"
      ],
      "text/plain": [
       "           target\n",
       "client_id        \n",
       "24662           2\n",
       "1046            0\n",
       "34089           2\n",
       "34848           1\n",
       "47076           3"
      ]
     },
     "execution_count": 7,
     "metadata": {},
     "output_type": "execute_result"
    }
   ],
   "source": [
    "# Load targets\n",
    "df_target = pd.read_csv('https://huggingface.co/datasets/dllllb/age-group-prediction/resolve/main/train_target.csv?download=true')\n",
    "df_target.set_index('client_id', inplace=True)\n",
    "df_target.rename(columns={\"bins\": \"target\"}, inplace=True)\n",
    "df_target.head(5)"
   ]
  },
  {
   "cell_type": "code",
   "execution_count": 8,
   "id": "48062180",
   "metadata": {},
   "outputs": [
    {
     "name": "stdout",
     "output_type": "stream",
     "text": [
      "dict_keys(['client_id', 'trans_date', 'small_group', 'amount_rur', 'event_time'])\n",
      "dict_keys(['client_id', 'trans_date', 'small_group', 'amount_rur', 'event_time', 'target'])\n"
     ]
    }
   ],
   "source": [
    "# Add targets to tdataset\n",
    "print(dataset[0].keys())\n",
    "\n",
    "for el in dataset:\n",
    "    el['target'] = df_target['target'][el['client_id']]\n",
    "\n",
    "print(dataset[0].keys())"
   ]
  },
  {
   "cell_type": "code",
   "execution_count": 9,
   "id": "6bca1184",
   "metadata": {},
   "outputs": [
    {
     "data": {
      "text/plain": [
       "(21600, 2400, 6000)"
      ]
     },
     "execution_count": 9,
     "metadata": {},
     "output_type": "execute_result"
    }
   ],
   "source": [
    "from sklearn.model_selection import train_test_split\n",
    "\n",
    "train, test = train_test_split(dataset, test_size=0.2, random_state=42)\n",
    "train, valid = train_test_split(train, test_size=0.1, random_state=42)\n",
    "\n",
    "len(train), len(valid), len(test)"
   ]
  },
  {
   "cell_type": "markdown",
   "id": "ae0f2589",
   "metadata": {},
   "source": [
    "## FineTuning"
   ]
  },
  {
   "cell_type": "markdown",
   "id": "1c659556",
   "metadata": {},
   "source": [
    "### load SequenceEncoder obtained from `coles-emb.ipynb`"
   ]
  },
  {
   "cell_type": "code",
   "execution_count": 10,
   "id": "4bfabc3e",
   "metadata": {},
   "outputs": [
    {
     "data": {
      "text/plain": [
       "<All keys matched successfully>"
      ]
     },
     "execution_count": 10,
     "metadata": {},
     "output_type": "execute_result"
    }
   ],
   "source": [
    "from ptls.nn import TrxEncoder, RnnSeqEncoder\n",
    "\n",
    "trx_encoder_params = dict(\n",
    "    embeddings_noise=0.003,\n",
    "    numeric_values={'amount_rur': 'identity'},\n",
    "    embeddings={\n",
    "        'trans_date': {'in': 800, 'out': 16},\n",
    "        'small_group': {'in': 250, 'out': 16},\n",
    "    },\n",
    ")\n",
    "\n",
    "seq_encoder = RnnSeqEncoder(\n",
    "    trx_encoder=TrxEncoder(**trx_encoder_params),\n",
    "    hidden_size=256,\n",
    "    type='gru',\n",
    ")\n",
    "\n",
    "seq_encoder.load_state_dict(torch.load('coles-emb.pt'))"
   ]
  },
  {
   "cell_type": "markdown",
   "id": "b6e31aa3",
   "metadata": {},
   "source": [
    "### model"
   ]
  },
  {
   "cell_type": "code",
   "execution_count": 11,
   "id": "bea1f48e",
   "metadata": {},
   "outputs": [],
   "source": [
    "from functools import partial\n",
    "import torch\n",
    "import torchmetrics\n",
    "from ptls.frames.supervised import SequenceToTarget\n",
    "from ptls.nn import Head\n",
    "\n",
    "downstream_model = SequenceToTarget(\n",
    "    seq_encoder=seq_encoder,\n",
    "    head=Head(\n",
    "        input_size=seq_encoder.embedding_size,\n",
    "        use_batch_norm=True,\n",
    "        objective='classification',\n",
    "        num_classes=4,\n",
    "    ),\n",
    "    loss=torch.nn.NLLLoss(),\n",
    "    metric_list=torchmetrics.Accuracy(compute_on_step=False),\n",
    "    pretrained_lr=0.0001,\n",
    "    optimizer_partial=partial(torch.optim.Adam, lr=0.02),\n",
    "    lr_scheduler_partial=partial(torch.optim.lr_scheduler.StepLR, step_size=10, gamma=0.2),\n",
    ")\n"
   ]
  },
  {
   "cell_type": "markdown",
   "id": "98196aa0",
   "metadata": {},
   "source": [
    "### Data module"
   ]
  },
  {
   "cell_type": "code",
   "execution_count": 12,
   "id": "3122e292",
   "metadata": {},
   "outputs": [],
   "source": [
    "from ptls.data_load.datasets import MemoryMapDataset\n",
    "from ptls.data_load.iterable_processing import SeqLenFilter, FeatureFilter\n",
    "from ptls.frames.supervised import SeqToTargetDataset\n",
    "from ptls.frames import PtlsDataModule\n",
    "\n",
    "def get_dataset(data):\n",
    "    return SeqToTargetDataset(\n",
    "        MemoryMapDataset(\n",
    "            data=data,\n",
    "        ),\n",
    "        target_col_name='target',\n",
    "    )\n",
    "\n",
    "finetune_dm = PtlsDataModule(\n",
    "    train_data=get_dataset(train),\n",
    "    valid_data=get_dataset(valid),\n",
    "    test_data=get_dataset(test),\n",
    "    train_num_workers=4,\n",
    "    train_batch_size=256,\n",
    "    test_batch_size=128,\n",
    ")"
   ]
  },
  {
   "cell_type": "markdown",
   "id": "2e39721c",
   "metadata": {},
   "source": [
    "### Trainer FineTuning"
   ]
  },
  {
   "cell_type": "code",
   "execution_count": 13,
   "id": "553ebede",
   "metadata": {},
   "outputs": [
    {
     "name": "stderr",
     "output_type": "stream",
     "text": [
      "GPU available: True, used: True\n",
      "TPU available: False, using: 0 TPU cores\n",
      "IPU available: False, using: 0 IPUs\n"
     ]
    }
   ],
   "source": [
    "trainer_ft = pl.Trainer(\n",
    "    max_epochs=4,\n",
    "    gpus=1 if torch.cuda.is_available() else 0,\n",
    "    enable_progress_bar=False,\n",
    ")"
   ]
  },
  {
   "cell_type": "markdown",
   "id": "f58266c2",
   "metadata": {},
   "source": [
    "### Training FineTuning"
   ]
  },
  {
   "cell_type": "code",
   "execution_count": 14,
   "id": "f0a1d4e0",
   "metadata": {},
   "outputs": [
    {
     "name": "stderr",
     "output_type": "stream",
     "text": [
      "LOCAL_RANK: 0 - CUDA_VISIBLE_DEVICES: [0,1]\n"
     ]
    },
    {
     "name": "stdout",
     "output_type": "stream",
     "text": [
      "logger.version = 5\n"
     ]
    },
    {
     "name": "stderr",
     "output_type": "stream",
     "text": [
      "\n",
      "  | Name          | Type          | Params\n",
      "------------------------------------------------\n",
      "0 | seq_encoder   | RnnSeqEncoder | 240 K \n",
      "1 | head          | Head          | 1.5 K \n",
      "2 | loss          | NLLLoss       | 0     \n",
      "3 | train_metrics | ModuleDict    | 0     \n",
      "4 | valid_metrics | ModuleDict    | 0     \n",
      "5 | test_metrics  | ModuleDict    | 0     \n",
      "------------------------------------------------\n",
      "242 K     Trainable params\n",
      "0         Non-trainable params\n",
      "242 K     Total params\n",
      "0.968     Total estimated model params size (MB)\n"
     ]
    },
    {
     "name": "stdout",
     "output_type": "stream",
     "text": [
      "{'loss': tensor(0.9675), 'seq_len': tensor(899.6459), 'val_Accuracy': 0.574367105960846, 'train_Accuracy': 0.5870485901832581}\n"
     ]
    }
   ],
   "source": [
    "print(f'logger.version = {trainer_ft.logger.version}')\n",
    "trainer_ft.fit(downstream_model, finetune_dm)\n",
    "print(trainer_ft.logged_metrics)"
   ]
  },
  {
   "cell_type": "markdown",
   "id": "6d2670ff",
   "metadata": {},
   "source": [
    "### Testing"
   ]
  },
  {
   "cell_type": "code",
   "execution_count": 15,
   "id": "270490d0",
   "metadata": {},
   "outputs": [
    {
     "name": "stderr",
     "output_type": "stream",
     "text": [
      "/home/kireev/pipenv_envs/pytorch-lifestream-KxQJF1XF/lib/python3.8/site-packages/pytorch_lightning/trainer/trainer.py:906: LightningDeprecationWarning: `trainer.test(test_dataloaders)` is deprecated in v1.4 and will be removed in v1.6. Use `trainer.test(dataloaders)` instead.\n",
      "  rank_zero_deprecation(\n",
      "LOCAL_RANK: 0 - CUDA_VISIBLE_DEVICES: [0,1]\n",
      "/home/kireev/pipenv_envs/pytorch-lifestream-KxQJF1XF/lib/python3.8/site-packages/pytorch_lightning/trainer/data_loading.py:659: UserWarning: Your `test_dataloader` has `shuffle=True`, it is strongly recommended that you turn this off for val/test/predict dataloaders.\n",
      "  rank_zero_warn(\n"
     ]
    },
    {
     "name": "stdout",
     "output_type": "stream",
     "text": [
      "--------------------------------------------------------------------------------\n",
      "DATALOADER:0 TEST RESULTS\n",
      "{'test_Accuracy': 0.6135185360908508}\n",
      "--------------------------------------------------------------------------------\n"
     ]
    },
    {
     "data": {
      "text/plain": [
       "[{'test_Accuracy': 0.6135185360908508}]"
      ]
     },
     "execution_count": 15,
     "metadata": {},
     "output_type": "execute_result"
    }
   ],
   "source": [
    "trainer_ft.test(downstream_model, dataloaders=finetune_dm.test_dataloader())"
   ]
  },
  {
   "cell_type": "code",
   "execution_count": null,
   "id": "1cf2954d",
   "metadata": {},
   "outputs": [],
   "source": []
  }
 ],
 "metadata": {
  "kernelspec": {
   "display_name": "ptls",
   "language": "python",
   "name": "ptls"
  },
  "language_info": {
   "codemirror_mode": {
    "name": "ipython",
    "version": 3
   },
   "file_extension": ".py",
   "mimetype": "text/x-python",
   "name": "python",
   "nbconvert_exporter": "python",
   "pygments_lexer": "ipython3",
   "version": "3.8.10"
  }
 },
 "nbformat": 4,
 "nbformat_minor": 5
}
