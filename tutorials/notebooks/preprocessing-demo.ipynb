{
 "cells": [
  {
   "cell_type": "markdown",
   "id": "cf393d7e",
   "metadata": {},
   "source": [
    "# Preprocessing demo\n",
    "\n",
    "This is a demo about data preprocessing.\n",
    "We take a raw transactions and convert it to `ptls` format (list with feature dicts).\n",
    "\n",
    "Each paragraph shows a small example."
   ]
  },
  {
   "cell_type": "markdown",
   "id": "5ef1a1e1",
   "metadata": {},
   "source": [
    "# Common tools for this demo"
   ]
  },
  {
   "cell_type": "code",
   "execution_count": 1,
   "id": "dbc91a66",
   "metadata": {},
   "outputs": [],
   "source": [
    "import os\n",
    "\n",
    "if not os.path.exists('data/transactions_train.csv'):\n",
    "    ! mkdir -p data\n",
    "    ! curl -OL https://storage.yandexcloud.net/ptls-datasets/age-prediction-nti-sbebank-2019.zip\n",
    "    ! unzip -j -o age-prediction-nti-sbebank-2019.zip 'data/*.csv' -d data\n",
    "    ! mv age-prediction-nti-sbebank-2019.zip data/"
   ]
  },
  {
   "cell_type": "code",
   "execution_count": null,
   "id": "0cd81abb",
   "metadata": {},
   "outputs": [],
   "source": []
  },
  {
   "cell_type": "code",
   "execution_count": 2,
   "id": "0114035c",
   "metadata": {},
   "outputs": [],
   "source": [
    "import pandas as pd"
   ]
  },
  {
   "cell_type": "code",
   "execution_count": 3,
   "id": "3f8e163b",
   "metadata": {},
   "outputs": [],
   "source": [
    "from ptls.preprocessing import PandasDataPreprocessor\n",
    "from ptls.data_load.utils import FeatureDict"
   ]
  },
  {
   "cell_type": "code",
   "execution_count": 4,
   "id": "54ea4b98",
   "metadata": {},
   "outputs": [],
   "source": [
    "from IPython.display import display"
   ]
  },
  {
   "cell_type": "code",
   "execution_count": null,
   "id": "8180feee",
   "metadata": {},
   "outputs": [],
   "source": []
  },
  {
   "cell_type": "code",
   "execution_count": 5,
   "id": "8b16b84b",
   "metadata": {},
   "outputs": [],
   "source": [
    "def load_trx(keep_original_trans_date=False):\n",
    "    \"\"\"Load trx.\n",
    "    Only for demo purpose we:\n",
    "        - convert trans_date to datetime. Usually date time field are already hase datetime format.\n",
    "        - load only first 1M records. Demo will be faster\n",
    "        \n",
    "    \"\"\"\n",
    "    df = pd.read_csv('data/transactions_train.csv', nrows=1e6)\n",
    "    if not keep_original_trans_date:\n",
    "        df['trans_date'] = (pd.to_datetime('2000-01-01') + pd.to_timedelta(df['trans_date'], 'D')).astype(str)\n",
    "    df['amount_rur'] = df['amount_rur'].astype('float32')\n",
    "    display(df.head())\n",
    "    return df"
   ]
  },
  {
   "cell_type": "code",
   "execution_count": 6,
   "id": "4cccdfaa",
   "metadata": {},
   "outputs": [],
   "source": [
    "def load_target():\n",
    "    df = pd.read_csv('data/train_target.csv')\n",
    "    display(df.head())\n",
    "    return df   "
   ]
  },
  {
   "cell_type": "code",
   "execution_count": 7,
   "id": "53a3f811",
   "metadata": {},
   "outputs": [],
   "source": [
    "def print_feature_dict(d):\n",
    "    \"\"\"Print dict with only first 10 trnasactions\n",
    "    \"\"\"\n",
    "    print({k: v[:10] if FeatureDict.is_seq_feature(k, v) else v for k, v in d.items()})"
   ]
  },
  {
   "cell_type": "code",
   "execution_count": null,
   "id": "b5b0ac95",
   "metadata": {},
   "outputs": [],
   "source": []
  },
  {
   "cell_type": "markdown",
   "id": "d9c057a3",
   "metadata": {},
   "source": [
    "# Base Example"
   ]
  },
  {
   "cell_type": "code",
   "execution_count": 8,
   "id": "0a8ff052",
   "metadata": {},
   "outputs": [
    {
     "data": {
      "text/html": [
       "<div>\n",
       "<style scoped>\n",
       "    .dataframe tbody tr th:only-of-type {\n",
       "        vertical-align: middle;\n",
       "    }\n",
       "\n",
       "    .dataframe tbody tr th {\n",
       "        vertical-align: top;\n",
       "    }\n",
       "\n",
       "    .dataframe thead th {\n",
       "        text-align: right;\n",
       "    }\n",
       "</style>\n",
       "<table border=\"1\" class=\"dataframe\">\n",
       "  <thead>\n",
       "    <tr style=\"text-align: right;\">\n",
       "      <th></th>\n",
       "      <th>client_id</th>\n",
       "      <th>trans_date</th>\n",
       "      <th>small_group</th>\n",
       "      <th>amount_rur</th>\n",
       "    </tr>\n",
       "  </thead>\n",
       "  <tbody>\n",
       "    <tr>\n",
       "      <th>0</th>\n",
       "      <td>33172</td>\n",
       "      <td>2000-01-07</td>\n",
       "      <td>4</td>\n",
       "      <td>71.462997</td>\n",
       "    </tr>\n",
       "    <tr>\n",
       "      <th>1</th>\n",
       "      <td>33172</td>\n",
       "      <td>2000-01-07</td>\n",
       "      <td>35</td>\n",
       "      <td>45.016998</td>\n",
       "    </tr>\n",
       "    <tr>\n",
       "      <th>2</th>\n",
       "      <td>33172</td>\n",
       "      <td>2000-01-09</td>\n",
       "      <td>11</td>\n",
       "      <td>13.887000</td>\n",
       "    </tr>\n",
       "    <tr>\n",
       "      <th>3</th>\n",
       "      <td>33172</td>\n",
       "      <td>2000-01-10</td>\n",
       "      <td>11</td>\n",
       "      <td>15.983000</td>\n",
       "    </tr>\n",
       "    <tr>\n",
       "      <th>4</th>\n",
       "      <td>33172</td>\n",
       "      <td>2000-01-11</td>\n",
       "      <td>11</td>\n",
       "      <td>21.341000</td>\n",
       "    </tr>\n",
       "  </tbody>\n",
       "</table>\n",
       "</div>"
      ],
      "text/plain": [
       "   client_id  trans_date  small_group  amount_rur\n",
       "0      33172  2000-01-07            4   71.462997\n",
       "1      33172  2000-01-07           35   45.016998\n",
       "2      33172  2000-01-09           11   13.887000\n",
       "3      33172  2000-01-10           11   15.983000\n",
       "4      33172  2000-01-11           11   21.341000"
      ]
     },
     "metadata": {},
     "output_type": "display_data"
    }
   ],
   "source": [
    "df_trx = load_trx()"
   ]
  },
  {
   "cell_type": "code",
   "execution_count": 9,
   "id": "84394f5b",
   "metadata": {},
   "outputs": [],
   "source": [
    "preprocessor = PandasDataPreprocessor(\n",
    "    col_id='client_id',\n",
    "    col_event_time='trans_date',\n",
    "    cols_category=['small_group'],\n",
    "    cols_numerical=['amount_rur'],\n",
    ")"
   ]
  },
  {
   "cell_type": "code",
   "execution_count": 10,
   "id": "f17a97fb",
   "metadata": {},
   "outputs": [],
   "source": [
    "df_data = preprocessor.fit_transform(df_trx)"
   ]
  },
  {
   "cell_type": "code",
   "execution_count": 11,
   "id": "8b4e5d78",
   "metadata": {},
   "outputs": [
    {
     "data": {
      "text/plain": [
       "1145"
      ]
     },
     "execution_count": 11,
     "metadata": {},
     "output_type": "execute_result"
    }
   ],
   "source": [
    "# unique clients count\n",
    "len(df_data)"
   ]
  },
  {
   "cell_type": "code",
   "execution_count": 12,
   "id": "deebdde0",
   "metadata": {},
   "outputs": [
    {
     "name": "stdout",
     "output_type": "stream",
     "text": [
      "{'client_id': 6, 'small_group': tensor([ 4,  3,  1,  3,  4,  1,  4,  3, 22,  2]), 'amount_rur': tensor([ 4.0540, 13.7380, 20.7010, 21.5640, 13.4990, 23.7220,  4.3040,  8.6250,\n",
      "        12.9380, 28.1620]), 'event_time': tensor([946684800, 947116800, 947548800, 947635200, 947980800, 947980800,\n",
      "        948067200, 948067200, 948153600, 948240000])}\n"
     ]
    }
   ],
   "source": [
    "print_feature_dict(df_data[0])"
   ]
  },
  {
   "cell_type": "code",
   "execution_count": 13,
   "id": "cd955f8b",
   "metadata": {},
   "outputs": [
    {
     "data": {
      "text/plain": [
       "{'small_group': 186}"
      ]
     },
     "execution_count": 13,
     "metadata": {},
     "output_type": "execute_result"
    }
   ],
   "source": [
    "preprocessor.get_category_dictionary_sizes()"
   ]
  },
  {
   "cell_type": "markdown",
   "id": "ab2ab01a",
   "metadata": {},
   "source": [
    "pay attention:\n",
    "- `client_id` presented as scalar value\n",
    "- `small_group` converted to embedding indexes with frequency encoding. There are 186 unique values incluging 0 padding token exists.\n",
    "- `amount_rur` don't changed\n",
    "- `event_time` converted to timestamp"
   ]
  },
  {
   "cell_type": "code",
   "execution_count": null,
   "id": "aaaf449c",
   "metadata": {},
   "outputs": [],
   "source": []
  },
  {
   "cell_type": "markdown",
   "id": "1382d77b",
   "metadata": {},
   "source": [
    "# Join target"
   ]
  },
  {
   "cell_type": "markdown",
   "id": "94e49042",
   "metadata": {},
   "source": [
    "## before preprocessing"
   ]
  },
  {
   "cell_type": "code",
   "execution_count": 14,
   "id": "d08dceee",
   "metadata": {},
   "outputs": [
    {
     "data": {
      "text/html": [
       "<div>\n",
       "<style scoped>\n",
       "    .dataframe tbody tr th:only-of-type {\n",
       "        vertical-align: middle;\n",
       "    }\n",
       "\n",
       "    .dataframe tbody tr th {\n",
       "        vertical-align: top;\n",
       "    }\n",
       "\n",
       "    .dataframe thead th {\n",
       "        text-align: right;\n",
       "    }\n",
       "</style>\n",
       "<table border=\"1\" class=\"dataframe\">\n",
       "  <thead>\n",
       "    <tr style=\"text-align: right;\">\n",
       "      <th></th>\n",
       "      <th>client_id</th>\n",
       "      <th>trans_date</th>\n",
       "      <th>small_group</th>\n",
       "      <th>amount_rur</th>\n",
       "    </tr>\n",
       "  </thead>\n",
       "  <tbody>\n",
       "    <tr>\n",
       "      <th>0</th>\n",
       "      <td>33172</td>\n",
       "      <td>2000-01-07</td>\n",
       "      <td>4</td>\n",
       "      <td>71.462997</td>\n",
       "    </tr>\n",
       "    <tr>\n",
       "      <th>1</th>\n",
       "      <td>33172</td>\n",
       "      <td>2000-01-07</td>\n",
       "      <td>35</td>\n",
       "      <td>45.016998</td>\n",
       "    </tr>\n",
       "    <tr>\n",
       "      <th>2</th>\n",
       "      <td>33172</td>\n",
       "      <td>2000-01-09</td>\n",
       "      <td>11</td>\n",
       "      <td>13.887000</td>\n",
       "    </tr>\n",
       "    <tr>\n",
       "      <th>3</th>\n",
       "      <td>33172</td>\n",
       "      <td>2000-01-10</td>\n",
       "      <td>11</td>\n",
       "      <td>15.983000</td>\n",
       "    </tr>\n",
       "    <tr>\n",
       "      <th>4</th>\n",
       "      <td>33172</td>\n",
       "      <td>2000-01-11</td>\n",
       "      <td>11</td>\n",
       "      <td>21.341000</td>\n",
       "    </tr>\n",
       "  </tbody>\n",
       "</table>\n",
       "</div>"
      ],
      "text/plain": [
       "   client_id  trans_date  small_group  amount_rur\n",
       "0      33172  2000-01-07            4   71.462997\n",
       "1      33172  2000-01-07           35   45.016998\n",
       "2      33172  2000-01-09           11   13.887000\n",
       "3      33172  2000-01-10           11   15.983000\n",
       "4      33172  2000-01-11           11   21.341000"
      ]
     },
     "metadata": {},
     "output_type": "display_data"
    },
    {
     "data": {
      "text/html": [
       "<div>\n",
       "<style scoped>\n",
       "    .dataframe tbody tr th:only-of-type {\n",
       "        vertical-align: middle;\n",
       "    }\n",
       "\n",
       "    .dataframe tbody tr th {\n",
       "        vertical-align: top;\n",
       "    }\n",
       "\n",
       "    .dataframe thead th {\n",
       "        text-align: right;\n",
       "    }\n",
       "</style>\n",
       "<table border=\"1\" class=\"dataframe\">\n",
       "  <thead>\n",
       "    <tr style=\"text-align: right;\">\n",
       "      <th></th>\n",
       "      <th>client_id</th>\n",
       "      <th>bins</th>\n",
       "    </tr>\n",
       "  </thead>\n",
       "  <tbody>\n",
       "    <tr>\n",
       "      <th>0</th>\n",
       "      <td>24662</td>\n",
       "      <td>2</td>\n",
       "    </tr>\n",
       "    <tr>\n",
       "      <th>1</th>\n",
       "      <td>1046</td>\n",
       "      <td>0</td>\n",
       "    </tr>\n",
       "    <tr>\n",
       "      <th>2</th>\n",
       "      <td>34089</td>\n",
       "      <td>2</td>\n",
       "    </tr>\n",
       "    <tr>\n",
       "      <th>3</th>\n",
       "      <td>34848</td>\n",
       "      <td>1</td>\n",
       "    </tr>\n",
       "    <tr>\n",
       "      <th>4</th>\n",
       "      <td>47076</td>\n",
       "      <td>3</td>\n",
       "    </tr>\n",
       "  </tbody>\n",
       "</table>\n",
       "</div>"
      ],
      "text/plain": [
       "   client_id  bins\n",
       "0      24662     2\n",
       "1       1046     0\n",
       "2      34089     2\n",
       "3      34848     1\n",
       "4      47076     3"
      ]
     },
     "metadata": {},
     "output_type": "display_data"
    }
   ],
   "source": [
    "df_trx = load_trx()\n",
    "df_target = load_target()"
   ]
  },
  {
   "cell_type": "code",
   "execution_count": 15,
   "id": "a7c40ec0",
   "metadata": {},
   "outputs": [
    {
     "data": {
      "text/html": [
       "<div>\n",
       "<style scoped>\n",
       "    .dataframe tbody tr th:only-of-type {\n",
       "        vertical-align: middle;\n",
       "    }\n",
       "\n",
       "    .dataframe tbody tr th {\n",
       "        vertical-align: top;\n",
       "    }\n",
       "\n",
       "    .dataframe thead th {\n",
       "        text-align: right;\n",
       "    }\n",
       "</style>\n",
       "<table border=\"1\" class=\"dataframe\">\n",
       "  <thead>\n",
       "    <tr style=\"text-align: right;\">\n",
       "      <th></th>\n",
       "      <th>client_id</th>\n",
       "      <th>trans_date</th>\n",
       "      <th>small_group</th>\n",
       "      <th>amount_rur</th>\n",
       "      <th>bins</th>\n",
       "    </tr>\n",
       "  </thead>\n",
       "  <tbody>\n",
       "    <tr>\n",
       "      <th>0</th>\n",
       "      <td>33172</td>\n",
       "      <td>2000-01-07</td>\n",
       "      <td>4</td>\n",
       "      <td>71.462997</td>\n",
       "      <td>0</td>\n",
       "    </tr>\n",
       "    <tr>\n",
       "      <th>1</th>\n",
       "      <td>33172</td>\n",
       "      <td>2000-01-07</td>\n",
       "      <td>35</td>\n",
       "      <td>45.016998</td>\n",
       "      <td>0</td>\n",
       "    </tr>\n",
       "    <tr>\n",
       "      <th>2</th>\n",
       "      <td>33172</td>\n",
       "      <td>2000-01-09</td>\n",
       "      <td>11</td>\n",
       "      <td>13.887000</td>\n",
       "      <td>0</td>\n",
       "    </tr>\n",
       "    <tr>\n",
       "      <th>3</th>\n",
       "      <td>33172</td>\n",
       "      <td>2000-01-10</td>\n",
       "      <td>11</td>\n",
       "      <td>15.983000</td>\n",
       "      <td>0</td>\n",
       "    </tr>\n",
       "    <tr>\n",
       "      <th>4</th>\n",
       "      <td>33172</td>\n",
       "      <td>2000-01-11</td>\n",
       "      <td>11</td>\n",
       "      <td>21.341000</td>\n",
       "      <td>0</td>\n",
       "    </tr>\n",
       "  </tbody>\n",
       "</table>\n",
       "</div>"
      ],
      "text/plain": [
       "   client_id  trans_date  small_group  amount_rur  bins\n",
       "0      33172  2000-01-07            4   71.462997     0\n",
       "1      33172  2000-01-07           35   45.016998     0\n",
       "2      33172  2000-01-09           11   13.887000     0\n",
       "3      33172  2000-01-10           11   15.983000     0\n",
       "4      33172  2000-01-11           11   21.341000     0"
      ]
     },
     "execution_count": 15,
     "metadata": {},
     "output_type": "execute_result"
    }
   ],
   "source": [
    "df_trx = pd.merge(df_trx, df_target, on='client_id', how='inner')\n",
    "df_trx.head()"
   ]
  },
  {
   "cell_type": "markdown",
   "id": "89b33dc3",
   "metadata": {},
   "source": [
    "> **Note:**\n",
    "> Target are multiplyed. Each row for `client_id` has the same `bins`"
   ]
  },
  {
   "cell_type": "code",
   "execution_count": 16,
   "id": "9fd50f65",
   "metadata": {},
   "outputs": [],
   "source": [
    "preprocessor = PandasDataPreprocessor(\n",
    "    col_id='client_id',\n",
    "    col_event_time='trans_date',\n",
    "    cols_category=['small_group'],\n",
    "    cols_numerical=['amount_rur'],\n",
    "    cols_first_item=['bins'],  # As target is the same for all transactions, lets take it from 1st record\n",
    ")"
   ]
  },
  {
   "cell_type": "code",
   "execution_count": 17,
   "id": "4af02f2b",
   "metadata": {},
   "outputs": [],
   "source": [
    "df_data = preprocessor.fit_transform(df_trx)"
   ]
  },
  {
   "cell_type": "code",
   "execution_count": 18,
   "id": "696219ba",
   "metadata": {},
   "outputs": [
    {
     "data": {
      "text/plain": [
       "1145"
      ]
     },
     "execution_count": 18,
     "metadata": {},
     "output_type": "execute_result"
    }
   ],
   "source": [
    "# unique clients count\n",
    "len(df_data)"
   ]
  },
  {
   "cell_type": "code",
   "execution_count": 19,
   "id": "18ccf73e",
   "metadata": {},
   "outputs": [
    {
     "name": "stdout",
     "output_type": "stream",
     "text": [
      "{'client_id': 6, 'small_group': tensor([ 4,  3,  1,  3,  4,  1,  4,  3, 22,  2]), 'amount_rur': tensor([ 4.0540, 13.7380, 20.7010, 21.5640, 13.4990, 23.7220,  4.3040,  8.6250,\n",
      "        12.9380, 28.1620]), 'bins': 1, 'event_time': tensor([946684800, 947116800, 947548800, 947635200, 947980800, 947980800,\n",
      "        948067200, 948067200, 948153600, 948240000])}\n"
     ]
    }
   ],
   "source": [
    "print_feature_dict(df_data[0])"
   ]
  },
  {
   "cell_type": "markdown",
   "id": "0e3ce3c2",
   "metadata": {},
   "source": [
    "pay attention:\n",
    "- `client_id` presented as scalar value\n",
    "- `small_group` converted to embedding indexes with frequency encoding\n",
    "- `amount_rur` don't changed\n",
    "- `event_time` converted to timestamp\n",
    "- target value `bins` is in dict"
   ]
  },
  {
   "cell_type": "markdown",
   "id": "28077688",
   "metadata": {},
   "source": [
    "## after preprocessing "
   ]
  },
  {
   "cell_type": "code",
   "execution_count": 20,
   "id": "4949ac62",
   "metadata": {},
   "outputs": [
    {
     "data": {
      "text/html": [
       "<div>\n",
       "<style scoped>\n",
       "    .dataframe tbody tr th:only-of-type {\n",
       "        vertical-align: middle;\n",
       "    }\n",
       "\n",
       "    .dataframe tbody tr th {\n",
       "        vertical-align: top;\n",
       "    }\n",
       "\n",
       "    .dataframe thead th {\n",
       "        text-align: right;\n",
       "    }\n",
       "</style>\n",
       "<table border=\"1\" class=\"dataframe\">\n",
       "  <thead>\n",
       "    <tr style=\"text-align: right;\">\n",
       "      <th></th>\n",
       "      <th>client_id</th>\n",
       "      <th>trans_date</th>\n",
       "      <th>small_group</th>\n",
       "      <th>amount_rur</th>\n",
       "    </tr>\n",
       "  </thead>\n",
       "  <tbody>\n",
       "    <tr>\n",
       "      <th>0</th>\n",
       "      <td>33172</td>\n",
       "      <td>2000-01-07</td>\n",
       "      <td>4</td>\n",
       "      <td>71.462997</td>\n",
       "    </tr>\n",
       "    <tr>\n",
       "      <th>1</th>\n",
       "      <td>33172</td>\n",
       "      <td>2000-01-07</td>\n",
       "      <td>35</td>\n",
       "      <td>45.016998</td>\n",
       "    </tr>\n",
       "    <tr>\n",
       "      <th>2</th>\n",
       "      <td>33172</td>\n",
       "      <td>2000-01-09</td>\n",
       "      <td>11</td>\n",
       "      <td>13.887000</td>\n",
       "    </tr>\n",
       "    <tr>\n",
       "      <th>3</th>\n",
       "      <td>33172</td>\n",
       "      <td>2000-01-10</td>\n",
       "      <td>11</td>\n",
       "      <td>15.983000</td>\n",
       "    </tr>\n",
       "    <tr>\n",
       "      <th>4</th>\n",
       "      <td>33172</td>\n",
       "      <td>2000-01-11</td>\n",
       "      <td>11</td>\n",
       "      <td>21.341000</td>\n",
       "    </tr>\n",
       "  </tbody>\n",
       "</table>\n",
       "</div>"
      ],
      "text/plain": [
       "   client_id  trans_date  small_group  amount_rur\n",
       "0      33172  2000-01-07            4   71.462997\n",
       "1      33172  2000-01-07           35   45.016998\n",
       "2      33172  2000-01-09           11   13.887000\n",
       "3      33172  2000-01-10           11   15.983000\n",
       "4      33172  2000-01-11           11   21.341000"
      ]
     },
     "metadata": {},
     "output_type": "display_data"
    }
   ],
   "source": [
    "df_trx = load_trx()"
   ]
  },
  {
   "cell_type": "code",
   "execution_count": 21,
   "id": "7670306b",
   "metadata": {},
   "outputs": [],
   "source": [
    "preprocessor = PandasDataPreprocessor(\n",
    "    col_id='client_id',\n",
    "    col_event_time='trans_date',\n",
    "    cols_category=['small_group'],\n",
    "    cols_numerical=['amount_rur'],\n",
    "    return_records=False,  # change output type\n",
    ")"
   ]
  },
  {
   "cell_type": "code",
   "execution_count": 22,
   "id": "ef3a1b05",
   "metadata": {},
   "outputs": [],
   "source": [
    "df_data = preprocessor.fit_transform(df_trx)"
   ]
  },
  {
   "cell_type": "code",
   "execution_count": 23,
   "id": "8a88a5e4",
   "metadata": {},
   "outputs": [
    {
     "data": {
      "text/plain": [
       "1145"
      ]
     },
     "execution_count": 23,
     "metadata": {},
     "output_type": "execute_result"
    }
   ],
   "source": [
    "# unique clients count\n",
    "len(df_data)"
   ]
  },
  {
   "cell_type": "code",
   "execution_count": 24,
   "id": "f3ec5200",
   "metadata": {},
   "outputs": [
    {
     "data": {
      "text/html": [
       "<div>\n",
       "<style scoped>\n",
       "    .dataframe tbody tr th:only-of-type {\n",
       "        vertical-align: middle;\n",
       "    }\n",
       "\n",
       "    .dataframe tbody tr th {\n",
       "        vertical-align: top;\n",
       "    }\n",
       "\n",
       "    .dataframe thead th {\n",
       "        text-align: right;\n",
       "    }\n",
       "</style>\n",
       "<table border=\"1\" class=\"dataframe\">\n",
       "  <thead>\n",
       "    <tr style=\"text-align: right;\">\n",
       "      <th></th>\n",
       "      <th>client_id</th>\n",
       "      <th>small_group</th>\n",
       "      <th>amount_rur</th>\n",
       "      <th>event_time</th>\n",
       "    </tr>\n",
       "  </thead>\n",
       "  <tbody>\n",
       "    <tr>\n",
       "      <th>0</th>\n",
       "      <td>6</td>\n",
       "      <td>[tensor(4), tensor(3), tensor(1), tensor(3), t...</td>\n",
       "      <td>[tensor(4.0540), tensor(13.7380), tensor(20.70...</td>\n",
       "      <td>[tensor(946684800), tensor(947116800), tensor(...</td>\n",
       "    </tr>\n",
       "    <tr>\n",
       "      <th>1</th>\n",
       "      <td>37</td>\n",
       "      <td>[tensor(1), tensor(10), tensor(1), tensor(3), ...</td>\n",
       "      <td>[tensor(18.5440), tensor(22.8980), tensor(3.66...</td>\n",
       "      <td>[tensor(946684800), tensor(946857600), tensor(...</td>\n",
       "    </tr>\n",
       "    <tr>\n",
       "      <th>2</th>\n",
       "      <td>91</td>\n",
       "      <td>[tensor(19), tensor(40), tensor(1), tensor(5),...</td>\n",
       "      <td>[tensor(163.9470), tensor(2.1560), tensor(38.2...</td>\n",
       "      <td>[tensor(946857600), tensor(946944000), tensor(...</td>\n",
       "    </tr>\n",
       "    <tr>\n",
       "      <th>3</th>\n",
       "      <td>172</td>\n",
       "      <td>[tensor(3), tensor(3), tensor(3), tensor(3), t...</td>\n",
       "      <td>[tensor(13.7380), tensor(21.5640), tensor(34.5...</td>\n",
       "      <td>[tensor(948067200), tensor(948326400), tensor(...</td>\n",
       "    </tr>\n",
       "    <tr>\n",
       "      <th>4</th>\n",
       "      <td>250</td>\n",
       "      <td>[tensor(10), tensor(8), tensor(8), tensor(3), ...</td>\n",
       "      <td>[tensor(7.5110), tensor(116.4400), tensor(2.29...</td>\n",
       "      <td>[tensor(946684800), tensor(946684800), tensor(...</td>\n",
       "    </tr>\n",
       "  </tbody>\n",
       "</table>\n",
       "</div>"
      ],
      "text/plain": [
       "   client_id                                        small_group  \\\n",
       "0          6  [tensor(4), tensor(3), tensor(1), tensor(3), t...   \n",
       "1         37  [tensor(1), tensor(10), tensor(1), tensor(3), ...   \n",
       "2         91  [tensor(19), tensor(40), tensor(1), tensor(5),...   \n",
       "3        172  [tensor(3), tensor(3), tensor(3), tensor(3), t...   \n",
       "4        250  [tensor(10), tensor(8), tensor(8), tensor(3), ...   \n",
       "\n",
       "                                          amount_rur  \\\n",
       "0  [tensor(4.0540), tensor(13.7380), tensor(20.70...   \n",
       "1  [tensor(18.5440), tensor(22.8980), tensor(3.66...   \n",
       "2  [tensor(163.9470), tensor(2.1560), tensor(38.2...   \n",
       "3  [tensor(13.7380), tensor(21.5640), tensor(34.5...   \n",
       "4  [tensor(7.5110), tensor(116.4400), tensor(2.29...   \n",
       "\n",
       "                                          event_time  \n",
       "0  [tensor(946684800), tensor(947116800), tensor(...  \n",
       "1  [tensor(946684800), tensor(946857600), tensor(...  \n",
       "2  [tensor(946857600), tensor(946944000), tensor(...  \n",
       "3  [tensor(948067200), tensor(948326400), tensor(...  \n",
       "4  [tensor(946684800), tensor(946684800), tensor(...  "
      ]
     },
     "execution_count": 24,
     "metadata": {},
     "output_type": "execute_result"
    }
   ],
   "source": [
    "df_data.head()"
   ]
  },
  {
   "cell_type": "markdown",
   "id": "912f93f8",
   "metadata": {},
   "source": [
    "> **Note:**\n",
    "> `df_data` is not a `list` this is `DataFrame`"
   ]
  },
  {
   "cell_type": "code",
   "execution_count": 25,
   "id": "9e534f6f",
   "metadata": {},
   "outputs": [
    {
     "data": {
      "text/html": [
       "<div>\n",
       "<style scoped>\n",
       "    .dataframe tbody tr th:only-of-type {\n",
       "        vertical-align: middle;\n",
       "    }\n",
       "\n",
       "    .dataframe tbody tr th {\n",
       "        vertical-align: top;\n",
       "    }\n",
       "\n",
       "    .dataframe thead th {\n",
       "        text-align: right;\n",
       "    }\n",
       "</style>\n",
       "<table border=\"1\" class=\"dataframe\">\n",
       "  <thead>\n",
       "    <tr style=\"text-align: right;\">\n",
       "      <th></th>\n",
       "      <th>client_id</th>\n",
       "      <th>bins</th>\n",
       "    </tr>\n",
       "  </thead>\n",
       "  <tbody>\n",
       "    <tr>\n",
       "      <th>0</th>\n",
       "      <td>24662</td>\n",
       "      <td>2</td>\n",
       "    </tr>\n",
       "    <tr>\n",
       "      <th>1</th>\n",
       "      <td>1046</td>\n",
       "      <td>0</td>\n",
       "    </tr>\n",
       "    <tr>\n",
       "      <th>2</th>\n",
       "      <td>34089</td>\n",
       "      <td>2</td>\n",
       "    </tr>\n",
       "    <tr>\n",
       "      <th>3</th>\n",
       "      <td>34848</td>\n",
       "      <td>1</td>\n",
       "    </tr>\n",
       "    <tr>\n",
       "      <th>4</th>\n",
       "      <td>47076</td>\n",
       "      <td>3</td>\n",
       "    </tr>\n",
       "  </tbody>\n",
       "</table>\n",
       "</div>"
      ],
      "text/plain": [
       "   client_id  bins\n",
       "0      24662     2\n",
       "1       1046     0\n",
       "2      34089     2\n",
       "3      34848     1\n",
       "4      47076     3"
      ]
     },
     "metadata": {},
     "output_type": "display_data"
    }
   ],
   "source": [
    "df_target = load_target()"
   ]
  },
  {
   "cell_type": "code",
   "execution_count": 26,
   "id": "e8e368fc",
   "metadata": {},
   "outputs": [],
   "source": [
    "df_data = pd.merge(df_data, df_target, on='client_id', how='inner')"
   ]
  },
  {
   "cell_type": "code",
   "execution_count": 27,
   "id": "d38d6346",
   "metadata": {},
   "outputs": [],
   "source": [
    "df_data = df_data.to_dict(orient='records')"
   ]
  },
  {
   "cell_type": "code",
   "execution_count": 28,
   "id": "76193f57",
   "metadata": {},
   "outputs": [
    {
     "data": {
      "text/plain": [
       "1145"
      ]
     },
     "execution_count": 28,
     "metadata": {},
     "output_type": "execute_result"
    }
   ],
   "source": [
    "# unique clients count\n",
    "len(df_data)"
   ]
  },
  {
   "cell_type": "code",
   "execution_count": 29,
   "id": "a1e0f806",
   "metadata": {},
   "outputs": [
    {
     "name": "stdout",
     "output_type": "stream",
     "text": [
      "{'client_id': 6, 'small_group': tensor([ 4,  3,  1,  3,  4,  1,  4,  3, 22,  2]), 'amount_rur': tensor([ 4.0540, 13.7380, 20.7010, 21.5640, 13.4990, 23.7220,  4.3040,  8.6250,\n",
      "        12.9380, 28.1620]), 'event_time': tensor([946684800, 947116800, 947548800, 947635200, 947980800, 947980800,\n",
      "        948067200, 948067200, 948153600, 948240000]), 'bins': 1}\n"
     ]
    }
   ],
   "source": [
    "print_feature_dict(df_data[0])"
   ]
  },
  {
   "cell_type": "markdown",
   "id": "84340dff",
   "metadata": {},
   "source": [
    "pay attention:\n",
    "- `client_id` presented as scalar value\n",
    "- `small_group` converted to embedding indexes with frequency encoding\n",
    "- `amount_rur` don't changed\n",
    "- `event_time` converted to timestamp\n",
    "- target value `bins` is in dict"
   ]
  },
  {
   "cell_type": "code",
   "execution_count": null,
   "id": "76714c87",
   "metadata": {},
   "outputs": [],
   "source": []
  },
  {
   "cell_type": "markdown",
   "id": "051e580b",
   "metadata": {},
   "source": [
    "# Without data preprocessing\n",
    "\n",
    "Original `trans_date` in this dataset is not a datetime. But we can use if for trx ordering"
   ]
  },
  {
   "cell_type": "code",
   "execution_count": 30,
   "id": "d0818fd8",
   "metadata": {},
   "outputs": [
    {
     "data": {
      "text/html": [
       "<div>\n",
       "<style scoped>\n",
       "    .dataframe tbody tr th:only-of-type {\n",
       "        vertical-align: middle;\n",
       "    }\n",
       "\n",
       "    .dataframe tbody tr th {\n",
       "        vertical-align: top;\n",
       "    }\n",
       "\n",
       "    .dataframe thead th {\n",
       "        text-align: right;\n",
       "    }\n",
       "</style>\n",
       "<table border=\"1\" class=\"dataframe\">\n",
       "  <thead>\n",
       "    <tr style=\"text-align: right;\">\n",
       "      <th></th>\n",
       "      <th>client_id</th>\n",
       "      <th>trans_date</th>\n",
       "      <th>small_group</th>\n",
       "      <th>amount_rur</th>\n",
       "    </tr>\n",
       "  </thead>\n",
       "  <tbody>\n",
       "    <tr>\n",
       "      <th>0</th>\n",
       "      <td>33172</td>\n",
       "      <td>6</td>\n",
       "      <td>4</td>\n",
       "      <td>71.462997</td>\n",
       "    </tr>\n",
       "    <tr>\n",
       "      <th>1</th>\n",
       "      <td>33172</td>\n",
       "      <td>6</td>\n",
       "      <td>35</td>\n",
       "      <td>45.016998</td>\n",
       "    </tr>\n",
       "    <tr>\n",
       "      <th>2</th>\n",
       "      <td>33172</td>\n",
       "      <td>8</td>\n",
       "      <td>11</td>\n",
       "      <td>13.887000</td>\n",
       "    </tr>\n",
       "    <tr>\n",
       "      <th>3</th>\n",
       "      <td>33172</td>\n",
       "      <td>9</td>\n",
       "      <td>11</td>\n",
       "      <td>15.983000</td>\n",
       "    </tr>\n",
       "    <tr>\n",
       "      <th>4</th>\n",
       "      <td>33172</td>\n",
       "      <td>10</td>\n",
       "      <td>11</td>\n",
       "      <td>21.341000</td>\n",
       "    </tr>\n",
       "  </tbody>\n",
       "</table>\n",
       "</div>"
      ],
      "text/plain": [
       "   client_id  trans_date  small_group  amount_rur\n",
       "0      33172           6            4   71.462997\n",
       "1      33172           6           35   45.016998\n",
       "2      33172           8           11   13.887000\n",
       "3      33172           9           11   15.983000\n",
       "4      33172          10           11   21.341000"
      ]
     },
     "metadata": {},
     "output_type": "display_data"
    }
   ],
   "source": [
    "df_trx = load_trx(keep_original_trans_date=True)"
   ]
  },
  {
   "cell_type": "code",
   "execution_count": 31,
   "id": "8a0e1344",
   "metadata": {},
   "outputs": [],
   "source": [
    "preprocessor = PandasDataPreprocessor(\n",
    "    col_id='client_id',\n",
    "    col_event_time='trans_date',\n",
    "    event_time_transformation='none',  # none transformation\n",
    "    cols_category=['small_group'],\n",
    "    cols_numerical=['amount_rur'],\n",
    ")"
   ]
  },
  {
   "cell_type": "code",
   "execution_count": 32,
   "id": "ebd75586",
   "metadata": {},
   "outputs": [],
   "source": [
    "df_data = preprocessor.fit_transform(df_trx)"
   ]
  },
  {
   "cell_type": "code",
   "execution_count": 33,
   "id": "f564ad76",
   "metadata": {},
   "outputs": [
    {
     "data": {
      "text/plain": [
       "1145"
      ]
     },
     "execution_count": 33,
     "metadata": {},
     "output_type": "execute_result"
    }
   ],
   "source": [
    "# unique clients count\n",
    "len(df_data)"
   ]
  },
  {
   "cell_type": "code",
   "execution_count": 34,
   "id": "cdb8262a",
   "metadata": {},
   "outputs": [
    {
     "name": "stdout",
     "output_type": "stream",
     "text": [
      "{'client_id': 6, 'trans_date': tensor([ 0,  5, 10, 11, 15, 15, 16, 16, 17, 18]), 'small_group': tensor([ 4,  3,  1,  3,  4,  1,  4,  3, 22,  2]), 'amount_rur': tensor([ 4.0540, 13.7380, 20.7010, 21.5640, 13.4990, 23.7220,  4.3040,  8.6250,\n",
      "        12.9380, 28.1620]), 'event_time': tensor([ 0,  5, 10, 11, 15, 15, 16, 16, 17, 18])}\n"
     ]
    }
   ],
   "source": [
    "print_feature_dict(df_data[0])"
   ]
  },
  {
   "cell_type": "markdown",
   "id": "7d5bfc1b",
   "metadata": {},
   "source": [
    "pay attention:\n",
    "- `client_id` presented as scalar value\n",
    "- `small_group` converted to embedding indexes with frequency encoding\n",
    "- `amount_rur` don't changed\n",
    "- `event_time` keep original value. Trx are ordered"
   ]
  },
  {
   "cell_type": "code",
   "execution_count": null,
   "id": "4e00193f",
   "metadata": {},
   "outputs": [],
   "source": []
  },
  {
   "cell_type": "markdown",
   "id": "f48ca0d8",
   "metadata": {},
   "source": [
    "# Category identity encoding\n",
    "\n",
    "`small_group` in out dataset is encoded mcc code. It seems we don't need freauency encoding."
   ]
  },
  {
   "cell_type": "code",
   "execution_count": 35,
   "id": "3259c4e3",
   "metadata": {},
   "outputs": [
    {
     "data": {
      "text/html": [
       "<div>\n",
       "<style scoped>\n",
       "    .dataframe tbody tr th:only-of-type {\n",
       "        vertical-align: middle;\n",
       "    }\n",
       "\n",
       "    .dataframe tbody tr th {\n",
       "        vertical-align: top;\n",
       "    }\n",
       "\n",
       "    .dataframe thead th {\n",
       "        text-align: right;\n",
       "    }\n",
       "</style>\n",
       "<table border=\"1\" class=\"dataframe\">\n",
       "  <thead>\n",
       "    <tr style=\"text-align: right;\">\n",
       "      <th></th>\n",
       "      <th>client_id</th>\n",
       "      <th>trans_date</th>\n",
       "      <th>small_group</th>\n",
       "      <th>amount_rur</th>\n",
       "    </tr>\n",
       "  </thead>\n",
       "  <tbody>\n",
       "    <tr>\n",
       "      <th>0</th>\n",
       "      <td>33172</td>\n",
       "      <td>6</td>\n",
       "      <td>4</td>\n",
       "      <td>71.462997</td>\n",
       "    </tr>\n",
       "    <tr>\n",
       "      <th>1</th>\n",
       "      <td>33172</td>\n",
       "      <td>6</td>\n",
       "      <td>35</td>\n",
       "      <td>45.016998</td>\n",
       "    </tr>\n",
       "    <tr>\n",
       "      <th>2</th>\n",
       "      <td>33172</td>\n",
       "      <td>8</td>\n",
       "      <td>11</td>\n",
       "      <td>13.887000</td>\n",
       "    </tr>\n",
       "    <tr>\n",
       "      <th>3</th>\n",
       "      <td>33172</td>\n",
       "      <td>9</td>\n",
       "      <td>11</td>\n",
       "      <td>15.983000</td>\n",
       "    </tr>\n",
       "    <tr>\n",
       "      <th>4</th>\n",
       "      <td>33172</td>\n",
       "      <td>10</td>\n",
       "      <td>11</td>\n",
       "      <td>21.341000</td>\n",
       "    </tr>\n",
       "  </tbody>\n",
       "</table>\n",
       "</div>"
      ],
      "text/plain": [
       "   client_id  trans_date  small_group  amount_rur\n",
       "0      33172           6            4   71.462997\n",
       "1      33172           6           35   45.016998\n",
       "2      33172           8           11   13.887000\n",
       "3      33172           9           11   15.983000\n",
       "4      33172          10           11   21.341000"
      ]
     },
     "metadata": {},
     "output_type": "display_data"
    }
   ],
   "source": [
    "df_trx = load_trx(keep_original_trans_date=True)"
   ]
  },
  {
   "cell_type": "code",
   "execution_count": 36,
   "id": "2a7e9c85",
   "metadata": {},
   "outputs": [],
   "source": [
    "preprocessor = PandasDataPreprocessor(\n",
    "    col_id='client_id',\n",
    "    col_event_time='trans_date',\n",
    "    event_time_transformation='none',  # none transformation\n",
    "    cols_category=['small_group'],\n",
    "    category_transformation='none',\n",
    "    cols_numerical=['amount_rur'],\n",
    ")"
   ]
  },
  {
   "cell_type": "code",
   "execution_count": 37,
   "id": "88fb2c8c",
   "metadata": {},
   "outputs": [
    {
     "name": "stderr",
     "output_type": "stream",
     "text": [
      "/home/kireev/pycharm-deploy/pytorch-lifestream/ptls/preprocessing/pandas/category_identity_encoder.py:71: UserWarning: 0 values fount in small_group. 0 is a padding index\n",
      "  warnings.warn(f'0 values fount in {self.col_name_original}. 0 is a padding index', UserWarning)\n"
     ]
    }
   ],
   "source": [
    "df_data = preprocessor.fit_transform(df_trx)"
   ]
  },
  {
   "cell_type": "markdown",
   "id": "edd0ddd3",
   "metadata": {},
   "source": [
    "> Oops. 0 is padding token. Let's shift values to 1"
   ]
  },
  {
   "cell_type": "code",
   "execution_count": 38,
   "id": "712fef48",
   "metadata": {},
   "outputs": [],
   "source": [
    "df_trx['small_group'] = df_trx['small_group'] + 1"
   ]
  },
  {
   "cell_type": "code",
   "execution_count": 39,
   "id": "50d7aa9c",
   "metadata": {},
   "outputs": [],
   "source": [
    "df_data = preprocessor.fit_transform(df_trx)"
   ]
  },
  {
   "cell_type": "code",
   "execution_count": null,
   "id": "c758cba6",
   "metadata": {},
   "outputs": [],
   "source": []
  },
  {
   "cell_type": "code",
   "execution_count": 40,
   "id": "50ffd05e",
   "metadata": {},
   "outputs": [
    {
     "data": {
      "text/plain": [
       "1145"
      ]
     },
     "execution_count": 40,
     "metadata": {},
     "output_type": "execute_result"
    }
   ],
   "source": [
    "# unique clients count\n",
    "len(df_data)"
   ]
  },
  {
   "cell_type": "code",
   "execution_count": 41,
   "id": "f3f2fc42",
   "metadata": {},
   "outputs": [
    {
     "name": "stdout",
     "output_type": "stream",
     "text": [
      "{'client_id': 6, 'trans_date': tensor([ 0,  5, 10, 11, 15, 15, 16, 16, 17, 18]), 'small_group': tensor([16,  4,  2,  4, 16,  2, 16,  4, 38, 12]), 'amount_rur': tensor([ 4.0540, 13.7380, 20.7010, 21.5640, 13.4990, 23.7220,  4.3040,  8.6250,\n",
      "        12.9380, 28.1620]), 'event_time': tensor([ 0,  5, 10, 11, 15, 15, 16, 16, 17, 18])}\n"
     ]
    }
   ],
   "source": [
    "print_feature_dict(df_data[0])"
   ]
  },
  {
   "cell_type": "code",
   "execution_count": 42,
   "id": "e84dda7c",
   "metadata": {},
   "outputs": [
    {
     "data": {
      "text/plain": [
       "{'small_group': 189}"
      ]
     },
     "execution_count": 42,
     "metadata": {},
     "output_type": "execute_result"
    }
   ],
   "source": [
    "preprocessor.get_category_dictionary_sizes()"
   ]
  },
  {
   "cell_type": "markdown",
   "id": "4af87345",
   "metadata": {},
   "source": [
    "pay attention:\n",
    "- `client_id` presented as scalar value\n",
    "- `small_group` is embedding indexes but orignal values is used. 189 indexes including 0 padding token are used. There was 186 with frequency encoding. This means that some indexes aren't presented in dataset and aren't used.\n",
    "- `amount_rur` don't changed\n",
    "- `event_time` keep original value. Trx are ordered"
   ]
  },
  {
   "cell_type": "code",
   "execution_count": null,
   "id": "db8e974c",
   "metadata": {},
   "outputs": [],
   "source": []
  }
 ],
 "metadata": {
  "kernelspec": {
   "display_name": "ptls",
   "language": "python",
   "name": "ptls"
  },
  "language_info": {
   "codemirror_mode": {
    "name": "ipython",
    "version": 3
   },
   "file_extension": ".py",
   "mimetype": "text/x-python",
   "name": "python",
   "nbconvert_exporter": "python",
   "pygments_lexer": "ipython3",
   "version": "3.8.10"
  }
 },
 "nbformat": 4,
 "nbformat_minor": 5
}
