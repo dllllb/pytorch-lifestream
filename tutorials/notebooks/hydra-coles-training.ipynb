{
 "cells": [
  {
   "cell_type": "markdown",
   "id": "73675539",
   "metadata": {},
   "source": [
    "# <font size=\"6\">Libraries</font>"
   ]
  },
  {
   "cell_type": "code",
   "execution_count": 1,
   "id": "38fbd96b",
   "metadata": {},
   "outputs": [
    {
     "name": "stdout",
     "output_type": "stream",
     "text": [
      "torch version (<2):  1.12.1+cu102\n"
     ]
    }
   ],
   "source": [
    "import torch\n",
    "\n",
    "import torch.nn as nn\n",
    "from torch.optim import Adam\n",
    "from torch.optim.lr_scheduler import StepLR\n",
    "print('torch version (<2): ', torch.__version__)\n",
    "\n",
    "import ptls\n",
    "from ptls.frames import PtlsDataModule\n",
    "from ptls.frames.coles import losses, sampling_strategies\n",
    "from ptls.frames.coles import split_strategy\n",
    "\n",
    "from ptls.frames.inference_module import InferenceModule\n",
    "\n",
    "from ptls.nn.seq_encoder import agg_feature_seq_encoder\n",
    "from ptls.nn import RnnSeqEncoder, TrxEncoder, Head\n",
    "from ptls.nn.seq_encoder.agg_feature_seq_encoder import AggFeatureSeqEncoder\n",
    "\n",
    "from ptls.data_load.datasets import AugmentationDataset, MemoryMapDataset\n",
    "from ptls.data_load.augmentations import AllTimeShuffle, DropoutTrx\n",
    "from ptls.data_load.datasets.parquet_dataset import ParquetDataset\n",
    "from ptls.data_load.iterable_processing import SeqLenFilter, FeatureFilter\n",
    "from ptls.data_load.datasets import parquet_file_scan\n",
    "from ptls.data_load.datasets import ParquetDataset, ParquetFiles, AugmentationDataset\n",
    "from ptls.data_load.datasets import MemoryMapDataset\n",
    "from ptls.data_load.iterable_processing import SeqLenFilter, FeatureFilter\n",
    "from ptls.data_load.augmentations import DropoutTrx\n",
    "from ptls.data_load.datasets import inference_data_loader\n",
    "from ptls.data_load.utils import collate_feature_dict\n",
    "\n",
    "from functools import partial\n",
    "\n",
    "import pytorch_lightning as pl\n",
    "from pytorch_lightning.loggers import TensorBoardLogger\n",
    "\n",
    "import pandas as pd\n",
    "import numpy as np\n",
    "import tqdm\n",
    "import matplotlib.pyplot as plt\n",
    "from omegaconf import OmegaConf\n",
    "import hydra\n",
    "import seaborn as sns\n",
    "import umap\n",
    "\n",
    "import pprint\n",
    "from pygments import highlight\n",
    "from pygments.lexers import YamlLexer\n",
    "from pygments.formatters import HtmlFormatter\n",
    "import IPython"
   ]
  },
  {
   "cell_type": "code",
   "execution_count": 2,
   "id": "b24b6c75",
   "metadata": {},
   "outputs": [
    {
     "data": {
      "text/plain": [
       "<Figure size 800x600 with 0 Axes>"
      ]
     },
     "metadata": {},
     "output_type": "display_data"
    }
   ],
   "source": [
    "plt.style.use('default')\n",
    "sns.set(rc={'figure.figsize':(8, 6)})\n",
    "sns.set_style('white')\n",
    "sns.despine()"
   ]
  },
  {
   "cell_type": "markdown",
   "id": "f374745a",
   "metadata": {},
   "source": [
    "# <font size=\"6\">Data</font>"
   ]
  },
  {
   "cell_type": "code",
   "execution_count": 3,
   "id": "973129ae",
   "metadata": {},
   "outputs": [
    {
     "data": {
      "text/html": [
       "<div>\n",
       "<style scoped>\n",
       "    .dataframe tbody tr th:only-of-type {\n",
       "        vertical-align: middle;\n",
       "    }\n",
       "\n",
       "    .dataframe tbody tr th {\n",
       "        vertical-align: top;\n",
       "    }\n",
       "\n",
       "    .dataframe thead th {\n",
       "        text-align: right;\n",
       "    }\n",
       "</style>\n",
       "<table border=\"1\" class=\"dataframe\">\n",
       "  <thead>\n",
       "    <tr style=\"text-align: right;\">\n",
       "      <th></th>\n",
       "      <th>cl_id</th>\n",
       "      <th>amount</th>\n",
       "      <th>event_time</th>\n",
       "      <th>mcc</th>\n",
       "      <th>channel_type</th>\n",
       "      <th>currency</th>\n",
       "      <th>trx_category</th>\n",
       "      <th>trx_count</th>\n",
       "      <th>target_flag</th>\n",
       "      <th>target_sum</th>\n",
       "    </tr>\n",
       "  </thead>\n",
       "  <tbody>\n",
       "    <tr>\n",
       "      <th>0</th>\n",
       "      <td>10018</td>\n",
       "      <td>[10.609081944147828, 10.596659732783579, 10.81...</td>\n",
       "      <td>[17120.13773148148, 17133.417800925927, 17134....</td>\n",
       "      <td>[14, 3, 14, 3, 2, 19, 14, 3, 14, 3, 6, 14, 10,...</td>\n",
       "      <td>[2, 2, 2, 2, 2, 2, 2, 2, 2, 2, 2, 2, 2, 2, 2]</td>\n",
       "      <td>[2, 2, 2, 2, 2, 2, 2, 2, 2, 2, 2, 2, 2, 2, 2]</td>\n",
       "      <td>[6, 4, 6, 4, 2, 2, 6, 4, 6, 4, 2, 6, 6, 6, 6]</td>\n",
       "      <td>15</td>\n",
       "      <td>0.0</td>\n",
       "      <td>0.000000</td>\n",
       "    </tr>\n",
       "    <tr>\n",
       "      <th>1</th>\n",
       "      <td>10030</td>\n",
       "      <td>[4.61512051684126, 6.90875477931522, 10.598857...</td>\n",
       "      <td>[17140.75, 17140.75, 17144.75, 17146.75, 17146...</td>\n",
       "      <td>[10, 10, 22, 2, 26, 7, 15, 15, 4, 4, 4, 14, 2,...</td>\n",
       "      <td>[2, 2, 2, 2, 2, 2, 2, 2, 2, 2, 2, 2, 2, 2, 2, ...</td>\n",
       "      <td>[2, 2, 2, 2, 2, 2, 2, 2, 2, 2, 2, 2, 2, 2, 2, ...</td>\n",
       "      <td>[6, 6, 2, 2, 2, 2, 2, 2, 2, 2, 2, 8, 2, 2, 4, ...</td>\n",
       "      <td>42</td>\n",
       "      <td>1.0</td>\n",
       "      <td>59.509998</td>\n",
       "    </tr>\n",
       "    <tr>\n",
       "      <th>2</th>\n",
       "      <td>10038</td>\n",
       "      <td>[7.4127640174265625, 7.370230641807081, 7.8180...</td>\n",
       "      <td>[17300.75, 17300.75, 17300.75, 17301.524780092...</td>\n",
       "      <td>[2, 2, 2, 3, 3, 5, 3, 9, 2, 23, 9, 2, 9, 5, 3,...</td>\n",
       "      <td>[2, 2, 2, 2, 2, 2, 2, 2, 2, 2, 2, 2, 2, 2, 2, ...</td>\n",
       "      <td>[2, 2, 2, 2, 2, 2, 2, 2, 2, 2, 2, 2, 2, 2, 2, ...</td>\n",
       "      <td>[2, 2, 2, 3, 3, 2, 4, 2, 2, 2, 2, 2, 2, 2, 3, ...</td>\n",
       "      <td>111</td>\n",
       "      <td>0.0</td>\n",
       "      <td>0.000000</td>\n",
       "    </tr>\n",
       "    <tr>\n",
       "      <th>3</th>\n",
       "      <td>10057</td>\n",
       "      <td>[7.494708263135679, 7.736394428979239, 10.7789...</td>\n",
       "      <td>[17150.75, 17150.75, 17152.75, 17153.75, 17154...</td>\n",
       "      <td>[7, 22, 3, 7, 3, 5, 3, 23, 16, 3, 2, 36, 5, 3,...</td>\n",
       "      <td>[2, 2, 2, 2, 2, 2, 2, 2, 2, 2, 2, 2, 2, 2, 2, ...</td>\n",
       "      <td>[2, 2, 2, 2, 2, 2, 2, 2, 2, 2, 2, 2, 2, 2, 2, ...</td>\n",
       "      <td>[2, 2, 5, 2, 5, 2, 4, 2, 2, 4, 2, 2, 2, 5, 2, ...</td>\n",
       "      <td>61</td>\n",
       "      <td>1.0</td>\n",
       "      <td>62961.308594</td>\n",
       "    </tr>\n",
       "    <tr>\n",
       "      <th>4</th>\n",
       "      <td>10062</td>\n",
       "      <td>[8.31898612539206, 8.824824939175638, 6.509067...</td>\n",
       "      <td>[17142.75, 17142.75, 17142.75, 17143.75, 17143...</td>\n",
       "      <td>[81, 16, 38, 39, 12, 12, 3, 25, 8, 6, 6, 12, 2...</td>\n",
       "      <td>[2, 2, 2, 2, 2, 2, 2, 2, 2, 2, 2, 2, 2, 2, 2, ...</td>\n",
       "      <td>[2, 2, 2, 2, 2, 2, 2, 2, 2, 2, 2, 2, 2, 2, 2, ...</td>\n",
       "      <td>[2, 2, 2, 2, 2, 2, 4, 2, 2, 2, 2, 2, 2, 2, 2, ...</td>\n",
       "      <td>82</td>\n",
       "      <td>1.0</td>\n",
       "      <td>107126.351562</td>\n",
       "    </tr>\n",
       "    <tr>\n",
       "      <th>...</th>\n",
       "      <td>...</td>\n",
       "      <td>...</td>\n",
       "      <td>...</td>\n",
       "      <td>...</td>\n",
       "      <td>...</td>\n",
       "      <td>...</td>\n",
       "      <td>...</td>\n",
       "      <td>...</td>\n",
       "      <td>...</td>\n",
       "      <td>...</td>\n",
       "    </tr>\n",
       "    <tr>\n",
       "      <th>9712</th>\n",
       "      <td>9971</td>\n",
       "      <td>[6.726233402358747, 8.920656296853728, 8.10198...</td>\n",
       "      <td>[17136.75, 17137.75, 17137.75, 17137.75, 17139...</td>\n",
       "      <td>[21, 2, 42, 27, 7, 2, 4, 4, 2, 32, 20, 18, 22,...</td>\n",
       "      <td>[2, 2, 2, 2, 2, 2, 2, 2, 2, 2, 2, 2, 2, 2, 2, ...</td>\n",
       "      <td>[2, 2, 2, 2, 2, 2, 2, 2, 2, 2, 2, 2, 2, 2, 2, ...</td>\n",
       "      <td>[2, 2, 2, 2, 2, 2, 2, 2, 2, 2, 2, 2, 2, 2, 2, ...</td>\n",
       "      <td>66</td>\n",
       "      <td>NaN</td>\n",
       "      <td>NaN</td>\n",
       "    </tr>\n",
       "    <tr>\n",
       "      <th>9713</th>\n",
       "      <td>998</td>\n",
       "      <td>[8.070906088787819, 6.92706759001451, 6.287858...</td>\n",
       "      <td>[17341.75, 17341.75, 17342.75, 17342.75, 17344...</td>\n",
       "      <td>[90, 20, 11, 6, 3, 30, 30, 9, 2, 32, 20, 17, 5...</td>\n",
       "      <td>[3, 3, 3, 3, 3, 3, 3, 3, 3, 3, 3, 3, 3, 3, 3, ...</td>\n",
       "      <td>[2, 2, 2, 2, 2, 2, 2, 2, 2, 2, 2, 2, 2, 2, 2, ...</td>\n",
       "      <td>[2, 2, 2, 2, 4, 10, 10, 2, 2, 2, 2, 2, 2, 2, 2...</td>\n",
       "      <td>78</td>\n",
       "      <td>NaN</td>\n",
       "      <td>NaN</td>\n",
       "    </tr>\n",
       "    <tr>\n",
       "      <th>9714</th>\n",
       "      <td>9982</td>\n",
       "      <td>[9.559658319461347, 7.937731775260109, 8.29429...</td>\n",
       "      <td>[17371.75, 17371.75, 17372.369224537037, 17372...</td>\n",
       "      <td>[7, 185, 3, 6, 44, 2, 7, 28, 31, 4, 3, 5, 3, 2...</td>\n",
       "      <td>[2, 2, 2, 2, 2, 2, 2, 2, 2, 2, 2, 2, 2, 2, 2, ...</td>\n",
       "      <td>[2, 2, 2, 2, 2, 2, 2, 2, 2, 2, 2, 2, 2, 2, 2, ...</td>\n",
       "      <td>[2, 2, 4, 2, 2, 2, 2, 2, 2, 2, 4, 2, 4, 2, 2, ...</td>\n",
       "      <td>79</td>\n",
       "      <td>NaN</td>\n",
       "      <td>NaN</td>\n",
       "    </tr>\n",
       "    <tr>\n",
       "      <th>9715</th>\n",
       "      <td>9997</td>\n",
       "      <td>[6.85751406254539, 4.356708826689592, 5.159055...</td>\n",
       "      <td>[17095.75, 17095.75, 17095.75, 17095.75, 17096...</td>\n",
       "      <td>[50, 20, 6, 22, 104, 2, 2, 41, 2, 5, 5, 5, 196...</td>\n",
       "      <td>[2, 2, 2, 2, 2, 2, 2, 2, 2, 2, 2, 2, 2, 2, 2, ...</td>\n",
       "      <td>[2, 2, 2, 2, 2, 2, 2, 2, 2, 2, 2, 2, 2, 2, 2, ...</td>\n",
       "      <td>[2, 2, 2, 2, 2, 2, 2, 2, 2, 2, 2, 2, 2, 2, 2, ...</td>\n",
       "      <td>143</td>\n",
       "      <td>NaN</td>\n",
       "      <td>NaN</td>\n",
       "    </tr>\n",
       "    <tr>\n",
       "      <th>9716</th>\n",
       "      <td>9999</td>\n",
       "      <td>[9.210440366976517, 9.12598002335811, 9.125980...</td>\n",
       "      <td>[17165.75, 17170.75, 17172.75, 17178.75, 17191...</td>\n",
       "      <td>[10, 9, 9, 89, 2, 2]</td>\n",
       "      <td>[2, 2, 2, 2, 2, 2]</td>\n",
       "      <td>[2, 2, 2, 2, 2, 2]</td>\n",
       "      <td>[6, 2, 9, 2, 2, 2]</td>\n",
       "      <td>6</td>\n",
       "      <td>NaN</td>\n",
       "      <td>NaN</td>\n",
       "    </tr>\n",
       "  </tbody>\n",
       "</table>\n",
       "<p>9717 rows × 10 columns</p>\n",
       "</div>"
      ],
      "text/plain": [
       "      cl_id                                             amount  \\\n",
       "0     10018  [10.609081944147828, 10.596659732783579, 10.81...   \n",
       "1     10030  [4.61512051684126, 6.90875477931522, 10.598857...   \n",
       "2     10038  [7.4127640174265625, 7.370230641807081, 7.8180...   \n",
       "3     10057  [7.494708263135679, 7.736394428979239, 10.7789...   \n",
       "4     10062  [8.31898612539206, 8.824824939175638, 6.509067...   \n",
       "...     ...                                                ...   \n",
       "9712   9971  [6.726233402358747, 8.920656296853728, 8.10198...   \n",
       "9713    998  [8.070906088787819, 6.92706759001451, 6.287858...   \n",
       "9714   9982  [9.559658319461347, 7.937731775260109, 8.29429...   \n",
       "9715   9997  [6.85751406254539, 4.356708826689592, 5.159055...   \n",
       "9716   9999  [9.210440366976517, 9.12598002335811, 9.125980...   \n",
       "\n",
       "                                             event_time  \\\n",
       "0     [17120.13773148148, 17133.417800925927, 17134....   \n",
       "1     [17140.75, 17140.75, 17144.75, 17146.75, 17146...   \n",
       "2     [17300.75, 17300.75, 17300.75, 17301.524780092...   \n",
       "3     [17150.75, 17150.75, 17152.75, 17153.75, 17154...   \n",
       "4     [17142.75, 17142.75, 17142.75, 17143.75, 17143...   \n",
       "...                                                 ...   \n",
       "9712  [17136.75, 17137.75, 17137.75, 17137.75, 17139...   \n",
       "9713  [17341.75, 17341.75, 17342.75, 17342.75, 17344...   \n",
       "9714  [17371.75, 17371.75, 17372.369224537037, 17372...   \n",
       "9715  [17095.75, 17095.75, 17095.75, 17095.75, 17096...   \n",
       "9716  [17165.75, 17170.75, 17172.75, 17178.75, 17191...   \n",
       "\n",
       "                                                    mcc  \\\n",
       "0     [14, 3, 14, 3, 2, 19, 14, 3, 14, 3, 6, 14, 10,...   \n",
       "1     [10, 10, 22, 2, 26, 7, 15, 15, 4, 4, 4, 14, 2,...   \n",
       "2     [2, 2, 2, 3, 3, 5, 3, 9, 2, 23, 9, 2, 9, 5, 3,...   \n",
       "3     [7, 22, 3, 7, 3, 5, 3, 23, 16, 3, 2, 36, 5, 3,...   \n",
       "4     [81, 16, 38, 39, 12, 12, 3, 25, 8, 6, 6, 12, 2...   \n",
       "...                                                 ...   \n",
       "9712  [21, 2, 42, 27, 7, 2, 4, 4, 2, 32, 20, 18, 22,...   \n",
       "9713  [90, 20, 11, 6, 3, 30, 30, 9, 2, 32, 20, 17, 5...   \n",
       "9714  [7, 185, 3, 6, 44, 2, 7, 28, 31, 4, 3, 5, 3, 2...   \n",
       "9715  [50, 20, 6, 22, 104, 2, 2, 41, 2, 5, 5, 5, 196...   \n",
       "9716                               [10, 9, 9, 89, 2, 2]   \n",
       "\n",
       "                                           channel_type  \\\n",
       "0         [2, 2, 2, 2, 2, 2, 2, 2, 2, 2, 2, 2, 2, 2, 2]   \n",
       "1     [2, 2, 2, 2, 2, 2, 2, 2, 2, 2, 2, 2, 2, 2, 2, ...   \n",
       "2     [2, 2, 2, 2, 2, 2, 2, 2, 2, 2, 2, 2, 2, 2, 2, ...   \n",
       "3     [2, 2, 2, 2, 2, 2, 2, 2, 2, 2, 2, 2, 2, 2, 2, ...   \n",
       "4     [2, 2, 2, 2, 2, 2, 2, 2, 2, 2, 2, 2, 2, 2, 2, ...   \n",
       "...                                                 ...   \n",
       "9712  [2, 2, 2, 2, 2, 2, 2, 2, 2, 2, 2, 2, 2, 2, 2, ...   \n",
       "9713  [3, 3, 3, 3, 3, 3, 3, 3, 3, 3, 3, 3, 3, 3, 3, ...   \n",
       "9714  [2, 2, 2, 2, 2, 2, 2, 2, 2, 2, 2, 2, 2, 2, 2, ...   \n",
       "9715  [2, 2, 2, 2, 2, 2, 2, 2, 2, 2, 2, 2, 2, 2, 2, ...   \n",
       "9716                                 [2, 2, 2, 2, 2, 2]   \n",
       "\n",
       "                                               currency  \\\n",
       "0         [2, 2, 2, 2, 2, 2, 2, 2, 2, 2, 2, 2, 2, 2, 2]   \n",
       "1     [2, 2, 2, 2, 2, 2, 2, 2, 2, 2, 2, 2, 2, 2, 2, ...   \n",
       "2     [2, 2, 2, 2, 2, 2, 2, 2, 2, 2, 2, 2, 2, 2, 2, ...   \n",
       "3     [2, 2, 2, 2, 2, 2, 2, 2, 2, 2, 2, 2, 2, 2, 2, ...   \n",
       "4     [2, 2, 2, 2, 2, 2, 2, 2, 2, 2, 2, 2, 2, 2, 2, ...   \n",
       "...                                                 ...   \n",
       "9712  [2, 2, 2, 2, 2, 2, 2, 2, 2, 2, 2, 2, 2, 2, 2, ...   \n",
       "9713  [2, 2, 2, 2, 2, 2, 2, 2, 2, 2, 2, 2, 2, 2, 2, ...   \n",
       "9714  [2, 2, 2, 2, 2, 2, 2, 2, 2, 2, 2, 2, 2, 2, 2, ...   \n",
       "9715  [2, 2, 2, 2, 2, 2, 2, 2, 2, 2, 2, 2, 2, 2, 2, ...   \n",
       "9716                                 [2, 2, 2, 2, 2, 2]   \n",
       "\n",
       "                                           trx_category  trx_count  \\\n",
       "0         [6, 4, 6, 4, 2, 2, 6, 4, 6, 4, 2, 6, 6, 6, 6]         15   \n",
       "1     [6, 6, 2, 2, 2, 2, 2, 2, 2, 2, 2, 8, 2, 2, 4, ...         42   \n",
       "2     [2, 2, 2, 3, 3, 2, 4, 2, 2, 2, 2, 2, 2, 2, 3, ...        111   \n",
       "3     [2, 2, 5, 2, 5, 2, 4, 2, 2, 4, 2, 2, 2, 5, 2, ...         61   \n",
       "4     [2, 2, 2, 2, 2, 2, 4, 2, 2, 2, 2, 2, 2, 2, 2, ...         82   \n",
       "...                                                 ...        ...   \n",
       "9712  [2, 2, 2, 2, 2, 2, 2, 2, 2, 2, 2, 2, 2, 2, 2, ...         66   \n",
       "9713  [2, 2, 2, 2, 4, 10, 10, 2, 2, 2, 2, 2, 2, 2, 2...         78   \n",
       "9714  [2, 2, 4, 2, 2, 2, 2, 2, 2, 2, 4, 2, 4, 2, 2, ...         79   \n",
       "9715  [2, 2, 2, 2, 2, 2, 2, 2, 2, 2, 2, 2, 2, 2, 2, ...        143   \n",
       "9716                                 [6, 2, 9, 2, 2, 2]          6   \n",
       "\n",
       "      target_flag     target_sum  \n",
       "0             0.0       0.000000  \n",
       "1             1.0      59.509998  \n",
       "2             0.0       0.000000  \n",
       "3             1.0   62961.308594  \n",
       "4             1.0  107126.351562  \n",
       "...           ...            ...  \n",
       "9712          NaN            NaN  \n",
       "9713          NaN            NaN  \n",
       "9714          NaN            NaN  \n",
       "9715          NaN            NaN  \n",
       "9716          NaN            NaN  \n",
       "\n",
       "[9717 rows x 10 columns]"
      ]
     },
     "execution_count": 3,
     "metadata": {},
     "output_type": "execute_result"
    }
   ],
   "source": [
    "pd.read_parquet('src/ptls-experiments/scenario_rosbank/data/train_trx.parquet')"
   ]
  },
  {
   "cell_type": "markdown",
   "id": "2f11c238",
   "metadata": {},
   "source": [
    "# <font size=\"6\">Load config</font>"
   ]
  },
  {
   "cell_type": "code",
   "execution_count": 4,
   "id": "95130924",
   "metadata": {
    "scrolled": false
   },
   "outputs": [
    {
     "data": {
      "text/html": [
       "<div class=\"highlight\"><pre><span></span><span class=\"nt\">defaults</span><span class=\"p\">:</span>\n",
       "<span class=\"w\">  </span><span class=\"p p-Indicator\">-</span><span class=\"w\"> </span><span class=\"l l-Scalar l-Scalar-Plain\">_self_</span>\n",
       "<span class=\"w\">  </span><span class=\"p p-Indicator\">-</span><span class=\"w\"> </span><span class=\"l l-Scalar l-Scalar-Plain\">dataset_unsupervised/parquet</span>\n",
       "<span class=\"w\">  </span><span class=\"p p-Indicator\">-</span><span class=\"w\"> </span><span class=\"l l-Scalar l-Scalar-Plain\">inference/default</span>\n",
       "<span class=\"w\">  </span><span class=\"p p-Indicator\">-</span><span class=\"w\"> </span><span class=\"l l-Scalar l-Scalar-Plain\">inference/seq_encoder/pretrained</span>\n",
       "\n",
       "<span class=\"nt\">seed_everything</span><span class=\"p\">:</span><span class=\"w\"> </span><span class=\"l l-Scalar l-Scalar-Plain\">42</span>\n",
       "<span class=\"nt\">logger_name</span><span class=\"p\">:</span><span class=\"w\"> </span><span class=\"l l-Scalar l-Scalar-Plain\">mles_model</span>\n",
       "<span class=\"nt\">model_path</span><span class=\"p\">:</span><span class=\"w\"> </span><span class=\"l l-Scalar l-Scalar-Plain\">models/mles_model.p</span>\n",
       "<span class=\"nt\">embed_file_name</span><span class=\"p\">:</span><span class=\"w\"> </span><span class=\"l l-Scalar l-Scalar-Plain\">mles_embeddings</span>\n",
       "\n",
       "<span class=\"nt\">data_module</span><span class=\"p\">:</span>\n",
       "<span class=\"w\">  </span><span class=\"nt\">_target_</span><span class=\"p\">:</span><span class=\"w\"> </span><span class=\"l l-Scalar l-Scalar-Plain\">ptls.frames.PtlsDataModule</span>\n",
       "<span class=\"w\">  </span><span class=\"nt\">train_data</span><span class=\"p\">:</span>\n",
       "<span class=\"w\">    </span><span class=\"nt\">_target_</span><span class=\"p\">:</span><span class=\"w\"> </span><span class=\"l l-Scalar l-Scalar-Plain\">ptls.frames.coles.ColesDataset</span>\n",
       "<span class=\"w\">    </span><span class=\"nt\">splitter</span><span class=\"p\">:</span>\n",
       "<span class=\"w\">      </span><span class=\"nt\">_target_</span><span class=\"p\">:</span><span class=\"w\"> </span><span class=\"l l-Scalar l-Scalar-Plain\">ptls.frames.coles.split_strategy.SampleSlices</span>\n",
       "<span class=\"w\">      </span><span class=\"nt\">split_count</span><span class=\"p\">:</span><span class=\"w\"> </span><span class=\"l l-Scalar l-Scalar-Plain\">5</span>\n",
       "<span class=\"w\">      </span><span class=\"nt\">cnt_min</span><span class=\"p\">:</span><span class=\"w\"> </span><span class=\"l l-Scalar l-Scalar-Plain\">15</span>\n",
       "<span class=\"w\">      </span><span class=\"nt\">cnt_max</span><span class=\"p\">:</span><span class=\"w\"> </span><span class=\"l l-Scalar l-Scalar-Plain\">150</span>\n",
       "<span class=\"w\">    </span><span class=\"nt\">data</span><span class=\"p\">:</span><span class=\"w\"> </span><span class=\"l l-Scalar l-Scalar-Plain\">${dataset_unsupervised.train}</span>\n",
       "<span class=\"w\">  </span><span class=\"nt\">valid_data</span><span class=\"p\">:</span>\n",
       "<span class=\"w\">    </span><span class=\"nt\">_target_</span><span class=\"p\">:</span><span class=\"w\"> </span><span class=\"l l-Scalar l-Scalar-Plain\">ptls.frames.coles.ColesDataset</span>\n",
       "<span class=\"w\">    </span><span class=\"nt\">splitter</span><span class=\"p\">:</span>\n",
       "<span class=\"w\">      </span><span class=\"nt\">_target_</span><span class=\"p\">:</span><span class=\"w\"> </span><span class=\"l l-Scalar l-Scalar-Plain\">ptls.frames.coles.split_strategy.SampleSlices</span>\n",
       "<span class=\"w\">      </span><span class=\"nt\">split_count</span><span class=\"p\">:</span><span class=\"w\"> </span><span class=\"l l-Scalar l-Scalar-Plain\">5</span>\n",
       "<span class=\"w\">      </span><span class=\"nt\">cnt_min</span><span class=\"p\">:</span><span class=\"w\"> </span><span class=\"l l-Scalar l-Scalar-Plain\">15</span>\n",
       "<span class=\"w\">      </span><span class=\"nt\">cnt_max</span><span class=\"p\">:</span><span class=\"w\"> </span><span class=\"l l-Scalar l-Scalar-Plain\">75</span>\n",
       "<span class=\"w\">    </span><span class=\"nt\">data</span><span class=\"p\">:</span><span class=\"w\"> </span><span class=\"l l-Scalar l-Scalar-Plain\">${dataset_unsupervised.valid}</span>\n",
       "<span class=\"w\">  </span><span class=\"nt\">train_batch_size</span><span class=\"p\">:</span><span class=\"w\"> </span><span class=\"l l-Scalar l-Scalar-Plain\">128</span>\n",
       "<span class=\"w\">  </span><span class=\"nt\">train_num_workers</span><span class=\"p\">:</span><span class=\"w\"> </span><span class=\"l l-Scalar l-Scalar-Plain\">8</span>\n",
       "<span class=\"w\">  </span><span class=\"nt\">valid_batch_size</span><span class=\"p\">:</span><span class=\"w\"> </span><span class=\"l l-Scalar l-Scalar-Plain\">256</span>\n",
       "<span class=\"w\">  </span><span class=\"nt\">valid_num_workers</span><span class=\"p\">:</span><span class=\"w\"> </span><span class=\"l l-Scalar l-Scalar-Plain\">16</span>\n",
       "\n",
       "<span class=\"nt\">trainer</span><span class=\"p\">:</span>\n",
       "<span class=\"w\">  </span><span class=\"nt\">gpus</span><span class=\"p\">:</span><span class=\"w\"> </span><span class=\"l l-Scalar l-Scalar-Plain\">1</span>\n",
       "<span class=\"w\">  </span><span class=\"nt\">auto_select_gpus</span><span class=\"p\">:</span><span class=\"w\"> </span><span class=\"l l-Scalar l-Scalar-Plain\">false</span>\n",
       "<span class=\"w\">  </span><span class=\"nt\">max_epochs</span><span class=\"p\">:</span><span class=\"w\"> </span><span class=\"l l-Scalar l-Scalar-Plain\">60</span>\n",
       "<span class=\"w\">  </span><span class=\"nt\">enable_checkpointing</span><span class=\"p\">:</span><span class=\"w\"> </span><span class=\"l l-Scalar l-Scalar-Plain\">false</span>\n",
       "<span class=\"w\">  </span><span class=\"nt\">deterministic</span><span class=\"p\">:</span><span class=\"w\"> </span><span class=\"l l-Scalar l-Scalar-Plain\">true</span>\n",
       "\n",
       "<span class=\"nt\">pl_module</span><span class=\"p\">:</span>\n",
       "<span class=\"w\">  </span><span class=\"nt\">_target_</span><span class=\"p\">:</span><span class=\"w\"> </span><span class=\"l l-Scalar l-Scalar-Plain\">ptls.frames.coles.CoLESModule</span>\n",
       "<span class=\"w\">  </span><span class=\"nt\">validation_metric</span><span class=\"p\">:</span>\n",
       "<span class=\"w\">    </span><span class=\"nt\">_target_</span><span class=\"p\">:</span><span class=\"w\"> </span><span class=\"l l-Scalar l-Scalar-Plain\">ptls.frames.coles.metric.BatchRecallTopK</span>\n",
       "<span class=\"w\">    </span><span class=\"nt\">K</span><span class=\"p\">:</span><span class=\"w\"> </span><span class=\"l l-Scalar l-Scalar-Plain\">4</span>\n",
       "<span class=\"w\">    </span><span class=\"nt\">metric</span><span class=\"p\">:</span><span class=\"w\"> </span><span class=\"l l-Scalar l-Scalar-Plain\">cosine</span>\n",
       "<span class=\"w\">  </span><span class=\"nt\">seq_encoder</span><span class=\"p\">:</span>\n",
       "<span class=\"w\">    </span><span class=\"nt\">_target_</span><span class=\"p\">:</span><span class=\"w\"> </span><span class=\"l l-Scalar l-Scalar-Plain\">ptls.nn.RnnSeqEncoder</span>\n",
       "<span class=\"w\">    </span><span class=\"nt\">trx_encoder</span><span class=\"p\">:</span>\n",
       "<span class=\"w\">      </span><span class=\"nt\">_target_</span><span class=\"p\">:</span><span class=\"w\"> </span><span class=\"l l-Scalar l-Scalar-Plain\">ptls.nn.TrxEncoder</span>\n",
       "<span class=\"w\">      </span><span class=\"nt\">use_batch_norm_with_lens</span><span class=\"p\">:</span><span class=\"w\"> </span><span class=\"l l-Scalar l-Scalar-Plain\">true</span>\n",
       "<span class=\"w\">      </span><span class=\"nt\">norm_embeddings</span><span class=\"p\">:</span><span class=\"w\"> </span><span class=\"l l-Scalar l-Scalar-Plain\">false</span>\n",
       "<span class=\"w\">      </span><span class=\"nt\">embeddings_noise</span><span class=\"p\">:</span><span class=\"w\"> </span><span class=\"l l-Scalar l-Scalar-Plain\">0.0003</span>\n",
       "<span class=\"w\">      </span><span class=\"nt\">embeddings</span><span class=\"p\">:</span><span class=\"w\"> </span>\n",
       "<span class=\"w\">        </span><span class=\"nt\">mcc</span><span class=\"p\">:</span><span class=\"w\"> </span>\n",
       "<span class=\"w\">          </span><span class=\"nt\">in</span><span class=\"p\">:</span><span class=\"w\"> </span><span class=\"l l-Scalar l-Scalar-Plain\">100</span>\n",
       "<span class=\"w\">          </span><span class=\"nt\">out</span><span class=\"p\">:</span><span class=\"w\"> </span><span class=\"l l-Scalar l-Scalar-Plain\">24</span>\n",
       "<span class=\"w\">        </span><span class=\"nt\">channel_type</span><span class=\"p\">:</span><span class=\"w\"> </span>\n",
       "<span class=\"w\">          </span><span class=\"nt\">in</span><span class=\"p\">:</span><span class=\"w\"> </span><span class=\"l l-Scalar l-Scalar-Plain\">4</span>\n",
       "<span class=\"w\">          </span><span class=\"nt\">out</span><span class=\"p\">:</span><span class=\"w\"> </span><span class=\"l l-Scalar l-Scalar-Plain\">4</span>\n",
       "<span class=\"w\">        </span><span class=\"nt\">currency</span><span class=\"p\">:</span><span class=\"w\"> </span>\n",
       "<span class=\"w\">          </span><span class=\"nt\">in</span><span class=\"p\">:</span><span class=\"w\"> </span><span class=\"l l-Scalar l-Scalar-Plain\">4</span>\n",
       "<span class=\"w\">          </span><span class=\"nt\">out</span><span class=\"p\">:</span><span class=\"w\"> </span><span class=\"l l-Scalar l-Scalar-Plain\">4</span>\n",
       "<span class=\"w\">        </span><span class=\"nt\">trx_category</span><span class=\"p\">:</span><span class=\"w\"> </span>\n",
       "<span class=\"w\">          </span><span class=\"nt\">in</span><span class=\"p\">:</span><span class=\"w\"> </span><span class=\"l l-Scalar l-Scalar-Plain\">10</span>\n",
       "<span class=\"w\">          </span><span class=\"nt\">out</span><span class=\"p\">:</span><span class=\"w\"> </span><span class=\"l l-Scalar l-Scalar-Plain\">4</span>\n",
       "<span class=\"w\">      </span><span class=\"nt\">numeric_values</span><span class=\"p\">:</span><span class=\"w\"> </span>\n",
       "<span class=\"w\">        </span><span class=\"nt\">amount</span><span class=\"p\">:</span><span class=\"w\"> </span><span class=\"l l-Scalar l-Scalar-Plain\">identity</span>\n",
       "<span class=\"w\">    </span><span class=\"nt\">type</span><span class=\"p\">:</span><span class=\"w\"> </span><span class=\"l l-Scalar l-Scalar-Plain\">lstm</span>\n",
       "<span class=\"w\">    </span><span class=\"nt\">hidden_size</span><span class=\"p\">:</span><span class=\"w\"> </span><span class=\"l l-Scalar l-Scalar-Plain\">1024</span>\n",
       "<span class=\"w\">    </span><span class=\"nt\">bidir</span><span class=\"p\">:</span><span class=\"w\"> </span><span class=\"l l-Scalar l-Scalar-Plain\">false</span>\n",
       "<span class=\"w\">    </span><span class=\"nt\">trainable_starter</span><span class=\"p\">:</span><span class=\"w\"> </span><span class=\"l l-Scalar l-Scalar-Plain\">static</span>\n",
       "<span class=\"w\">  </span><span class=\"nt\">head</span><span class=\"p\">:</span>\n",
       "<span class=\"w\">    </span><span class=\"nt\">_target_</span><span class=\"p\">:</span><span class=\"w\"> </span><span class=\"l l-Scalar l-Scalar-Plain\">ptls.nn.Head</span>\n",
       "<span class=\"w\">    </span><span class=\"nt\">use_norm_encoder</span><span class=\"p\">:</span><span class=\"w\"> </span><span class=\"l l-Scalar l-Scalar-Plain\">true</span>\n",
       "<span class=\"w\">    </span><span class=\"nt\">input_size</span><span class=\"p\">:</span><span class=\"w\"> </span><span class=\"l l-Scalar l-Scalar-Plain\">${pl_module.seq_encoder.hidden_size}</span>\n",
       "<span class=\"w\">  </span><span class=\"nt\">loss</span><span class=\"p\">:</span>\n",
       "<span class=\"w\">    </span><span class=\"nt\">_target_</span><span class=\"p\">:</span><span class=\"w\"> </span><span class=\"l l-Scalar l-Scalar-Plain\">ptls.frames.coles.losses.ContrastiveLoss</span>\n",
       "<span class=\"w\">    </span><span class=\"nt\">margin</span><span class=\"p\">:</span><span class=\"w\"> </span><span class=\"l l-Scalar l-Scalar-Plain\">0.5</span>\n",
       "<span class=\"w\">    </span><span class=\"nt\">sampling_strategy</span><span class=\"p\">:</span>\n",
       "<span class=\"w\">      </span><span class=\"nt\">_target_</span><span class=\"p\">:</span><span class=\"w\"> </span><span class=\"l l-Scalar l-Scalar-Plain\">ptls.frames.coles.sampling_strategies.HardNegativePairSelector</span>\n",
       "<span class=\"w\">      </span><span class=\"nt\">neg_count</span><span class=\"p\">:</span><span class=\"w\"> </span><span class=\"l l-Scalar l-Scalar-Plain\">5</span>\n",
       "<span class=\"w\">  </span><span class=\"nt\">optimizer_partial</span><span class=\"p\">:</span>\n",
       "<span class=\"w\">    </span><span class=\"nt\">_partial_</span><span class=\"p\">:</span><span class=\"w\"> </span><span class=\"l l-Scalar l-Scalar-Plain\">true</span>\n",
       "<span class=\"w\">    </span><span class=\"nt\">_target_</span><span class=\"p\">:</span><span class=\"w\"> </span><span class=\"l l-Scalar l-Scalar-Plain\">torch.optim.Adam</span>\n",
       "<span class=\"w\">    </span><span class=\"nt\">lr</span><span class=\"p\">:</span><span class=\"w\"> </span><span class=\"l l-Scalar l-Scalar-Plain\">0.004</span>\n",
       "<span class=\"w\">    </span><span class=\"nt\">weight_decay</span><span class=\"p\">:</span><span class=\"w\"> </span><span class=\"l l-Scalar l-Scalar-Plain\">0.0</span>\n",
       "<span class=\"w\">  </span><span class=\"nt\">lr_scheduler_partial</span><span class=\"p\">:</span>\n",
       "<span class=\"w\">    </span><span class=\"nt\">_partial_</span><span class=\"p\">:</span><span class=\"w\"> </span><span class=\"l l-Scalar l-Scalar-Plain\">true</span>\n",
       "<span class=\"w\">    </span><span class=\"nt\">_target_</span><span class=\"p\">:</span><span class=\"w\"> </span><span class=\"l l-Scalar l-Scalar-Plain\">torch.optim.lr_scheduler.StepLR</span>\n",
       "<span class=\"w\">    </span><span class=\"nt\">step_size</span><span class=\"p\">:</span><span class=\"w\"> </span><span class=\"l l-Scalar l-Scalar-Plain\">10</span>\n",
       "<span class=\"w\">    </span><span class=\"nt\">gamma</span><span class=\"p\">:</span><span class=\"w\"> </span><span class=\"l l-Scalar l-Scalar-Plain\">0.9025</span>\n",
       "</pre></div>\n"
      ],
      "text/plain": [
       "<IPython.core.display.HTML object>"
      ]
     },
     "execution_count": 4,
     "metadata": {},
     "output_type": "execute_result"
    }
   ],
   "source": [
    "with open('src/ptls-experiments/scenario_rosbank/conf/mles_params.yaml', 'r') as file:\n",
    "    code = file.read()\n",
    "\n",
    "IPython.display.HTML(highlight(code, YamlLexer(), HtmlFormatter()))"
   ]
  },
  {
   "cell_type": "code",
   "execution_count": 5,
   "id": "e20bac2b",
   "metadata": {},
   "outputs": [],
   "source": [
    "conf = OmegaConf.load('src/ptls-experiments/scenario_rosbank/conf/mles_params.yaml')\n",
    "module_conf = conf['data_module']\n",
    "\n",
    "data_conf = OmegaConf.load('src/ptls-experiments/scenario_rosbank/conf/dataset_unsupervised/parquet.yaml')\n",
    "train_path = 'src/ptls-experiments/scenario_rosbank/data/train_trx.parquet'\n",
    "data_conf['train']['data']['data']['data_files']['file_path'] = train_path\n",
    "data_conf['valid']['data']['data_files']['file_path'] = train_path\n",
    "\n",
    "module_conf['train_data']['data'] = data_conf['train']\n",
    "module_conf['valid_data']['data'] = data_conf['valid']"
   ]
  },
  {
   "cell_type": "markdown",
   "id": "55303218",
   "metadata": {},
   "source": [
    "# <font size=\"6\">Data module and model</font>"
   ]
  },
  {
   "cell_type": "code",
   "execution_count": 6,
   "id": "2aeca94f",
   "metadata": {},
   "outputs": [
    {
     "data": {
      "text/plain": [
       "CoLESModule(\n",
       "  (_loss): ContrastiveLoss()\n",
       "  (_seq_encoder): RnnSeqEncoder(\n",
       "    (trx_encoder): TrxEncoder(\n",
       "      (embeddings): ModuleDict(\n",
       "        (mcc): NoisyEmbedding(\n",
       "          100, 24, padding_idx=0\n",
       "          (dropout): Dropout(p=0, inplace=False)\n",
       "        )\n",
       "        (channel_type): NoisyEmbedding(\n",
       "          4, 4, padding_idx=0\n",
       "          (dropout): Dropout(p=0, inplace=False)\n",
       "        )\n",
       "        (currency): NoisyEmbedding(\n",
       "          4, 4, padding_idx=0\n",
       "          (dropout): Dropout(p=0, inplace=False)\n",
       "        )\n",
       "        (trx_category): NoisyEmbedding(\n",
       "          10, 4, padding_idx=0\n",
       "          (dropout): Dropout(p=0, inplace=False)\n",
       "        )\n",
       "      )\n",
       "      (numeric_values): ModuleDict(\n",
       "        (amount): IdentityScaler()\n",
       "      )\n",
       "      (numerical_batch_norm): RBatchNormWithLens(\n",
       "        (bn): BatchNorm1d(1, eps=1e-05, momentum=0.1, affine=True, track_running_stats=True)\n",
       "      )\n",
       "    )\n",
       "    (seq_encoder): RnnEncoder(\n",
       "      (rnn): LSTM(37, 1024, batch_first=True)\n",
       "      (reducer): LastStepEncoder()\n",
       "    )\n",
       "  )\n",
       "  (_validation_metric): BatchRecallTopK()\n",
       "  (_head): Head(\n",
       "    (model): Sequential(\n",
       "      (0): L2NormEncoder()\n",
       "    )\n",
       "  )\n",
       ")"
      ]
     },
     "execution_count": 6,
     "metadata": {},
     "output_type": "execute_result"
    }
   ],
   "source": [
    "data_module = hydra.utils.instantiate(module_conf)\n",
    "\n",
    "model = hydra.utils.instantiate(conf['pl_module'])\n",
    "\n",
    "model"
   ]
  },
  {
   "cell_type": "markdown",
   "id": "4e5637e2",
   "metadata": {},
   "source": [
    "# <font size=\"6\">Training</font>"
   ]
  },
  {
   "cell_type": "code",
   "execution_count": 7,
   "id": "61629b38",
   "metadata": {},
   "outputs": [
    {
     "name": "stderr",
     "output_type": "stream",
     "text": [
      "GPU available: True, used: True\n",
      "TPU available: False, using: 0 TPU cores\n",
      "IPU available: False, using: 0 IPUs\n",
      "HPU available: False, using: 0 HPUs\n",
      "LOCAL_RANK: 0 - CUDA_VISIBLE_DEVICES: [0]\n",
      "\n",
      "  | Name               | Type            | Params\n",
      "-------------------------------------------------------\n",
      "0 | _loss              | ContrastiveLoss | 0     \n",
      "1 | _seq_encoder       | RnnSeqEncoder   | 4.4 M \n",
      "2 | _validation_metric | BatchRecallTopK | 0     \n",
      "3 | _head              | Head            | 0     \n",
      "-------------------------------------------------------\n",
      "4.4 M     Trainable params\n",
      "0         Non-trainable params\n",
      "4.4 M     Total params\n",
      "17.430    Total estimated model params size (MB)\n"
     ]
    },
    {
     "data": {
      "application/vnd.jupyter.widget-view+json": {
       "model_id": "6eb9e36ca6824995aba116648309c338",
       "version_major": 2,
       "version_minor": 0
      },
      "text/plain": [
       "Training: 0it [00:00, ?it/s]"
      ]
     },
     "metadata": {},
     "output_type": "display_data"
    },
    {
     "data": {
      "application/vnd.jupyter.widget-view+json": {
       "model_id": "",
       "version_major": 2,
       "version_minor": 0
      },
      "text/plain": [
       "Validation: 0it [00:00, ?it/s]"
      ]
     },
     "metadata": {},
     "output_type": "display_data"
    },
    {
     "data": {
      "application/vnd.jupyter.widget-view+json": {
       "model_id": "",
       "version_major": 2,
       "version_minor": 0
      },
      "text/plain": [
       "Validation: 0it [00:00, ?it/s]"
      ]
     },
     "metadata": {},
     "output_type": "display_data"
    },
    {
     "data": {
      "application/vnd.jupyter.widget-view+json": {
       "model_id": "",
       "version_major": 2,
       "version_minor": 0
      },
      "text/plain": [
       "Validation: 0it [00:00, ?it/s]"
      ]
     },
     "metadata": {},
     "output_type": "display_data"
    },
    {
     "data": {
      "application/vnd.jupyter.widget-view+json": {
       "model_id": "",
       "version_major": 2,
       "version_minor": 0
      },
      "text/plain": [
       "Validation: 0it [00:00, ?it/s]"
      ]
     },
     "metadata": {},
     "output_type": "display_data"
    },
    {
     "data": {
      "application/vnd.jupyter.widget-view+json": {
       "model_id": "",
       "version_major": 2,
       "version_minor": 0
      },
      "text/plain": [
       "Validation: 0it [00:00, ?it/s]"
      ]
     },
     "metadata": {},
     "output_type": "display_data"
    },
    {
     "data": {
      "application/vnd.jupyter.widget-view+json": {
       "model_id": "",
       "version_major": 2,
       "version_minor": 0
      },
      "text/plain": [
       "Validation: 0it [00:00, ?it/s]"
      ]
     },
     "metadata": {},
     "output_type": "display_data"
    },
    {
     "data": {
      "application/vnd.jupyter.widget-view+json": {
       "model_id": "",
       "version_major": 2,
       "version_minor": 0
      },
      "text/plain": [
       "Validation: 0it [00:00, ?it/s]"
      ]
     },
     "metadata": {},
     "output_type": "display_data"
    },
    {
     "data": {
      "application/vnd.jupyter.widget-view+json": {
       "model_id": "",
       "version_major": 2,
       "version_minor": 0
      },
      "text/plain": [
       "Validation: 0it [00:00, ?it/s]"
      ]
     },
     "metadata": {},
     "output_type": "display_data"
    },
    {
     "data": {
      "application/vnd.jupyter.widget-view+json": {
       "model_id": "",
       "version_major": 2,
       "version_minor": 0
      },
      "text/plain": [
       "Validation: 0it [00:00, ?it/s]"
      ]
     },
     "metadata": {},
     "output_type": "display_data"
    },
    {
     "data": {
      "application/vnd.jupyter.widget-view+json": {
       "model_id": "",
       "version_major": 2,
       "version_minor": 0
      },
      "text/plain": [
       "Validation: 0it [00:00, ?it/s]"
      ]
     },
     "metadata": {},
     "output_type": "display_data"
    },
    {
     "data": {
      "application/vnd.jupyter.widget-view+json": {
       "model_id": "",
       "version_major": 2,
       "version_minor": 0
      },
      "text/plain": [
       "Validation: 0it [00:00, ?it/s]"
      ]
     },
     "metadata": {},
     "output_type": "display_data"
    },
    {
     "data": {
      "application/vnd.jupyter.widget-view+json": {
       "model_id": "",
       "version_major": 2,
       "version_minor": 0
      },
      "text/plain": [
       "Validation: 0it [00:00, ?it/s]"
      ]
     },
     "metadata": {},
     "output_type": "display_data"
    },
    {
     "data": {
      "application/vnd.jupyter.widget-view+json": {
       "model_id": "",
       "version_major": 2,
       "version_minor": 0
      },
      "text/plain": [
       "Validation: 0it [00:00, ?it/s]"
      ]
     },
     "metadata": {},
     "output_type": "display_data"
    },
    {
     "data": {
      "application/vnd.jupyter.widget-view+json": {
       "model_id": "",
       "version_major": 2,
       "version_minor": 0
      },
      "text/plain": [
       "Validation: 0it [00:00, ?it/s]"
      ]
     },
     "metadata": {},
     "output_type": "display_data"
    },
    {
     "data": {
      "application/vnd.jupyter.widget-view+json": {
       "model_id": "",
       "version_major": 2,
       "version_minor": 0
      },
      "text/plain": [
       "Validation: 0it [00:00, ?it/s]"
      ]
     },
     "metadata": {},
     "output_type": "display_data"
    },
    {
     "data": {
      "application/vnd.jupyter.widget-view+json": {
       "model_id": "",
       "version_major": 2,
       "version_minor": 0
      },
      "text/plain": [
       "Validation: 0it [00:00, ?it/s]"
      ]
     },
     "metadata": {},
     "output_type": "display_data"
    },
    {
     "data": {
      "application/vnd.jupyter.widget-view+json": {
       "model_id": "",
       "version_major": 2,
       "version_minor": 0
      },
      "text/plain": [
       "Validation: 0it [00:00, ?it/s]"
      ]
     },
     "metadata": {},
     "output_type": "display_data"
    },
    {
     "data": {
      "application/vnd.jupyter.widget-view+json": {
       "model_id": "",
       "version_major": 2,
       "version_minor": 0
      },
      "text/plain": [
       "Validation: 0it [00:00, ?it/s]"
      ]
     },
     "metadata": {},
     "output_type": "display_data"
    },
    {
     "data": {
      "application/vnd.jupyter.widget-view+json": {
       "model_id": "",
       "version_major": 2,
       "version_minor": 0
      },
      "text/plain": [
       "Validation: 0it [00:00, ?it/s]"
      ]
     },
     "metadata": {},
     "output_type": "display_data"
    },
    {
     "data": {
      "application/vnd.jupyter.widget-view+json": {
       "model_id": "",
       "version_major": 2,
       "version_minor": 0
      },
      "text/plain": [
       "Validation: 0it [00:00, ?it/s]"
      ]
     },
     "metadata": {},
     "output_type": "display_data"
    },
    {
     "data": {
      "application/vnd.jupyter.widget-view+json": {
       "model_id": "",
       "version_major": 2,
       "version_minor": 0
      },
      "text/plain": [
       "Validation: 0it [00:00, ?it/s]"
      ]
     },
     "metadata": {},
     "output_type": "display_data"
    },
    {
     "data": {
      "application/vnd.jupyter.widget-view+json": {
       "model_id": "",
       "version_major": 2,
       "version_minor": 0
      },
      "text/plain": [
       "Validation: 0it [00:00, ?it/s]"
      ]
     },
     "metadata": {},
     "output_type": "display_data"
    },
    {
     "data": {
      "application/vnd.jupyter.widget-view+json": {
       "model_id": "",
       "version_major": 2,
       "version_minor": 0
      },
      "text/plain": [
       "Validation: 0it [00:00, ?it/s]"
      ]
     },
     "metadata": {},
     "output_type": "display_data"
    },
    {
     "data": {
      "application/vnd.jupyter.widget-view+json": {
       "model_id": "",
       "version_major": 2,
       "version_minor": 0
      },
      "text/plain": [
       "Validation: 0it [00:00, ?it/s]"
      ]
     },
     "metadata": {},
     "output_type": "display_data"
    },
    {
     "data": {
      "application/vnd.jupyter.widget-view+json": {
       "model_id": "",
       "version_major": 2,
       "version_minor": 0
      },
      "text/plain": [
       "Validation: 0it [00:00, ?it/s]"
      ]
     },
     "metadata": {},
     "output_type": "display_data"
    },
    {
     "data": {
      "application/vnd.jupyter.widget-view+json": {
       "model_id": "",
       "version_major": 2,
       "version_minor": 0
      },
      "text/plain": [
       "Validation: 0it [00:00, ?it/s]"
      ]
     },
     "metadata": {},
     "output_type": "display_data"
    },
    {
     "data": {
      "application/vnd.jupyter.widget-view+json": {
       "model_id": "",
       "version_major": 2,
       "version_minor": 0
      },
      "text/plain": [
       "Validation: 0it [00:00, ?it/s]"
      ]
     },
     "metadata": {},
     "output_type": "display_data"
    },
    {
     "data": {
      "application/vnd.jupyter.widget-view+json": {
       "model_id": "",
       "version_major": 2,
       "version_minor": 0
      },
      "text/plain": [
       "Validation: 0it [00:00, ?it/s]"
      ]
     },
     "metadata": {},
     "output_type": "display_data"
    },
    {
     "data": {
      "application/vnd.jupyter.widget-view+json": {
       "model_id": "",
       "version_major": 2,
       "version_minor": 0
      },
      "text/plain": [
       "Validation: 0it [00:00, ?it/s]"
      ]
     },
     "metadata": {},
     "output_type": "display_data"
    },
    {
     "data": {
      "application/vnd.jupyter.widget-view+json": {
       "model_id": "",
       "version_major": 2,
       "version_minor": 0
      },
      "text/plain": [
       "Validation: 0it [00:00, ?it/s]"
      ]
     },
     "metadata": {},
     "output_type": "display_data"
    },
    {
     "data": {
      "application/vnd.jupyter.widget-view+json": {
       "model_id": "",
       "version_major": 2,
       "version_minor": 0
      },
      "text/plain": [
       "Validation: 0it [00:00, ?it/s]"
      ]
     },
     "metadata": {},
     "output_type": "display_data"
    },
    {
     "data": {
      "application/vnd.jupyter.widget-view+json": {
       "model_id": "",
       "version_major": 2,
       "version_minor": 0
      },
      "text/plain": [
       "Validation: 0it [00:00, ?it/s]"
      ]
     },
     "metadata": {},
     "output_type": "display_data"
    },
    {
     "data": {
      "application/vnd.jupyter.widget-view+json": {
       "model_id": "",
       "version_major": 2,
       "version_minor": 0
      },
      "text/plain": [
       "Validation: 0it [00:00, ?it/s]"
      ]
     },
     "metadata": {},
     "output_type": "display_data"
    },
    {
     "data": {
      "application/vnd.jupyter.widget-view+json": {
       "model_id": "",
       "version_major": 2,
       "version_minor": 0
      },
      "text/plain": [
       "Validation: 0it [00:00, ?it/s]"
      ]
     },
     "metadata": {},
     "output_type": "display_data"
    },
    {
     "data": {
      "application/vnd.jupyter.widget-view+json": {
       "model_id": "",
       "version_major": 2,
       "version_minor": 0
      },
      "text/plain": [
       "Validation: 0it [00:00, ?it/s]"
      ]
     },
     "metadata": {},
     "output_type": "display_data"
    },
    {
     "data": {
      "application/vnd.jupyter.widget-view+json": {
       "model_id": "",
       "version_major": 2,
       "version_minor": 0
      },
      "text/plain": [
       "Validation: 0it [00:00, ?it/s]"
      ]
     },
     "metadata": {},
     "output_type": "display_data"
    },
    {
     "data": {
      "application/vnd.jupyter.widget-view+json": {
       "model_id": "",
       "version_major": 2,
       "version_minor": 0
      },
      "text/plain": [
       "Validation: 0it [00:00, ?it/s]"
      ]
     },
     "metadata": {},
     "output_type": "display_data"
    },
    {
     "data": {
      "application/vnd.jupyter.widget-view+json": {
       "model_id": "",
       "version_major": 2,
       "version_minor": 0
      },
      "text/plain": [
       "Validation: 0it [00:00, ?it/s]"
      ]
     },
     "metadata": {},
     "output_type": "display_data"
    },
    {
     "data": {
      "application/vnd.jupyter.widget-view+json": {
       "model_id": "",
       "version_major": 2,
       "version_minor": 0
      },
      "text/plain": [
       "Validation: 0it [00:00, ?it/s]"
      ]
     },
     "metadata": {},
     "output_type": "display_data"
    },
    {
     "data": {
      "application/vnd.jupyter.widget-view+json": {
       "model_id": "",
       "version_major": 2,
       "version_minor": 0
      },
      "text/plain": [
       "Validation: 0it [00:00, ?it/s]"
      ]
     },
     "metadata": {},
     "output_type": "display_data"
    },
    {
     "data": {
      "application/vnd.jupyter.widget-view+json": {
       "model_id": "",
       "version_major": 2,
       "version_minor": 0
      },
      "text/plain": [
       "Validation: 0it [00:00, ?it/s]"
      ]
     },
     "metadata": {},
     "output_type": "display_data"
    },
    {
     "data": {
      "application/vnd.jupyter.widget-view+json": {
       "model_id": "",
       "version_major": 2,
       "version_minor": 0
      },
      "text/plain": [
       "Validation: 0it [00:00, ?it/s]"
      ]
     },
     "metadata": {},
     "output_type": "display_data"
    },
    {
     "data": {
      "application/vnd.jupyter.widget-view+json": {
       "model_id": "",
       "version_major": 2,
       "version_minor": 0
      },
      "text/plain": [
       "Validation: 0it [00:00, ?it/s]"
      ]
     },
     "metadata": {},
     "output_type": "display_data"
    },
    {
     "data": {
      "application/vnd.jupyter.widget-view+json": {
       "model_id": "",
       "version_major": 2,
       "version_minor": 0
      },
      "text/plain": [
       "Validation: 0it [00:00, ?it/s]"
      ]
     },
     "metadata": {},
     "output_type": "display_data"
    },
    {
     "data": {
      "application/vnd.jupyter.widget-view+json": {
       "model_id": "",
       "version_major": 2,
       "version_minor": 0
      },
      "text/plain": [
       "Validation: 0it [00:00, ?it/s]"
      ]
     },
     "metadata": {},
     "output_type": "display_data"
    },
    {
     "data": {
      "application/vnd.jupyter.widget-view+json": {
       "model_id": "",
       "version_major": 2,
       "version_minor": 0
      },
      "text/plain": [
       "Validation: 0it [00:00, ?it/s]"
      ]
     },
     "metadata": {},
     "output_type": "display_data"
    },
    {
     "data": {
      "application/vnd.jupyter.widget-view+json": {
       "model_id": "",
       "version_major": 2,
       "version_minor": 0
      },
      "text/plain": [
       "Validation: 0it [00:00, ?it/s]"
      ]
     },
     "metadata": {},
     "output_type": "display_data"
    },
    {
     "data": {
      "application/vnd.jupyter.widget-view+json": {
       "model_id": "",
       "version_major": 2,
       "version_minor": 0
      },
      "text/plain": [
       "Validation: 0it [00:00, ?it/s]"
      ]
     },
     "metadata": {},
     "output_type": "display_data"
    },
    {
     "data": {
      "application/vnd.jupyter.widget-view+json": {
       "model_id": "",
       "version_major": 2,
       "version_minor": 0
      },
      "text/plain": [
       "Validation: 0it [00:00, ?it/s]"
      ]
     },
     "metadata": {},
     "output_type": "display_data"
    },
    {
     "data": {
      "application/vnd.jupyter.widget-view+json": {
       "model_id": "",
       "version_major": 2,
       "version_minor": 0
      },
      "text/plain": [
       "Validation: 0it [00:00, ?it/s]"
      ]
     },
     "metadata": {},
     "output_type": "display_data"
    },
    {
     "data": {
      "application/vnd.jupyter.widget-view+json": {
       "model_id": "",
       "version_major": 2,
       "version_minor": 0
      },
      "text/plain": [
       "Validation: 0it [00:00, ?it/s]"
      ]
     },
     "metadata": {},
     "output_type": "display_data"
    },
    {
     "data": {
      "application/vnd.jupyter.widget-view+json": {
       "model_id": "",
       "version_major": 2,
       "version_minor": 0
      },
      "text/plain": [
       "Validation: 0it [00:00, ?it/s]"
      ]
     },
     "metadata": {},
     "output_type": "display_data"
    },
    {
     "data": {
      "application/vnd.jupyter.widget-view+json": {
       "model_id": "",
       "version_major": 2,
       "version_minor": 0
      },
      "text/plain": [
       "Validation: 0it [00:00, ?it/s]"
      ]
     },
     "metadata": {},
     "output_type": "display_data"
    },
    {
     "data": {
      "application/vnd.jupyter.widget-view+json": {
       "model_id": "",
       "version_major": 2,
       "version_minor": 0
      },
      "text/plain": [
       "Validation: 0it [00:00, ?it/s]"
      ]
     },
     "metadata": {},
     "output_type": "display_data"
    },
    {
     "data": {
      "application/vnd.jupyter.widget-view+json": {
       "model_id": "",
       "version_major": 2,
       "version_minor": 0
      },
      "text/plain": [
       "Validation: 0it [00:00, ?it/s]"
      ]
     },
     "metadata": {},
     "output_type": "display_data"
    },
    {
     "data": {
      "application/vnd.jupyter.widget-view+json": {
       "model_id": "",
       "version_major": 2,
       "version_minor": 0
      },
      "text/plain": [
       "Validation: 0it [00:00, ?it/s]"
      ]
     },
     "metadata": {},
     "output_type": "display_data"
    },
    {
     "data": {
      "application/vnd.jupyter.widget-view+json": {
       "model_id": "",
       "version_major": 2,
       "version_minor": 0
      },
      "text/plain": [
       "Validation: 0it [00:00, ?it/s]"
      ]
     },
     "metadata": {},
     "output_type": "display_data"
    },
    {
     "data": {
      "application/vnd.jupyter.widget-view+json": {
       "model_id": "",
       "version_major": 2,
       "version_minor": 0
      },
      "text/plain": [
       "Validation: 0it [00:00, ?it/s]"
      ]
     },
     "metadata": {},
     "output_type": "display_data"
    },
    {
     "data": {
      "application/vnd.jupyter.widget-view+json": {
       "model_id": "",
       "version_major": 2,
       "version_minor": 0
      },
      "text/plain": [
       "Validation: 0it [00:00, ?it/s]"
      ]
     },
     "metadata": {},
     "output_type": "display_data"
    },
    {
     "data": {
      "application/vnd.jupyter.widget-view+json": {
       "model_id": "",
       "version_major": 2,
       "version_minor": 0
      },
      "text/plain": [
       "Validation: 0it [00:00, ?it/s]"
      ]
     },
     "metadata": {},
     "output_type": "display_data"
    },
    {
     "name": "stdout",
     "output_type": "stream",
     "text": [
      "{'loss': tensor(13.6674), 'seq_len': tensor(58.9750), 'recall_top_k': tensor(0.8790)}\n"
     ]
    }
   ],
   "source": [
    "logger = TensorBoardLogger('src/ptls-experiments/scenario_rosbank/lightning_logs',\n",
    "                           name='Coles')\n",
    "\n",
    "conf['trainer']['num_sanity_val_steps'] = 0\n",
    "\n",
    "trainer = pl.Trainer(\n",
    "     **conf['trainer'],\n",
    "    logger = logger\n",
    ")\n",
    "\n",
    "trainer.fit(model, data_module)\n",
    "print(trainer.logged_metrics)"
   ]
  },
  {
   "cell_type": "markdown",
   "id": "5b78646a",
   "metadata": {},
   "source": [
    "# <font size=\"6\">Inference</font>"
   ]
  },
  {
   "cell_type": "code",
   "execution_count": 8,
   "id": "a83e45f6",
   "metadata": {},
   "outputs": [
    {
     "name": "stderr",
     "output_type": "stream",
     "text": [
      "/home/jovyan/.local/share/virtualenvs/ptls-experiments-Xgdpvmv-/lib/python3.8/site-packages/pytorch_lightning/loops/utilities.py:91: PossibleUserWarning: `max_epochs` was not set. Setting it to 1000 epochs. To train without an epoch limit, set `max_epochs=-1`.\n",
      "  rank_zero_warn(\n",
      "GPU available: True, used: True\n",
      "TPU available: False, using: 0 TPU cores\n",
      "IPU available: False, using: 0 IPUs\n",
      "HPU available: False, using: 0 HPUs\n",
      "LOCAL_RANK: 0 - CUDA_VISIBLE_DEVICES: [0]\n",
      "/home/jovyan/.local/share/virtualenvs/ptls-experiments-Xgdpvmv-/lib/python3.8/site-packages/pytorch_lightning/trainer/connectors/data_connector.py:240: PossibleUserWarning: The dataloader, predict_dataloader 0, does not have many workers which may be a bottleneck. Consider increasing the value of the `num_workers` argument` (try 96 which is the number of cpus on this machine) in the `DataLoader` init to improve performance.\n",
      "  rank_zero_warn(\n"
     ]
    },
    {
     "data": {
      "application/vnd.jupyter.widget-view+json": {
       "model_id": "01b0ffaf377b4b9cac85a3edce6dce00",
       "version_major": 2,
       "version_minor": 0
      },
      "text/plain": [
       "Predicting: 0it [00:00, ?it/s]"
      ]
     },
     "metadata": {},
     "output_type": "display_data"
    },
    {
     "name": "stderr",
     "output_type": "stream",
     "text": [
      "/home/jovyan/.local/share/virtualenvs/ptls-experiments-Xgdpvmv-/lib/python3.8/site-packages/pytorch_lightning/loops/epoch/prediction_epoch_loop.py:175: UserWarning: Lightning couldn't infer the indices fetched for your dataloader.\n",
      "  warning_cache.warn(\"Lightning couldn't infer the indices fetched for your dataloader.\")\n"
     ]
    }
   ],
   "source": [
    "iterable_inference_dataset = ParquetDataset(\n",
    "    data_files=ParquetFiles(['src/ptls-experiments/scenario_rosbank/data/train_trx.parquet',\n",
    "                             'src/ptls-experiments/scenario_rosbank/data/test_trx.parquet'],                                                     \n",
    "                            ).data_files,\n",
    "    i_filters=[FeatureFilter(['cl_id', 'target_flag'])],\n",
    ")\n",
    "\n",
    "inference_dl = torch.utils.data.DataLoader(\n",
    "    dataset=iterable_inference_dataset,\n",
    "    collate_fn=collate_feature_dict,\n",
    "    shuffle=False,\n",
    "    batch_size=128,\n",
    "    num_workers=0,\n",
    ")\n",
    "\n",
    "mod = InferenceModule(model, pandas_output=True, model_out_name='emb')\n",
    "\n",
    "pred = pl.Trainer(gpus=1).predict(mod, inference_dl)\n",
    "\n",
    "embeddings_train_test = pd.concat(pred, axis=0)"
   ]
  },
  {
   "cell_type": "markdown",
   "id": "f5d6fd6e",
   "metadata": {},
   "source": [
    "# <font size=\"6\">Reverse engineering</font>"
   ]
  },
  {
   "cell_type": "code",
   "execution_count": 9,
   "id": "899e6c7c",
   "metadata": {},
   "outputs": [
    {
     "data": {
      "text/html": [
       "<div>\n",
       "<style scoped>\n",
       "    .dataframe tbody tr th:only-of-type {\n",
       "        vertical-align: middle;\n",
       "    }\n",
       "\n",
       "    .dataframe tbody tr th {\n",
       "        vertical-align: top;\n",
       "    }\n",
       "\n",
       "    .dataframe thead th {\n",
       "        text-align: right;\n",
       "    }\n",
       "</style>\n",
       "<table border=\"1\" class=\"dataframe\">\n",
       "  <thead>\n",
       "    <tr style=\"text-align: right;\">\n",
       "      <th></th>\n",
       "      <th>cl_id</th>\n",
       "      <th>target_flag</th>\n",
       "      <th>emb_0000</th>\n",
       "      <th>emb_0001</th>\n",
       "      <th>emb_0002</th>\n",
       "      <th>emb_0003</th>\n",
       "      <th>emb_0004</th>\n",
       "      <th>emb_0005</th>\n",
       "      <th>emb_0006</th>\n",
       "      <th>emb_0007</th>\n",
       "      <th>...</th>\n",
       "      <th>emb_1014</th>\n",
       "      <th>emb_1015</th>\n",
       "      <th>emb_1016</th>\n",
       "      <th>emb_1017</th>\n",
       "      <th>emb_1018</th>\n",
       "      <th>emb_1019</th>\n",
       "      <th>emb_1020</th>\n",
       "      <th>emb_1021</th>\n",
       "      <th>emb_1022</th>\n",
       "      <th>emb_1023</th>\n",
       "    </tr>\n",
       "  </thead>\n",
       "  <tbody>\n",
       "    <tr>\n",
       "      <th>0</th>\n",
       "      <td>0</td>\n",
       "      <td>0.0</td>\n",
       "      <td>0.012818</td>\n",
       "      <td>-0.005530</td>\n",
       "      <td>0.269331</td>\n",
       "      <td>-0.274468</td>\n",
       "      <td>-0.051850</td>\n",
       "      <td>-0.001597</td>\n",
       "      <td>0.008561</td>\n",
       "      <td>-0.055900</td>\n",
       "      <td>...</td>\n",
       "      <td>-0.001286</td>\n",
       "      <td>-0.001371</td>\n",
       "      <td>-0.007626</td>\n",
       "      <td>-0.002180</td>\n",
       "      <td>0.000212</td>\n",
       "      <td>-0.000393</td>\n",
       "      <td>0.007879</td>\n",
       "      <td>-0.039152</td>\n",
       "      <td>-0.018318</td>\n",
       "      <td>0.004272</td>\n",
       "    </tr>\n",
       "    <tr>\n",
       "      <th>1</th>\n",
       "      <td>1</td>\n",
       "      <td>0.0</td>\n",
       "      <td>0.072499</td>\n",
       "      <td>-0.009095</td>\n",
       "      <td>0.014323</td>\n",
       "      <td>-0.799587</td>\n",
       "      <td>-0.040203</td>\n",
       "      <td>-0.000275</td>\n",
       "      <td>-0.000031</td>\n",
       "      <td>-0.025105</td>\n",
       "      <td>...</td>\n",
       "      <td>-0.003662</td>\n",
       "      <td>-0.000496</td>\n",
       "      <td>0.000065</td>\n",
       "      <td>-0.000532</td>\n",
       "      <td>-0.000871</td>\n",
       "      <td>-0.011582</td>\n",
       "      <td>0.000136</td>\n",
       "      <td>-0.010826</td>\n",
       "      <td>0.000743</td>\n",
       "      <td>0.000527</td>\n",
       "    </tr>\n",
       "    <tr>\n",
       "      <th>2</th>\n",
       "      <td>10</td>\n",
       "      <td>0.0</td>\n",
       "      <td>0.068524</td>\n",
       "      <td>-0.023968</td>\n",
       "      <td>0.976224</td>\n",
       "      <td>-0.289610</td>\n",
       "      <td>-0.071920</td>\n",
       "      <td>0.000032</td>\n",
       "      <td>0.000527</td>\n",
       "      <td>-0.111118</td>\n",
       "      <td>...</td>\n",
       "      <td>-0.002408</td>\n",
       "      <td>-0.000030</td>\n",
       "      <td>-0.000326</td>\n",
       "      <td>-0.000280</td>\n",
       "      <td>-0.000299</td>\n",
       "      <td>0.000062</td>\n",
       "      <td>0.000029</td>\n",
       "      <td>-0.065920</td>\n",
       "      <td>-0.000311</td>\n",
       "      <td>0.000029</td>\n",
       "    </tr>\n",
       "    <tr>\n",
       "      <th>3</th>\n",
       "      <td>100</td>\n",
       "      <td>1.0</td>\n",
       "      <td>0.072801</td>\n",
       "      <td>-0.007956</td>\n",
       "      <td>0.171038</td>\n",
       "      <td>-0.671441</td>\n",
       "      <td>-0.135467</td>\n",
       "      <td>0.000055</td>\n",
       "      <td>0.000220</td>\n",
       "      <td>-0.041433</td>\n",
       "      <td>...</td>\n",
       "      <td>-0.000532</td>\n",
       "      <td>-0.000310</td>\n",
       "      <td>-0.000295</td>\n",
       "      <td>-0.000436</td>\n",
       "      <td>-0.001621</td>\n",
       "      <td>-0.001304</td>\n",
       "      <td>0.000058</td>\n",
       "      <td>-0.019069</td>\n",
       "      <td>0.000723</td>\n",
       "      <td>0.000089</td>\n",
       "    </tr>\n",
       "    <tr>\n",
       "      <th>4</th>\n",
       "      <td>1000</td>\n",
       "      <td>1.0</td>\n",
       "      <td>0.055143</td>\n",
       "      <td>-0.161859</td>\n",
       "      <td>0.686616</td>\n",
       "      <td>-0.805538</td>\n",
       "      <td>-0.063274</td>\n",
       "      <td>-0.000018</td>\n",
       "      <td>-0.000161</td>\n",
       "      <td>-0.068085</td>\n",
       "      <td>...</td>\n",
       "      <td>-0.000753</td>\n",
       "      <td>-0.000104</td>\n",
       "      <td>-0.000181</td>\n",
       "      <td>-0.000250</td>\n",
       "      <td>-0.000117</td>\n",
       "      <td>-0.000472</td>\n",
       "      <td>0.000080</td>\n",
       "      <td>-0.040966</td>\n",
       "      <td>0.000036</td>\n",
       "      <td>0.000174</td>\n",
       "    </tr>\n",
       "    <tr>\n",
       "      <th>...</th>\n",
       "      <td>...</td>\n",
       "      <td>...</td>\n",
       "      <td>...</td>\n",
       "      <td>...</td>\n",
       "      <td>...</td>\n",
       "      <td>...</td>\n",
       "      <td>...</td>\n",
       "      <td>...</td>\n",
       "      <td>...</td>\n",
       "      <td>...</td>\n",
       "      <td>...</td>\n",
       "      <td>...</td>\n",
       "      <td>...</td>\n",
       "      <td>...</td>\n",
       "      <td>...</td>\n",
       "      <td>...</td>\n",
       "      <td>...</td>\n",
       "      <td>...</td>\n",
       "      <td>...</td>\n",
       "      <td>...</td>\n",
       "      <td>...</td>\n",
       "    </tr>\n",
       "    <tr>\n",
       "      <th>10212</th>\n",
       "      <td>9995</td>\n",
       "      <td>0.0</td>\n",
       "      <td>0.128346</td>\n",
       "      <td>-0.023063</td>\n",
       "      <td>0.266074</td>\n",
       "      <td>-0.691510</td>\n",
       "      <td>-0.093533</td>\n",
       "      <td>0.000016</td>\n",
       "      <td>0.000236</td>\n",
       "      <td>-0.106103</td>\n",
       "      <td>...</td>\n",
       "      <td>-0.006936</td>\n",
       "      <td>-0.000042</td>\n",
       "      <td>-0.000066</td>\n",
       "      <td>-0.000510</td>\n",
       "      <td>-0.002164</td>\n",
       "      <td>-0.000333</td>\n",
       "      <td>0.000025</td>\n",
       "      <td>-0.016320</td>\n",
       "      <td>0.001000</td>\n",
       "      <td>0.000362</td>\n",
       "    </tr>\n",
       "    <tr>\n",
       "      <th>10213</th>\n",
       "      <td>9996</td>\n",
       "      <td>NaN</td>\n",
       "      <td>0.040457</td>\n",
       "      <td>-0.113130</td>\n",
       "      <td>0.517633</td>\n",
       "      <td>-0.437813</td>\n",
       "      <td>-0.197168</td>\n",
       "      <td>-0.000030</td>\n",
       "      <td>0.000282</td>\n",
       "      <td>-0.025947</td>\n",
       "      <td>...</td>\n",
       "      <td>-0.024366</td>\n",
       "      <td>-0.000286</td>\n",
       "      <td>-0.000208</td>\n",
       "      <td>-0.000433</td>\n",
       "      <td>-0.001319</td>\n",
       "      <td>-0.000964</td>\n",
       "      <td>0.000069</td>\n",
       "      <td>-0.041608</td>\n",
       "      <td>0.000266</td>\n",
       "      <td>0.002865</td>\n",
       "    </tr>\n",
       "    <tr>\n",
       "      <th>10214</th>\n",
       "      <td>9997</td>\n",
       "      <td>NaN</td>\n",
       "      <td>0.602891</td>\n",
       "      <td>-0.021870</td>\n",
       "      <td>0.314552</td>\n",
       "      <td>-0.657117</td>\n",
       "      <td>-0.161261</td>\n",
       "      <td>0.000223</td>\n",
       "      <td>-0.000045</td>\n",
       "      <td>-0.051479</td>\n",
       "      <td>...</td>\n",
       "      <td>-0.002639</td>\n",
       "      <td>-0.000056</td>\n",
       "      <td>0.000080</td>\n",
       "      <td>-0.000470</td>\n",
       "      <td>-0.000698</td>\n",
       "      <td>0.000159</td>\n",
       "      <td>0.000024</td>\n",
       "      <td>-0.016677</td>\n",
       "      <td>0.000339</td>\n",
       "      <td>0.000072</td>\n",
       "    </tr>\n",
       "    <tr>\n",
       "      <th>10215</th>\n",
       "      <td>9998</td>\n",
       "      <td>0.0</td>\n",
       "      <td>0.032421</td>\n",
       "      <td>-0.108840</td>\n",
       "      <td>0.433727</td>\n",
       "      <td>-0.600363</td>\n",
       "      <td>-0.056160</td>\n",
       "      <td>-0.000069</td>\n",
       "      <td>0.000135</td>\n",
       "      <td>-0.040917</td>\n",
       "      <td>...</td>\n",
       "      <td>-0.001919</td>\n",
       "      <td>-0.000179</td>\n",
       "      <td>-0.000028</td>\n",
       "      <td>-0.000412</td>\n",
       "      <td>-0.000755</td>\n",
       "      <td>-0.001091</td>\n",
       "      <td>0.000070</td>\n",
       "      <td>-0.010968</td>\n",
       "      <td>0.000405</td>\n",
       "      <td>0.000330</td>\n",
       "    </tr>\n",
       "    <tr>\n",
       "      <th>10216</th>\n",
       "      <td>9999</td>\n",
       "      <td>NaN</td>\n",
       "      <td>0.018830</td>\n",
       "      <td>-0.008886</td>\n",
       "      <td>0.273836</td>\n",
       "      <td>-0.302665</td>\n",
       "      <td>-0.067386</td>\n",
       "      <td>-0.000896</td>\n",
       "      <td>0.003818</td>\n",
       "      <td>-0.009610</td>\n",
       "      <td>...</td>\n",
       "      <td>-0.000595</td>\n",
       "      <td>-0.005412</td>\n",
       "      <td>-0.006119</td>\n",
       "      <td>-0.006837</td>\n",
       "      <td>0.004069</td>\n",
       "      <td>-0.001970</td>\n",
       "      <td>0.006223</td>\n",
       "      <td>-0.014103</td>\n",
       "      <td>-0.011022</td>\n",
       "      <td>0.006961</td>\n",
       "    </tr>\n",
       "  </tbody>\n",
       "</table>\n",
       "<p>10217 rows × 1026 columns</p>\n",
       "</div>"
      ],
      "text/plain": [
       "      cl_id  target_flag  emb_0000  emb_0001  emb_0002  emb_0003  emb_0004  \\\n",
       "0         0          0.0  0.012818 -0.005530  0.269331 -0.274468 -0.051850   \n",
       "1         1          0.0  0.072499 -0.009095  0.014323 -0.799587 -0.040203   \n",
       "2        10          0.0  0.068524 -0.023968  0.976224 -0.289610 -0.071920   \n",
       "3       100          1.0  0.072801 -0.007956  0.171038 -0.671441 -0.135467   \n",
       "4      1000          1.0  0.055143 -0.161859  0.686616 -0.805538 -0.063274   \n",
       "...     ...          ...       ...       ...       ...       ...       ...   \n",
       "10212  9995          0.0  0.128346 -0.023063  0.266074 -0.691510 -0.093533   \n",
       "10213  9996          NaN  0.040457 -0.113130  0.517633 -0.437813 -0.197168   \n",
       "10214  9997          NaN  0.602891 -0.021870  0.314552 -0.657117 -0.161261   \n",
       "10215  9998          0.0  0.032421 -0.108840  0.433727 -0.600363 -0.056160   \n",
       "10216  9999          NaN  0.018830 -0.008886  0.273836 -0.302665 -0.067386   \n",
       "\n",
       "       emb_0005  emb_0006  emb_0007  ...  emb_1014  emb_1015  emb_1016  \\\n",
       "0     -0.001597  0.008561 -0.055900  ... -0.001286 -0.001371 -0.007626   \n",
       "1     -0.000275 -0.000031 -0.025105  ... -0.003662 -0.000496  0.000065   \n",
       "2      0.000032  0.000527 -0.111118  ... -0.002408 -0.000030 -0.000326   \n",
       "3      0.000055  0.000220 -0.041433  ... -0.000532 -0.000310 -0.000295   \n",
       "4     -0.000018 -0.000161 -0.068085  ... -0.000753 -0.000104 -0.000181   \n",
       "...         ...       ...       ...  ...       ...       ...       ...   \n",
       "10212  0.000016  0.000236 -0.106103  ... -0.006936 -0.000042 -0.000066   \n",
       "10213 -0.000030  0.000282 -0.025947  ... -0.024366 -0.000286 -0.000208   \n",
       "10214  0.000223 -0.000045 -0.051479  ... -0.002639 -0.000056  0.000080   \n",
       "10215 -0.000069  0.000135 -0.040917  ... -0.001919 -0.000179 -0.000028   \n",
       "10216 -0.000896  0.003818 -0.009610  ... -0.000595 -0.005412 -0.006119   \n",
       "\n",
       "       emb_1017  emb_1018  emb_1019  emb_1020  emb_1021  emb_1022  emb_1023  \n",
       "0     -0.002180  0.000212 -0.000393  0.007879 -0.039152 -0.018318  0.004272  \n",
       "1     -0.000532 -0.000871 -0.011582  0.000136 -0.010826  0.000743  0.000527  \n",
       "2     -0.000280 -0.000299  0.000062  0.000029 -0.065920 -0.000311  0.000029  \n",
       "3     -0.000436 -0.001621 -0.001304  0.000058 -0.019069  0.000723  0.000089  \n",
       "4     -0.000250 -0.000117 -0.000472  0.000080 -0.040966  0.000036  0.000174  \n",
       "...         ...       ...       ...       ...       ...       ...       ...  \n",
       "10212 -0.000510 -0.002164 -0.000333  0.000025 -0.016320  0.001000  0.000362  \n",
       "10213 -0.000433 -0.001319 -0.000964  0.000069 -0.041608  0.000266  0.002865  \n",
       "10214 -0.000470 -0.000698  0.000159  0.000024 -0.016677  0.000339  0.000072  \n",
       "10215 -0.000412 -0.000755 -0.001091  0.000070 -0.010968  0.000405  0.000330  \n",
       "10216 -0.006837  0.004069 -0.001970  0.006223 -0.014103 -0.011022  0.006961  \n",
       "\n",
       "[10217 rows x 1026 columns]"
      ]
     },
     "execution_count": 9,
     "metadata": {},
     "output_type": "execute_result"
    }
   ],
   "source": [
    "embeddings_train_test = embeddings_train_test.sort_values(by='cl_id').reset_index().drop(columns=['index'])\n",
    "embeddings_train_test"
   ]
  },
  {
   "cell_type": "code",
   "execution_count": 10,
   "id": "159f6288",
   "metadata": {},
   "outputs": [
    {
     "name": "stderr",
     "output_type": "stream",
     "text": [
      "/home/jovyan/.local/share/virtualenvs/ptls-experiments-Xgdpvmv-/lib/python3.8/site-packages/umap/umap_.py:1943: UserWarning: n_jobs value -1 overridden to 1 by setting random_state. Use no seed for parallelism.\n",
      "  warn(f\"n_jobs value {self.n_jobs} overridden to 1 by setting random_state. Use no seed for parallelism.\")\n"
     ]
    },
    {
     "data": {
      "image/png": "[encoded data removed]",
      "text/plain": [
       "<Figure size 1000x800 with 1 Axes>"
      ]
     },
     "metadata": {},
     "output_type": "display_data"
    }
   ],
   "source": [
    "X = embeddings_train_test.dropna().drop(columns=['cl_id', 'target_flag'])\n",
    "y = embeddings_train_test.dropna()['target_flag']\n",
    "\n",
    "reducer = umap.UMAP(random_state=42)\n",
    "X_umap = reducer.fit_transform(X)\n",
    "\n",
    "plt.figure(figsize=(10, 8))\n",
    "sns.scatterplot(x=X_umap[:, 0], y=X_umap[:, 1], hue=y, palette='viridis')\n",
    "plt.title('UMAP 2D features')\n",
    "plt.show()"
   ]
  }
 ],
 "metadata": {
  "kernelspec": {
   "display_name": "ptls-exoeriments",
   "language": "python",
   "name": "ptls-exoeriments"
  },
  "language_info": {
   "codemirror_mode": {
    "name": "ipython",
    "version": 3
   },
   "file_extension": ".py",
   "mimetype": "text/x-python",
   "name": "python",
   "nbconvert_exporter": "python",
   "pygments_lexer": "ipython3",
   "version": "3.8.18"
  }
 },
 "nbformat": 4,
 "nbformat_minor": 5
}
